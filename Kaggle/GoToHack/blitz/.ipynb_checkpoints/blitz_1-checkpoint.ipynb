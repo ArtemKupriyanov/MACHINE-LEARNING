{
 "cells": [
  {
   "cell_type": "code",
   "execution_count": 1,
   "metadata": {
    "collapsed": false,
    "focus": true,
    "id": "4b8d7199-288d-4296-88ca-8fc44cdd9286"
   },
   "outputs": [
    {
     "name": "stdout",
     "output_type": "stream",
     "text": [
      "Populating the interactive namespace from numpy and matplotlib\n"
     ]
    }
   ],
   "source": [
    "import pandas as pd\n",
    "import numpy as np\n",
    "import xgboost as xgb\n",
    "import matplotlib\n",
    "import seaborn as sns\n",
    "import csv\n",
    "import re \n",
    "from matplotlib import pyplot as plt\n",
    "from sklearn import ensemble, cross_validation, learning_curve, metrics , tree, naive_bayes, utils\n",
    "from sklearn.tree import DecisionTreeRegressor, DecisionTreeClassifier\n",
    "from sklearn.datasets import load_digits, load_breast_cancer, load_iris\n",
    "from sklearn.cross_validation import cross_val_score, KFold, LeaveOneOut, ShuffleSplit, StratifiedKFold\n",
    "from sklearn.neighbors import KNeighborsClassifier, KNeighborsRegressor\n",
    "from sklearn.ensemble import RandomForestClassifier, RandomForestRegressor, BaggingClassifier, BaggingRegressor\n",
    "from sklearn.cluster import KMeans, DBSCAN, MiniBatchKMeans, AgglomerativeClustering, FeatureAgglomeration\n",
    "from sklearn.preprocessing import StandardScaler, scale, OneHotEncoder\n",
    "matplotlib.style.use('ggplot')\n",
    "%pylab inline"
   ]
  },
  {
   "cell_type": "code",
   "execution_count": 3,
   "metadata": {
    "collapsed": false,
    "focus": false,
    "id": "20ce1101-06ae-4fca-982a-8a833aed3202"
   },
   "outputs": [],
   "source": [
    "structure = pd.read_csv('course-217-structure.csv')\n",
    "events = pd.read_csv('course-217-events.csv')"
   ]
  },
  {
   "cell_type": "code",
   "execution_count": 4,
   "metadata": {
    "collapsed": false
   },
   "outputs": [
    {
     "data": {
      "text/html": [
       "<div>\n",
       "<table border=\"1\" class=\"dataframe\">\n",
       "  <thead>\n",
       "    <tr style=\"text-align: right;\">\n",
       "      <th></th>\n",
       "      <th>course_id</th>\n",
       "      <th>module_id</th>\n",
       "      <th>module_position</th>\n",
       "      <th>lesson_id</th>\n",
       "      <th>lesson_position</th>\n",
       "      <th>step_id</th>\n",
       "      <th>step_position</th>\n",
       "      <th>step_type</th>\n",
       "      <th>step_cost</th>\n",
       "    </tr>\n",
       "  </thead>\n",
       "  <tbody>\n",
       "    <tr>\n",
       "      <th>0</th>\n",
       "      <td>217</td>\n",
       "      <td>614</td>\n",
       "      <td>2</td>\n",
       "      <td>13228</td>\n",
       "      <td>2</td>\n",
       "      <td>38842</td>\n",
       "      <td>1</td>\n",
       "      <td>text</td>\n",
       "      <td>0</td>\n",
       "    </tr>\n",
       "    <tr>\n",
       "      <th>1</th>\n",
       "      <td>217</td>\n",
       "      <td>614</td>\n",
       "      <td>2</td>\n",
       "      <td>13228</td>\n",
       "      <td>2</td>\n",
       "      <td>39715</td>\n",
       "      <td>6</td>\n",
       "      <td>code</td>\n",
       "      <td>1</td>\n",
       "    </tr>\n",
       "    <tr>\n",
       "      <th>2</th>\n",
       "      <td>217</td>\n",
       "      <td>614</td>\n",
       "      <td>2</td>\n",
       "      <td>13228</td>\n",
       "      <td>2</td>\n",
       "      <td>39716</td>\n",
       "      <td>7</td>\n",
       "      <td>code</td>\n",
       "      <td>1</td>\n",
       "    </tr>\n",
       "    <tr>\n",
       "      <th>3</th>\n",
       "      <td>217</td>\n",
       "      <td>614</td>\n",
       "      <td>2</td>\n",
       "      <td>13228</td>\n",
       "      <td>2</td>\n",
       "      <td>39717</td>\n",
       "      <td>8</td>\n",
       "      <td>code</td>\n",
       "      <td>1</td>\n",
       "    </tr>\n",
       "    <tr>\n",
       "      <th>4</th>\n",
       "      <td>217</td>\n",
       "      <td>614</td>\n",
       "      <td>2</td>\n",
       "      <td>13228</td>\n",
       "      <td>2</td>\n",
       "      <td>39721</td>\n",
       "      <td>9</td>\n",
       "      <td>free-answer</td>\n",
       "      <td>0</td>\n",
       "    </tr>\n",
       "  </tbody>\n",
       "</table>\n",
       "</div>"
      ],
      "text/plain": [
       "   course_id  module_id  module_position  lesson_id  lesson_position  step_id  \\\n",
       "0        217        614                2      13228                2    38842   \n",
       "1        217        614                2      13228                2    39715   \n",
       "2        217        614                2      13228                2    39716   \n",
       "3        217        614                2      13228                2    39717   \n",
       "4        217        614                2      13228                2    39721   \n",
       "\n",
       "   step_position    step_type  step_cost  \n",
       "0              1         text          0  \n",
       "1              6         code          1  \n",
       "2              7         code          1  \n",
       "3              8         code          1  \n",
       "4              9  free-answer          0  "
      ]
     },
     "execution_count": 4,
     "metadata": {},
     "output_type": "execute_result"
    }
   ],
   "source": [
    "structure.head(5)"
   ]
  },
  {
   "cell_type": "code",
   "execution_count": null,
   "metadata": {
    "collapsed": true
   },
   "outputs": [],
   "source": []
  },
  {
   "cell_type": "code",
   "execution_count": null,
   "metadata": {
    "collapsed": true
   },
   "outputs": [],
   "source": []
  },
  {
   "cell_type": "code",
   "execution_count": null,
   "metadata": {
    "collapsed": true
   },
   "outputs": [],
   "source": []
  },
  {
   "cell_type": "code",
   "execution_count": null,
   "metadata": {
    "collapsed": true
   },
   "outputs": [],
   "source": []
  },
  {
   "cell_type": "code",
   "execution_count": null,
   "metadata": {
    "collapsed": true
   },
   "outputs": [],
   "source": []
  },
  {
   "cell_type": "code",
   "execution_count": null,
   "metadata": {
    "collapsed": true
   },
   "outputs": [],
   "source": []
  },
  {
   "cell_type": "code",
   "execution_count": null,
   "metadata": {
    "collapsed": true
   },
   "outputs": [],
   "source": []
  },
  {
   "cell_type": "code",
   "execution_count": null,
   "metadata": {
    "collapsed": true
   },
   "outputs": [],
   "source": []
  },
  {
   "cell_type": "code",
   "execution_count": null,
   "metadata": {
    "collapsed": true
   },
   "outputs": [],
   "source": []
  },
  {
   "cell_type": "code",
   "execution_count": 24,
   "metadata": {
    "collapsed": true,
    "focus": false,
    "id": "0838808d-5e0d-40e3-b14b-598dd038ac03"
   },
   "outputs": [],
   "source": [
    "def write_answer(y_pred, col_id):\n",
    "    answer_df = pd.concat([col_id, y_pred], axis=1)\n",
    "    answer_df.to_csv('my_submission')"
   ]
  }
 ],
 "metadata": {
  "anaconda-cloud": {},
  "kernelspec": {
   "display_name": "Python [conda root]",
   "language": "python",
   "name": "conda-root-py"
  },
  "language_info": {
   "codemirror_mode": {
    "name": "ipython",
    "version": 3
   },
   "file_extension": ".py",
   "mimetype": "text/x-python",
   "name": "python",
   "nbconvert_exporter": "python",
   "pygments_lexer": "ipython3",
   "version": "3.5.2"
  }
 },
 "nbformat": 4,
 "nbformat_minor": 0
}
