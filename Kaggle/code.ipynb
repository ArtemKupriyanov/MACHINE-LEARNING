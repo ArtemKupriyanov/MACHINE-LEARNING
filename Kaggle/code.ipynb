{
    "cells": [
        {
            "cell_type": "code",
            "execution_count": 2,
            "metadata": {
                "collapsed": false,
                "id": "9a012dd3-eba1-4d8d-a79e-d7086df47396",
                "focus": true
            },
            "outputs": [
                {
                    "name": "stdout",
                    "output_type": "stream",
                    "text": [
                        "Populating the interactive namespace from numpy and matplotlib\n"
                    ]
                }
            ],
            "source": "import pandas as pd\nimport numpy as np\nimport xgboost as xgb\nimport matplotlib\nimport seaborn as sns\nimport csv\nimport re \nfrom matplotlib import pyplot as plt\nfrom sklearn import ensemble, cross_validation, learning_curve, metrics , tree, naive_bayes, utils\nfrom sklearn.tree import DecisionTreeRegressor, DecisionTreeClassifier\nfrom sklearn.datasets import load_digits, load_breast_cancer, load_iris\nfrom sklearn.cross_validation import cross_val_score, KFold, LeaveOneOut, ShuffleSplit, StratifiedKFold\nfrom sklearn.neighbors import KNeighborsClassifier, KNeighborsRegressor\nfrom sklearn.ensemble import RandomForestClassifier, RandomForestRegressor, BaggingClassifier, BaggingRegressor\nfrom sklearn.cluster import KMeans, DBSCAN, MiniBatchKMeans, AgglomerativeClustering, FeatureAgglomeration\nfrom sklearn.preprocessing import StandardScaler, scale, OneHotEncoder\nmatplotlib.style.use('ggplot')\n%pylab inline"
        },
        {
            "cell_type": "code",
            "execution_count": 22,
            "metadata": {
                "collapsed": false,
                "id": "9059cfb5-49ba-49e5-97df-84e86ee368dc",
                "focus": false
            },
            "outputs": [],
            "source": []
        },
        {
            "cell_type": "code",
            "execution_count": 24,
            "metadata": {
                "collapsed": true,
                "id": "0ce1b40b-0507-4810-ae17-c98b68987c4d",
                "focus": false
            },
            "outputs": [],
            "source": [
                "def write_answer(y_pred, col_id):\n",
                "    answer_df = pd.concat([col_id, y_pred], axis=1)\n",
                "    answer_df.to_csv('my_submission')"
            ]
        }
    ],
    "metadata": {
        "kernelspec": {
            "display_name": "Python [conda root]",
            "language": "python",
            "name": "conda-root-py"
        },
        "language_info": {
            "codemirror_mode": {
                "name": "ipython",
                "version": 3
            },
            "file_extension": ".py",
            "mimetype": "text/x-python",
            "name": "python",
            "nbconvert_exporter": "python",
            "pygments_lexer": "ipython3",
            "version": "3.5.2"
        }
    },
    "nbformat": 4,
    "nbformat_minor": 0
}