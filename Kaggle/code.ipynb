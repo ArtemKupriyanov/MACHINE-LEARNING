{
    "cells": [
        {
            "cell_type": "code",
            "execution_count": 2,
            "metadata": {
                "collapsed": false,
                "id": "4b8d7199-288d-4296-88ca-8fc44cdd9286",
                "focus": true
            },
            "outputs": [
                {
                    "name": "stdout",
                    "output_type": "stream",
                    "text": [
                        "Populating the interactive namespace from numpy and matplotlib\n"
                    ]
                }
            ],
            "source": "import pandas as pd\nimport numpy as np\nimport xgboost as xgb\nimport matplotlib\nimport seaborn as sns\nimport csv\nimport re \nfrom matplotlib import pyplot as plt\nfrom sklearn import ensemble, cross_validation, learning_curve, metrics , tree, naive_bayes, utils\nfrom sklearn.tree import DecisionTreeRegressor, DecisionTreeClassifier\nfrom sklearn.datasets import load_digits, load_breast_cancer, load_iris\nfrom sklearn.cross_validation import cross_val_score, KFold, LeaveOneOut, ShuffleSplit, StratifiedKFold\nfrom sklearn.neighbors import KNeighborsClassifier, KNeighborsRegressor\nfrom sklearn.ensemble import RandomForestClassifier, RandomForestRegressor, BaggingClassifier, BaggingRegressor\nfrom sklearn.cluster import KMeans, DBSCAN, MiniBatchKMeans, AgglomerativeClustering, FeatureAgglomeration\nfrom sklearn.preprocessing import StandardScaler, scale, OneHotEncoder\nmatplotlib.style.use('ggplot')\n%pylab inline"
        },
        {
            "cell_type": "code",
            "execution_count": 22,
            "metadata": {
                "collapsed": false,
                "id": "20ce1101-06ae-4fca-982a-8a833aed3202",
                "focus": false
            },
            "outputs": [],
            "source": []
        },
        {
            "cell_type": "code",
            "execution_count": 24,
            "metadata": {
                "collapsed": true,
                "id": "0838808d-5e0d-40e3-b14b-598dd038ac03",
                "focus": false
            },
            "outputs": [],
            "source": [
                "def write_answer(y_pred, col_id):\n",
                "    answer_df = pd.concat([col_id, y_pred], axis=1)\n",
                "    answer_df.to_csv('my_submission')"
            ]
        }
    ],
    "metadata": {
        "kernelspec": {
            "display_name": "Python [conda root]",
            "language": "python",
            "name": "conda-root-py"
        },
        "language_info": {
            "codemirror_mode": {
                "name": "ipython",
                "version": 3
            },
            "file_extension": ".py",
            "mimetype": "text/x-python",
            "name": "python",
            "nbconvert_exporter": "python",
            "pygments_lexer": "ipython3",
            "version": "3.5.2"
        }
    },
    "nbformat": 4,
    "nbformat_minor": 0
}