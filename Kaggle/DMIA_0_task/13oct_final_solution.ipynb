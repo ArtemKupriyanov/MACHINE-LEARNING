<!DOCTYPE html PUBLIC "-//W3C//DTD XHTML 1.0 Strict//EN" "http://www.w3.org/TR/xhtml1/DTD/xhtml1-strict.dtd">
<html xmlns="http://www.w3.org/1999/xhtml" xml:lang="en" lang="en">
<head>
<link rel="shortcut icon" href="/images/icons/favicons/fav_logo_2x.ico?5" /><meta name="robots" content="noindex,nofollow" /><title>final_solution.ipynb</title>
<style>
html, body {
  padding: 0px;
  margin: 0px;
  height: 100%;
  border: none;
}
.iframe {
  border: none;
}
.docs_name {
  display: block;
  padding-top: 7px;
}
.docs_info {
  padding: 7px 10px 0px;
  color: #939699;
}
.docs_panel_wrap {
  height: 50px;
}
.docs_panel {
  background: #F1F1F1;
  position: fixed;
  width: 100%;
  -webkit-box-shadow: 0px 2px 10px rgba(0, 0, 0, 0.15);
  -moz-box-shadow: 0px 2px 10px rgba(0, 0, 0, 0.15);
  box-shadow: 0px 2px 10px rgba(0, 0, 0, 0.15);
}
.can_zoom {
  max-width: 100%;
  cursor: -webkit-zoom-in;
  cursor: -moz-zoom-in;
  cursor: -zoom-in;
}
.can_zoom_out {
  min-width: 100%;
  cursor: -webkit-zoom-out;
  cursor: -moz-zoom-out;
  cursor: -zoom-out;
}
</style>
<script>
function saveDoc() {
  var src = 'https://psv4.vk.me/c810134/u109876568/docs/243f36fa7c18/final_solution.ipynb?extra=V6RMwOds8t4I8rdV6vdsnTf8yuFW-bWn2piakurcYe_C_0F2SHgykOEcrr7OL3v3bIFvJDiZiQxUi2XJ8S5TkKXUoe-tViBYrgvB7VzovLYrgeSC4lVC8MRsHQ&dl=1';
  if (src.match(/\?/)) {
    src += '&dl=1';
  } else {
    src += '?dl=1';
  }
  location.replace(src);
  return false;
}
function imgZoom(obj) {
  if (obj.className == 'can_zoom') {
    obj.className = 'can_zoom_out';
  } else {
    obj.className = 'can_zoom';
    window.scroll(0, 0);
  }
}
function onload() {
  var iframe = document.getElementById('iframe');
  if (iframe) {
    if(window.innerWidth) {
      var h = window.innerHeight;
    } else {
      var h = document.body.clientHeight;
    }
    iframe.style.height = (h - 45 - 2) +'px';
  }

}
</script>
</head>
<body onkeydown="if (event.keyCode == 83 && (event.ctrlKey || event.metaKey)) return saveDoc(event);" onload="onload();">
<noindex>
<iframe id="iframe" class="iframe" src="https://psv4.vk.me/c810134/u109876568/docs/243f36fa7c18/final_solution.ipynb?extra=V6RMwOds8t4I8rdV6vdsnTf8yuFW-bWn2piakurcYe_C_0F2SHgykOEcrr7OL3v3bIFvJDiZiQxUi2XJ8S5TkKXUoe-tViBYrgvB7VzovLYrgeSC4lVC8MRsHQ&dl=1" width="100%" height="100%"></iframe>
</noindex>
</body>
</html>