{
 "cells": [
  {
   "cell_type": "markdown",
   "metadata": {},
   "source": [
    "МФТИ: Data Mining in Action (осень, 2016)\n",
    "- Арсений Ашуха, ars.ashuha@gmail.com, https://vk.com/ars.ashuha\n",
    "- Дмитрий Персиянов, https://vk.com/persiyanov"
   ]
  },
  {
   "cell_type": "markdown",
   "metadata": {},
   "source": [
    "<h1 align=\"center\">MNIST Autoencoder</h1> "
   ]
  },
  {
   "cell_type": "markdown",
   "metadata": {
    "collapsed": true
   },
   "source": [
    "Мы хотим сжимать большие вектора (ч/б картинку размером 28x28 можно вытянуть в вектор длины 784) в маленькие, так чтобы уметь хорошо восстанавливать большие вектора. Одна из самых простых моделей -- полносвязный автоэнкодер. Мы применяем к вектору линейные преобразования (умножаем на матрицу) и поэлементные нелинейные. \n",
    "\n",
    "![](img/autoencoder_schema.jpg)\n",
    "\n",
    "Мы хотим увидеть от вас полносвязынй многослойный автоэнкодер сделанный с помощью библиотеки лазанья, который будет выглядеть вот-так. \n",
    "\n",
    "![](img/fcautoenc.png)\n",
    "\n",
    "Не бойтесь, это сделать проще, чем выглядит =)\n",
    "\n",
    "----\n",
    " - Если Вы не пользуетесь Linux или macOS, скорее всего Вы столкнетесь с трудностями при установке некоторых библиотек\n",
    " - Anaconda Python - самый безболезненный способ поставить почти все и сразу https://www.continuum.io/downloads \n",
    " - Мы будем использовать python 2.7\n",
    " \n",
    "----\n",
    "\n",
    "**Не пугайтесь, если Вы не понимаете почти ничего вы должны немного поправить выданный код**"
   ]
  },
  {
   "cell_type": "markdown",
   "metadata": {},
   "source": [
    "### Подключим библиотеки"
   ]
  },
  {
   "cell_type": "code",
   "execution_count": null,
   "metadata": {
    "collapsed": false
   },
   "outputs": [],
   "source": [
    "import theano\n",
    "import lasagne\n",
    "import numpy as np\n",
    "from theano import tensor as T\n",
    "from utils import load_mnist, iterate_minibatches\n",
    "%pylab inline\n",
    "\n",
    "# Если у вас ничего не работает, установите пакеты\n",
    "# sudo pip install numpy scipy pylab theano lasagne "
   ]
  },
  {
   "cell_type": "markdown",
   "metadata": {
    "collapsed": true
   },
   "source": [
    "### Загрузим датасет\n",
    "\n",
    "MNIST - датасет рукописных циферок, данные реальные. Прикладное применение: автоматическая проверка письменных работ.\n",
    "\n",
    "Прежде чем запускать следующие ячейки, скачайте датасет. Для этого используйте скрипт, который находится в директории с заданием.\n",
    "\n",
    "```bash\n",
    "$ ./get_data.sh\n",
    "```"
   ]
  },
  {
   "cell_type": "code",
   "execution_count": null,
   "metadata": {
    "collapsed": false
   },
   "outputs": [],
   "source": [
    "import os\n",
    "import gzip\n",
    "import numpy as np\n",
    "from scipy import io\n",
    "import cPickle as pickle\n",
    "\n",
    "X_train, y_train, shape = load_mnist()"
   ]
  },
  {
   "cell_type": "code",
   "execution_count": null,
   "metadata": {
    "collapsed": false
   },
   "outputs": [],
   "source": [
    "print u'Размер трейна картинки x число каналов x высота x ширина', X_train.shape "
   ]
  },
  {
   "cell_type": "code",
   "execution_count": null,
   "metadata": {
    "collapsed": false
   },
   "outputs": [],
   "source": [
    "# Нарисуем картинку\n",
    "pylab.imshow(X_train[0, 0], cmap=pylab.cm.hot)"
   ]
  },
  {
   "cell_type": "code",
   "execution_count": null,
   "metadata": {
    "collapsed": false
   },
   "outputs": [],
   "source": [
    "# Нарисуем еще одну\n",
    "pylab.imshow(X_train[10, 0], cmap=pylab.cm.hot)"
   ]
  },
  {
   "cell_type": "markdown",
   "metadata": {
    "collapsed": true
   },
   "source": [
    "### Соберем нейросеть \n",
    "\n",
    "Мы хотим сделать нейросеть, которая будет принимать картинку (вектор 28 x 28) и сжимать ее в вектор длины 10 (к примеру). Нашим основным инструментом будет ```lasagne.layers.DenseLayer```. "
   ]
  },
  {
   "cell_type": "code",
   "execution_count": null,
   "metadata": {
    "collapsed": false
   },
   "outputs": [],
   "source": [
    "# Создадим теано переменные для объектов и ответов\n",
    "input_x, target_x = T.tensor4(\"Input value\",  dtype='float32'), T.tensor4(\"Target value\", dtype='float32')"
   ]
  },
  {
   "cell_type": "code",
   "execution_count": null,
   "metadata": {
    "collapsed": false
   },
   "outputs": [],
   "source": [
    "# Тут вам нужно собрать автоэнкодер, за вас написаны первый и последний слой,\n",
    "# Нужно приделать к нему один или несколько средних\n",
    "\n",
    "net = lasagne.layers.InputLayer((None, 1, 28, 28), input_x, name='Input') # Входной слой\n",
    "...\n",
    "mid = <Средний слой>\n",
    "...\n",
    "net = lasagne.layers.DenseLayer(net, 28*28) # Последний слой\n",
    "net = lasagne.layers.ReshapeLayer(net, [[0], 1, 28, 28])"
   ]
  },
  {
   "cell_type": "code",
   "execution_count": null,
   "metadata": {
    "collapsed": true
   },
   "outputs": [],
   "source": [
    "# Получим предсказания от сети и определим функцию хорошести предсказания, как l2 норму\n",
    "predict_train = lasagne.layers.get_output(net)\n",
    "loss_train = lasagne.objectives.squared_error(predict_train, target_x).mean()"
   ]
  },
  {
   "cell_type": "code",
   "execution_count": null,
   "metadata": {
    "collapsed": false
   },
   "outputs": [],
   "source": [
    "# Получим градиенты для обучения\n",
    "weights = lasagne.layers.get_all_params(net, trainable=True)\n",
    "updates = lasagne.updates.adam(loss_train, weights, learning_rate=1e-4)"
   ]
  },
  {
   "cell_type": "code",
   "execution_count": null,
   "metadata": {
    "collapsed": false
   },
   "outputs": [],
   "source": [
    "# Скомпилируем теано граф\n",
    "train_func = theano.function([input_x, target_x], [loss_train], updates=updates, allow_input_downcast=True)\n",
    "predi_func = theano.function([input_x], [predict_train], allow_input_downcast=True)\n",
    "mid_func = theano.function([input_x], [lasagne.layers.get_output(mid)], allow_input_downcast=True)"
   ]
  },
  {
   "cell_type": "markdown",
   "metadata": {
    "collapsed": true
   },
   "source": [
    "### Обучим автоэнкодер"
   ]
  },
  {
   "cell_type": "code",
   "execution_count": null,
   "metadata": {
    "collapsed": false
   },
   "outputs": [],
   "source": [
    "for i in range(10):\n",
    "    loss, num_pass = 0, 0\n",
    "    for (inputs, targets) in iterate_minibatches(X_train, X_train, 100, shuffle=True):\n",
    "        loss += train_func(inputs, targets)[0]\n",
    "        num_pass += 1  \n",
    "    print 'epoch:', i, 'loss = ', loss/num_pass, 'ok' if loss/num_pass < 0.05 else 'need to add more layers'"
   ]
  },
  {
   "cell_type": "markdown",
   "metadata": {},
   "source": [
    "### Смотрим как мы научились востанавливать цифры"
   ]
  },
  {
   "cell_type": "code",
   "execution_count": null,
   "metadata": {
    "collapsed": false
   },
   "outputs": [],
   "source": [
    "pylab.subplot(121)\n",
    "pylab.imshow(X_train[0, 0], cmap=pylab.cm.hot)\n",
    "pylab.subplot(122)\n",
    "pylab.imshow(predi_func(X_train[0, 0].reshape(1, 1, 28, 28))[0][0][0], cmap=pylab.cm.hot)"
   ]
  },
  {
   "cell_type": "markdown",
   "metadata": {},
   "source": [
    "### Проецируем в 2d\n",
    "\n",
    "Давайте теперь спроецируем ответы автоэнкодера в 2d c помощью метода tsne"
   ]
  },
  {
   "cell_type": "code",
   "execution_count": null,
   "metadata": {
    "collapsed": false
   },
   "outputs": [],
   "source": [
    "from sklearn.manifold import TSNE"
   ]
  },
  {
   "cell_type": "code",
   "execution_count": null,
   "metadata": {
    "collapsed": false
   },
   "outputs": [],
   "source": [
    "X_mid = mid_func(X_train)[0]\n",
    "X_tsne = TSNE(n_components=2, n_iter=200).fit_transform(X_mid[:2000])\n",
    "pylab.scatter(X_tsne[:, 0], X_tsne[:, 1], c=y_train[:2000], cmap=pylab.cm.hot)"
   ]
  },
  {
   "cell_type": "markdown",
   "metadata": {},
   "source": [
    "### Сдача домашки\n",
    "\n",
    "А теперь, чтобы сдать задание, вам нужно решить загадку. Мы (преподы) натренировали автоэнкодер, и показываем вам только выходы энкодера, очень хотим, чтобы вы натренировали декодер и прислали нам какие цифры изображены на некоторых картинках.\n",
    "\n",
    "Раньше у вас была обучающая выборка из пар (Объект=Картинка, Ответ=Картинка), а теперь (Объект=маленький вектор, Ответ=Картинка). \n",
    "\n",
    "А теперь нужно заполнить гугл фому https://goo.gl/forms/GwTOpUkD20HEuDZv1.\n",
    "\n",
    "**Нужно вводить ответы на цифры из теста!**\n",
    "```python\n",
    "y = X_test_mid\n",
    "pylab.imshow(predi_func(y[idx].reshape(1, 20))[0][0][0], cmap=pylab.cm.hot)```"
   ]
  },
  {
   "cell_type": "code",
   "execution_count": null,
   "metadata": {
    "collapsed": true
   },
   "outputs": [],
   "source": [
    "X_train_mid, y_train, X_test_mid = np.load('X_train_mid.npy'), X_train, np.load('X_test_mid.npy')"
   ]
  },
  {
   "cell_type": "code",
   "execution_count": null,
   "metadata": {
    "collapsed": false
   },
   "outputs": [],
   "source": [
    "# В этой ячейке все тоже самое только нету части сети до mid слоя\n",
    "# Вам нужно натренировать декодер\n",
    "# Получить предсказания для теста (X_test_mid) и заслать решение не кегл\n",
    "\n",
    "input_x, target_x = T.matrix(\"Input value\",  dtype='float32'), T.tensor4(\"Target value\", dtype='float32')\n",
    "mid = lasagne.layers.InputLayer((None, 20), input_x, name='Input')\n",
    "net = <Опять собрать сеть>\n",
    "net = lasagne.layers.ReshapeLayer(net, [[0], 1, 28, 28])"
   ]
  },
  {
   "cell_type": "code",
   "execution_count": null,
   "metadata": {
    "collapsed": false
   },
   "outputs": [],
   "source": [
    "# Получим предсказания от сети и определим функцию хорошести предсказания, как l2 норму\n",
    "predict_train = lasagne.layers.get_output(net)\n",
    "loss_train = lasagne.objectives.squared_error(predict_train, target_x).mean()\n",
    "# Получим градиенты для обучения\n",
    "weights = lasagne.layers.get_all_params(net, trainable=True)\n",
    "updates = lasagne.updates.adam(loss_train, weights, learning_rate=1e-4)\n",
    "# Скомпилируем теано граф\n",
    "train_func = theano.function([input_x, target_x], [loss_train], updates=updates, allow_input_downcast=True)\n",
    "predi_func = theano.function([input_x], [predict_train], allow_input_downcast=True)\n",
    "mid_func = theano.function([input_x], [lasagne.layers.get_output(mid)], allow_input_downcast=True)"
   ]
  },
  {
   "cell_type": "code",
   "execution_count": null,
   "metadata": {
    "collapsed": false
   },
   "outputs": [],
   "source": [
    "for i in range(5):\n",
    "    loss, num_pass = 0, 0\n",
    "    for (inputs, targets) in iterate_minibatches(X_train_mid, X_train, 100, shuffle=True):\n",
    "        loss += train_func(inputs, targets)[0]\n",
    "        num_pass += 1  \n",
    "    print 'epoch:', i, 'loss = ', loss/num_pass"
   ]
  },
  {
   "cell_type": "code",
   "execution_count": null,
   "metadata": {
    "collapsed": false
   },
   "outputs": [],
   "source": [
    "pylab.subplot(121)\n",
    "pylab.imshow(X_train[0, 0], cmap=pylab.cm.hot)\n",
    "pylab.subplot(122)\n",
    "pylab.imshow(predi_func(X_train_mid[0].reshape(1, 20))[0][0][0], cmap=pylab.cm.hot)"
   ]
  },
  {
   "cell_type": "code",
   "execution_count": null,
   "metadata": {
    "collapsed": false
   },
   "outputs": [],
   "source": [
    "pylab.subplot(122)\n",
    "pylab.imshow(predi_func(X_test_mid[0].reshape(1, 20))[0][0][0], cmap=pylab.cm.hot)"
   ]
  }
 ],
 "metadata": {
  "anaconda-cloud": {},
  "kernelspec": {
   "display_name": "Python 2",
   "language": "python",
   "name": "python2"
  },
  "language_info": {
   "codemirror_mode": {
    "name": "ipython",
    "version": 2
   },
   "file_extension": ".py",
   "mimetype": "text/x-python",
   "name": "python",
   "nbconvert_exporter": "python",
   "pygments_lexer": "ipython2",
   "version": "2.7.12"
  }
 },
 "nbformat": 4,
 "nbformat_minor": 0
}
