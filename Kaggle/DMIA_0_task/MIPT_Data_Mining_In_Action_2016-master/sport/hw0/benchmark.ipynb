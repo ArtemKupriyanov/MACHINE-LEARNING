{
    "cells": [
        {
            "cell_type": "markdown",
            "metadata": {
                "id": "d7dce4bd-bdf4-48a7-bcf2-39f71fb8f432",
                "focus": false
            },
            "source": [
                "# Import libraries"
            ]
        },
        {
            "cell_type": "code",
            "execution_count": 3,
            "metadata": {
                "collapsed": false,
                "id": "9be56ea0-ffa6-42f8-8252-f128e16f8150",
                "focus": false
            },
            "outputs": [
                {
                    "name": "stderr",
                    "output_type": "stream",
                    "text": [
                        "/home/a/miniconda2/lib/python2.7/site-packages/matplotlib/font_manager.py:273: UserWarning: Matplotlib is building the font cache using fc-list. This may take a moment.\n",
                        "  warnings.warn('Matplotlib is building the font cache using fc-list. This may take a moment.')\n",
                        "/home/a/miniconda2/lib/python2.7/site-packages/IPython/html.py:14: ShimWarning: The `IPython.html` package has been deprecated. You should import from `notebook` instead. `IPython.html.widgets` has moved to `ipywidgets`.\n",
                        "  \"`IPython.html.widgets` has moved to `ipywidgets`.\", ShimWarning)\n"
                    ]
                }
            ],
            "source": [
                "import numpy as np # calculations with arrays\n",
                "import pandas as pd # user-friendly DataFrames for data representation\n",
                "import sklearn # machine learning algorithms\n",
                "from sklearn import ensemble, linear_model\n",
                "from sklearn.metrics import log_loss\n",
                "\n",
                "import matplotlib.pyplot as plt # import plot functions\n",
                "# necessary to plot in jupyter notebook:\n",
                "%matplotlib inline\n",
                "import seaborn as sns # make plots beautiful"
            ]
        },
        {
            "cell_type": "markdown",
            "metadata": {
                "id": "c97c37a2-cd61-47dc-a4ef-ae17005653f5",
                "focus": false
            },
            "source": [
                "# Download data from competition's page\n",
                "\n",
                "https://inclass.kaggle.com/c/data-mining-in-action-2016-competitions-01/data"
            ]
        },
        {
            "cell_type": "markdown",
            "metadata": {
                "id": "04f8fce3-402d-4f3d-9148-ab1053c7f7a8",
                "focus": false
            },
            "source": [
                "# Load data using pandas"
            ]
        },
        {
            "cell_type": "code",
            "execution_count": 36,
            "metadata": {
                "collapsed": true,
                "id": "2b380fe2-173e-45e6-b630-f88ef6b2930a",
                "focus": false
            },
            "outputs": [],
            "source": [
                "train = pd.read_csv('competition_zero/train2.csv')\n",
                "test = pd.read_csv('competition_zero/test2.csv')\n",
                "sample_submission = pd.read_csv('competition_zero/sample_submission.csv')"
            ]
        },
        {
            "cell_type": "markdown",
            "metadata": {
                "id": "99a618dc-0487-4097-8021-05612b01f019",
                "focus": false
            },
            "source": [
                "# Data"
            ]
        },
        {
            "cell_type": "code",
            "execution_count": 37,
            "metadata": {
                "collapsed": false,
                "id": "fa5c8027-063f-4a1a-8a2f-151a56797eef",
                "focus": false
            },
            "outputs": [
                {
                    "data": {
                        "text/html": [
                            "<div>\n",
                            "<table border=\"1\" class=\"dataframe\">\n",
                            "  <thead>\n",
                            "    <tr style=\"text-align: right;\">\n",
                            "      <th></th>\n",
                            "      <th>year</th>\n",
                            "      <th>day</th>\n",
                            "      <th>team1</th>\n",
                            "      <th>team2</th>\n",
                            "      <th>score1</th>\n",
                            "      <th>score2</th>\n",
                            "      <th>target</th>\n",
                            "    </tr>\n",
                            "  </thead>\n",
                            "  <tbody>\n",
                            "    <tr>\n",
                            "      <th>0</th>\n",
                            "      <td>2998</td>\n",
                            "      <td>19</td>\n",
                            "      <td>317</td>\n",
                            "      <td>131</td>\n",
                            "      <td>336</td>\n",
                            "      <td>278</td>\n",
                            "      <td>True</td>\n",
                            "    </tr>\n",
                            "  </tbody>\n",
                            "</table>\n",
                            "</div>"
                        ],
                        "text/plain": [
                            "   year  day  team1  team2  score1  score2 target\n",
                            "0  2998   19    317    131     336     278   True"
                        ]
                    },
                    "execution_count": 37,
                    "metadata": {},
                    "output_type": "execute_result"
                }
            ],
            "source": [
                "# print first row\n",
                "train[:1]"
            ]
        },
        {
            "cell_type": "code",
            "execution_count": 38,
            "metadata": {
                "collapsed": false,
                "id": "ec17c1c0-d83e-43fb-b9db-d85c6f4b2b37",
                "focus": false
            },
            "outputs": [
                {
                    "data": {
                        "text/html": [
                            "<div>\n",
                            "<table border=\"1\" class=\"dataframe\">\n",
                            "  <thead>\n",
                            "    <tr style=\"text-align: right;\">\n",
                            "      <th></th>\n",
                            "      <th>Id</th>\n",
                            "      <th>year</th>\n",
                            "      <th>team1</th>\n",
                            "      <th>team2</th>\n",
                            "    </tr>\n",
                            "  </thead>\n",
                            "  <tbody>\n",
                            "    <tr>\n",
                            "      <th>0</th>\n",
                            "      <td>0</td>\n",
                            "      <td>3021</td>\n",
                            "      <td>363</td>\n",
                            "      <td>161</td>\n",
                            "    </tr>\n",
                            "  </tbody>\n",
                            "</table>\n",
                            "</div>"
                        ],
                        "text/plain": [
                            "   Id  year  team1  team2\n",
                            "0   0  3021    363    161"
                        ]
                    },
                    "execution_count": 38,
                    "metadata": {},
                    "output_type": "execute_result"
                }
            ],
            "source": [
                "test[:1]"
            ]
        },
        {
            "cell_type": "code",
            "execution_count": 39,
            "metadata": {
                "collapsed": false,
                "id": "57f209c6-bd77-46ed-8c77-1806cc4611a6",
                "focus": false
            },
            "outputs": [
                {
                    "data": {
                        "text/html": [
                            "<div>\n",
                            "<table border=\"1\" class=\"dataframe\">\n",
                            "  <thead>\n",
                            "    <tr style=\"text-align: right;\">\n",
                            "      <th></th>\n",
                            "      <th>Id</th>\n",
                            "      <th>target</th>\n",
                            "    </tr>\n",
                            "  </thead>\n",
                            "  <tbody>\n",
                            "    <tr>\n",
                            "      <th>0</th>\n",
                            "      <td>0</td>\n",
                            "      <td>0.5</td>\n",
                            "    </tr>\n",
                            "  </tbody>\n",
                            "</table>\n",
                            "</div>"
                        ],
                        "text/plain": [
                            "   Id  target\n",
                            "0   0     0.5"
                        ]
                    },
                    "execution_count": 39,
                    "metadata": {},
                    "output_type": "execute_result"
                }
            ],
            "source": [
                "# Target variable is \"target\" and this means we will be predicting it\n",
                "sample_submission[:1]"
            ]
        },
        {
            "cell_type": "markdown",
            "metadata": {
                "id": "8e5c0bd0-facc-4e23-af65-ecf516fa080b",
                "focus": false
            },
            "source": [
                "## Quick look at the unique values in data..."
            ]
        },
        {
            "cell_type": "code",
            "execution_count": 40,
            "metadata": {
                "collapsed": false,
                "id": "5e117112-3808-4002-80c5-f61211173c6d",
                "focus": false
            },
            "outputs": [
                {
                    "name": "stdout",
                    "output_type": "stream",
                    "text": [
                        "year [2998 2999 3000 3001 3002]\n",
                        "day [19 28 30 31 33]\n",
                        "team1 [317  61 110 352 229]\n",
                        "team2 [131  29 141 146  91]\n",
                        "score1 [336 301 359 309 332]\n",
                        "score2 [278 259 267 410 220]\n",
                        "target [True False]\n"
                    ]
                }
            ],
            "source": [
                "for c in train.columns:\n",
                "    print c, train[c].unique()[:5]"
            ]
        },
        {
            "cell_type": "markdown",
            "metadata": {
                "id": "43661f6a-e5a6-4d11-8f7b-1456100816b8",
                "focus": false
            },
            "source": [
                "# Cross-validation"
            ]
        },
        {
            "cell_type": "markdown",
            "metadata": {
                "id": "ccba674f-446c-46b0-ad6b-abf4689691d0",
                "focus": false
            },
            "source": [
                "### Lets split data randomly to train and validatation. We will train our algorithms on selected train set and validate them on validation set. Easy as it can be!"
            ]
        },
        {
            "cell_type": "code",
            "execution_count": 41,
            "metadata": {
                "collapsed": false,
                "id": "eb79f79b-864b-4244-a03d-81b497fe0ef1",
                "focus": false
            },
            "outputs": [
                {
                    "data": {
                        "text/plain": [
                            "(101609, 7)"
                        ]
                    },
                    "execution_count": 41,
                    "metadata": {},
                    "output_type": "execute_result"
                }
            ],
            "source": [
                "# train size\n",
                "train.shape "
            ]
        },
        {
            "cell_type": "markdown",
            "metadata": {
                "id": "4573ec7b-79de-49cc-a332-6897cb324838",
                "focus": false
            },
            "source": [
                "train is quite big, so for example purposes we'll sample only part of it"
            ]
        },
        {
            "cell_type": "code",
            "execution_count": 42,
            "metadata": {
                "collapsed": true,
                "id": "7a419478-ab28-45c5-be0d-bdfd09d49620",
                "focus": false
            },
            "outputs": [],
            "source": [
                "from sklearn.cross_validation import ShuffleSplit\n",
                "\n",
                "for itr, ite in ShuffleSplit(len(train), n_iter=1, train_size=0.4, test_size=0.1, random_state=0):\n",
                "    pass"
            ]
        },
        {
            "cell_type": "markdown",
            "metadata": {
                "id": "110e8074-f2d6-4f30-a84c-503e4730c7c6",
                "focus": false
            },
            "source": [
                "information about all functions can be found on the internet, for example\n",
                "\n",
                "http://scikit-learn.org/stable/modules/generated/sklearn.model_selection.ShuffleSplit.html"
            ]
        },
        {
            "cell_type": "code",
            "execution_count": null,
            "metadata": {
                "collapsed": true,
                "id": "be7e0db7-210d-47a3-ab9e-c52e69daea23",
                "focus": false
            },
            "outputs": [],
            "source": [
                "# or you can open it in you Jupyter notebook executing function in this manner\n",
                "?ShuffleSplit()"
            ]
        },
        {
            "cell_type": "code",
            "execution_count": 43,
            "metadata": {
                "collapsed": false,
                "id": "94f546ae-7f25-4c06-82ec-910d7c8379e6",
                "focus": false
            },
            "outputs": [
                {
                    "data": {
                        "text/plain": [
                            "(40643, 10161)"
                        ]
                    },
                    "execution_count": 43,
                    "metadata": {},
                    "output_type": "execute_result"
                }
            ],
            "source": [
                "len(itr), len(ite)"
            ]
        },
        {
            "cell_type": "code",
            "execution_count": 44,
            "metadata": {
                "collapsed": false,
                "id": "a34d83c8-8058-48ee-8d52-1c93f37821af",
                "focus": false
            },
            "outputs": [
                {
                    "data": {
                        "text/plain": [
                            "(array([22710, 41665, 91975, 57348, 39931]),\n",
                            " array([ 37078, 101474,  29858,  61674,   1049]))"
                        ]
                    },
                    "execution_count": 44,
                    "metadata": {},
                    "output_type": "execute_result"
                }
            ],
            "source": [
                "itr[:5], ite[:5]"
            ]
        },
        {
            "cell_type": "markdown",
            "metadata": {
                "id": "c7f2c511-aa7f-45cf-8c96-7533063d302a",
                "focus": false
            },
            "source": [
                "now we have validation set \"ite\" to check the quality of our solution"
            ]
        },
        {
            "cell_type": "markdown",
            "metadata": {
                "id": "4870b612-54c4-43b5-ab64-cc41dc94ed3c",
                "focus": false
            },
            "source": [
                "# features and target"
            ]
        },
        {
            "cell_type": "code",
            "execution_count": 45,
            "metadata": {
                "collapsed": false,
                "id": "856636de-9859-4530-b0aa-0a661c13e71e",
                "focus": false
            },
            "outputs": [
                {
                    "data": {
                        "text/html": [
                            "<div>\n",
                            "<table border=\"1\" class=\"dataframe\">\n",
                            "  <thead>\n",
                            "    <tr style=\"text-align: right;\">\n",
                            "      <th></th>\n",
                            "      <th>Id</th>\n",
                            "      <th>target</th>\n",
                            "    </tr>\n",
                            "  </thead>\n",
                            "  <tbody>\n",
                            "    <tr>\n",
                            "      <th>0</th>\n",
                            "      <td>0</td>\n",
                            "      <td>0.5</td>\n",
                            "    </tr>\n",
                            "    <tr>\n",
                            "      <th>1</th>\n",
                            "      <td>1</td>\n",
                            "      <td>0.5</td>\n",
                            "    </tr>\n",
                            "  </tbody>\n",
                            "</table>\n",
                            "</div>"
                        ],
                        "text/plain": [
                            "   Id  target\n",
                            "0   0     0.5\n",
                            "1   1     0.5"
                        ]
                    },
                    "execution_count": 45,
                    "metadata": {},
                    "output_type": "execute_result"
                }
            ],
            "source": [
                "sample_submission[:2]"
            ]
        },
        {
            "cell_type": "markdown",
            "metadata": {
                "id": "56bb9164-136d-4727-8b5c-d540ef1f2940",
                "focus": false
            },
            "source": [
                "we need to change 'target' column in \"sample_submission\" to our predictions.\n",
                "\n",
                "For now we will select only features that are present in both train and test:"
            ]
        },
        {
            "cell_type": "code",
            "execution_count": 15,
            "metadata": {
                "collapsed": false,
                "id": "63ed350d-4b2c-4a88-b452-fa8821c940ab",
                "focus": false
            },
            "outputs": [
                {
                    "name": "stdout",
                    "output_type": "stream",
                    "text": [
                        "\"year\" is present in test and train\n",
                        "\"day\" is NOT present in test\n",
                        "\"team1\" is present in test and train\n",
                        "\"team2\" is present in test and train\n",
                        "\"score1\" is NOT present in test\n",
                        "\"score2\" is NOT present in test\n",
                        "\"target\" is NOT present in test\n"
                    ]
                },
                {
                    "data": {
                        "text/plain": [
                            "['year', 'team1', 'team2']"
                        ]
                    },
                    "execution_count": 15,
                    "metadata": {},
                    "output_type": "execute_result"
                }
            ],
            "source": [
                "features = []\n",
                "for c in train.columns:\n",
                "    if c in test.columns and c!='target':\n",
                "        features += [c]\n",
                "        print '\"{}\" is present in test and train'.format(c)\n",
                "    else:\n",
                "        print '\"{}\" is NOT present in test'.format(c)\n",
                "        \n",
                "features"
            ]
        },
        {
            "cell_type": "markdown",
            "metadata": {
                "id": "2594dd4c-1467-4489-8f2f-ed4289d41537",
                "focus": false
            },
            "source": [
                "here we split train on \"train\" and \"validation\" parts"
            ]
        },
        {
            "cell_type": "code",
            "execution_count": 19,
            "metadata": {
                "collapsed": true,
                "id": "3a3949aa-0166-4688-b5a1-73650181b9b3",
                "focus": false
            },
            "outputs": [],
            "source": [
                "xtrain = train.loc[itr, features]    \n",
                "ytrain = train.loc[itr, 'target']\n",
                "\n",
                "xval = train.loc[ite, features]\n",
                "yval = train.loc[ite, 'target']"
            ]
        },
        {
            "cell_type": "markdown",
            "metadata": {
                "id": "6d22231a-d1fa-4ea6-a646-6d3a2c15ebc1",
                "focus": false
            },
            "source": [
                "# Baseline solution\n",
                "\n",
                "lets make baseline first by predicting the mean value"
            ]
        },
        {
            "cell_type": "code",
            "execution_count": 17,
            "metadata": {
                "collapsed": false,
                "scrolled": true,
                "id": "ad4c5f0f-1e88-4771-bf5c-58618ea2c6bd",
                "focus": false
            },
            "outputs": [
                {
                    "data": {
                        "text/plain": [
                            "0.50096940231672393"
                        ]
                    },
                    "execution_count": 17,
                    "metadata": {},
                    "output_type": "execute_result"
                }
            ],
            "source": [
                "train.target.mean()"
            ]
        },
        {
            "cell_type": "code",
            "execution_count": 20,
            "metadata": {
                "collapsed": false,
                "id": "0f752eda-670c-40fd-97ad-84be5b1dcdca",
                "focus": false
            },
            "outputs": [
                {
                    "data": {
                        "text/plain": [
                            "array([ 0.5009694,  0.5009694,  0.5009694, ...,  0.5009694,  0.5009694,\n",
                            "        0.5009694])"
                        ]
                    },
                    "execution_count": 20,
                    "metadata": {},
                    "output_type": "execute_result"
                }
            ],
            "source": [
                "constant_prediction = yval * 0 + train.target.mean()\n",
                "constant_prediction = constant_prediction.values\n",
                "constant_prediction"
            ]
        },
        {
            "cell_type": "code",
            "execution_count": 21,
            "metadata": {
                "collapsed": false,
                "id": "fdb61f75-6881-4c0e-b489-be14ed91953c",
                "focus": false
            },
            "outputs": [
                {
                    "data": {
                        "text/plain": [
                            "0.6931565015839517"
                        ]
                    },
                    "execution_count": 21,
                    "metadata": {},
                    "output_type": "execute_result"
                }
            ],
            "source": [
                "log_loss(yval, constant_prediction)"
            ]
        },
        {
            "cell_type": "code",
            "execution_count": 22,
            "metadata": {
                "collapsed": true,
                "id": "27c52111-720f-470a-b597-4632f8a8590a",
                "focus": false
            },
            "outputs": [],
            "source": [
                "submission = sample_submission.copy()\n",
                "submission.target = train['target'].mean() # notice here that we can refer to a column 'target' in two ways\n",
                "submission.to_csv('constant_submission.csv', index=False)"
            ]
        },
        {
            "cell_type": "markdown",
            "metadata": {
                "id": "e3c662e5-33f2-4f8c-b5eb-ebc26a608b0d",
                "focus": false
            },
            "source": [
                "Now this should score like \"Baseline - Constant\" on Leaderboard!\n",
                "You can submit this by going to \n",
                "\n",
                "https://inclass.kaggle.com/c/data-mining-in-action-2016-competitions-01/submissions/attach"
            ]
        },
        {
            "cell_type": "markdown",
            "metadata": {
                "id": "9e0cc6c6-bf30-40bf-8ff8-34721b5da6f6",
                "focus": false
            },
            "source": [
                "# Machine learning\n",
                "\n",
                "Finally, lets try machine learning!"
            ]
        },
        {
            "cell_type": "code",
            "execution_count": 23,
            "metadata": {
                "collapsed": false,
                "scrolled": false,
                "id": "57c357a1-1265-45fe-96ba-fee06778d4d9",
                "focus": false
            },
            "outputs": [
                {
                    "data": {
                        "text/plain": [
                            "LogisticRegression(C=1.0, class_weight=None, dual=False, fit_intercept=True,\n",
                            "          intercept_scaling=1, max_iter=100, multi_class='ovr', n_jobs=1,\n",
                            "          penalty='l2', random_state=None, solver='liblinear', tol=0.0001,\n",
                            "          verbose=0, warm_start=False)"
                        ]
                    },
                    "execution_count": 23,
                    "metadata": {},
                    "output_type": "execute_result"
                }
            ],
            "source": [
                "alg = linear_model.LogisticRegression()\n",
                "alg.fit(xtrain, ytrain)"
            ]
        },
        {
            "cell_type": "code",
            "execution_count": 24,
            "metadata": {
                "collapsed": false,
                "id": "f392b90e-53aa-4ecf-81d3-5243c5519956",
                "focus": false
            },
            "outputs": [],
            "source": [
                "prediction = alg.predict_proba(xval)[:,1]"
            ]
        },
        {
            "cell_type": "code",
            "execution_count": 25,
            "metadata": {
                "collapsed": false,
                "id": "5902775b-d350-44fe-b181-a0afa9b55029",
                "focus": false
            },
            "outputs": [
                {
                    "data": {
                        "text/plain": [
                            "0.69278091662349195"
                        ]
                    },
                    "execution_count": 25,
                    "metadata": {},
                    "output_type": "execute_result"
                }
            ],
            "source": [
                "log_loss(yval, prediction)"
            ]
        },
        {
            "cell_type": "markdown",
            "metadata": {
                "id": "d9324901-8a81-4b5f-b246-25b042e26cd9",
                "focus": false
            },
            "source": [
                "### Well, not so far from the constant solution... Let's try to understand why.\n",
                "\n",
                "What's a linear model such as LogisticRegression is trying to do is multiply each variable on some coefficient and add add it up, in our case:\n",
                "\n",
                "y_predicted = column1 \\* coef1 + column2 \\* coef2 + column3 \\* coef3 + bias\n",
                "\n",
                "We can print coefficients and bias:"
            ]
        },
        {
            "cell_type": "code",
            "execution_count": 26,
            "metadata": {
                "collapsed": false,
                "id": "0bfb6fbe-4ce2-4d27-a8ad-a3fdfeb8e01a",
                "focus": false
            },
            "outputs": [
                {
                    "data": {
                        "text/plain": [
                            "(array([[  2.31737378e-07,   3.29139376e-04,  -2.98254396e-04]]),\n",
                            " array([  5.62890115e-09]))"
                        ]
                    },
                    "execution_count": 26,
                    "metadata": {},
                    "output_type": "execute_result"
                }
            ],
            "source": [
                "alg.coef_, alg.intercept_"
            ]
        },
        {
            "cell_type": "markdown",
            "metadata": {
                "id": "6c98c0cb-c956-4cea-9a94-5b6e44d1aed1",
                "focus": false
            },
            "source": [
                "But clearly, \"team1\" and \"team2\" are _categorical_ columns, just like names of the teams. \n",
                "\n",
                "So we need to turn \"team\" columns to something linear algorithm can work with. For example first few rows from here"
            ]
        },
        {
            "cell_type": "code",
            "execution_count": 27,
            "metadata": {
                "collapsed": false,
                "id": "7a997e1c-6bb7-4e4f-ad30-ef39f82b879b",
                "focus": false
            },
            "outputs": [
                {
                    "data": {
                        "text/plain": [
                            "0    317\n",
                            "1     61\n",
                            "2    110\n",
                            "Name: team1, dtype: int64"
                        ]
                    },
                    "execution_count": 27,
                    "metadata": {},
                    "output_type": "execute_result"
                }
            ],
            "source": [
                "train.loc[:2, 'team1']"
            ]
        },
        {
            "cell_type": "markdown",
            "metadata": {
                "id": "8ee89b9a-a33c-4f01-a450-dd22b453c3ac",
                "focus": false
            },
            "source": [
                "To this:"
            ]
        },
        {
            "cell_type": "code",
            "execution_count": 28,
            "metadata": {
                "collapsed": false,
                "id": "f1a402b2-870a-4eef-a308-a92f76e76ed1",
                "focus": false
            },
            "outputs": [
                {
                    "data": {
                        "text/html": [
                            "<div>\n",
                            "<table border=\"1\" class=\"dataframe\">\n",
                            "  <thead>\n",
                            "    <tr style=\"text-align: right;\">\n",
                            "      <th></th>\n",
                            "      <th>61</th>\n",
                            "      <th>110</th>\n",
                            "      <th>317</th>\n",
                            "    </tr>\n",
                            "  </thead>\n",
                            "  <tbody>\n",
                            "    <tr>\n",
                            "      <th>0</th>\n",
                            "      <td>0.0</td>\n",
                            "      <td>0.0</td>\n",
                            "      <td>1.0</td>\n",
                            "    </tr>\n",
                            "    <tr>\n",
                            "      <th>1</th>\n",
                            "      <td>1.0</td>\n",
                            "      <td>0.0</td>\n",
                            "      <td>0.0</td>\n",
                            "    </tr>\n",
                            "    <tr>\n",
                            "      <th>2</th>\n",
                            "      <td>0.0</td>\n",
                            "      <td>1.0</td>\n",
                            "      <td>0.0</td>\n",
                            "    </tr>\n",
                            "  </tbody>\n",
                            "</table>\n",
                            "</div>"
                        ],
                        "text/plain": [
                            "   61   110  317\n",
                            "0  0.0  0.0  1.0\n",
                            "1  1.0  0.0  0.0\n",
                            "2  0.0  1.0  0.0"
                        ]
                    },
                    "execution_count": 28,
                    "metadata": {},
                    "output_type": "execute_result"
                }
            ],
            "source": [
                "pd.get_dummies(train.loc[:2, 'team1'])"
            ]
        },
        {
            "cell_type": "markdown",
            "metadata": {
                "id": "58b4d746-628f-484a-9627-15f6e202348d",
                "focus": false
            },
            "source": [
                "So each team name now has it's own column. Read about \"pd.get_dummies\" here:\n",
                "\n",
                "http://pandas.pydata.org/pandas-docs/stable/generated/pandas.get_dummies.html"
            ]
        },
        {
            "cell_type": "markdown",
            "metadata": {
                "id": "fc9acd07-f542-4934-8e53-cbd2b468e8ee",
                "focus": false
            },
            "source": [
                "### But let's come back to more interesting stuff for now\n",
                "### We are competition's solvers, remember? Lets dive into the space of more complicated models!"
            ]
        },
        {
            "cell_type": "code",
            "execution_count": 29,
            "metadata": {
                "collapsed": true,
                "id": "15f2c416-4edd-4e81-9759-c2027d87ff9c",
                "focus": false
            },
            "outputs": [],
            "source": [
                "alg = ensemble.RandomForestClassifier(15, n_jobs=4)\n",
                "alg.fit(xtrain, ytrain)\n",
                "prediction = alg.predict_proba(xval)[:,1]"
            ]
        },
        {
            "cell_type": "code",
            "execution_count": 30,
            "metadata": {
                "collapsed": false,
                "id": "bd3b18e5-f67a-4451-b4de-6c40df5121ff",
                "focus": false
            },
            "outputs": [
                {
                    "data": {
                        "text/plain": [
                            "1.1744940647416549"
                        ]
                    },
                    "execution_count": 30,
                    "metadata": {},
                    "output_type": "execute_result"
                }
            ],
            "source": [
                "log_loss(yval, prediction)"
            ]
        },
        {
            "cell_type": "markdown",
            "metadata": {
                "id": "66fc0ad1-72bd-4a78-ac75-75c36750e2d9",
                "focus": false
            },
            "source": [
                "Surprisingly, this doesn't work very well. Now, like competition pro, let's make our models bigger!"
            ]
        },
        {
            "cell_type": "code",
            "execution_count": 31,
            "metadata": {
                "collapsed": true,
                "id": "4f8fbef0-69e9-426e-899e-6d67229be7f8",
                "focus": false
            },
            "outputs": [],
            "source": [
                "alg = ensemble.RandomForestClassifier(150, n_jobs=4)\n",
                "alg.fit(xtrain, ytrain)\n",
                "prediction = alg.predict_proba(xval)[:,1]"
            ]
        },
        {
            "cell_type": "code",
            "execution_count": 32,
            "metadata": {
                "collapsed": false,
                "id": "60b48974-d463-4776-af24-fee28d310026",
                "focus": false
            },
            "outputs": [
                {
                    "data": {
                        "text/plain": [
                            "0.74131637899967551"
                        ]
                    },
                    "execution_count": 32,
                    "metadata": {},
                    "output_type": "execute_result"
                }
            ],
            "source": [
                "log_loss(yval, prediction)"
            ]
        },
        {
            "cell_type": "markdown",
            "metadata": {
                "id": "9c770403-9df9-4c1e-8411-78915825f2d9",
                "focus": false
            },
            "source": [
                "### Almost there! But for now let's skip this model too and go to _real_ competitions stuff"
            ]
        },
        {
            "cell_type": "code",
            "execution_count": 33,
            "metadata": {
                "collapsed": true,
                "id": "0d72fe87-6548-4cac-a408-63c49800fb06",
                "focus": false
            },
            "outputs": [],
            "source": [
                "import xgboost"
            ]
        },
        {
            "cell_type": "code",
            "execution_count": 34,
            "metadata": {
                "collapsed": true,
                "id": "5e9ce23a-5c5f-4f3e-af4f-a329274320a9",
                "focus": false
            },
            "outputs": [],
            "source": [
                "param = {}\n",
                "param['max_depth'] = 8\n",
                "param['booster'] = 'gbtree'\n",
                "param['objective'] = 'binary:logistic'\n",
                "param['eval_metric'] = 'logloss'\n",
                "param['eta'] = 0.1\n",
                "\n",
                "numround = 100"
            ]
        },
        {
            "cell_type": "markdown",
            "metadata": {
                "id": "3d601ec7-5221-495f-8c2a-ca39b00ac2a6",
                "focus": false
            },
            "source": [
                "Xgboost parameters\n",
                "\n",
                "https://github.com/dmlc/xgboost/blob/master/doc/parameter.md"
            ]
        },
        {
            "cell_type": "code",
            "execution_count": 35,
            "metadata": {
                "collapsed": false,
                "scrolled": true,
                "id": "cd0c994c-587c-4565-bb72-48887ef9360a",
                "focus": false
            },
            "outputs": [
                {
                    "name": "stdout",
                    "output_type": "stream",
                    "text": [
                        "[0]\ttrain-logloss:0.689826\teval-logloss:0.691345\n",
                        "[10]\ttrain-logloss:0.670759\teval-logloss:0.681402\n",
                        "[20]\ttrain-logloss:0.658005\teval-logloss:0.67538\n",
                        "[30]\ttrain-logloss:0.647507\teval-logloss:0.669858\n",
                        "[40]\ttrain-logloss:0.638459\teval-logloss:0.66616\n",
                        "[50]\ttrain-logloss:0.628218\teval-logloss:0.661736\n",
                        "[60]\ttrain-logloss:0.619701\teval-logloss:0.658285\n",
                        "[70]\ttrain-logloss:0.6126\teval-logloss:0.655751\n",
                        "[80]\ttrain-logloss:0.604423\teval-logloss:0.652431\n",
                        "[90]\ttrain-logloss:0.597331\teval-logloss:0.649311\n"
                    ]
                }
            ],
            "source": [
                "Xdatatrain = xgboost.DMatrix(data = xtrain, label = ytrain)\n",
                "Xdatatest = xgboost.DMatrix(data = xval, label = yval)\n",
                "\n",
                "plst = list(param.items())\n",
                "watchlist = [(Xdatatrain, 'train'), (Xdatatest, 'eval')]            \n",
                "\n",
                "bst = xgboost.train(plst, Xdatatrain, numround, evals = watchlist, verbose_eval = 10)\n",
                "# ypredxgb_tr = bst.predict(Xdatatrain)"
            ]
        },
        {
            "cell_type": "markdown",
            "metadata": {
                "id": "8a6eb851-e8b6-492a-90cb-c642a717b499",
                "focus": false
            },
            "source": [
                "Wow! Finally our model better than constant predictions! Congratulations! Don't hesitate, submit!"
            ]
        },
        {
            "cell_type": "code",
            "execution_count": 95,
            "metadata": {
                "collapsed": false,
                "id": "14e0caf4-6b82-4f8b-83c8-a8def551f7ff",
                "focus": false
            },
            "outputs": [],
            "source": [
                "ss = sample_submission.copy()\n",
                "\n",
                "ss.target = bst.predict(xgboost.DMatrix(test[features]))\n",
                "ss.to_csv('mighty_xgboost.csv', index=False)"
            ]
        },
        {
            "cell_type": "markdown",
            "metadata": {
                "id": "516056be-5189-453c-b7de-5a87c5f76183",
                "focus": false
            },
            "source": [
                "### Strange, but it seems like we got 0.658 instead of 0.649! \n",
                "\n",
                "### What could it be? Perhabs we need to train on all data instead of just 40% of it? Or may be should think over our cross-validation process?"
            ]
        },
        {
            "cell_type": "markdown",
            "metadata": {
                "id": "c746f884-4ab5-4c72-aa92-d16863074590",
                "focus": false
            },
            "source": "### Let's overview now what we just did here:\n1) made cross-validation\n\n2) tried linear models, they didn't work, but we figured out how to tackle this problem\n\n3) tried random forest and almost beat constant benchmark\n\n4) tried xgboost and finally beat constant prediction!\n\n### But there is the last thing you must know before you'll start this challenge by trying to make the most thorough parameter tuning: the data has it's secrets and those who will find them will be generously rewarded...\n\n### now, good luck with it!"
        }
    ],
    "metadata": {
        "kernelspec": {
            "display_name": "Python 2",
            "language": "python",
            "name": "python2"
        },
        "language_info": {
            "codemirror_mode": {
                "name": "ipython",
                "version": 2
            },
            "file_extension": ".py",
            "mimetype": "text/x-python",
            "name": "python",
            "nbconvert_exporter": "python",
            "pygments_lexer": "ipython2",
            "version": "2.7.12"
        }
    },
    "nbformat": 4,
    "nbformat_minor": 1
}