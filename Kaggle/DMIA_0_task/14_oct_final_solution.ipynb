{
 "cells": [
  {
   "cell_type": "markdown",
   "metadata": {},
   "source": [
    "# Import libraries"
   ]
  },
  {
   "cell_type": "code",
   "execution_count": 129,
   "metadata": {
    "collapsed": false
   },
   "outputs": [],
   "source": [
    "import numpy as np # calculations with arrays\n",
    "import pandas as pd # user-friendly DataFrames for data representation\n",
    "import sklearn # machine learning algorithms\n",
    "from sklearn import ensemble, linear_model\n",
    "from sklearn.metrics import log_loss\n",
    "from sklearn import cross_validation\n",
    "from sklearn import grid_search\n",
    "from sklearn.preprocessing import StandardScaler\n",
    "from sklearn.preprocessing import OneHotEncoder\n",
    "from sklearn.feature_extraction import DictVectorizer as DV\n",
    "import xgboost as xgb\n",
    "import matplotlib.pyplot as plt # import plot functions\n",
    "# necessary to plot in jupyter notebook:\n",
    "%matplotlib inline\n",
    "import seaborn as sns # make plots beautiful"
   ]
  },
  {
   "cell_type": "markdown",
   "metadata": {},
   "source": [
    "# Load data"
   ]
  },
  {
   "cell_type": "code",
   "execution_count": 2,
   "metadata": {
    "collapsed": true
   },
   "outputs": [],
   "source": [
    "train = pd.read_csv('train2.csv')\n",
    "test = pd.read_csv('test2.csv')\n",
    "sample_submission = pd.read_csv('sample_submission.csv')"
   ]
  },
  {
   "cell_type": "markdown",
   "metadata": {},
   "source": [
    "# Data"
   ]
  },
  {
   "cell_type": "code",
   "execution_count": 3,
   "metadata": {
    "collapsed": false
   },
   "outputs": [
    {
     "data": {
      "text/html": [
       "<div>\n",
       "<table border=\"1\" class=\"dataframe\">\n",
       "  <thead>\n",
       "    <tr style=\"text-align: right;\">\n",
       "      <th></th>\n",
       "      <th>year</th>\n",
       "      <th>day</th>\n",
       "      <th>team1</th>\n",
       "      <th>team2</th>\n",
       "      <th>score1</th>\n",
       "      <th>score2</th>\n",
       "      <th>target</th>\n",
       "    </tr>\n",
       "  </thead>\n",
       "  <tbody>\n",
       "    <tr>\n",
       "      <th>0</th>\n",
       "      <td>2998</td>\n",
       "      <td>19</td>\n",
       "      <td>317</td>\n",
       "      <td>131</td>\n",
       "      <td>336</td>\n",
       "      <td>278</td>\n",
       "      <td>True</td>\n",
       "    </tr>\n",
       "    <tr>\n",
       "      <th>1</th>\n",
       "      <td>2998</td>\n",
       "      <td>28</td>\n",
       "      <td>61</td>\n",
       "      <td>29</td>\n",
       "      <td>301</td>\n",
       "      <td>259</td>\n",
       "      <td>True</td>\n",
       "    </tr>\n",
       "    <tr>\n",
       "      <th>2</th>\n",
       "      <td>2998</td>\n",
       "      <td>28</td>\n",
       "      <td>110</td>\n",
       "      <td>141</td>\n",
       "      <td>359</td>\n",
       "      <td>267</td>\n",
       "      <td>True</td>\n",
       "    </tr>\n",
       "  </tbody>\n",
       "</table>\n",
       "</div>"
      ],
      "text/plain": [
       "   year  day  team1  team2  score1  score2 target\n",
       "0  2998   19    317    131     336     278   True\n",
       "1  2998   28     61     29     301     259   True\n",
       "2  2998   28    110    141     359     267   True"
      ]
     },
     "execution_count": 3,
     "metadata": {},
     "output_type": "execute_result"
    }
   ],
   "source": [
    "train.head(3)"
   ]
  },
  {
   "cell_type": "code",
   "execution_count": 4,
   "metadata": {
    "collapsed": false
   },
   "outputs": [
    {
     "data": {
      "text/plain": [
       "(101609, 7)"
      ]
     },
     "execution_count": 4,
     "metadata": {},
     "output_type": "execute_result"
    }
   ],
   "source": [
    "train.shape"
   ]
  },
  {
   "cell_type": "code",
   "execution_count": 5,
   "metadata": {
    "collapsed": false
   },
   "outputs": [
    {
     "data": {
      "text/html": [
       "<div>\n",
       "<table border=\"1\" class=\"dataframe\">\n",
       "  <thead>\n",
       "    <tr style=\"text-align: right;\">\n",
       "      <th></th>\n",
       "      <th>Id</th>\n",
       "      <th>year</th>\n",
       "      <th>team1</th>\n",
       "      <th>team2</th>\n",
       "    </tr>\n",
       "  </thead>\n",
       "  <tbody>\n",
       "    <tr>\n",
       "      <th>0</th>\n",
       "      <td>0</td>\n",
       "      <td>3021</td>\n",
       "      <td>363</td>\n",
       "      <td>161</td>\n",
       "    </tr>\n",
       "    <tr>\n",
       "      <th>1</th>\n",
       "      <td>1</td>\n",
       "      <td>3021</td>\n",
       "      <td>286</td>\n",
       "      <td>2</td>\n",
       "    </tr>\n",
       "    <tr>\n",
       "      <th>2</th>\n",
       "      <td>2</td>\n",
       "      <td>3020</td>\n",
       "      <td>232</td>\n",
       "      <td>52</td>\n",
       "    </tr>\n",
       "  </tbody>\n",
       "</table>\n",
       "</div>"
      ],
      "text/plain": [
       "   Id  year  team1  team2\n",
       "0   0  3021    363    161\n",
       "1   1  3021    286      2\n",
       "2   2  3020    232     52"
      ]
     },
     "execution_count": 5,
     "metadata": {},
     "output_type": "execute_result"
    }
   ],
   "source": [
    "test.head(3)"
   ]
  },
  {
   "cell_type": "code",
   "execution_count": 6,
   "metadata": {
    "collapsed": false
   },
   "outputs": [
    {
     "data": {
      "text/html": [
       "<div>\n",
       "<table border=\"1\" class=\"dataframe\">\n",
       "  <thead>\n",
       "    <tr style=\"text-align: right;\">\n",
       "      <th></th>\n",
       "      <th>Id</th>\n",
       "      <th>target</th>\n",
       "    </tr>\n",
       "  </thead>\n",
       "  <tbody>\n",
       "    <tr>\n",
       "      <th>0</th>\n",
       "      <td>0</td>\n",
       "      <td>0.5</td>\n",
       "    </tr>\n",
       "    <tr>\n",
       "      <th>1</th>\n",
       "      <td>1</td>\n",
       "      <td>0.5</td>\n",
       "    </tr>\n",
       "    <tr>\n",
       "      <th>2</th>\n",
       "      <td>2</td>\n",
       "      <td>0.5</td>\n",
       "    </tr>\n",
       "  </tbody>\n",
       "</table>\n",
       "</div>"
      ],
      "text/plain": [
       "   Id  target\n",
       "0   0     0.5\n",
       "1   1     0.5\n",
       "2   2     0.5"
      ]
     },
     "execution_count": 6,
     "metadata": {},
     "output_type": "execute_result"
    }
   ],
   "source": [
    "sample_submission.head(3)"
   ]
  },
  {
   "cell_type": "code",
   "execution_count": 7,
   "metadata": {
    "collapsed": false
   },
   "outputs": [
    {
     "ename": "SyntaxError",
     "evalue": "Missing parentheses in call to 'print' (<ipython-input-7-4fd11fc4112d>, line 1)",
     "output_type": "error",
     "traceback": [
      "\u001b[0;36m  File \u001b[0;32m\"<ipython-input-7-4fd11fc4112d>\"\u001b[0;36m, line \u001b[0;32m1\u001b[0m\n\u001b[0;31m    print 'train.shape = ', train.shape\u001b[0m\n\u001b[0m                         ^\u001b[0m\n\u001b[0;31mSyntaxError\u001b[0m\u001b[0;31m:\u001b[0m Missing parentheses in call to 'print'\n"
     ]
    }
   ],
   "source": [
    "print 'train.shape = ', train.shape\n",
    "print 'test.shape = ', test.shape\n",
    "print 'sample_submission.shape = ', sample_submission.shape"
   ]
  },
  {
   "cell_type": "markdown",
   "metadata": {},
   "source": [
    "# Work with categorical features"
   ]
  },
  {
   "cell_type": "markdown",
   "metadata": {},
   "source": [
    "# Make dataset for cross-vallidation using One-Hot-Encoding"
   ]
  },
  {
   "cell_type": "code",
   "execution_count": 8,
   "metadata": {
    "collapsed": false
   },
   "outputs": [],
   "source": [
    "enc = OneHotEncoder(sparse=False)"
   ]
  },
  {
   "cell_type": "code",
   "execution_count": 9,
   "metadata": {
    "collapsed": false
   },
   "outputs": [],
   "source": [
    "train_team1 = pd.DataFrame(enc.fit_transform(train[['team1']]))"
   ]
  },
  {
   "cell_type": "code",
   "execution_count": 10,
   "metadata": {
    "collapsed": false
   },
   "outputs": [
    {
     "ename": "SyntaxError",
     "evalue": "Missing parentheses in call to 'print' (<ipython-input-10-420bd4dd2b48>, line 1)",
     "output_type": "error",
     "traceback": [
      "\u001b[0;36m  File \u001b[0;32m\"<ipython-input-10-420bd4dd2b48>\"\u001b[0;36m, line \u001b[0;32m1\u001b[0m\n\u001b[0;31m    print 'train_team1.shape = ', train_team1.shape\u001b[0m\n\u001b[0m                               ^\u001b[0m\n\u001b[0;31mSyntaxError\u001b[0m\u001b[0;31m:\u001b[0m Missing parentheses in call to 'print'\n"
     ]
    }
   ],
   "source": [
    "print 'train_team1.shape = ', train_team1.shape"
   ]
  },
  {
   "cell_type": "code",
   "execution_count": 11,
   "metadata": {
    "collapsed": true
   },
   "outputs": [],
   "source": [
    "train_team2 = pd.DataFrame(enc.transform(train[['team2']]))"
   ]
  },
  {
   "cell_type": "code",
   "execution_count": 12,
   "metadata": {
    "collapsed": false
   },
   "outputs": [
    {
     "ename": "SyntaxError",
     "evalue": "Missing parentheses in call to 'print' (<ipython-input-12-220f88f414c6>, line 1)",
     "output_type": "error",
     "traceback": [
      "\u001b[0;36m  File \u001b[0;32m\"<ipython-input-12-220f88f414c6>\"\u001b[0;36m, line \u001b[0;32m1\u001b[0m\n\u001b[0;31m    print 'train_team2.shape = ', train_team2.shape\u001b[0m\n\u001b[0m                               ^\u001b[0m\n\u001b[0;31mSyntaxError\u001b[0m\u001b[0;31m:\u001b[0m Missing parentheses in call to 'print'\n"
     ]
    }
   ],
   "source": [
    "print 'train_team2.shape = ', train_team2.shape"
   ]
  },
  {
   "cell_type": "code",
   "execution_count": 13,
   "metadata": {
    "collapsed": false
   },
   "outputs": [],
   "source": [
    "train_teams = pd.concat([train_team1, train_team2], axis=1)"
   ]
  },
  {
   "cell_type": "code",
   "execution_count": 14,
   "metadata": {
    "collapsed": false
   },
   "outputs": [
    {
     "ename": "SyntaxError",
     "evalue": "Missing parentheses in call to 'print' (<ipython-input-14-86ee706d0bfd>, line 1)",
     "output_type": "error",
     "traceback": [
      "\u001b[0;36m  File \u001b[0;32m\"<ipython-input-14-86ee706d0bfd>\"\u001b[0;36m, line \u001b[0;32m1\u001b[0m\n\u001b[0;31m    print 'train_team1 + train_team2 = ', train_teams.shape\u001b[0m\n\u001b[0m                                       ^\u001b[0m\n\u001b[0;31mSyntaxError\u001b[0m\u001b[0;31m:\u001b[0m Missing parentheses in call to 'print'\n"
     ]
    }
   ],
   "source": [
    "print 'train_team1 + train_team2 = ', train_teams.shape"
   ]
  },
  {
   "cell_type": "code",
   "execution_count": null,
   "metadata": {
    "collapsed": false
   },
   "outputs": [],
   "source": [
    "test_team1 = pd.DataFrame(enc.transform(test[['team1']]))"
   ]
  },
  {
   "cell_type": "code",
   "execution_count": null,
   "metadata": {
    "collapsed": false
   },
   "outputs": [],
   "source": [
    "print 'test_team1 = ', test_team1.shape"
   ]
  },
  {
   "cell_type": "code",
   "execution_count": 15,
   "metadata": {
    "collapsed": true
   },
   "outputs": [],
   "source": [
    "test_team2 = pd.DataFrame(enc.transform(test[['team2']]))"
   ]
  },
  {
   "cell_type": "code",
   "execution_count": 16,
   "metadata": {
    "collapsed": false
   },
   "outputs": [
    {
     "ename": "SyntaxError",
     "evalue": "Missing parentheses in call to 'print' (<ipython-input-16-0f3922acb5e1>, line 1)",
     "output_type": "error",
     "traceback": [
      "\u001b[0;36m  File \u001b[0;32m\"<ipython-input-16-0f3922acb5e1>\"\u001b[0;36m, line \u001b[0;32m1\u001b[0m\n\u001b[0;31m    print 'test_team2 = ', test_team2.shape\u001b[0m\n\u001b[0m                        ^\u001b[0m\n\u001b[0;31mSyntaxError\u001b[0m\u001b[0;31m:\u001b[0m Missing parentheses in call to 'print'\n"
     ]
    }
   ],
   "source": [
    "print 'test_team2 = ', test_team2.shape"
   ]
  },
  {
   "cell_type": "code",
   "execution_count": 17,
   "metadata": {
    "collapsed": false
   },
   "outputs": [
    {
     "ename": "NameError",
     "evalue": "name 'test_team1' is not defined",
     "output_type": "error",
     "traceback": [
      "\u001b[0;31m---------------------------------------------------------------------------\u001b[0m",
      "\u001b[0;31mNameError\u001b[0m                                 Traceback (most recent call last)",
      "\u001b[0;32m<ipython-input-17-16930b1829ff>\u001b[0m in \u001b[0;36m<module>\u001b[0;34m()\u001b[0m\n\u001b[0;32m----> 1\u001b[0;31m \u001b[0mtest_teams\u001b[0m \u001b[0;34m=\u001b[0m \u001b[0mpd\u001b[0m\u001b[0;34m.\u001b[0m\u001b[0mconcat\u001b[0m\u001b[0;34m(\u001b[0m\u001b[0;34m[\u001b[0m\u001b[0mtest_team1\u001b[0m\u001b[0;34m,\u001b[0m \u001b[0mtest_team2\u001b[0m\u001b[0;34m]\u001b[0m\u001b[0;34m,\u001b[0m \u001b[0maxis\u001b[0m\u001b[0;34m=\u001b[0m\u001b[0;36m1\u001b[0m\u001b[0;34m)\u001b[0m\u001b[0;34m\u001b[0m\u001b[0m\n\u001b[0m",
      "\u001b[0;31mNameError\u001b[0m: name 'test_team1' is not defined"
     ]
    }
   ],
   "source": [
    "test_teams = pd.concat([test_team1, test_team2], axis=1)"
   ]
  },
  {
   "cell_type": "code",
   "execution_count": 18,
   "metadata": {
    "collapsed": false
   },
   "outputs": [
    {
     "ename": "SyntaxError",
     "evalue": "Missing parentheses in call to 'print' (<ipython-input-18-23466d088f6b>, line 1)",
     "output_type": "error",
     "traceback": [
      "\u001b[0;36m  File \u001b[0;32m\"<ipython-input-18-23466d088f6b>\"\u001b[0;36m, line \u001b[0;32m1\u001b[0m\n\u001b[0;31m    print 'test_teams.shape = ', test_teams.shape\u001b[0m\n\u001b[0m                              ^\u001b[0m\n\u001b[0;31mSyntaxError\u001b[0m\u001b[0;31m:\u001b[0m Missing parentheses in call to 'print'\n"
     ]
    }
   ],
   "source": [
    "print 'test_teams.shape = ', test_teams.shape"
   ]
  },
  {
   "cell_type": "markdown",
   "metadata": {},
   "source": [
    "# Feature engenering"
   ]
  },
  {
   "cell_type": "markdown",
   "metadata": {},
   "source": [
    "### Добавили среднее число очков: для команды team1 – среднее количество очков, набранных дома; для команды team2 – среднее количество очков, набранных в гостях"
   ]
  },
  {
   "cell_type": "code",
   "execution_count": 21,
   "metadata": {
    "collapsed": true
   },
   "outputs": [],
   "source": [
    "df_train = train\n",
    "df_test = test"
   ]
  },
  {
   "cell_type": "code",
   "execution_count": 22,
   "metadata": {
    "collapsed": true
   },
   "outputs": [],
   "source": [
    "means_score = {}\n",
    "for index_team in list(df_train.team1.unique()):\n",
    "    df_for_team1 = df_train[df_train['team1'] == index_team]\n",
    "    df_for_team2 = df_train[df_train['team2'] == index_team]\n",
    "    means_score[index_team] = [int(df_for_team1.score1.mean()), int(df_for_team2.score2.mean())]\n",
    "#print(means_score)\n",
    "#for c in means_score:\n",
    "#    print(means_score[c])"
   ]
  },
  {
   "cell_type": "code",
   "execution_count": 23,
   "metadata": {
    "collapsed": true
   },
   "outputs": [],
   "source": [
    "teams_not_train = []\n",
    "for index_team in list(df_test.team1.unique()):\n",
    "    if index_team not in list(df_train.team1.unique()):\n",
    "        teams_not_train.append(index_team)\n",
    "for index_team in list(df_test.team2.unique()):\n",
    "    if index_team not in list(df_train.team1.unique()):\n",
    "        teams_not_train.append(index_team)"
   ]
  },
  {
   "cell_type": "code",
   "execution_count": 24,
   "metadata": {
    "collapsed": true
   },
   "outputs": [],
   "source": [
    "for index_team in teams_not_train:\n",
    "    means_score[index_team] = [df_train.score1.mean(), df_train.score2.mean()]"
   ]
  },
  {
   "cell_type": "code",
   "execution_count": 25,
   "metadata": {
    "collapsed": true
   },
   "outputs": [],
   "source": [
    "features_to_concat_train = []\n",
    "for year, day, team1, team2, _, __, ___ in df_train.values:\n",
    "    features_to_concat_train.append([means_score[team1][0], means_score[team2][1]])\n",
    "features_to_concat_test = []\n",
    "for Id, year, team1, team2 in df_test.values:\n",
    "    features_to_concat_test.append([means_score[team1][0], means_score[team2][1]])"
   ]
  },
  {
   "cell_type": "code",
   "execution_count": 26,
   "metadata": {
    "collapsed": true
   },
   "outputs": [],
   "source": [
    "df_feature_to_concat_train = pd.DataFrame(data=features_to_concat_train, columns=['mean_home_score', 'mean_away_score'])"
   ]
  },
  {
   "cell_type": "code",
   "execution_count": 27,
   "metadata": {
    "collapsed": true
   },
   "outputs": [],
   "source": [
    "df_feature_to_concat_test = pd.DataFrame(data=features_to_concat_test, columns=['mean_home_score', 'mean_away_score'])"
   ]
  },
  {
   "cell_type": "markdown",
   "metadata": {},
   "source": [
    "### Добавляем процент побед: для team1 – процент побед дома; для team2 – процент побед в гостях"
   ]
  },
  {
   "cell_type": "code",
   "execution_count": 28,
   "metadata": {
    "collapsed": false
   },
   "outputs": [],
   "source": [
    "percentage_wins = {}\n",
    "for index_team in list(df_train.team1.unique()):\n",
    "    df_for_team_home = df_train[df_train['team1'] == index_team]\n",
    "    df_for_team_away = df_train[df_train['team2'] == index_team]\n",
    "    percentage_wins[index_team] = [df_for_team_home.target.mean(), 1 - df_for_team_away.target.mean()]"
   ]
  },
  {
   "cell_type": "code",
   "execution_count": 29,
   "metadata": {
    "collapsed": false
   },
   "outputs": [],
   "source": [
    "for index_team in teams_not_train:\n",
    "    percentage_wins[index_team] = [df_train.target.mean(), 1 - df_train.target.mean()]"
   ]
  },
  {
   "cell_type": "code",
   "execution_count": 30,
   "metadata": {
    "collapsed": true
   },
   "outputs": [],
   "source": [
    "percentage_of_wins_train = []\n",
    "for year, day, team1, team2, _, __, ___ in df_train.values:\n",
    "    percentage_of_wins_train.append([percentage_wins[team1][0], percentage_wins[team2][1]])\n",
    "percentage_of_wins_test = []\n",
    "for Id, year, team1, team2 in df_test.values:\n",
    "    percentage_of_wins_test.append([percentage_wins[team1][0], percentage_wins[team2][1]])"
   ]
  },
  {
   "cell_type": "code",
   "execution_count": 31,
   "metadata": {
    "collapsed": true
   },
   "outputs": [],
   "source": [
    "df_percentage_of_wins_train = pd.DataFrame(data=percentage_of_wins_train, columns=['percentage_wins_home', 'percentage_wins_away'])"
   ]
  },
  {
   "cell_type": "code",
   "execution_count": 32,
   "metadata": {
    "collapsed": true
   },
   "outputs": [],
   "source": [
    "df_percentage_of_wins_test = pd.DataFrame(data=percentage_of_wins_test, columns=['percentage_wins_home', 'percentage_wins_away'])"
   ]
  },
  {
   "cell_type": "code",
   "execution_count": null,
   "metadata": {
    "collapsed": true
   },
   "outputs": [],
   "source": []
  },
  {
   "cell_type": "markdown",
   "metadata": {
    "collapsed": true
   },
   "source": [
    "   # Make X_train, X_test, y_train, y_test"
   ]
  },
  {
   "cell_type": "markdown",
   "metadata": {},
   "source": [
    "### Делаем X_train"
   ]
  },
  {
   "cell_type": "code",
   "execution_count": 33,
   "metadata": {
    "collapsed": false
   },
   "outputs": [],
   "source": [
    "X_train_all_feat = pd.concat([train, df_feature_to_concat_train, df_percentage_of_wins_train], axis=1)"
   ]
  },
  {
   "cell_type": "code",
   "execution_count": 34,
   "metadata": {
    "collapsed": false
   },
   "outputs": [
    {
     "name": "stdout",
     "output_type": "stream",
     "text": [
      "X_train_all_feat.shape =  (101609, 11)\n"
     ]
    }
   ],
   "source": [
    "print 'X_train_all_feat.shape = ', X_train_all_feat.shape"
   ]
  },
  {
   "cell_type": "code",
   "execution_count": 34,
   "metadata": {
    "collapsed": false
   },
   "outputs": [
    {
     "data": {
      "text/html": [
       "<div>\n",
       "<table border=\"1\" class=\"dataframe\">\n",
       "  <thead>\n",
       "    <tr style=\"text-align: right;\">\n",
       "      <th></th>\n",
       "      <th>year</th>\n",
       "      <th>day</th>\n",
       "      <th>team1</th>\n",
       "      <th>team2</th>\n",
       "      <th>score1</th>\n",
       "      <th>score2</th>\n",
       "      <th>target</th>\n",
       "      <th>mean_home_score</th>\n",
       "      <th>mean_away_score</th>\n",
       "      <th>percentage_wins_home</th>\n",
       "      <th>percentage_wins_away</th>\n",
       "    </tr>\n",
       "  </thead>\n",
       "  <tbody>\n",
       "    <tr>\n",
       "      <th>0</th>\n",
       "      <td>2998</td>\n",
       "      <td>19</td>\n",
       "      <td>317</td>\n",
       "      <td>131</td>\n",
       "      <td>336</td>\n",
       "      <td>278</td>\n",
       "      <td>True</td>\n",
       "      <td>289</td>\n",
       "      <td>285</td>\n",
       "      <td>0.688073</td>\n",
       "      <td>0.640118</td>\n",
       "    </tr>\n",
       "    <tr>\n",
       "      <th>1</th>\n",
       "      <td>2998</td>\n",
       "      <td>28</td>\n",
       "      <td>61</td>\n",
       "      <td>29</td>\n",
       "      <td>301</td>\n",
       "      <td>259</td>\n",
       "      <td>True</td>\n",
       "      <td>273</td>\n",
       "      <td>276</td>\n",
       "      <td>0.503333</td>\n",
       "      <td>0.556962</td>\n",
       "    </tr>\n",
       "  </tbody>\n",
       "</table>\n",
       "</div>"
      ],
      "text/plain": [
       "   year  day  team1  team2  score1  score2 target  mean_home_score  \\\n",
       "0  2998   19    317    131     336     278   True              289   \n",
       "1  2998   28     61     29     301     259   True              273   \n",
       "\n",
       "   mean_away_score  percentage_wins_home  percentage_wins_away  \n",
       "0              285              0.688073              0.640118  \n",
       "1              276              0.503333              0.556962  "
      ]
     },
     "execution_count": 34,
     "metadata": {},
     "output_type": "execute_result"
    }
   ],
   "source": [
    "X_train_all_feat.head(2)"
   ]
  },
  {
   "cell_type": "code",
   "execution_count": 35,
   "metadata": {
    "collapsed": true
   },
   "outputs": [],
   "source": [
    "y_train =  X_train_all_feat[['target']]"
   ]
  },
  {
   "cell_type": "code",
   "execution_count": 36,
   "metadata": {
    "collapsed": true
   },
   "outputs": [],
   "source": [
    "X_train_not_scaled = X_train_all_feat.drop(['day', 'team1', 'team2','score1', 'score2', 'target'], axis=1)"
   ]
  },
  {
   "cell_type": "code",
   "execution_count": 37,
   "metadata": {
    "collapsed": false
   },
   "outputs": [
    {
     "data": {
      "text/html": [
       "<div>\n",
       "<table border=\"1\" class=\"dataframe\">\n",
       "  <thead>\n",
       "    <tr style=\"text-align: right;\">\n",
       "      <th></th>\n",
       "      <th>year</th>\n",
       "      <th>mean_home_score</th>\n",
       "      <th>mean_away_score</th>\n",
       "      <th>percentage_wins_home</th>\n",
       "      <th>percentage_wins_away</th>\n",
       "    </tr>\n",
       "  </thead>\n",
       "  <tbody>\n",
       "    <tr>\n",
       "      <th>0</th>\n",
       "      <td>2998</td>\n",
       "      <td>289</td>\n",
       "      <td>285</td>\n",
       "      <td>0.688073</td>\n",
       "      <td>0.640118</td>\n",
       "    </tr>\n",
       "    <tr>\n",
       "      <th>1</th>\n",
       "      <td>2998</td>\n",
       "      <td>273</td>\n",
       "      <td>276</td>\n",
       "      <td>0.503333</td>\n",
       "      <td>0.556962</td>\n",
       "    </tr>\n",
       "  </tbody>\n",
       "</table>\n",
       "</div>"
      ],
      "text/plain": [
       "   year  mean_home_score  mean_away_score  percentage_wins_home  \\\n",
       "0  2998              289              285              0.688073   \n",
       "1  2998              273              276              0.503333   \n",
       "\n",
       "   percentage_wins_away  \n",
       "0              0.640118  \n",
       "1              0.556962  "
      ]
     },
     "execution_count": 37,
     "metadata": {},
     "output_type": "execute_result"
    }
   ],
   "source": [
    "X_train_not_scaled.head(2)"
   ]
  },
  {
   "cell_type": "code",
   "execution_count": 38,
   "metadata": {
    "collapsed": true
   },
   "outputs": [],
   "source": [
    "X_train_years = X_train_not_scaled.drop(['mean_home_score','mean_away_score','percentage_wins_home','percentage_wins_home','percentage_wins_away'], axis = 1)"
   ]
  },
  {
   "cell_type": "code",
   "execution_count": 39,
   "metadata": {
    "collapsed": false
   },
   "outputs": [
    {
     "data": {
      "text/html": [
       "<div>\n",
       "<table border=\"1\" class=\"dataframe\">\n",
       "  <thead>\n",
       "    <tr style=\"text-align: right;\">\n",
       "      <th></th>\n",
       "      <th>year</th>\n",
       "    </tr>\n",
       "  </thead>\n",
       "  <tbody>\n",
       "    <tr>\n",
       "      <th>0</th>\n",
       "      <td>2998</td>\n",
       "    </tr>\n",
       "    <tr>\n",
       "      <th>1</th>\n",
       "      <td>2998</td>\n",
       "    </tr>\n",
       "  </tbody>\n",
       "</table>\n",
       "</div>"
      ],
      "text/plain": [
       "   year\n",
       "0  2998\n",
       "1  2998"
      ]
     },
     "execution_count": 39,
     "metadata": {},
     "output_type": "execute_result"
    }
   ],
   "source": [
    "X_train_years.head(2)"
   ]
  },
  {
   "cell_type": "code",
   "execution_count": 40,
   "metadata": {
    "collapsed": false
   },
   "outputs": [
    {
     "ename": "SyntaxError",
     "evalue": "Missing parentheses in call to 'print' (<ipython-input-40-fdab9f5dd08e>, line 1)",
     "output_type": "error",
     "traceback": [
      "\u001b[0;36m  File \u001b[0;32m\"<ipython-input-40-fdab9f5dd08e>\"\u001b[0;36m, line \u001b[0;32m1\u001b[0m\n\u001b[0;31m    print 'y_train.shape = ', y_train.shape\u001b[0m\n\u001b[0m                           ^\u001b[0m\n\u001b[0;31mSyntaxError\u001b[0m\u001b[0;31m:\u001b[0m Missing parentheses in call to 'print'\n"
     ]
    }
   ],
   "source": [
    "print 'y_train.shape = ', y_train.shape"
   ]
  },
  {
   "cell_type": "code",
   "execution_count": 41,
   "metadata": {
    "collapsed": true
   },
   "outputs": [],
   "source": [
    "X_test_all_feat = pd.concat([test, df_feature_to_concat_test, df_percentage_of_wins_test], axis=1)"
   ]
  },
  {
   "cell_type": "code",
   "execution_count": 42,
   "metadata": {
    "collapsed": false
   },
   "outputs": [
    {
     "data": {
      "text/plain": [
       "(125207, 8)"
      ]
     },
     "execution_count": 42,
     "metadata": {},
     "output_type": "execute_result"
    }
   ],
   "source": [
    "X_test_all_feat.shape"
   ]
  },
  {
   "cell_type": "code",
   "execution_count": 43,
   "metadata": {
    "collapsed": false
   },
   "outputs": [
    {
     "data": {
      "text/html": [
       "<div>\n",
       "<table border=\"1\" class=\"dataframe\">\n",
       "  <thead>\n",
       "    <tr style=\"text-align: right;\">\n",
       "      <th></th>\n",
       "      <th>Id</th>\n",
       "      <th>year</th>\n",
       "      <th>team1</th>\n",
       "      <th>team2</th>\n",
       "      <th>mean_home_score</th>\n",
       "      <th>mean_away_score</th>\n",
       "      <th>percentage_wins_home</th>\n",
       "      <th>percentage_wins_away</th>\n",
       "    </tr>\n",
       "  </thead>\n",
       "  <tbody>\n",
       "    <tr>\n",
       "      <th>0</th>\n",
       "      <td>0</td>\n",
       "      <td>3021</td>\n",
       "      <td>363</td>\n",
       "      <td>161</td>\n",
       "      <td>250.0</td>\n",
       "      <td>278.0</td>\n",
       "      <td>0.428571</td>\n",
       "      <td>0.535826</td>\n",
       "    </tr>\n",
       "    <tr>\n",
       "      <th>1</th>\n",
       "      <td>1</td>\n",
       "      <td>3021</td>\n",
       "      <td>286</td>\n",
       "      <td>2</td>\n",
       "      <td>271.0</td>\n",
       "      <td>242.0</td>\n",
       "      <td>0.593567</td>\n",
       "      <td>0.394464</td>\n",
       "    </tr>\n",
       "  </tbody>\n",
       "</table>\n",
       "</div>"
      ],
      "text/plain": [
       "   Id  year  team1  team2  mean_home_score  mean_away_score  \\\n",
       "0   0  3021    363    161            250.0            278.0   \n",
       "1   1  3021    286      2            271.0            242.0   \n",
       "\n",
       "   percentage_wins_home  percentage_wins_away  \n",
       "0              0.428571              0.535826  \n",
       "1              0.593567              0.394464  "
      ]
     },
     "execution_count": 43,
     "metadata": {},
     "output_type": "execute_result"
    }
   ],
   "source": [
    "X_test_all_feat.head(2)"
   ]
  },
  {
   "cell_type": "code",
   "execution_count": 44,
   "metadata": {
    "collapsed": false
   },
   "outputs": [],
   "source": [
    "X_test_not_scaled = X_test_all_feat.drop(['Id', 'team1', 'team2'], axis=1)"
   ]
  },
  {
   "cell_type": "code",
   "execution_count": 45,
   "metadata": {
    "collapsed": false
   },
   "outputs": [
    {
     "data": {
      "text/html": [
       "<div>\n",
       "<table border=\"1\" class=\"dataframe\">\n",
       "  <thead>\n",
       "    <tr style=\"text-align: right;\">\n",
       "      <th></th>\n",
       "      <th>year</th>\n",
       "      <th>mean_home_score</th>\n",
       "      <th>mean_away_score</th>\n",
       "      <th>percentage_wins_home</th>\n",
       "      <th>percentage_wins_away</th>\n",
       "    </tr>\n",
       "  </thead>\n",
       "  <tbody>\n",
       "    <tr>\n",
       "      <th>0</th>\n",
       "      <td>3021</td>\n",
       "      <td>250.0</td>\n",
       "      <td>278.0</td>\n",
       "      <td>0.428571</td>\n",
       "      <td>0.535826</td>\n",
       "    </tr>\n",
       "    <tr>\n",
       "      <th>1</th>\n",
       "      <td>3021</td>\n",
       "      <td>271.0</td>\n",
       "      <td>242.0</td>\n",
       "      <td>0.593567</td>\n",
       "      <td>0.394464</td>\n",
       "    </tr>\n",
       "  </tbody>\n",
       "</table>\n",
       "</div>"
      ],
      "text/plain": [
       "   year  mean_home_score  mean_away_score  percentage_wins_home  \\\n",
       "0  3021            250.0            278.0              0.428571   \n",
       "1  3021            271.0            242.0              0.593567   \n",
       "\n",
       "   percentage_wins_away  \n",
       "0              0.535826  \n",
       "1              0.394464  "
      ]
     },
     "execution_count": 45,
     "metadata": {},
     "output_type": "execute_result"
    }
   ],
   "source": [
    "X_test_not_scaled.head(2)"
   ]
  },
  {
   "cell_type": "code",
   "execution_count": null,
   "metadata": {
    "collapsed": true
   },
   "outputs": [],
   "source": []
  },
  {
   "cell_type": "code",
   "execution_count": null,
   "metadata": {
    "collapsed": true
   },
   "outputs": [],
   "source": []
  },
  {
   "cell_type": "code",
   "execution_count": null,
   "metadata": {
    "collapsed": true
   },
   "outputs": [],
   "source": []
  },
  {
   "cell_type": "code",
   "execution_count": null,
   "metadata": {
    "collapsed": true
   },
   "outputs": [],
   "source": []
  },
  {
   "cell_type": "code",
   "execution_count": 46,
   "metadata": {
    "collapsed": true
   },
   "outputs": [],
   "source": [
    "X_train = pd.concat([X_train_years, train_teams], axis=1)"
   ]
  },
  {
   "cell_type": "code",
   "execution_count": 65,
   "metadata": {
    "collapsed": false
   },
   "outputs": [
    {
     "name": "stdout",
     "output_type": "stream",
     "text": [
      "X_train.shape =  (101609, 707)\n"
     ]
    }
   ],
   "source": [
    "print 'X_train.shape = ', X_train.shape"
   ]
  },
  {
   "cell_type": "code",
   "execution_count": 47,
   "metadata": {
    "collapsed": false
   },
   "outputs": [
    {
     "data": {
      "text/html": [
       "<div>\n",
       "<table border=\"1\" class=\"dataframe\">\n",
       "  <thead>\n",
       "    <tr style=\"text-align: right;\">\n",
       "      <th></th>\n",
       "      <th>year</th>\n",
       "      <th>0</th>\n",
       "      <th>1</th>\n",
       "      <th>2</th>\n",
       "      <th>3</th>\n",
       "      <th>4</th>\n",
       "      <th>5</th>\n",
       "      <th>6</th>\n",
       "      <th>7</th>\n",
       "      <th>8</th>\n",
       "      <th>...</th>\n",
       "      <th>343</th>\n",
       "      <th>344</th>\n",
       "      <th>345</th>\n",
       "      <th>346</th>\n",
       "      <th>347</th>\n",
       "      <th>348</th>\n",
       "      <th>349</th>\n",
       "      <th>350</th>\n",
       "      <th>351</th>\n",
       "      <th>352</th>\n",
       "    </tr>\n",
       "  </thead>\n",
       "  <tbody>\n",
       "    <tr>\n",
       "      <th>0</th>\n",
       "      <td>2998</td>\n",
       "      <td>0.0</td>\n",
       "      <td>0.0</td>\n",
       "      <td>0.0</td>\n",
       "      <td>0.0</td>\n",
       "      <td>0.0</td>\n",
       "      <td>0.0</td>\n",
       "      <td>0.0</td>\n",
       "      <td>0.0</td>\n",
       "      <td>0.0</td>\n",
       "      <td>...</td>\n",
       "      <td>0.0</td>\n",
       "      <td>0.0</td>\n",
       "      <td>0.0</td>\n",
       "      <td>0.0</td>\n",
       "      <td>0.0</td>\n",
       "      <td>0.0</td>\n",
       "      <td>0.0</td>\n",
       "      <td>0.0</td>\n",
       "      <td>0.0</td>\n",
       "      <td>0.0</td>\n",
       "    </tr>\n",
       "    <tr>\n",
       "      <th>1</th>\n",
       "      <td>2998</td>\n",
       "      <td>0.0</td>\n",
       "      <td>0.0</td>\n",
       "      <td>0.0</td>\n",
       "      <td>0.0</td>\n",
       "      <td>0.0</td>\n",
       "      <td>0.0</td>\n",
       "      <td>0.0</td>\n",
       "      <td>0.0</td>\n",
       "      <td>0.0</td>\n",
       "      <td>...</td>\n",
       "      <td>0.0</td>\n",
       "      <td>0.0</td>\n",
       "      <td>0.0</td>\n",
       "      <td>0.0</td>\n",
       "      <td>0.0</td>\n",
       "      <td>0.0</td>\n",
       "      <td>0.0</td>\n",
       "      <td>0.0</td>\n",
       "      <td>0.0</td>\n",
       "      <td>0.0</td>\n",
       "    </tr>\n",
       "  </tbody>\n",
       "</table>\n",
       "<p>2 rows × 707 columns</p>\n",
       "</div>"
      ],
      "text/plain": [
       "   year    0    1    2    3    4    5    6    7    8 ...   343  344  345  346  \\\n",
       "0  2998  0.0  0.0  0.0  0.0  0.0  0.0  0.0  0.0  0.0 ...   0.0  0.0  0.0  0.0   \n",
       "1  2998  0.0  0.0  0.0  0.0  0.0  0.0  0.0  0.0  0.0 ...   0.0  0.0  0.0  0.0   \n",
       "\n",
       "   347  348  349  350  351  352  \n",
       "0  0.0  0.0  0.0  0.0  0.0  0.0  \n",
       "1  0.0  0.0  0.0  0.0  0.0  0.0  \n",
       "\n",
       "[2 rows x 707 columns]"
      ]
     },
     "execution_count": 47,
     "metadata": {},
     "output_type": "execute_result"
    }
   ],
   "source": [
    "X_train.head(2)"
   ]
  },
  {
   "cell_type": "code",
   "execution_count": null,
   "metadata": {
    "collapsed": true
   },
   "outputs": [],
   "source": []
  },
  {
   "cell_type": "code",
   "execution_count": 48,
   "metadata": {
    "collapsed": false
   },
   "outputs": [
    {
     "data": {
      "text/html": [
       "<div>\n",
       "<table border=\"1\" class=\"dataframe\">\n",
       "  <thead>\n",
       "    <tr style=\"text-align: right;\">\n",
       "      <th></th>\n",
       "      <th>Id</th>\n",
       "      <th>year</th>\n",
       "      <th>team1</th>\n",
       "      <th>team2</th>\n",
       "    </tr>\n",
       "  </thead>\n",
       "  <tbody>\n",
       "    <tr>\n",
       "      <th>0</th>\n",
       "      <td>0</td>\n",
       "      <td>3021</td>\n",
       "      <td>363</td>\n",
       "      <td>161</td>\n",
       "    </tr>\n",
       "    <tr>\n",
       "      <th>1</th>\n",
       "      <td>1</td>\n",
       "      <td>3021</td>\n",
       "      <td>286</td>\n",
       "      <td>2</td>\n",
       "    </tr>\n",
       "  </tbody>\n",
       "</table>\n",
       "</div>"
      ],
      "text/plain": [
       "   Id  year  team1  team2\n",
       "0   0  3021    363    161\n",
       "1   1  3021    286      2"
      ]
     },
     "execution_count": 48,
     "metadata": {},
     "output_type": "execute_result"
    }
   ],
   "source": [
    "test.head(2)"
   ]
  },
  {
   "cell_type": "code",
   "execution_count": 49,
   "metadata": {
    "collapsed": true
   },
   "outputs": [],
   "source": [
    "X_test_without_teams = test.drop(['team1','team2','Id'], axis=1)"
   ]
  },
  {
   "cell_type": "code",
   "execution_count": 50,
   "metadata": {
    "collapsed": false
   },
   "outputs": [
    {
     "ename": "NameError",
     "evalue": "name 'test_teams' is not defined",
     "output_type": "error",
     "traceback": [
      "\u001b[0;31m---------------------------------------------------------------------------\u001b[0m",
      "\u001b[0;31mNameError\u001b[0m                                 Traceback (most recent call last)",
      "\u001b[0;32m<ipython-input-50-ba0c7dd8809e>\u001b[0m in \u001b[0;36m<module>\u001b[0;34m()\u001b[0m\n\u001b[0;32m----> 1\u001b[0;31m \u001b[0mX_test\u001b[0m \u001b[0;34m=\u001b[0m \u001b[0mpd\u001b[0m\u001b[0;34m.\u001b[0m\u001b[0mconcat\u001b[0m\u001b[0;34m(\u001b[0m\u001b[0;34m[\u001b[0m\u001b[0mX_test_without_teams\u001b[0m\u001b[0;34m,\u001b[0m \u001b[0mtest_teams\u001b[0m\u001b[0;34m]\u001b[0m\u001b[0;34m,\u001b[0m \u001b[0maxis\u001b[0m\u001b[0;34m=\u001b[0m\u001b[0;36m1\u001b[0m\u001b[0;34m)\u001b[0m\u001b[0;34m\u001b[0m\u001b[0m\n\u001b[0m",
      "\u001b[0;31mNameError\u001b[0m: name 'test_teams' is not defined"
     ]
    }
   ],
   "source": [
    "X_test = pd.concat([X_test_without_teams, test_teams], axis=1)"
   ]
  },
  {
   "cell_type": "code",
   "execution_count": 70,
   "metadata": {
    "collapsed": false
   },
   "outputs": [
    {
     "name": "stdout",
     "output_type": "stream",
     "text": [
      "X_test.shape =  (125207, 707)\n"
     ]
    }
   ],
   "source": [
    "print 'X_test.shape = ', X_test.shape"
   ]
  },
  {
   "cell_type": "code",
   "execution_count": 51,
   "metadata": {
    "collapsed": false
   },
   "outputs": [
    {
     "ename": "NameError",
     "evalue": "name 'X_test_year' is not defined",
     "output_type": "error",
     "traceback": [
      "\u001b[0;31m---------------------------------------------------------------------------\u001b[0m",
      "\u001b[0;31mNameError\u001b[0m                                 Traceback (most recent call last)",
      "\u001b[0;32m<ipython-input-51-cf8260a7dc79>\u001b[0m in \u001b[0;36m<module>\u001b[0;34m()\u001b[0m\n\u001b[0;32m----> 1\u001b[0;31m \u001b[0mX_test_year\u001b[0m\u001b[0;34m.\u001b[0m\u001b[0mhead\u001b[0m\u001b[0;34m(\u001b[0m\u001b[0;36m3\u001b[0m\u001b[0;34m)\u001b[0m\u001b[0;34m\u001b[0m\u001b[0m\n\u001b[0m",
      "\u001b[0;31mNameError\u001b[0m: name 'X_test_year' is not defined"
     ]
    }
   ],
   "source": [
    "X_test_year.head(3)"
   ]
  },
  {
   "cell_type": "code",
   "execution_count": 52,
   "metadata": {
    "collapsed": false
   },
   "outputs": [
    {
     "ename": "NameError",
     "evalue": "name 'X_test' is not defined",
     "output_type": "error",
     "traceback": [
      "\u001b[0;31m---------------------------------------------------------------------------\u001b[0m",
      "\u001b[0;31mNameError\u001b[0m                                 Traceback (most recent call last)",
      "\u001b[0;32m<ipython-input-52-ce05b65fbaf0>\u001b[0m in \u001b[0;36m<module>\u001b[0;34m()\u001b[0m\n\u001b[0;32m----> 1\u001b[0;31m \u001b[0mX_test\u001b[0m\u001b[0;34m.\u001b[0m\u001b[0mshape\u001b[0m\u001b[0;34m\u001b[0m\u001b[0m\n\u001b[0m",
      "\u001b[0;31mNameError\u001b[0m: name 'X_test' is not defined"
     ]
    }
   ],
   "source": [
    "X_test.shape"
   ]
  },
  {
   "cell_type": "code",
   "execution_count": 53,
   "metadata": {
    "collapsed": false
   },
   "outputs": [
    {
     "data": {
      "text/html": [
       "<div>\n",
       "<table border=\"1\" class=\"dataframe\">\n",
       "  <thead>\n",
       "    <tr style=\"text-align: right;\">\n",
       "      <th></th>\n",
       "      <th>year</th>\n",
       "      <th>0</th>\n",
       "      <th>1</th>\n",
       "      <th>2</th>\n",
       "      <th>3</th>\n",
       "      <th>4</th>\n",
       "      <th>5</th>\n",
       "      <th>6</th>\n",
       "      <th>7</th>\n",
       "      <th>8</th>\n",
       "      <th>...</th>\n",
       "      <th>343</th>\n",
       "      <th>344</th>\n",
       "      <th>345</th>\n",
       "      <th>346</th>\n",
       "      <th>347</th>\n",
       "      <th>348</th>\n",
       "      <th>349</th>\n",
       "      <th>350</th>\n",
       "      <th>351</th>\n",
       "      <th>352</th>\n",
       "    </tr>\n",
       "  </thead>\n",
       "  <tbody>\n",
       "    <tr>\n",
       "      <th>0</th>\n",
       "      <td>2998</td>\n",
       "      <td>0.0</td>\n",
       "      <td>0.0</td>\n",
       "      <td>0.0</td>\n",
       "      <td>0.0</td>\n",
       "      <td>0.0</td>\n",
       "      <td>0.0</td>\n",
       "      <td>0.0</td>\n",
       "      <td>0.0</td>\n",
       "      <td>0.0</td>\n",
       "      <td>...</td>\n",
       "      <td>0.0</td>\n",
       "      <td>0.0</td>\n",
       "      <td>0.0</td>\n",
       "      <td>0.0</td>\n",
       "      <td>0.0</td>\n",
       "      <td>0.0</td>\n",
       "      <td>0.0</td>\n",
       "      <td>0.0</td>\n",
       "      <td>0.0</td>\n",
       "      <td>0.0</td>\n",
       "    </tr>\n",
       "    <tr>\n",
       "      <th>1</th>\n",
       "      <td>2998</td>\n",
       "      <td>0.0</td>\n",
       "      <td>0.0</td>\n",
       "      <td>0.0</td>\n",
       "      <td>0.0</td>\n",
       "      <td>0.0</td>\n",
       "      <td>0.0</td>\n",
       "      <td>0.0</td>\n",
       "      <td>0.0</td>\n",
       "      <td>0.0</td>\n",
       "      <td>...</td>\n",
       "      <td>0.0</td>\n",
       "      <td>0.0</td>\n",
       "      <td>0.0</td>\n",
       "      <td>0.0</td>\n",
       "      <td>0.0</td>\n",
       "      <td>0.0</td>\n",
       "      <td>0.0</td>\n",
       "      <td>0.0</td>\n",
       "      <td>0.0</td>\n",
       "      <td>0.0</td>\n",
       "    </tr>\n",
       "    <tr>\n",
       "      <th>2</th>\n",
       "      <td>2998</td>\n",
       "      <td>0.0</td>\n",
       "      <td>0.0</td>\n",
       "      <td>0.0</td>\n",
       "      <td>0.0</td>\n",
       "      <td>0.0</td>\n",
       "      <td>0.0</td>\n",
       "      <td>0.0</td>\n",
       "      <td>0.0</td>\n",
       "      <td>0.0</td>\n",
       "      <td>...</td>\n",
       "      <td>0.0</td>\n",
       "      <td>0.0</td>\n",
       "      <td>0.0</td>\n",
       "      <td>0.0</td>\n",
       "      <td>0.0</td>\n",
       "      <td>0.0</td>\n",
       "      <td>0.0</td>\n",
       "      <td>0.0</td>\n",
       "      <td>0.0</td>\n",
       "      <td>0.0</td>\n",
       "    </tr>\n",
       "  </tbody>\n",
       "</table>\n",
       "<p>3 rows × 707 columns</p>\n",
       "</div>"
      ],
      "text/plain": [
       "   year    0    1    2    3    4    5    6    7    8 ...   343  344  345  346  \\\n",
       "0  2998  0.0  0.0  0.0  0.0  0.0  0.0  0.0  0.0  0.0 ...   0.0  0.0  0.0  0.0   \n",
       "1  2998  0.0  0.0  0.0  0.0  0.0  0.0  0.0  0.0  0.0 ...   0.0  0.0  0.0  0.0   \n",
       "2  2998  0.0  0.0  0.0  0.0  0.0  0.0  0.0  0.0  0.0 ...   0.0  0.0  0.0  0.0   \n",
       "\n",
       "   347  348  349  350  351  352  \n",
       "0  0.0  0.0  0.0  0.0  0.0  0.0  \n",
       "1  0.0  0.0  0.0  0.0  0.0  0.0  \n",
       "2  0.0  0.0  0.0  0.0  0.0  0.0  \n",
       "\n",
       "[3 rows x 707 columns]"
      ]
     },
     "execution_count": 53,
     "metadata": {},
     "output_type": "execute_result"
    }
   ],
   "source": [
    "X_train.head(3)"
   ]
  },
  {
   "cell_type": "code",
   "execution_count": 75,
   "metadata": {
    "collapsed": false
   },
   "outputs": [
    {
     "data": {
      "text/plain": [
       "(101609, 707)"
      ]
     },
     "execution_count": 75,
     "metadata": {},
     "output_type": "execute_result"
    }
   ],
   "source": [
    "X_train.shape"
   ]
  },
  {
   "cell_type": "code",
   "execution_count": null,
   "metadata": {
    "collapsed": true
   },
   "outputs": [],
   "source": []
  },
  {
   "cell_type": "code",
   "execution_count": null,
   "metadata": {
    "collapsed": true
   },
   "outputs": [],
   "source": []
  },
  {
   "cell_type": "markdown",
   "metadata": {},
   "source": [
    "# X_train, X_test !"
   ]
  },
  {
   "cell_type": "code",
   "execution_count": 114,
   "metadata": {
    "collapsed": false
   },
   "outputs": [
    {
     "data": {
      "text/plain": [
       "array([2998, 2999, 3000, 3001, 3002, 3003, 3004, 3005, 3006, 3007, 3008,\n",
       "       3009, 3010, 3011, 3012, 3013, 3014, 3015, 3016, 3017, 3018, 3019])"
      ]
     },
     "execution_count": 114,
     "metadata": {},
     "output_type": "execute_result"
    }
   ],
   "source": [
    "X_train.year.unique()"
   ]
  },
  {
   "cell_type": "code",
   "execution_count": 115,
   "metadata": {
    "collapsed": false
   },
   "outputs": [],
   "source": [
    "## Дропаем год!\n",
    "X_train_not_year = X_train.drop('year', axis=1)"
   ]
  },
  {
   "cell_type": "code",
   "execution_count": 113,
   "metadata": {
    "collapsed": false
   },
   "outputs": [
    {
     "data": {
      "text/plain": [
       "0.7925183792774262"
      ]
     },
     "execution_count": 113,
     "metadata": {},
     "output_type": "execute_result"
    }
   ],
   "source": [
    "80527. / X_train.shape[0]"
   ]
  },
  {
   "cell_type": "code",
   "execution_count": 116,
   "metadata": {
    "collapsed": false
   },
   "outputs": [],
   "source": [
    "train_data = pd.DataFrame(X_train_not_year.values[:80527, :])"
   ]
  },
  {
   "cell_type": "code",
   "execution_count": 117,
   "metadata": {
    "collapsed": true
   },
   "outputs": [],
   "source": [
    "test_data = pd.DataFrame(X_train_not_year.values[80527:, :])"
   ]
  },
  {
   "cell_type": "code",
   "execution_count": 59,
   "metadata": {
    "collapsed": false
   },
   "outputs": [
    {
     "data": {
      "text/plain": [
       "(75278, 706)"
      ]
     },
     "execution_count": 59,
     "metadata": {},
     "output_type": "execute_result"
    }
   ],
   "source": [
    "train_data.shape"
   ]
  },
  {
   "cell_type": "code",
   "execution_count": 60,
   "metadata": {
    "collapsed": false
   },
   "outputs": [
    {
     "data": {
      "text/plain": [
       "(26331, 706)"
      ]
     },
     "execution_count": 60,
     "metadata": {},
     "output_type": "execute_result"
    }
   ],
   "source": [
    "test_data.shape"
   ]
  },
  {
   "cell_type": "code",
   "execution_count": 120,
   "metadata": {
    "collapsed": true
   },
   "outputs": [],
   "source": [
    "train_labels = y_train[:80527]"
   ]
  },
  {
   "cell_type": "code",
   "execution_count": 121,
   "metadata": {
    "collapsed": true
   },
   "outputs": [],
   "source": [
    "test_labels = y_train[80527:]"
   ]
  },
  {
   "cell_type": "code",
   "execution_count": 61,
   "metadata": {
    "collapsed": true
   },
   "outputs": [],
   "source": [
    "train_team2_not_year = pd.DataFrame(train_team2.values[:75278, :])"
   ]
  },
  {
   "cell_type": "code",
   "execution_count": 62,
   "metadata": {
    "collapsed": true
   },
   "outputs": [],
   "source": [
    "train_team1_not_year = pd.DataFrame(train_team1.values[:75278, :])"
   ]
  },
  {
   "cell_type": "code",
   "execution_count": null,
   "metadata": {
    "collapsed": true
   },
   "outputs": [],
   "source": []
  },
  {
   "cell_type": "code",
   "execution_count": 63,
   "metadata": {
    "collapsed": true
   },
   "outputs": [],
   "source": [
    "test_team2_not_year = pd.DataFrame(train_team2.values[75278:, :])"
   ]
  },
  {
   "cell_type": "code",
   "execution_count": 64,
   "metadata": {
    "collapsed": true
   },
   "outputs": [],
   "source": [
    "test_team1_not_year = pd.DataFrame(train_team1.values[75278:, :])"
   ]
  },
  {
   "cell_type": "code",
   "execution_count": 65,
   "metadata": {
    "collapsed": false
   },
   "outputs": [
    {
     "data": {
      "text/plain": [
       "(26331, 353)"
      ]
     },
     "execution_count": 65,
     "metadata": {},
     "output_type": "execute_result"
    }
   ],
   "source": [
    "test_team2_not_year.shape"
   ]
  },
  {
   "cell_type": "code",
   "execution_count": null,
   "metadata": {
    "collapsed": true
   },
   "outputs": [],
   "source": []
  },
  {
   "cell_type": "code",
   "execution_count": 66,
   "metadata": {
    "collapsed": false
   },
   "outputs": [],
   "source": [
    "df_to_add_teams_train = pd.concat([train_team2_not_year, train_team1_not_year], axis=1)"
   ]
  },
  {
   "cell_type": "code",
   "execution_count": 67,
   "metadata": {
    "collapsed": false
   },
   "outputs": [
    {
     "data": {
      "text/plain": [
       "(75278, 706)"
      ]
     },
     "execution_count": 67,
     "metadata": {},
     "output_type": "execute_result"
    }
   ],
   "source": [
    "df_to_add_teams_train.shape"
   ]
  },
  {
   "cell_type": "code",
   "execution_count": 68,
   "metadata": {
    "collapsed": false
   },
   "outputs": [],
   "source": [
    "df_to_add_teams_train.columns = [i for i in range(706)]"
   ]
  },
  {
   "cell_type": "code",
   "execution_count": 69,
   "metadata": {
    "collapsed": false
   },
   "outputs": [
    {
     "ename": "NameError",
     "evalue": "name 'df_to_add_teams_test' is not defined",
     "output_type": "error",
     "traceback": [
      "\u001b[0;31m---------------------------------------------------------------------------\u001b[0m",
      "\u001b[0;31mNameError\u001b[0m                                 Traceback (most recent call last)",
      "\u001b[0;32m<ipython-input-69-55e56613d6c9>\u001b[0m in \u001b[0;36m<module>\u001b[0;34m()\u001b[0m\n\u001b[0;32m----> 1\u001b[0;31m \u001b[0mdf_to_add_teams_test\u001b[0m\u001b[0;34m.\u001b[0m\u001b[0mcolumns\u001b[0m \u001b[0;34m=\u001b[0m\u001b[0;34m[\u001b[0m\u001b[0mi\u001b[0m \u001b[0;32mfor\u001b[0m \u001b[0mi\u001b[0m \u001b[0;32min\u001b[0m \u001b[0mrange\u001b[0m\u001b[0;34m(\u001b[0m\u001b[0;36m706\u001b[0m\u001b[0;34m)\u001b[0m\u001b[0;34m]\u001b[0m\u001b[0;34m\u001b[0m\u001b[0m\n\u001b[0m",
      "\u001b[0;31mNameError\u001b[0m: name 'df_to_add_teams_test' is not defined"
     ]
    }
   ],
   "source": [
    "df_to_add_teams_test.columns =[i for i in range(706)]"
   ]
  },
  {
   "cell_type": "code",
   "execution_count": 70,
   "metadata": {
    "collapsed": false
   },
   "outputs": [
    {
     "data": {
      "text/plain": [
       "(75278, 706)"
      ]
     },
     "execution_count": 70,
     "metadata": {},
     "output_type": "execute_result"
    }
   ],
   "source": [
    "df_to_add_teams_train.shape"
   ]
  },
  {
   "cell_type": "code",
   "execution_count": null,
   "metadata": {
    "collapsed": true
   },
   "outputs": [],
   "source": []
  },
  {
   "cell_type": "code",
   "execution_count": 71,
   "metadata": {
    "collapsed": true
   },
   "outputs": [],
   "source": [
    "df_to_add_teams_test = pd.concat([test_team2_not_year, test_team1_not_year], axis=1)"
   ]
  },
  {
   "cell_type": "code",
   "execution_count": 72,
   "metadata": {
    "collapsed": false
   },
   "outputs": [
    {
     "data": {
      "text/plain": [
       "(26331, 706)"
      ]
     },
     "execution_count": 72,
     "metadata": {},
     "output_type": "execute_result"
    }
   ],
   "source": [
    "df_to_add_teams_test.shape"
   ]
  },
  {
   "cell_type": "code",
   "execution_count": 73,
   "metadata": {
    "collapsed": false
   },
   "outputs": [
    {
     "data": {
      "text/plain": [
       "(75278, 706)"
      ]
     },
     "execution_count": 73,
     "metadata": {},
     "output_type": "execute_result"
    }
   ],
   "source": [
    "train_data.shape"
   ]
  },
  {
   "cell_type": "code",
   "execution_count": 74,
   "metadata": {
    "collapsed": false
   },
   "outputs": [
    {
     "data": {
      "text/html": [
       "<div>\n",
       "<table border=\"1\" class=\"dataframe\">\n",
       "  <thead>\n",
       "    <tr style=\"text-align: right;\">\n",
       "      <th></th>\n",
       "      <th>0</th>\n",
       "      <th>1</th>\n",
       "      <th>2</th>\n",
       "      <th>3</th>\n",
       "      <th>4</th>\n",
       "      <th>5</th>\n",
       "      <th>6</th>\n",
       "      <th>7</th>\n",
       "      <th>8</th>\n",
       "      <th>9</th>\n",
       "      <th>...</th>\n",
       "      <th>696</th>\n",
       "      <th>697</th>\n",
       "      <th>698</th>\n",
       "      <th>699</th>\n",
       "      <th>700</th>\n",
       "      <th>701</th>\n",
       "      <th>702</th>\n",
       "      <th>703</th>\n",
       "      <th>704</th>\n",
       "      <th>705</th>\n",
       "    </tr>\n",
       "  </thead>\n",
       "  <tbody>\n",
       "    <tr>\n",
       "      <th>0</th>\n",
       "      <td>0.0</td>\n",
       "      <td>0.0</td>\n",
       "      <td>0.0</td>\n",
       "      <td>0.0</td>\n",
       "      <td>0.0</td>\n",
       "      <td>0.0</td>\n",
       "      <td>0.0</td>\n",
       "      <td>0.0</td>\n",
       "      <td>0.0</td>\n",
       "      <td>0.0</td>\n",
       "      <td>...</td>\n",
       "      <td>0.0</td>\n",
       "      <td>0.0</td>\n",
       "      <td>0.0</td>\n",
       "      <td>0.0</td>\n",
       "      <td>0.0</td>\n",
       "      <td>0.0</td>\n",
       "      <td>0.0</td>\n",
       "      <td>0.0</td>\n",
       "      <td>0.0</td>\n",
       "      <td>0.0</td>\n",
       "    </tr>\n",
       "    <tr>\n",
       "      <th>1</th>\n",
       "      <td>0.0</td>\n",
       "      <td>0.0</td>\n",
       "      <td>0.0</td>\n",
       "      <td>0.0</td>\n",
       "      <td>0.0</td>\n",
       "      <td>0.0</td>\n",
       "      <td>0.0</td>\n",
       "      <td>0.0</td>\n",
       "      <td>0.0</td>\n",
       "      <td>0.0</td>\n",
       "      <td>...</td>\n",
       "      <td>0.0</td>\n",
       "      <td>0.0</td>\n",
       "      <td>0.0</td>\n",
       "      <td>0.0</td>\n",
       "      <td>0.0</td>\n",
       "      <td>0.0</td>\n",
       "      <td>0.0</td>\n",
       "      <td>0.0</td>\n",
       "      <td>0.0</td>\n",
       "      <td>0.0</td>\n",
       "    </tr>\n",
       "  </tbody>\n",
       "</table>\n",
       "<p>2 rows × 706 columns</p>\n",
       "</div>"
      ],
      "text/plain": [
       "   0    1    2    3    4    5    6    7    8    9   ...   696  697  698  699  \\\n",
       "0  0.0  0.0  0.0  0.0  0.0  0.0  0.0  0.0  0.0  0.0 ...   0.0  0.0  0.0  0.0   \n",
       "1  0.0  0.0  0.0  0.0  0.0  0.0  0.0  0.0  0.0  0.0 ...   0.0  0.0  0.0  0.0   \n",
       "\n",
       "   700  701  702  703  704  705  \n",
       "0  0.0  0.0  0.0  0.0  0.0  0.0  \n",
       "1  0.0  0.0  0.0  0.0  0.0  0.0  \n",
       "\n",
       "[2 rows x 706 columns]"
      ]
     },
     "execution_count": 74,
     "metadata": {},
     "output_type": "execute_result"
    }
   ],
   "source": [
    "train_data.head(2)"
   ]
  },
  {
   "cell_type": "code",
   "execution_count": 75,
   "metadata": {
    "collapsed": false
   },
   "outputs": [
    {
     "data": {
      "text/plain": [
       "(75278, 706)"
      ]
     },
     "execution_count": 75,
     "metadata": {},
     "output_type": "execute_result"
    }
   ],
   "source": [
    "df_to_add_teams_train.shape"
   ]
  },
  {
   "cell_type": "code",
   "execution_count": 76,
   "metadata": {
    "collapsed": false
   },
   "outputs": [
    {
     "data": {
      "text/html": [
       "<div>\n",
       "<table border=\"1\" class=\"dataframe\">\n",
       "  <thead>\n",
       "    <tr style=\"text-align: right;\">\n",
       "      <th></th>\n",
       "      <th>0</th>\n",
       "      <th>1</th>\n",
       "      <th>2</th>\n",
       "      <th>3</th>\n",
       "      <th>4</th>\n",
       "      <th>5</th>\n",
       "      <th>6</th>\n",
       "      <th>7</th>\n",
       "      <th>8</th>\n",
       "      <th>9</th>\n",
       "      <th>...</th>\n",
       "      <th>696</th>\n",
       "      <th>697</th>\n",
       "      <th>698</th>\n",
       "      <th>699</th>\n",
       "      <th>700</th>\n",
       "      <th>701</th>\n",
       "      <th>702</th>\n",
       "      <th>703</th>\n",
       "      <th>704</th>\n",
       "      <th>705</th>\n",
       "    </tr>\n",
       "  </thead>\n",
       "  <tbody>\n",
       "    <tr>\n",
       "      <th>0</th>\n",
       "      <td>0.0</td>\n",
       "      <td>0.0</td>\n",
       "      <td>0.0</td>\n",
       "      <td>0.0</td>\n",
       "      <td>0.0</td>\n",
       "      <td>0.0</td>\n",
       "      <td>0.0</td>\n",
       "      <td>0.0</td>\n",
       "      <td>0.0</td>\n",
       "      <td>0.0</td>\n",
       "      <td>...</td>\n",
       "      <td>0.0</td>\n",
       "      <td>0.0</td>\n",
       "      <td>0.0</td>\n",
       "      <td>0.0</td>\n",
       "      <td>0.0</td>\n",
       "      <td>0.0</td>\n",
       "      <td>0.0</td>\n",
       "      <td>0.0</td>\n",
       "      <td>0.0</td>\n",
       "      <td>0.0</td>\n",
       "    </tr>\n",
       "    <tr>\n",
       "      <th>1</th>\n",
       "      <td>0.0</td>\n",
       "      <td>0.0</td>\n",
       "      <td>0.0</td>\n",
       "      <td>0.0</td>\n",
       "      <td>0.0</td>\n",
       "      <td>0.0</td>\n",
       "      <td>0.0</td>\n",
       "      <td>0.0</td>\n",
       "      <td>0.0</td>\n",
       "      <td>0.0</td>\n",
       "      <td>...</td>\n",
       "      <td>0.0</td>\n",
       "      <td>0.0</td>\n",
       "      <td>0.0</td>\n",
       "      <td>0.0</td>\n",
       "      <td>0.0</td>\n",
       "      <td>0.0</td>\n",
       "      <td>0.0</td>\n",
       "      <td>0.0</td>\n",
       "      <td>0.0</td>\n",
       "      <td>0.0</td>\n",
       "    </tr>\n",
       "  </tbody>\n",
       "</table>\n",
       "<p>2 rows × 706 columns</p>\n",
       "</div>"
      ],
      "text/plain": [
       "   0    1    2    3    4    5    6    7    8    9   ...   696  697  698  699  \\\n",
       "0  0.0  0.0  0.0  0.0  0.0  0.0  0.0  0.0  0.0  0.0 ...   0.0  0.0  0.0  0.0   \n",
       "1  0.0  0.0  0.0  0.0  0.0  0.0  0.0  0.0  0.0  0.0 ...   0.0  0.0  0.0  0.0   \n",
       "\n",
       "   700  701  702  703  704  705  \n",
       "0  0.0  0.0  0.0  0.0  0.0  0.0  \n",
       "1  0.0  0.0  0.0  0.0  0.0  0.0  \n",
       "\n",
       "[2 rows x 706 columns]"
      ]
     },
     "execution_count": 76,
     "metadata": {},
     "output_type": "execute_result"
    }
   ],
   "source": [
    "df_to_add_teams_train.head(2)"
   ]
  },
  {
   "cell_type": "code",
   "execution_count": 77,
   "metadata": {
    "collapsed": false
   },
   "outputs": [],
   "source": [
    "df_X_train = pd.concat([train_data, df_to_add_teams_train], axis=0)"
   ]
  },
  {
   "cell_type": "code",
   "execution_count": 78,
   "metadata": {
    "collapsed": false
   },
   "outputs": [
    {
     "data": {
      "text/plain": [
       "(150556, 706)"
      ]
     },
     "execution_count": 78,
     "metadata": {},
     "output_type": "execute_result"
    }
   ],
   "source": [
    "df_X_train.shape"
   ]
  },
  {
   "cell_type": "code",
   "execution_count": 79,
   "metadata": {
    "collapsed": false
   },
   "outputs": [
    {
     "ename": "NameError",
     "evalue": "name 'df_y_train' is not defined",
     "output_type": "error",
     "traceback": [
      "\u001b[0;31m---------------------------------------------------------------------------\u001b[0m",
      "\u001b[0;31mNameError\u001b[0m                                 Traceback (most recent call last)",
      "\u001b[0;32m<ipython-input-79-06e21e347caf>\u001b[0m in \u001b[0;36m<module>\u001b[0;34m()\u001b[0m\n\u001b[0;32m----> 1\u001b[0;31m \u001b[0mlen\u001b[0m\u001b[0;34m(\u001b[0m\u001b[0mdf_y_train\u001b[0m\u001b[0;34m)\u001b[0m\u001b[0;34m\u001b[0m\u001b[0m\n\u001b[0m",
      "\u001b[0;31mNameError\u001b[0m: name 'df_y_train' is not defined"
     ]
    }
   ],
   "source": [
    "len(df_y_train)"
   ]
  },
  {
   "cell_type": "code",
   "execution_count": 80,
   "metadata": {
    "collapsed": false
   },
   "outputs": [
    {
     "data": {
      "text/html": [
       "<div>\n",
       "<table border=\"1\" class=\"dataframe\">\n",
       "  <thead>\n",
       "    <tr style=\"text-align: right;\">\n",
       "      <th></th>\n",
       "      <th>0</th>\n",
       "      <th>1</th>\n",
       "      <th>2</th>\n",
       "      <th>3</th>\n",
       "      <th>4</th>\n",
       "      <th>5</th>\n",
       "      <th>6</th>\n",
       "      <th>7</th>\n",
       "      <th>8</th>\n",
       "      <th>9</th>\n",
       "      <th>...</th>\n",
       "      <th>696</th>\n",
       "      <th>697</th>\n",
       "      <th>698</th>\n",
       "      <th>699</th>\n",
       "      <th>700</th>\n",
       "      <th>701</th>\n",
       "      <th>702</th>\n",
       "      <th>703</th>\n",
       "      <th>704</th>\n",
       "      <th>705</th>\n",
       "    </tr>\n",
       "  </thead>\n",
       "  <tbody>\n",
       "    <tr>\n",
       "      <th>0</th>\n",
       "      <td>0.0</td>\n",
       "      <td>0.0</td>\n",
       "      <td>0.0</td>\n",
       "      <td>0.0</td>\n",
       "      <td>0.0</td>\n",
       "      <td>0.0</td>\n",
       "      <td>0.0</td>\n",
       "      <td>0.0</td>\n",
       "      <td>0.0</td>\n",
       "      <td>0.0</td>\n",
       "      <td>...</td>\n",
       "      <td>0.0</td>\n",
       "      <td>0.0</td>\n",
       "      <td>0.0</td>\n",
       "      <td>0.0</td>\n",
       "      <td>0.0</td>\n",
       "      <td>0.0</td>\n",
       "      <td>0.0</td>\n",
       "      <td>0.0</td>\n",
       "      <td>0.0</td>\n",
       "      <td>0.0</td>\n",
       "    </tr>\n",
       "    <tr>\n",
       "      <th>1</th>\n",
       "      <td>0.0</td>\n",
       "      <td>0.0</td>\n",
       "      <td>0.0</td>\n",
       "      <td>0.0</td>\n",
       "      <td>0.0</td>\n",
       "      <td>0.0</td>\n",
       "      <td>0.0</td>\n",
       "      <td>0.0</td>\n",
       "      <td>0.0</td>\n",
       "      <td>0.0</td>\n",
       "      <td>...</td>\n",
       "      <td>0.0</td>\n",
       "      <td>0.0</td>\n",
       "      <td>0.0</td>\n",
       "      <td>0.0</td>\n",
       "      <td>0.0</td>\n",
       "      <td>0.0</td>\n",
       "      <td>0.0</td>\n",
       "      <td>0.0</td>\n",
       "      <td>0.0</td>\n",
       "      <td>0.0</td>\n",
       "    </tr>\n",
       "  </tbody>\n",
       "</table>\n",
       "<p>2 rows × 706 columns</p>\n",
       "</div>"
      ],
      "text/plain": [
       "   0    1    2    3    4    5    6    7    8    9   ...   696  697  698  699  \\\n",
       "0  0.0  0.0  0.0  0.0  0.0  0.0  0.0  0.0  0.0  0.0 ...   0.0  0.0  0.0  0.0   \n",
       "1  0.0  0.0  0.0  0.0  0.0  0.0  0.0  0.0  0.0  0.0 ...   0.0  0.0  0.0  0.0   \n",
       "\n",
       "   700  701  702  703  704  705  \n",
       "0  0.0  0.0  0.0  0.0  0.0  0.0  \n",
       "1  0.0  0.0  0.0  0.0  0.0  0.0  \n",
       "\n",
       "[2 rows x 706 columns]"
      ]
     },
     "execution_count": 80,
     "metadata": {},
     "output_type": "execute_result"
    }
   ],
   "source": [
    "test_data.head(2)"
   ]
  },
  {
   "cell_type": "code",
   "execution_count": 81,
   "metadata": {
    "collapsed": false
   },
   "outputs": [
    {
     "data": {
      "text/html": [
       "<div>\n",
       "<table border=\"1\" class=\"dataframe\">\n",
       "  <thead>\n",
       "    <tr style=\"text-align: right;\">\n",
       "      <th></th>\n",
       "      <th>0</th>\n",
       "      <th>1</th>\n",
       "      <th>2</th>\n",
       "      <th>3</th>\n",
       "      <th>4</th>\n",
       "      <th>5</th>\n",
       "      <th>6</th>\n",
       "      <th>7</th>\n",
       "      <th>8</th>\n",
       "      <th>9</th>\n",
       "      <th>...</th>\n",
       "      <th>343</th>\n",
       "      <th>344</th>\n",
       "      <th>345</th>\n",
       "      <th>346</th>\n",
       "      <th>347</th>\n",
       "      <th>348</th>\n",
       "      <th>349</th>\n",
       "      <th>350</th>\n",
       "      <th>351</th>\n",
       "      <th>352</th>\n",
       "    </tr>\n",
       "  </thead>\n",
       "  <tbody>\n",
       "    <tr>\n",
       "      <th>0</th>\n",
       "      <td>0.0</td>\n",
       "      <td>0.0</td>\n",
       "      <td>0.0</td>\n",
       "      <td>0.0</td>\n",
       "      <td>0.0</td>\n",
       "      <td>0.0</td>\n",
       "      <td>0.0</td>\n",
       "      <td>0.0</td>\n",
       "      <td>0.0</td>\n",
       "      <td>0.0</td>\n",
       "      <td>...</td>\n",
       "      <td>0.0</td>\n",
       "      <td>0.0</td>\n",
       "      <td>0.0</td>\n",
       "      <td>0.0</td>\n",
       "      <td>0.0</td>\n",
       "      <td>0.0</td>\n",
       "      <td>0.0</td>\n",
       "      <td>0.0</td>\n",
       "      <td>0.0</td>\n",
       "      <td>0.0</td>\n",
       "    </tr>\n",
       "    <tr>\n",
       "      <th>1</th>\n",
       "      <td>0.0</td>\n",
       "      <td>0.0</td>\n",
       "      <td>0.0</td>\n",
       "      <td>0.0</td>\n",
       "      <td>0.0</td>\n",
       "      <td>0.0</td>\n",
       "      <td>0.0</td>\n",
       "      <td>0.0</td>\n",
       "      <td>0.0</td>\n",
       "      <td>0.0</td>\n",
       "      <td>...</td>\n",
       "      <td>0.0</td>\n",
       "      <td>0.0</td>\n",
       "      <td>0.0</td>\n",
       "      <td>0.0</td>\n",
       "      <td>0.0</td>\n",
       "      <td>0.0</td>\n",
       "      <td>0.0</td>\n",
       "      <td>0.0</td>\n",
       "      <td>0.0</td>\n",
       "      <td>0.0</td>\n",
       "    </tr>\n",
       "  </tbody>\n",
       "</table>\n",
       "<p>2 rows × 706 columns</p>\n",
       "</div>"
      ],
      "text/plain": [
       "   0    1    2    3    4    5    6    7    8    9   ...   343  344  345  346  \\\n",
       "0  0.0  0.0  0.0  0.0  0.0  0.0  0.0  0.0  0.0  0.0 ...   0.0  0.0  0.0  0.0   \n",
       "1  0.0  0.0  0.0  0.0  0.0  0.0  0.0  0.0  0.0  0.0 ...   0.0  0.0  0.0  0.0   \n",
       "\n",
       "   347  348  349  350  351  352  \n",
       "0  0.0  0.0  0.0  0.0  0.0  0.0  \n",
       "1  0.0  0.0  0.0  0.0  0.0  0.0  \n",
       "\n",
       "[2 rows x 706 columns]"
      ]
     },
     "execution_count": 81,
     "metadata": {},
     "output_type": "execute_result"
    }
   ],
   "source": [
    "df_to_add_teams_test.head(2)"
   ]
  },
  {
   "cell_type": "code",
   "execution_count": 82,
   "metadata": {
    "collapsed": false
   },
   "outputs": [
    {
     "data": {
      "text/html": [
       "<div>\n",
       "<table border=\"1\" class=\"dataframe\">\n",
       "  <thead>\n",
       "    <tr style=\"text-align: right;\">\n",
       "      <th></th>\n",
       "      <th>0</th>\n",
       "      <th>1</th>\n",
       "      <th>2</th>\n",
       "      <th>3</th>\n",
       "      <th>4</th>\n",
       "      <th>5</th>\n",
       "      <th>6</th>\n",
       "      <th>7</th>\n",
       "      <th>8</th>\n",
       "      <th>9</th>\n",
       "      <th>...</th>\n",
       "      <th>696</th>\n",
       "      <th>697</th>\n",
       "      <th>698</th>\n",
       "      <th>699</th>\n",
       "      <th>700</th>\n",
       "      <th>701</th>\n",
       "      <th>702</th>\n",
       "      <th>703</th>\n",
       "      <th>704</th>\n",
       "      <th>705</th>\n",
       "    </tr>\n",
       "  </thead>\n",
       "  <tbody>\n",
       "    <tr>\n",
       "      <th>0</th>\n",
       "      <td>0.0</td>\n",
       "      <td>0.0</td>\n",
       "      <td>0.0</td>\n",
       "      <td>0.0</td>\n",
       "      <td>0.0</td>\n",
       "      <td>0.0</td>\n",
       "      <td>0.0</td>\n",
       "      <td>0.0</td>\n",
       "      <td>0.0</td>\n",
       "      <td>0.0</td>\n",
       "      <td>...</td>\n",
       "      <td>0.0</td>\n",
       "      <td>0.0</td>\n",
       "      <td>0.0</td>\n",
       "      <td>0.0</td>\n",
       "      <td>0.0</td>\n",
       "      <td>0.0</td>\n",
       "      <td>0.0</td>\n",
       "      <td>0.0</td>\n",
       "      <td>0.0</td>\n",
       "      <td>0.0</td>\n",
       "    </tr>\n",
       "    <tr>\n",
       "      <th>1</th>\n",
       "      <td>0.0</td>\n",
       "      <td>0.0</td>\n",
       "      <td>0.0</td>\n",
       "      <td>0.0</td>\n",
       "      <td>0.0</td>\n",
       "      <td>0.0</td>\n",
       "      <td>0.0</td>\n",
       "      <td>0.0</td>\n",
       "      <td>0.0</td>\n",
       "      <td>0.0</td>\n",
       "      <td>...</td>\n",
       "      <td>0.0</td>\n",
       "      <td>0.0</td>\n",
       "      <td>0.0</td>\n",
       "      <td>0.0</td>\n",
       "      <td>0.0</td>\n",
       "      <td>0.0</td>\n",
       "      <td>0.0</td>\n",
       "      <td>0.0</td>\n",
       "      <td>0.0</td>\n",
       "      <td>0.0</td>\n",
       "    </tr>\n",
       "  </tbody>\n",
       "</table>\n",
       "<p>2 rows × 706 columns</p>\n",
       "</div>"
      ],
      "text/plain": [
       "   0    1    2    3    4    5    6    7    8    9   ...   696  697  698  699  \\\n",
       "0  0.0  0.0  0.0  0.0  0.0  0.0  0.0  0.0  0.0  0.0 ...   0.0  0.0  0.0  0.0   \n",
       "1  0.0  0.0  0.0  0.0  0.0  0.0  0.0  0.0  0.0  0.0 ...   0.0  0.0  0.0  0.0   \n",
       "\n",
       "   700  701  702  703  704  705  \n",
       "0  0.0  0.0  0.0  0.0  0.0  0.0  \n",
       "1  0.0  0.0  0.0  0.0  0.0  0.0  \n",
       "\n",
       "[2 rows x 706 columns]"
      ]
     },
     "execution_count": 82,
     "metadata": {},
     "output_type": "execute_result"
    }
   ],
   "source": [
    "test_data.head(2)"
   ]
  },
  {
   "cell_type": "code",
   "execution_count": 83,
   "metadata": {
    "collapsed": false
   },
   "outputs": [
    {
     "data": {
      "text/html": [
       "<div>\n",
       "<table border=\"1\" class=\"dataframe\">\n",
       "  <thead>\n",
       "    <tr style=\"text-align: right;\">\n",
       "      <th></th>\n",
       "      <th>0</th>\n",
       "      <th>1</th>\n",
       "      <th>2</th>\n",
       "      <th>3</th>\n",
       "      <th>4</th>\n",
       "      <th>5</th>\n",
       "      <th>6</th>\n",
       "      <th>7</th>\n",
       "      <th>8</th>\n",
       "      <th>9</th>\n",
       "      <th>...</th>\n",
       "      <th>343</th>\n",
       "      <th>344</th>\n",
       "      <th>345</th>\n",
       "      <th>346</th>\n",
       "      <th>347</th>\n",
       "      <th>348</th>\n",
       "      <th>349</th>\n",
       "      <th>350</th>\n",
       "      <th>351</th>\n",
       "      <th>352</th>\n",
       "    </tr>\n",
       "  </thead>\n",
       "  <tbody>\n",
       "    <tr>\n",
       "      <th>0</th>\n",
       "      <td>0.0</td>\n",
       "      <td>0.0</td>\n",
       "      <td>0.0</td>\n",
       "      <td>0.0</td>\n",
       "      <td>0.0</td>\n",
       "      <td>0.0</td>\n",
       "      <td>0.0</td>\n",
       "      <td>0.0</td>\n",
       "      <td>0.0</td>\n",
       "      <td>0.0</td>\n",
       "      <td>...</td>\n",
       "      <td>0.0</td>\n",
       "      <td>0.0</td>\n",
       "      <td>0.0</td>\n",
       "      <td>0.0</td>\n",
       "      <td>0.0</td>\n",
       "      <td>0.0</td>\n",
       "      <td>0.0</td>\n",
       "      <td>0.0</td>\n",
       "      <td>0.0</td>\n",
       "      <td>0.0</td>\n",
       "    </tr>\n",
       "    <tr>\n",
       "      <th>1</th>\n",
       "      <td>0.0</td>\n",
       "      <td>0.0</td>\n",
       "      <td>0.0</td>\n",
       "      <td>0.0</td>\n",
       "      <td>0.0</td>\n",
       "      <td>0.0</td>\n",
       "      <td>0.0</td>\n",
       "      <td>0.0</td>\n",
       "      <td>0.0</td>\n",
       "      <td>0.0</td>\n",
       "      <td>...</td>\n",
       "      <td>0.0</td>\n",
       "      <td>0.0</td>\n",
       "      <td>0.0</td>\n",
       "      <td>0.0</td>\n",
       "      <td>0.0</td>\n",
       "      <td>0.0</td>\n",
       "      <td>0.0</td>\n",
       "      <td>0.0</td>\n",
       "      <td>0.0</td>\n",
       "      <td>0.0</td>\n",
       "    </tr>\n",
       "  </tbody>\n",
       "</table>\n",
       "<p>2 rows × 706 columns</p>\n",
       "</div>"
      ],
      "text/plain": [
       "   0    1    2    3    4    5    6    7    8    9   ...   343  344  345  346  \\\n",
       "0  0.0  0.0  0.0  0.0  0.0  0.0  0.0  0.0  0.0  0.0 ...   0.0  0.0  0.0  0.0   \n",
       "1  0.0  0.0  0.0  0.0  0.0  0.0  0.0  0.0  0.0  0.0 ...   0.0  0.0  0.0  0.0   \n",
       "\n",
       "   347  348  349  350  351  352  \n",
       "0  0.0  0.0  0.0  0.0  0.0  0.0  \n",
       "1  0.0  0.0  0.0  0.0  0.0  0.0  \n",
       "\n",
       "[2 rows x 706 columns]"
      ]
     },
     "execution_count": 83,
     "metadata": {},
     "output_type": "execute_result"
    }
   ],
   "source": [
    "df_to_add_teams_test.head(2)"
   ]
  },
  {
   "cell_type": "code",
   "execution_count": 88,
   "metadata": {
    "collapsed": false
   },
   "outputs": [],
   "source": [
    "df_to_add_teams_test.columns = [i for i in range(706)]"
   ]
  },
  {
   "cell_type": "code",
   "execution_count": 89,
   "metadata": {
    "collapsed": false
   },
   "outputs": [],
   "source": [
    "df_X_test = pd.concat([test_data, df_to_add_teams_test], axis=0)"
   ]
  },
  {
   "cell_type": "code",
   "execution_count": null,
   "metadata": {
    "collapsed": true
   },
   "outputs": [],
   "source": []
  },
  {
   "cell_type": "code",
   "execution_count": null,
   "metadata": {
    "collapsed": true
   },
   "outputs": [],
   "source": []
  },
  {
   "cell_type": "code",
   "execution_count": null,
   "metadata": {
    "collapsed": true
   },
   "outputs": [],
   "source": []
  },
  {
   "cell_type": "code",
   "execution_count": 90,
   "metadata": {
    "collapsed": false
   },
   "outputs": [
    {
     "data": {
      "text/plain": [
       "(52662, 706)"
      ]
     },
     "execution_count": 90,
     "metadata": {},
     "output_type": "execute_result"
    }
   ],
   "source": [
    "df_X_test.shape"
   ]
  },
  {
   "cell_type": "code",
   "execution_count": 91,
   "metadata": {
    "collapsed": false
   },
   "outputs": [
    {
     "data": {
      "text/plain": [
       "(150556, 706)"
      ]
     },
     "execution_count": 91,
     "metadata": {},
     "output_type": "execute_result"
    }
   ],
   "source": [
    "df_X_train.shape"
   ]
  },
  {
   "cell_type": "code",
   "execution_count": 92,
   "metadata": {
    "collapsed": true
   },
   "outputs": [],
   "source": [
    "y_to_add = list(map(lambda x: 1-x, y_train.values.T[0]))[:75278]"
   ]
  },
  {
   "cell_type": "code",
   "execution_count": 93,
   "metadata": {
    "collapsed": true
   },
   "outputs": [],
   "source": [
    "y_tr = y_train.values.T[0][:75278]"
   ]
  },
  {
   "cell_type": "code",
   "execution_count": null,
   "metadata": {
    "collapsed": true
   },
   "outputs": [],
   "source": []
  },
  {
   "cell_type": "code",
   "execution_count": 94,
   "metadata": {
    "collapsed": true
   },
   "outputs": [],
   "source": [
    "df_y_train = list(y_tr)+list(y_to_add)"
   ]
  },
  {
   "cell_type": "code",
   "execution_count": 95,
   "metadata": {
    "collapsed": false
   },
   "outputs": [
    {
     "data": {
      "text/plain": [
       "150556"
      ]
     },
     "execution_count": 95,
     "metadata": {},
     "output_type": "execute_result"
    }
   ],
   "source": [
    "len(df_y_train)"
   ]
  },
  {
   "cell_type": "code",
   "execution_count": null,
   "metadata": {
    "collapsed": true
   },
   "outputs": [],
   "source": []
  },
  {
   "cell_type": "code",
   "execution_count": 96,
   "metadata": {
    "collapsed": false
   },
   "outputs": [],
   "source": [
    "y_to_add_test = list(map(lambda x: 1-x, y_train.values.T[0]))[75278:]"
   ]
  },
  {
   "cell_type": "code",
   "execution_count": 97,
   "metadata": {
    "collapsed": false
   },
   "outputs": [
    {
     "data": {
      "text/plain": [
       "26331"
      ]
     },
     "execution_count": 97,
     "metadata": {},
     "output_type": "execute_result"
    }
   ],
   "source": [
    "len(y_to_add_test)"
   ]
  },
  {
   "cell_type": "code",
   "execution_count": 98,
   "metadata": {
    "collapsed": false
   },
   "outputs": [
    {
     "data": {
      "text/plain": [
       "(52662, 706)"
      ]
     },
     "execution_count": 98,
     "metadata": {},
     "output_type": "execute_result"
    }
   ],
   "source": [
    "df_X_test.shape"
   ]
  },
  {
   "cell_type": "code",
   "execution_count": 99,
   "metadata": {
    "collapsed": true
   },
   "outputs": [],
   "source": [
    "y_te = y_train.values.T[0][75278:]"
   ]
  },
  {
   "cell_type": "code",
   "execution_count": null,
   "metadata": {
    "collapsed": true
   },
   "outputs": [],
   "source": []
  },
  {
   "cell_type": "code",
   "execution_count": 100,
   "metadata": {
    "collapsed": true
   },
   "outputs": [],
   "source": [
    "df_y_test = list(y_te)+list(y_to_add_test)"
   ]
  },
  {
   "cell_type": "code",
   "execution_count": 101,
   "metadata": {
    "collapsed": false
   },
   "outputs": [
    {
     "data": {
      "text/plain": [
       "52662"
      ]
     },
     "execution_count": 101,
     "metadata": {},
     "output_type": "execute_result"
    }
   ],
   "source": [
    "len(df_y_test)"
   ]
  },
  {
   "cell_type": "code",
   "execution_count": null,
   "metadata": {
    "collapsed": true
   },
   "outputs": [],
   "source": []
  },
  {
   "cell_type": "code",
   "execution_count": null,
   "metadata": {
    "collapsed": true
   },
   "outputs": [],
   "source": []
  },
  {
   "cell_type": "code",
   "execution_count": 102,
   "metadata": {
    "collapsed": false
   },
   "outputs": [
    {
     "data": {
      "text/plain": [
       "(150556, 706)"
      ]
     },
     "execution_count": 102,
     "metadata": {},
     "output_type": "execute_result"
    }
   ],
   "source": [
    "df_X_train.shape"
   ]
  },
  {
   "cell_type": "code",
   "execution_count": 103,
   "metadata": {
    "collapsed": false
   },
   "outputs": [
    {
     "data": {
      "text/plain": [
       "150556"
      ]
     },
     "execution_count": 103,
     "metadata": {},
     "output_type": "execute_result"
    }
   ],
   "source": [
    "len(df_y_train)"
   ]
  },
  {
   "cell_type": "code",
   "execution_count": null,
   "metadata": {
    "collapsed": true
   },
   "outputs": [],
   "source": []
  },
  {
   "cell_type": "code",
   "execution_count": 104,
   "metadata": {
    "collapsed": false
   },
   "outputs": [
    {
     "data": {
      "text/plain": [
       "(52662, 706)"
      ]
     },
     "execution_count": 104,
     "metadata": {},
     "output_type": "execute_result"
    }
   ],
   "source": [
    "df_X_test.shape"
   ]
  },
  {
   "cell_type": "code",
   "execution_count": 105,
   "metadata": {
    "collapsed": false
   },
   "outputs": [
    {
     "data": {
      "text/plain": [
       "52662"
      ]
     },
     "execution_count": 105,
     "metadata": {},
     "output_type": "execute_result"
    }
   ],
   "source": [
    "len(df_y_test)"
   ]
  },
  {
   "cell_type": "markdown",
   "metadata": {},
   "source": [
    "# df_X_train - расширенная train.csv, y_train_arr - ответы под df_X_train"
   ]
  },
  {
   "cell_type": "code",
   "execution_count": 106,
   "metadata": {
    "collapsed": true
   },
   "outputs": [],
   "source": [
    "param = {'C': np.linspace(0.2, 1.6, 10)}"
   ]
  },
  {
   "cell_type": "code",
   "execution_count": 107,
   "metadata": {
    "collapsed": true
   },
   "outputs": [],
   "source": [
    "lin_cl = linear_model.LogisticRegression(C=0.1)"
   ]
  },
  {
   "cell_type": "code",
   "execution_count": null,
   "metadata": {
    "collapsed": true
   },
   "outputs": [],
   "source": []
  },
  {
   "cell_type": "code",
   "execution_count": 108,
   "metadata": {
    "collapsed": false
   },
   "outputs": [
    {
     "ename": "AttributeError",
     "evalue": "'list' object has no attribute 'T'",
     "output_type": "error",
     "traceback": [
      "\u001b[0;31m---------------------------------------------------------------------------\u001b[0m",
      "\u001b[0;31mAttributeError\u001b[0m                            Traceback (most recent call last)",
      "\u001b[0;32m<ipython-input-108-e712f24f9737>\u001b[0m in \u001b[0;36m<module>\u001b[0;34m()\u001b[0m\n\u001b[0;32m----> 1\u001b[0;31m \u001b[0mlin_cl\u001b[0m\u001b[0;34m.\u001b[0m\u001b[0mfit\u001b[0m\u001b[0;34m(\u001b[0m\u001b[0mdf_X_train\u001b[0m\u001b[0;34m.\u001b[0m\u001b[0mvalues\u001b[0m\u001b[0;34m,\u001b[0m \u001b[0mnp\u001b[0m\u001b[0;34m.\u001b[0m\u001b[0marray\u001b[0m\u001b[0;34m(\u001b[0m\u001b[0mdf_y_train\u001b[0m\u001b[0;34m.\u001b[0m\u001b[0mT\u001b[0m\u001b[0;34m)\u001b[0m\u001b[0;34m[\u001b[0m\u001b[0;36m0\u001b[0m\u001b[0;34m]\u001b[0m\u001b[0;34m)\u001b[0m\u001b[0;34m\u001b[0m\u001b[0m\n\u001b[0m",
      "\u001b[0;31mAttributeError\u001b[0m: 'list' object has no attribute 'T'"
     ]
    }
   ],
   "source": [
    "lin_cl.fit(df_X_train.values, np.array(df_y_train.T)[0])"
   ]
  },
  {
   "cell_type": "code",
   "execution_count": 109,
   "metadata": {
    "collapsed": false
   },
   "outputs": [
    {
     "ename": "NotFittedError",
     "evalue": "Call fit before prediction",
     "output_type": "error",
     "traceback": [
      "\u001b[0;31m---------------------------------------------------------------------------\u001b[0m",
      "\u001b[0;31mNotFittedError\u001b[0m                            Traceback (most recent call last)",
      "\u001b[0;32m<ipython-input-109-3e9e7840088b>\u001b[0m in \u001b[0;36m<module>\u001b[0;34m()\u001b[0m\n\u001b[0;32m----> 1\u001b[0;31m \u001b[0mlog_loss\u001b[0m\u001b[0;34m(\u001b[0m\u001b[0mdf_y_test\u001b[0m\u001b[0;34m,\u001b[0m \u001b[0mlin_cl\u001b[0m\u001b[0;34m.\u001b[0m\u001b[0mpredict_proba\u001b[0m\u001b[0;34m(\u001b[0m\u001b[0mdf_X_test\u001b[0m\u001b[0;34m)\u001b[0m\u001b[0;34m[\u001b[0m\u001b[0;34m:\u001b[0m\u001b[0;34m,\u001b[0m\u001b[0;36m1\u001b[0m\u001b[0;34m]\u001b[0m\u001b[0;34m)\u001b[0m\u001b[0;34m\u001b[0m\u001b[0m\n\u001b[0m",
      "\u001b[0;32m//anaconda/lib/python3.5/site-packages/sklearn/linear_model/logistic.py\u001b[0m in \u001b[0;36mpredict_proba\u001b[0;34m(self, X)\u001b[0m\n\u001b[1;32m   1247\u001b[0m         \"\"\"\n\u001b[1;32m   1248\u001b[0m         \u001b[0;32mif\u001b[0m \u001b[0;32mnot\u001b[0m \u001b[0mhasattr\u001b[0m\u001b[0;34m(\u001b[0m\u001b[0mself\u001b[0m\u001b[0;34m,\u001b[0m \u001b[0;34m\"coef_\"\u001b[0m\u001b[0;34m)\u001b[0m\u001b[0;34m:\u001b[0m\u001b[0;34m\u001b[0m\u001b[0m\n\u001b[0;32m-> 1249\u001b[0;31m             \u001b[0;32mraise\u001b[0m \u001b[0mNotFittedError\u001b[0m\u001b[0;34m(\u001b[0m\u001b[0;34m\"Call fit before prediction\"\u001b[0m\u001b[0;34m)\u001b[0m\u001b[0;34m\u001b[0m\u001b[0m\n\u001b[0m\u001b[1;32m   1250\u001b[0m         \u001b[0mcalculate_ovr\u001b[0m \u001b[0;34m=\u001b[0m \u001b[0mself\u001b[0m\u001b[0;34m.\u001b[0m\u001b[0mcoef_\u001b[0m\u001b[0;34m.\u001b[0m\u001b[0mshape\u001b[0m\u001b[0;34m[\u001b[0m\u001b[0;36m0\u001b[0m\u001b[0;34m]\u001b[0m \u001b[0;34m==\u001b[0m \u001b[0;36m1\u001b[0m \u001b[0;32mor\u001b[0m \u001b[0mself\u001b[0m\u001b[0;34m.\u001b[0m\u001b[0mmulti_class\u001b[0m \u001b[0;34m==\u001b[0m \u001b[0;34m\"ovr\"\u001b[0m\u001b[0;34m\u001b[0m\u001b[0m\n\u001b[1;32m   1251\u001b[0m         \u001b[0;32mif\u001b[0m \u001b[0mcalculate_ovr\u001b[0m\u001b[0;34m:\u001b[0m\u001b[0;34m\u001b[0m\u001b[0m\n",
      "\u001b[0;31mNotFittedError\u001b[0m: Call fit before prediction"
     ]
    }
   ],
   "source": [
    "log_loss(df_y_test, lin_cl.predict_proba(df_X_test)[:,1])"
   ]
  },
  {
   "cell_type": "code",
   "execution_count": 110,
   "metadata": {
    "collapsed": true
   },
   "outputs": [],
   "source": [
    "xgb = xgboost.XGBClassifier(n_estimators=150)"
   ]
  },
  {
   "cell_type": "code",
   "execution_count": 111,
   "metadata": {
    "collapsed": false
   },
   "outputs": [
    {
     "ename": "AttributeError",
     "evalue": "'list' object has no attribute 'T'",
     "output_type": "error",
     "traceback": [
      "\u001b[0;31m---------------------------------------------------------------------------\u001b[0m",
      "\u001b[0;31mAttributeError\u001b[0m                            Traceback (most recent call last)",
      "\u001b[0;32m<ipython-input-111-7c3920290f9c>\u001b[0m in \u001b[0;36m<module>\u001b[0;34m()\u001b[0m\n\u001b[0;32m----> 1\u001b[0;31m \u001b[0mxgb\u001b[0m\u001b[0;34m.\u001b[0m\u001b[0mfit\u001b[0m\u001b[0;34m(\u001b[0m\u001b[0mdf_X_train\u001b[0m\u001b[0;34m.\u001b[0m\u001b[0mvalues\u001b[0m\u001b[0;34m,\u001b[0m \u001b[0mnp\u001b[0m\u001b[0;34m.\u001b[0m\u001b[0marray\u001b[0m\u001b[0;34m(\u001b[0m\u001b[0mdf_y_train\u001b[0m\u001b[0;34m.\u001b[0m\u001b[0mT\u001b[0m\u001b[0;34m)\u001b[0m\u001b[0;34m[\u001b[0m\u001b[0;36m0\u001b[0m\u001b[0;34m]\u001b[0m\u001b[0;34m)\u001b[0m\u001b[0;34m\u001b[0m\u001b[0m\n\u001b[0m",
      "\u001b[0;31mAttributeError\u001b[0m: 'list' object has no attribute 'T'"
     ]
    }
   ],
   "source": [
    "xgb.fit(df_X_train.values, np.array(df_y_train.T)[0])"
   ]
  },
  {
   "cell_type": "code",
   "execution_count": 332,
   "metadata": {
    "collapsed": false
   },
   "outputs": [
    {
     "data": {
      "text/plain": [
       "0.67831329690948727"
      ]
     },
     "execution_count": 332,
     "metadata": {},
     "output_type": "execute_result"
    }
   ],
   "source": [
    "log_loss(df_y_test, xgb.predict_proba(df_X_test)[:,1])"
   ]
  },
  {
   "cell_type": "code",
   "execution_count": 122,
   "metadata": {
    "collapsed": true
   },
   "outputs": [],
   "source": [
    "lin_cl = linear_model.LogisticRegression(C=0.8)"
   ]
  },
  {
   "cell_type": "code",
   "execution_count": 128,
   "metadata": {
    "collapsed": false
   },
   "outputs": [
    {
     "data": {
      "text/plain": [
       "LogisticRegression(C=0.8, class_weight=None, dual=False, fit_intercept=True,\n",
       "          intercept_scaling=1, max_iter=100, multi_class='ovr', n_jobs=1,\n",
       "          penalty='l2', random_state=None, solver='liblinear', tol=0.0001,\n",
       "          verbose=0, warm_start=False)"
      ]
     },
     "execution_count": 128,
     "metadata": {},
     "output_type": "execute_result"
    }
   ],
   "source": [
    "lin_cl.fit(train_data, train_labels.values.T[0])"
   ]
  },
  {
   "cell_type": "code",
   "execution_count": 130,
   "metadata": {
    "collapsed": true
   },
   "outputs": [],
   "source": [
    "xgb_cl = xgb.XGBClassifier(max_depth=8, learning_rate=0.01, n_estimators=150)"
   ]
  },
  {
   "cell_type": "code",
   "execution_count": 131,
   "metadata": {
    "collapsed": false
   },
   "outputs": [
    {
     "data": {
      "text/plain": [
       "XGBClassifier(base_score=0.5, colsample_bylevel=1, colsample_bytree=1,\n",
       "       gamma=0, learning_rate=0.01, max_delta_step=0, max_depth=8,\n",
       "       min_child_weight=1, missing=None, n_estimators=150, nthread=-1,\n",
       "       objective='binary:logistic', reg_alpha=0, reg_lambda=1,\n",
       "       scale_pos_weight=1, seed=0, silent=True, subsample=1)"
      ]
     },
     "execution_count": 131,
     "metadata": {},
     "output_type": "execute_result"
    }
   ],
   "source": [
    "xgb_cl.fit(train_data, train_labels.values.T[0])"
   ]
  },
  {
   "cell_type": "code",
   "execution_count": 132,
   "metadata": {
    "collapsed": true
   },
   "outputs": [],
   "source": [
    "lin_reg_best = pd.read_csv('lin_reg.csv')"
   ]
  },
  {
   "cell_type": "code",
   "execution_count": 133,
   "metadata": {
    "collapsed": true
   },
   "outputs": [],
   "source": [
    "xgb_best = pd.read_csv('mighty_xgboost-2.csv')"
   ]
  },
  {
   "cell_type": "code",
   "execution_count": 136,
   "metadata": {
    "collapsed": false
   },
   "outputs": [],
   "source": [
    "lin_reg_best.drop('Id', axis=1, inplace=True)"
   ]
  },
  {
   "cell_type": "code",
   "execution_count": 137,
   "metadata": {
    "collapsed": true
   },
   "outputs": [],
   "source": [
    "xgb_best.drop('Id', axis=1, inplace=True)"
   ]
  },
  {
   "cell_type": "code",
   "execution_count": 141,
   "metadata": {
    "collapsed": false
   },
   "outputs": [],
   "source": [
    "lin_values = lin_reg_best.values.T[0]\n",
    "xgb_values = xgb_best.values.T[0]"
   ]
  },
  {
   "cell_type": "code",
   "execution_count": 160,
   "metadata": {
    "collapsed": true
   },
   "outputs": [],
   "source": [
    "alpha = 0.75"
   ]
  },
  {
   "cell_type": "code",
   "execution_count": 161,
   "metadata": {
    "collapsed": false
   },
   "outputs": [],
   "source": [
    "y_pred = lin_values * alpha + xgb_values * (1 - alpha) "
   ]
  },
  {
   "cell_type": "code",
   "execution_count": null,
   "metadata": {
    "collapsed": true
   },
   "outputs": [],
   "source": []
  },
  {
   "cell_type": "code",
   "execution_count": null,
   "metadata": {
    "collapsed": true
   },
   "outputs": [],
   "source": []
  },
  {
   "cell_type": "code",
   "execution_count": null,
   "metadata": {
    "collapsed": true
   },
   "outputs": [],
   "source": []
  },
  {
   "cell_type": "markdown",
   "metadata": {},
   "source": [
    "# Вывод ответа"
   ]
  },
  {
   "cell_type": "code",
   "execution_count": null,
   "metadata": {
    "collapsed": true
   },
   "outputs": [],
   "source": []
  },
  {
   "cell_type": "code",
   "execution_count": 162,
   "metadata": {
    "collapsed": false
   },
   "outputs": [],
   "source": [
    "ss = sample_submission.copy()\n",
    "ss.target = y_pred\n",
    "ss.to_csv('ans.csv', index=False)"
   ]
  },
  {
   "cell_type": "code",
   "execution_count": null,
   "metadata": {
    "collapsed": true
   },
   "outputs": [],
   "source": []
  },
  {
   "cell_type": "code",
   "execution_count": null,
   "metadata": {
    "collapsed": true
   },
   "outputs": [],
   "source": []
  },
  {
   "cell_type": "code",
   "execution_count": null,
   "metadata": {
    "collapsed": true
   },
   "outputs": [],
   "source": []
  },
  {
   "cell_type": "code",
   "execution_count": null,
   "metadata": {
    "collapsed": true
   },
   "outputs": [],
   "source": []
  },
  {
   "cell_type": "markdown",
   "metadata": {},
   "source": [
    "# Попытка n2"
   ]
  },
  {
   "cell_type": "code",
   "execution_count": 178,
   "metadata": {
    "collapsed": false
   },
   "outputs": [
    {
     "data": {
      "text/plain": [
       "array([ 19,  28,  30,  31,  33,  35,  37,  38,  40,  42,  44,  46,  47,\n",
       "        49,  51,  53,  54,  56,  58,  60,  61,  63,  65,  67,  69,  70,\n",
       "        72,  74,  76,  77,  79,  81,  83,  84,  86,  93,  95,  97,  99,\n",
       "       100, 104, 106, 107, 109, 111, 113, 115, 116, 118, 120, 122, 123,\n",
       "       125, 127, 129, 130, 132, 134, 136, 138, 139, 141, 143, 145, 146,\n",
       "       148, 150, 152, 153, 155, 157, 159, 161, 162, 164, 166, 168, 169,\n",
       "       171, 173, 175, 177, 178, 180, 182, 184, 185, 187, 189, 191, 192,\n",
       "       194, 196, 198, 200, 201, 203, 205, 207, 208, 210, 212, 214, 215,\n",
       "       217, 219, 221, 223, 224, 226, 228, 230, 231, 233,  88,  90, 102,\n",
       "        92,  26,  21,  23,  24,  17,  14,  15,   0,   1,   3,   5,   7,\n",
       "         8,  10,  12])"
      ]
     },
     "execution_count": 178,
     "metadata": {},
     "output_type": "execute_result"
    }
   ],
   "source": [
    "train.day.unique()"
   ]
  },
  {
   "cell_type": "code",
   "execution_count": 179,
   "metadata": {
    "collapsed": false
   },
   "outputs": [],
   "source": [
    "years = train.year.unique()"
   ]
  },
  {
   "cell_type": "code",
   "execution_count": 171,
   "metadata": {
    "collapsed": false
   },
   "outputs": [
    {
     "ename": "NameError",
     "evalue": "name 'y' is not defined",
     "output_type": "error",
     "traceback": [
      "\u001b[0;31m---------------------------------------------------------------------------\u001b[0m",
      "\u001b[0;31mNameError\u001b[0m                                 Traceback (most recent call last)",
      "\u001b[0;32m<ipython-input-171-ae74954e2cba>\u001b[0m in \u001b[0;36m<module>\u001b[0;34m()\u001b[0m\n\u001b[0;32m----> 1\u001b[0;31m \u001b[0mdf_3003\u001b[0m \u001b[0;34m=\u001b[0m \u001b[0mtrain\u001b[0m\u001b[0;34m[\u001b[0m \u001b[0mtrain\u001b[0m\u001b[0;34m[\u001b[0m\u001b[0my\u001b[0m\u001b[0;34m]\u001b[0m\u001b[0;34m]\u001b[0m\u001b[0;34m\u001b[0m\u001b[0m\n\u001b[0m",
      "\u001b[0;31mNameError\u001b[0m: name 'y' is not defined"
     ]
    }
   ],
   "source": [
    "df_3003 = train[ train[y]]"
   ]
  },
  {
   "cell_type": "code",
   "execution_count": 176,
   "metadata": {
    "collapsed": false
   },
   "outputs": [
    {
     "name": "stdout",
     "output_type": "stream",
     "text": [
      "[ 19  28  30  31  33  35  37  38  40  42  44  46  47  49  51  53  54  56\n",
      "  58  60  61  63  65  67  69  70  72  74  76  77  79  81  83  84  86  93\n",
      "  95  97  99 100 104 106 107 109 111 113 115 116 118 120 122 123 125 127\n",
      " 129 130 132 134 136 138 139 141 143 145 146 148 150 152 153 155 157 159\n",
      " 161 162 164 166 168 169 171 173 175 177 178 180 182 184 185 187 189 191\n",
      " 192 194 196 198 200 201 203 205 207 208 210 212 214 215 217 219 221 223\n",
      " 224 226 228 230 231 233]\n",
      "\n",
      "\n",
      "[ 28  30  31  33  40  42  44  46  51  53  54  56  58  60  61  63  65  67\n",
      "  69  70  72  74  76  77  79  81  83  84  86  88  90  95  97  99 100 102\n",
      " 104 107 109 111 113 115 116 118 120 122 123 125 127 129 130 132 134 136\n",
      " 138 139 141 143 145 146 148 150 152 153 155 157 159 161 162 164 166 168\n",
      " 169 171 173 175 177 178 180 182 184 185 187 189 191 192 194 196 198 200\n",
      " 201 203 205 207 208 210 212 214 215 217 219 221 223 224 226 228 230 231\n",
      " 233]\n",
      "\n",
      "\n",
      "[ 28  30  31  33  37  40  42  44  46  47  49  51  53  54  56  58  60  61\n",
      "  63  65  67  69  70  72  74  76  77  79  81  83  84  86  88  90  92  93\n",
      "  99 100 102 104 106 107 109 111 113 115 116 118 120 122 123 125 127 129\n",
      " 130 132 134 136 138 139 141 143 145 146 148 150 152 153 155 157 159 161\n",
      " 162 164 166 168 169 171 173 175 177 178 180 182 184 185 187 189 191 192\n",
      " 194 196 198 200 201 203 205 207 208 210 212 214 215 217 219 221 223 224\n",
      " 226 228 230 231 233]\n",
      "\n",
      "\n",
      "[ 28  30  31  33  37  38  40  42  44  46  47  49  51  53  54  56  58  60\n",
      "  61  63  65  67  69  70  72  74  76  77  79  81  83  84  86  88  90  92\n",
      "  93 100 102 104 106 107 109 111 113 115 116 118 120 122 123 125 127 129\n",
      " 130 132 134 136 138 139 141 143 145 146 148 150 152 153 155 157 159 161\n",
      " 162 164 166 168 169 171 173 175 177 178 180 182 184 185 187 189 191 192\n",
      " 194 196 198 200 201 203 205 207 208 210 212 214 215 217 219 221 223 224\n",
      " 226 228 230 231 233]\n",
      "\n",
      "\n",
      "[ 28  30  31  37  38  40  42  44  46  47  49  51  53  54  56  58  60  61\n",
      "  63  65  67  69  70  72  74  76  77  79  81  83  84  86  88  90  92  93\n",
      "  95 102 104 106 107 109 111 113 115 116 118 120 122 123 125 127 129 130\n",
      " 132 134 136 138 139 141 143 145 146 148 150 152 153 155 157 159 161 162\n",
      " 164 166 168 169 171 173 175 177 178 180 182 184 185 187 189 191 192 194\n",
      " 196 198 200 201 203 205 207 208 210 212 214 215 217 219 221 223 224 226\n",
      " 228 230 231 233]\n",
      "\n",
      "\n",
      "[ 31  40  44  46  47  49  51  53  54  56  58  60  61  63  65  67  69  70\n",
      "  72  74  76  77  79  81  83  84  86  88  90  92  93  95  97  99 104 106\n",
      " 107 109 111 113 115 116 118 120 122 123 125 127 129 130 132 134 136 138\n",
      " 139 141 145 146 148 150 152 153 155 157 159 161 162 164 166 168 169 171\n",
      " 173 175 177 178 180 182 184 185 187 189 191 192 194 196 198 200 201 203\n",
      " 205 207 208 210 212 214 215 217 219 221 223 224 226 228 230 231 233]\n",
      "\n",
      "\n",
      "[ 26  28  31  33  35  37  38  40  42  44  46  47  49  51  53  54  56  58\n",
      "  60  61  63  65  67  69  70  72  74  76  77  79  81  83  84  86  88  90\n",
      "  92  93  95  97  99 100 102 104 106 107 109 111 113 115 118 120 122 123\n",
      " 125 127 129 130 132 134 136 138 139 141 143 145 146 148 150 152 153 155\n",
      " 157 159 161 162 164 166 168 169 171 173 175 177 178 180 182 184 185 187\n",
      " 189 191 192 194 196 198 200 201 203 205 207 208 210 212 214 215 217 219\n",
      " 221 223 224 226 228 230 231 233]\n",
      "\n",
      "\n",
      "[ 21  23  24  26  28  30  31  33  35  37  38  40  42  44  46  47  49  51\n",
      "  53  54  56  58  60  61  63  65  67  69  70  72  74  76  77  79  81  83\n",
      "  84  86  88  90  92  93  95  97  99 100 102 104 107 109 111 113 115 116\n",
      " 120 122 123 125 127 129 130 132 134 136 138 139 141 143 145 146 148 150\n",
      " 152 153 155 157 159 161 162 164 166 168 169 171 173 175 177 178 180 182\n",
      " 184 185 187 189 191 192 194 196 198 200 201 203 205 207 208 210 212 214\n",
      " 215 217 219 221 223 224 226 228 230 231 233]\n",
      "\n",
      "\n",
      "[ 17  19  21  23  26  28  30  31  33  35  37  38  40  42  44  46  47  49\n",
      "  51  53  54  56  58  60  61  63  65  67  69  70  72  74  76  77  79  81\n",
      "  83  84  86  88  90  92  99 100 102 104 106 107 109 111 113 115 116 118\n",
      " 120 122 123 125 127 129 130 132 134 136 138 139 141 143 145 146 148 150\n",
      " 152 153 155 157 159 161 162 164 166 168 169 171 173 175 177 178 180 182\n",
      " 184 185 187 189 191 192 194 196 198 200 201 203 205 207 208 210 212 214\n",
      " 215 217 219 221 223 224 226 228 230 231 233]\n",
      "\n",
      "\n",
      "[ 17  19  21  24  26  28  30  31  33  35  37  38  40  42  44  46  47  49\n",
      "  51  53  54  56  58  60  61  63  65  67  69  70  72  74  76  77  79  81\n",
      "  83  84  86  88  90  92  93  95 100 102 104 106 107 109 111 113 115 116\n",
      " 118 120 122 123 125 127 129 130 132 134 136 138 139 141 143 145 146 148\n",
      " 150 152 153 155 157 159 161 162 164 166 168 169 171 173 175 177 178 180\n",
      " 182 184 185 187 189 191 192 194 196 198 200 201 203 205 207 208 210 212\n",
      " 214 215 217 219 221 223 224 226 228 230 231 233]\n",
      "\n",
      "\n",
      "[ 17  19  24  26  28  30  31  33  35  37  38  40  42  44  46  47  49  51\n",
      "  53  54  56  58  60  61  63  65  67  69  70  72  74  76  77  79  81  83\n",
      "  84  86  88  90  92  93  95  97 102 104 106 107 109 111 113 115 116 118\n",
      " 120 122 123 125 127 129 130 132 134 136 138 139 141 143 145 146 148 150\n",
      " 152 153 155 157 159 161 162 164 166 168 169 171 173 175 177 178 180 182\n",
      " 184 185 187 189 191 192 194 196 198 200 201 203 205 207 208 210 212 214\n",
      " 215 217 219 221 223 224 226 228 230 231 233]\n",
      "\n",
      "\n",
      "[ 17  19  21  23  24  26  28  30  31  33  35  37  38  40  42  44  46  47\n",
      "  49  51  53  54  56  58  60  61  63  65  67  69  70  72  74  76  77  79\n",
      "  81  83  84  86  93  95  97  99 100 102 104 106 107 109 111 113 115 116\n",
      " 118 120 122 123 125 127 129 130 132 134 136 138 139 141 143 145 146 148\n",
      " 150 152 153 155 157 159 161 162 164 166 168 169 171 173 175 177 178 180\n",
      " 182 184 185 187 189 191 192 194 196 198 200 201 203 205 207 208 210 212\n",
      " 214 215 217 219 221 223 224 226 228 230 231 233]\n",
      "\n",
      "\n",
      "[ 17  19  21  23  24  26  28  30  31  33  35  37  38  40  42  44  46  47\n",
      "  49  51  53  54  56  58  60  61  63  65  67  69  70  72  74  76  77  79\n",
      "  81  83  84  86  88  95  97  99 100 102 104 106 107 109 111 113 115 116\n",
      " 118 120 122 123 125 127 129 130 132 134 136 138 139 141 143 145 146 148\n",
      " 150 152 153 155 157 159 161 162 164 166 168 169 171 173 175 177 178 180\n",
      " 182 184 185 187 189 191 192 194 196 198 200 201 203 205 207 208 210 212\n",
      " 214 215 217 219 221 223 224 226 228 230 231 233]\n",
      "\n",
      "\n",
      "[ 17  19  21  23  24  26  28  30  31  33  35  37  38  40  42  44  46  47\n",
      "  49  51  53  54  56  58  60  61  63  65  67  69  70  72  74  76  77  79\n",
      "  81  83  84  86  88  90  92  93  99 100 102 104 106 107 109 111 113 115\n",
      " 116 118 120 122 123 125 127 129 130 132 134 136 138 139 141 143 145 146\n",
      " 148 150 152 153 155 157 159 161 162 164 166 168 169 171 173 175 177 178\n",
      " 180 182 184 185 187 189 191 192 194 196 198 200 201 203 205 207 208 210\n",
      " 212 214 215 217 219 221 223 224 226 228 230 231 233]\n",
      "\n",
      "\n",
      "[ 14  15  17  19  21  23  24  26  28  30  31  33  35  37  38  40  42  44\n",
      "  46  47  49  51  53  54  56  58  60  61  63  65  67  69  70  72  74  76\n",
      "  77  79  81  83  84  86  88  90  92  93  95 100 102 104 106 107 109 111\n",
      " 113 115 116 118 120 122 123 125 127 129 130 132 134 136 138 139 141 143\n",
      " 145 146 148 150 152 153 155 157 159 161 162 164 166 168 169 171 173 175\n",
      " 177 178 180 182 184 185 187 189 191 192 194 196 198 200 201 203 205 207\n",
      " 208 210 212 214 215 217 219 221 223 224 226 228 230 231 233]\n",
      "\n",
      "\n",
      "[ 14  15  17  19  21  23  24  26  28  30  31  33  35  37  38  40  42  44\n",
      "  46  47  49  51  53  54  56  58  60  61  63  65  67  69  70  72  74  76\n",
      "  77  79  81  83  84  86  88  90  92  93  95 102 104 106 107 109 111 113\n",
      " 115 116 118 120 122 123 125 127 129 130 132 134 136 138 139 141 143 145\n",
      " 146 148 150 152 153 155 157 159 161 162 164 166 168 169 171 173 175 177\n",
      " 178 180 182 184 185 187 189 191 192 194 196 198 200 201 203 205 207 208\n",
      " 210 212 214 215 217 219 221 223 224 226 228 230 231 233]\n",
      "\n",
      "\n",
      "[  0   1   3   5   7   8  10  12  14  15  17  19  21  23  24  26  28  30\n",
      "  31  33  35  37  38  40  42  44  46  47  49  51  53  54  56  58  60  61\n",
      "  63  65  67  69  70  72  74  76  77  79  81  83  84  90  92  93  95  97\n",
      "  99 100 102 104 106 107 109 111 113 115 116 118 120 122 123 125 127 129\n",
      " 130 132 134 136 138 139 141 143 145 146 148 150 152 153 155 157 159 161\n",
      " 162 164 166 168 169 171 173 175 177 178 180 182 184 185 187 189 191 192\n",
      " 194 196 198 200 201 203 205 207 208 210 212 214 215 217 219 221 223 224\n",
      " 226 228 230 231 233]\n",
      "\n",
      "\n",
      "[ 12  14  15  17  19  21  23  24  26  28  30  31  33  35  37  38  40  42\n",
      "  44  46  47  49  51  53  54  56  58  60  61  63  65  67  69  70  72  74\n",
      "  76  77  79  81  83  84  86  88  93  95  97  99 100 102 104 106 107 109\n",
      " 111 113 115 116 118 120 122 123 125 127 129 130 132 134 136 138 139 141\n",
      " 143 145 146 148 150 152 153 155 157 159 161 162 164 166 168 169 171 173\n",
      " 175 177 178 180 182 184 185 187 189 191 192 194 196 198 200 201 203 205\n",
      " 207 208 210 212 214 215 217 219 221 223 224 226 228 230 231 233]\n",
      "\n",
      "\n",
      "[ 12  15  17  19  21  23  24  26  28  30  31  33  35  37  38  40  42  44\n",
      "  46  47  49  51  53  54  56  58  60  61  63  65  67  69  70  72  74  76\n",
      "  77  79  81  83  84  86  88  90  93  95  97  99 100 102 104 106 107 109\n",
      " 111 113 115 116 118 120 122 123 125 127 129 130 132 134 136 138 139 141\n",
      " 143 145 146 148 150 152 153 155 157 159 161 162 164 166 168 169 171 173\n",
      " 175 177 178 180 182 184 185 187 189 191 192 194 196 198 200 201 203 205\n",
      " 207 208 210 212 214 215 217 219 221 223 224 226 228 230 231 233]\n",
      "\n",
      "\n",
      "[ 12  15  19  21  23  24  26  28  30  31  33  35  37  38  40  42  44  46\n",
      "  47  49  51  53  54  56  58  60  61  63  65  67  69  70  72  74  76  77\n",
      "  79  81  83  84  86  88  90  92  93  95  97  99 100 102 104 106 107 109\n",
      " 111 113 115 116 118 120 122 123 125 127 129 130 132 134 136 138 139 141\n",
      " 143 145 146 148 150 152 153 155 157 159 161 162 164 166 168 169 171 173\n",
      " 175 177 178 180 182 184 185 187 189 191 192 194 196 198 200 201 203 205\n",
      " 207 208 210 212 214 215 217 219 221 223 224 226 228 230 231 233]\n",
      "\n",
      "\n",
      "[ 12  15  19  21  23  24  26  28  30  31  33  35  37  38  40  42  44  46\n",
      "  47  49  51  53  54  56  58  60  61  63  65  67  69  70  72  74  76  77\n",
      "  79  81  83  84  86  88  90  92  93  97 100 102 104 106 107 109 111 113\n",
      " 115 116 118 120 122 123 125 127 129 130 132 134 136 138 139 141 143 145\n",
      " 146 148 150 152 153 155 157 159 161 162 164 166 168 169 171 173 175 177\n",
      " 178 180 182 184 185 187 189 191 192 194 196 198 200 201 203 205 207 208\n",
      " 210 212 214 215 217 219 221 223 224 226 228 230 231 233]\n",
      "\n",
      "\n",
      "[  7   8  10  12  14  15  17  19  21  23  24  26  28  30  31  33  35  37\n",
      "  38  40  42  44  46  47  49  51  53  54  56  58  60  61  63  65  67  69\n",
      "  70  72  74  76  77  79  81  83  84  88  92  93  95  97  99 100 102 104\n",
      " 106 107 109 111 113 115 116 118 120 122 123 125 127 129 130 132 134 136\n",
      " 138 139 141 143 145 146 148 150 152 153 155 157 159 161 162 164 166 168\n",
      " 169 171 173 175 177 178 180 182 184 185 187 189 191 192 194 196 198 200\n",
      " 201 203 205 207 208 210 212 214 215 217 219 221 223 224 226 228 230 231\n",
      " 233]\n",
      "\n",
      "\n"
     ]
    }
   ],
   "source": [
    "df_years = []\n",
    "for year in years:\n",
    "    df_year = train[ train['year'] == year]\n",
    "    print df_year.day.unique()\n",
    "    print '\\n'"
   ]
  },
  {
   "cell_type": "code",
   "execution_count": 162,
   "metadata": {
    "collapsed": false
   },
   "outputs": [
    {
     "data": {
      "text/plain": [
       "numpy.ndarray"
      ]
     },
     "execution_count": 162,
     "metadata": {},
     "output_type": "execute_result"
    }
   ],
   "source": [
    "type(df_years[0])"
   ]
  },
  {
   "cell_type": "code",
   "execution_count": 166,
   "metadata": {
    "collapsed": false
   },
   "outputs": [
    {
     "ename": "AttributeError",
     "evalue": "'list' object has no attribute 'find'",
     "output_type": "error",
     "traceback": [
      "\u001b[0;31m---------------------------------------------------------------------------\u001b[0m",
      "\u001b[0;31mAttributeError\u001b[0m                            Traceback (most recent call last)",
      "\u001b[0;32m<ipython-input-166-78bb26df31ef>\u001b[0m in \u001b[0;36m<module>\u001b[0;34m()\u001b[0m\n\u001b[1;32m      2\u001b[0m \u001b[0;32mfor\u001b[0m \u001b[0mi\u001b[0m \u001b[0;32min\u001b[0m \u001b[0mrange\u001b[0m\u001b[0;34m(\u001b[0m\u001b[0;36m50\u001b[0m\u001b[0;34m)\u001b[0m\u001b[0;34m:\u001b[0m\u001b[0;34m\u001b[0m\u001b[0m\n\u001b[1;32m      3\u001b[0m     \u001b[0;32mfor\u001b[0m \u001b[0mj\u001b[0m \u001b[0;32min\u001b[0m \u001b[0mrange\u001b[0m\u001b[0;34m(\u001b[0m\u001b[0mlen\u001b[0m\u001b[0;34m(\u001b[0m\u001b[0mdf_years\u001b[0m\u001b[0;34m)\u001b[0m\u001b[0;34m)\u001b[0m\u001b[0;34m:\u001b[0m\u001b[0;34m\u001b[0m\u001b[0m\n\u001b[0;32m----> 4\u001b[0;31m         \u001b[0;32mif\u001b[0m \u001b[0mlist\u001b[0m\u001b[0;34m(\u001b[0m\u001b[0mdf_years\u001b[0m\u001b[0;34m[\u001b[0m\u001b[0mj\u001b[0m\u001b[0;34m]\u001b[0m\u001b[0;34m)\u001b[0m\u001b[0;34m.\u001b[0m\u001b[0mfind\u001b[0m\u001b[0;34m(\u001b[0m\u001b[0mi\u001b[0m\u001b[0;34m)\u001b[0m\u001b[0;34m<\u001b[0m\u001b[0;36m0\u001b[0m\u001b[0;34m:\u001b[0m\u001b[0;34m\u001b[0m\u001b[0m\n\u001b[0m\u001b[1;32m      5\u001b[0m                    \u001b[0;32mbreak\u001b[0m\u001b[0;34m\u001b[0m\u001b[0m\n\u001b[1;32m      6\u001b[0m         \u001b[0;32melse\u001b[0m\u001b[0;34m:\u001b[0m\u001b[0;34m\u001b[0m\u001b[0m\n",
      "\u001b[0;31mAttributeError\u001b[0m: 'list' object has no attribute 'find'"
     ]
    }
   ],
   "source": [
    "\n",
    "for i in range(50):\n",
    "    for j in range(len(df_years)):\n",
    "        if df_years[j] <0:\n",
    "                   break\n",
    "        else:\n",
    "            tmp = i\n",
    "    continue\n",
    "                   "
   ]
  },
  {
   "cell_type": "code",
   "execution_count": 188,
   "metadata": {
    "collapsed": false
   },
   "outputs": [
    {
     "name": "stdout",
     "output_type": "stream",
     "text": [
      "   year  day  team1  team2  score1  score2 target\n",
      "0  2998   19    317    131     336     278   True\n",
      "1  2998   28     61     29     301     259   True\n",
      "      year  day  team1  team2  score1  score2 target\n",
      "4117  2998  233     50    308     247     243   True\n",
      "4118  2998  233     81    214     363     286   True\n",
      "4119  2998  233    300    122     278     352  False\n",
      "4120  2998  233    229    142     220     255  False\n",
      "4121  2998  233      4    146     208     309  False\n",
      "4122  2998  233     23    175     220     224  False\n",
      "4123  2998  233    134    177     205     247  False\n",
      "4124  2998  233    208    234     286     282   True\n",
      "4125  2998  233    245    131     236     228   True\n",
      "4126  2998  233    107    293     208     216  False\n",
      "      year  day  team1  team2  score1  score2 target\n",
      "4127  2999   28     99    273     344     309   True\n",
      "4128  2999   28    193    131     309     398  False\n",
      "      year  day  team1  team2  score1  score2 target\n",
      "8101  2999  233    110    214     297     290   True\n",
      "8102  2999  233    131    358     336     309   True\n",
      "8103  2999  233    161    146     251     317  False\n",
      "8104  2999  233    208    153     239     270  False\n",
      "8105  2999  233    157    333     348     301   True\n",
      "8106  2999  233    181    143     263     216   True\n",
      "8107  2999  233    293    271     270     398  False\n",
      "8108  2999  233    303    122     340     294   True\n",
      "      year  day  team1  team2  score1  score2 target\n",
      "8109  3000   28     43    265     313     286   True\n",
      "8110  3000   28     53     39     348     278   True\n",
      "       year  day  team1  team2  score1  score2 target\n",
      "12162  3000  233    146     96     282     232   True\n",
      "12163  3000  233    157    279     267     236   True\n",
      "12164  3000  233    229    204     263     297  False\n",
      "12165  3000  233    208    314     270     247   True\n",
      "12166  3000  233    338    214     255     282  False\n",
      "12167  3000  233    244    107     286     247   True\n",
      "12168  3000  233    311    138     270     259   True\n",
      "       year  day  team1  team2  score1  score2 target\n",
      "12169  3001   28    143      4     185     305  False\n",
      "12170  3001   28     45    235     313     301   True\n",
      "       year  day  team1  team2  score1  score2 target\n",
      "16237  3001  233    134    131     305     425  False\n",
      "16238  3001  233    146     16     367     359   True\n",
      "16239  3001  233    205    153     267     294  False\n",
      "16240  3001  233    279    157     247     301  False\n",
      "16241  3001  233    135    229     205     239  False\n",
      "16242  3001  233    245    176     282     259   True\n",
      "16243  3001  233    190    311     239     290  False\n",
      "16244  3001  233    337     63     363     301   True\n",
      "16245  3001  233    348    214     317     309   True\n",
      "       year  day  team1  team2  score1  score2 target\n",
      "16246  3002   28    153     12     220     352  False\n",
      "16247  3002   28     16    319     290     259   True\n",
      "       year  day  team1  team2  score1  score2 target\n",
      "20363  3002  233    177    131     205     220  False\n",
      "20364  3002  233    135    142     216     212   True\n",
      "20365  3002  233    180    146     325     282   True\n",
      "20366  3002  233    329    263     290     294  False\n",
      "20367  3002  233    348    110     290     286   True\n",
      "       year  day  team1  team2  score1  score2 target\n",
      "20368  3003   31    146     55     274     305  False\n",
      "20369  3003   31     63    131     236     263  False\n",
      "       year  day  team1  team2  score1  score2 target\n",
      "24518  3003  233    181    142     232     336  False\n",
      "24519  3003  233    146    108     367     263   True\n",
      "24520  3003  233    176    226     332     313   True\n",
      "24521  3003  233    201    214     208     247  False\n",
      "24522  3003  233    234    205     243     212   True\n",
      "       year  day  team1  team2  score1  score2 target\n",
      "24523  3004   26    108    201     174     181  False\n",
      "24524  3004   26    207    325     379     294   True\n",
      "       year  day  team1  team2  score1  score2 target\n",
      "28685  3004  233    142    228     278     224   True\n",
      "28686  3004  233    146    276     332     216   True\n",
      "28687  3004  233    245    176     259     294  False\n",
      "28688  3004  233    214     81     321     263   True\n",
      "28689  3004  233    234    329     243     301  False\n",
      "       year  day  team1  team2  score1  score2 target\n",
      "28690  3005   21    131    271     321     267   True\n",
      "28691  3005   21    276    334     236     259  False\n",
      "       year  day  team1  team2  score1  score2 target\n",
      "32907  3005  233      8    280     344     321   True\n",
      "32908  3005  233     81    214     371     282   True\n",
      "32909  3005  233    142    229     205     143   True\n",
      "32910  3005  233     16    146     243     294  False\n",
      "32911  3005  233    177    128     259     193   True\n",
      "       year  day  team1  team2  score1  score2 target\n",
      "32912  3006   17    134     63     270     263   True\n",
      "32913  3006   17     81    290     305     309  False\n",
      "       year  day  team1  team2  score1  score2 target\n",
      "37427  3006  233     20     16     259     290  False\n",
      "37428  3006  233     81    168     313     263   True\n",
      "37429  3006  233    135    228     270     224   True\n",
      "37430  3006  233    177    128     294     236   True\n",
      "       year  day  team1  team2  score1  score2 target\n",
      "37431  3007   17    317    142     379     383  False\n",
      "37432  3007   17    285    146     239     236   True\n",
      "       year  day  team1  team2  score1  score2 target\n",
      "41894  3007  233     81    214     305     205   True\n",
      "41895  3007  233    134    131     243     236   True\n",
      "41896  3007  233    146    179     297     212   True\n",
      "41897  3007  233    228    300     208     174   True\n",
      "       year  day  team1  team2  score1  score2 target\n",
      "41898  3008   17     12    168     274     259   True\n",
      "41899  3008   17     96    296     278     247   True\n",
      "       year  day  team1  team2  score1  score2 target\n",
      "46449  3008  233     81    201     352     236   True\n",
      "46450  3008  233      4    180     224     236  False\n",
      "46451  3008  233    134    226     247     313  False\n",
      "46452  3008  233    228    142     247     212   True\n",
      "       year  day  team1  team2  score1  score2 target\n",
      "46453  3009   17      4    228     263     239   True\n",
      "46454  3009   17    293    172     243     270  False\n",
      "       year  day  team1  team2  score1  score2 target\n",
      "51065  3009  233     81    201     325     297   True\n",
      "51066  3009  233    226    128     228     278  False\n",
      "51067  3009  233    180    146     220     247  False\n",
      "51068  3009  233    181    228     181     189  False\n",
      "       year  day  team1  team2  score1  score2 target\n",
      "51069  3010   17    166    285     201     174   True\n",
      "51070  3010   17    348    172     328     294   True\n",
      "       year  day  team1  team2  score1  score2 target\n",
      "55635  3010  233    146     96     344     282   True\n",
      "55636  3010  233     10    150     220     228  False\n",
      "55637  3010  233     81    168     336     367  False\n",
      "55638  3010  233    300    229     189     251  False\n",
      "55639  3010  233    358    128     270     205   True\n",
      "       year  day  team1  team2  score1  score2 target\n",
      "55640  3011   17      5     28     267     305  False\n",
      "55641  3011   17    315     43     236     301  False\n",
      "       year  day  team1  team2  score1  score2 target\n",
      "60309  3011  233      5      6     278     205   True\n",
      "60310  3011  233    110     81     247     267  False\n",
      "60311  3011  233    146     96     205     270  False\n",
      "60312  3011  233    358    128     166     208  False\n",
      "60313  3011  233    303    229     263     278  False\n",
      "60314  3011  233    222    268     162     189  False\n",
      "       year  day  team1  team2  score1  score2 target\n",
      "60315  3012   14    284     65     208     290  False\n",
      "60316  3012   14     26    293     143     263  False\n",
      "       year  day  team1  team2  score1  score2 target\n",
      "65067  3012  233     81     30     301     294   True\n",
      "65068  3012  233    276     96     181     189  False\n",
      "65069  3012  233    134    226     259     232   True\n",
      "65070  3012  233    300    142     263     309  False\n",
      "65071  3012  233    258    222     336     367  False\n",
      "       year  day  team1  team2  score1  score2 target\n",
      "65072  3013   14    168    114     394     290   True\n",
      "65073  3013   14    336    209     317     251   True\n",
      "       year  day  team1  team2  score1  score2 target\n",
      "70110  3013  233     96     16     297     216   True\n",
      "70111  3013  233    300    142     325     340  False\n",
      "70112  3013  233    214    201     344     309   True\n",
      "70113  3013  233    358    226     189     255  False\n",
      "70114  3013  233    294    222     313     301   True\n",
      "       year  day  team1  team2  score1  score2 target\n",
      "70115  3014    0    304    172     274     394  False\n",
      "70116  3014    0    163    250     162     170  False\n",
      "       year  day  team1  team2  score1  score2 target\n",
      "75273  3014  233    108     16     255     220   True\n",
      "75274  3014  233    300    142     286     325  False\n",
      "75275  3014  233     55    214     313     332  False\n",
      "75276  3014  233    326    222     317     305   True\n",
      "75277  3014  233    358    128     236     185   True\n",
      "       year  day  team1  team2  score1  score2 target\n",
      "75278  3015   12    242     81     189     309  False\n",
      "75279  3015   12    122    104     243     251  False\n",
      "       year  day  team1  team2  score1  score2 target\n",
      "80522  3015  233     69    234     274     255   True\n",
      "80523  3015  233     81     99     305     267   True\n",
      "80524  3015  233    180    297     247     236   True\n",
      "80525  3015  233    226    245     236     251  False\n",
      "80526  3015  233    327    272     220     263  False\n",
      "       year  day  team1  team2  score1  score2 target\n",
      "80527  3016   12     43    193     290     270   True\n",
      "80528  3016   12    214     98     340     278   True\n",
      "       year  day  team1  team2  score1  score2 target\n",
      "85786  3016  233    110     81     236     251  False\n",
      "85787  3016  233    180    146     286     290  False\n",
      "85788  3016  233    226    178     348     236   True\n",
      "85789  3016  233    296    250     216     201   True\n",
      "       year  day  team1  team2  score1  score2 target\n",
      "85790  3017   12    314    128     251     305  False\n",
      "85791  3017   12    168    270     406     294   True\n",
      "       year  day  team1  team2  score1  score2 target\n",
      "91032  3017  233     81    214     290     224   True\n",
      "91033  3017  233    146     96     270     208   True\n",
      "91034  3017  233    236    226     232     274  False\n",
      "91035  3017  233     73    250     208     259  False\n",
      "       year  day  team1  team2  score1  score2 target\n",
      "91036  3018   12     12    334     282     247   True\n",
      "91037  3018   12     84    180     255     294  False\n",
      "       year  day  team1  team2  score1  score2 target\n",
      "96285  3018  233    214     99     317     328  False\n",
      "96286  3018  233    226    177     247     263  False\n",
      "96287  3018  233    362    282     216     259  False\n",
      "96288  3018  233    146    335     247     274  False\n",
      "       year  day  team1  team2  score1  score2 target\n",
      "96289  3019    7    255      4     259     270  False\n",
      "96290  3019    7     82      7     255     267  False\n",
      "        year  day  team1  team2  score1  score2 target\n",
      "101605  3019  233    174    214     336     297   True\n",
      "101606  3019  233     96    179     243     255  False\n",
      "101607  3019  233    226    358     193     166   True\n",
      "101608  3019  233    333    287     216     239  False\n"
     ]
    }
   ],
   "source": [
    "cnt_games_233 = []\n",
    "for i in years:\n",
    "    df_year = train[train['year']==i]\n",
    "    print df_year.head(2)\n",
    "    cnt_games_233.append(df_year[df_year['day']==233].shape[0])\n",
    "    print df_year[df_year['day']==233]"
   ]
  },
  {
   "cell_type": "code",
   "execution_count": 182,
   "metadata": {
    "collapsed": false
   },
   "outputs": [
    {
     "name": "stdout",
     "output_type": "stream",
     "text": [
      "[10, 8, 7, 9, 5, 5, 5, 5, 4, 4, 4, 4, 5, 6, 5, 5, 5, 5, 4, 4, 4, 4]\n"
     ]
    }
   ],
   "source": [
    "print cnt_games_233"
   ]
  },
  {
   "cell_type": "code",
   "execution_count": 193,
   "metadata": {
    "collapsed": false
   },
   "outputs": [
    {
     "data": {
      "text/plain": [
       "[<matplotlib.lines.Line2D at 0x13e779290>]"
      ]
     },
     "execution_count": 193,
     "metadata": {},
     "output_type": "execute_result"
    },
    {
     "data": {
      "image/png": "[encoded data removed]",
      "text/plain": [
       "<matplotlib.figure.Figure at 0x13e005190>"
      ]
     },
     "metadata": {},
     "output_type": "display_data"
    }
   ],
   "source": [
    "plt.plot(years[2:], cnt_games_233[2:])"
   ]
  },
  {
   "cell_type": "code",
   "execution_count": 194,
   "metadata": {
    "collapsed": false
   },
   "outputs": [
    {
     "data": {
      "text/plain": [
       "array([317,  61, 110, 352, 229, 164, 184, 245, 300,  10,  39, 205,  47,\n",
       "       180,  53,  63,  82, 265,  70, 150, 188, 161, 241, 273, 232, 201,\n",
       "       207, 146, 206, 234, 260, 250, 283, 302, 291, 272, 351, 159, 295,\n",
       "       308,  48,  59,   4,  14,  65, 310, 287,  38,  78,  50,  96, 104,\n",
       "       198, 337, 134, 320, 327, 157, 163, 168, 192, 204, 217, 220, 237,\n",
       "       248, 268, 285, 249, 126, 326, 331, 129, 334,  92, 347, 322, 158,\n",
       "       353, 160, 361, 135, 336,  54,  69,  16,  43,  51,  32, 254,  60,\n",
       "        68,  73, 191,  87, 132,  90,  91,  11, 202,  80, 177, 179,  45,\n",
       "       325, 208, 128, 274, 303, 211, 323, 299, 356, 344, 355, 269,  29,\n",
       "       259,  13, 258,  35,  31,  33, 329,  64, 133, 124, 139, 173, 142,\n",
       "       178,  17, 185, 210, 226, 228, 238, 209, 239, 100, 278, 293, 247,\n",
       "       321,  74, 187, 122, 236, 244, 256, 275, 312, 196,  56, 172, 288,\n",
       "        85,  26, 101, 111, 118, 174, 182, 339,  20, 316, 262, 328, 338,\n",
       "       340, 190,  19, 218,  30, 175,  55,  81,  83, 102, 116, 120,  57,\n",
       "       319, 151, 233, 181, 186, 281, 306, 221, 364, 148, 357, 193, 286,\n",
       "       230,  44, 284, 290, 314, 153, 324, 121, 348, 358, 362, 108, 214,\n",
       "         6, 141, 156, 169,  58, 335, 112, 167, 264, 165, 305, 343, 342,\n",
       "        72,  23, 298, 131, 145,  97, 243, 318,  99, 296, 360, 301,  52,\n",
       "        71, 271, 225, 106,  40, 223, 276, 297, 107, 350, 252, 154, 166,\n",
       "       235, 311, 289,  84, 138, 341,   3,  12,  41,  49, 222, 143,  66,\n",
       "       251, 253,  22,  37, 219, 261, 109,  98,   8,  75, 263, 147, 333,\n",
       "        93, 282, 103,  77, 176, 170, 280,  79, 125,  34,  86, 279, 309,\n",
       "       149, 117,   2,  24, 171, 183, 349, 199, 354, 363, 127,  62, 304,\n",
       "       231, 307,  94,  42, 114, 359, 140, 213, 246, 137,  15, 240,  76,\n",
       "         7, 257,  89, 292,   5, 224,  25, 119,  27, 189, 315, 136, 266,\n",
       "       294, 105,  28, 152, 194, 155, 330, 313, 255, 144, 195, 216, 212,\n",
       "        46, 345, 123, 267, 242,  95, 200,  67, 215,  88,  36, 270, 277,\n",
       "       203, 197])"
      ]
     },
     "execution_count": 194,
     "metadata": {},
     "output_type": "execute_result"
    }
   ],
   "source": [
    "train.team1.unique()"
   ]
  },
  {
   "cell_type": "code",
   "execution_count": 195,
   "metadata": {
    "collapsed": true
   },
   "outputs": [],
   "source": [
    "df_year = train[ train['year'] == 2998]"
   ]
  },
  {
   "cell_type": "code",
   "execution_count": 196,
   "metadata": {
    "collapsed": true
   },
   "outputs": [],
   "source": [
    "scores = []\n",
    "team = 174\n",
    "days = []"
   ]
  },
  {
   "cell_type": "code",
   "execution_count": 203,
   "metadata": {
    "collapsed": false
   },
   "outputs": [],
   "source": [
    "home_games = np.array(df_year[df_year['team1'] == team])"
   ]
  },
  {
   "cell_type": "code",
   "execution_count": 204,
   "metadata": {
    "collapsed": false
   },
   "outputs": [
    {
     "ename": "AttributeError",
     "evalue": "'numpy.ndarray' object has no attribute 'score1'",
     "output_type": "error",
     "traceback": [
      "\u001b[0;31m---------------------------------------------------------------------------\u001b[0m",
      "\u001b[0;31mAttributeError\u001b[0m                            Traceback (most recent call last)",
      "\u001b[0;32m<ipython-input-204-d11fb301f15c>\u001b[0m in \u001b[0;36m<module>\u001b[0;34m()\u001b[0m\n\u001b[1;32m      1\u001b[0m \u001b[0;32mfor\u001b[0m \u001b[0mi\u001b[0m \u001b[0;32min\u001b[0m \u001b[0mrange\u001b[0m\u001b[0;34m(\u001b[0m\u001b[0mhome_games\u001b[0m\u001b[0;34m.\u001b[0m\u001b[0mshape\u001b[0m\u001b[0;34m[\u001b[0m\u001b[0;36m0\u001b[0m\u001b[0;34m]\u001b[0m\u001b[0;34m)\u001b[0m\u001b[0;34m:\u001b[0m\u001b[0;34m\u001b[0m\u001b[0m\n\u001b[0;32m----> 2\u001b[0;31m     \u001b[0mscores\u001b[0m\u001b[0;34m.\u001b[0m\u001b[0mappend\u001b[0m\u001b[0;34m(\u001b[0m\u001b[0mhome_games\u001b[0m\u001b[0;34m.\u001b[0m\u001b[0mscore1\u001b[0m\u001b[0;34m[\u001b[0m\u001b[0mi\u001b[0m\u001b[0;34m]\u001b[0m\u001b[0;34m)\u001b[0m\u001b[0;34m\u001b[0m\u001b[0m\n\u001b[0m\u001b[1;32m      3\u001b[0m     \u001b[0mdays\u001b[0m\u001b[0;34m.\u001b[0m\u001b[0mappend\u001b[0m\u001b[0;34m(\u001b[0m\u001b[0mhome_games\u001b[0m\u001b[0;34m.\u001b[0m\u001b[0mscore1\u001b[0m\u001b[0;34m[\u001b[0m\u001b[0mi\u001b[0m\u001b[0;34m]\u001b[0m\u001b[0;34m)\u001b[0m\u001b[0;34m\u001b[0m\u001b[0m\n",
      "\u001b[0;31mAttributeError\u001b[0m: 'numpy.ndarray' object has no attribute 'score1'"
     ]
    }
   ],
   "source": [
    "for i in range(home_games.shape[0]):\n",
    "    scores.append(home_games.[i])\n",
    "    days.append(home_games.score1[i])"
   ]
  },
  {
   "cell_type": "code",
   "execution_count": 207,
   "metadata": {
    "collapsed": false
   },
   "outputs": [
    {
     "name": "stdout",
     "output_type": "stream",
     "text": [
      "[81, 85, 89, 92, 96, 100, 104, 108, 112, 116, 119, 123, 127, 131, 135, 139, 143, 147, 150, 154, 158, 162, 166, 170, 174, 178, 181, 185, 189, 193, 197, 201, 205, 208, 212, 216, 220, 224, 228, 232, 236, 239, 243, 247, 251, 255, 259, 263, 267, 270, 274, 278, 282, 286, 290, 294, 297, 301, 305, 309, 313, 317, 321, 325, 328, 332, 336, 340, 344, 348, 352, 356, 359, 363, 367, 371, 375, 379, 383, 387, 390, 394, 398, 402, 406, 410, 414, 417, 421, 425, 429, 433, 437, 441, 445, 448, 452, 456, 460, 464, 468, 472, 476, 479, 483, 487, 491, 495, 499, 503, 506, 510, 514, 526, 530, 534, 541, 545, 549, 553, 565, 572, 592, 599, 603]\n"
     ]
    }
   ],
   "source": [
    "print list(sorted(train.score1.unique()))"
   ]
  },
  {
   "cell_type": "code",
   "execution_count": 208,
   "metadata": {
    "collapsed": false
   },
   "outputs": [
    {
     "name": "stdout",
     "output_type": "stream",
     "text": [
      "[77, 81, 85, 92, 96, 100, 104, 108, 112, 116, 119, 123, 127, 131, 135, 139, 143, 147, 150, 154, 158, 162, 166, 170, 174, 178, 181, 185, 189, 193, 197, 201, 205, 208, 212, 216, 220, 224, 228, 232, 236, 239, 243, 247, 251, 255, 259, 263, 267, 270, 274, 278, 282, 286, 290, 294, 297, 301, 305, 309, 313, 317, 321, 325, 328, 332, 336, 340, 344, 348, 352, 356, 359, 363, 367, 371, 375, 379, 383, 387, 390, 394, 398, 402, 406, 410, 414, 417, 421, 425, 429, 433, 437, 441, 445, 448, 452, 456, 460, 464, 468, 472, 476, 479, 483, 487, 491, 495, 499, 503, 506, 510, 514, 518, 537, 541, 549, 553, 557, 580, 615]\n"
     ]
    }
   ],
   "source": [
    "print list(sorted(train.score2.unique()))"
   ]
  },
  {
   "cell_type": "code",
   "execution_count": 209,
   "metadata": {
    "collapsed": false
   },
   "outputs": [
    {
     "data": {
      "text/plain": [
       "array([2998, 2999, 3000, 3001, 3002, 3003, 3004, 3005, 3006, 3007, 3008,\n",
       "       3009, 3010, 3011, 3012, 3013, 3014, 3015, 3016, 3017, 3018, 3019])"
      ]
     },
     "execution_count": 209,
     "metadata": {},
     "output_type": "execute_result"
    }
   ],
   "source": [
    "years"
   ]
  },
  {
   "cell_type": "code",
   "execution_count": 218,
   "metadata": {
    "collapsed": false
   },
   "outputs": [
    {
     "name": "stdout",
     "output_type": "stream",
     "text": [
      "298 114\n",
      "298 109\n",
      "301 113\n",
      "302 113\n",
      "305 112\n",
      "305 107\n",
      "306 116\n",
      "310 119\n",
      "318 119\n",
      "318 120\n",
      "321 119\n",
      "327 120\n",
      "326 120\n",
      "330 121\n",
      "334 123\n",
      "336 122\n",
      "342 131\n",
      "347 124\n",
      "347 124\n",
      "345 124\n",
      "345 122\n",
      "347 127\n"
     ]
    }
   ],
   "source": [
    "for y in years:\n",
    "    df_year = train[train['year']==y]\n",
    "    print len(df_year.team1.unique()), len(df_year.day.unique())"
   ]
  },
  {
   "cell_type": "code",
   "execution_count": null,
   "metadata": {
    "collapsed": true
   },
   "outputs": [],
   "source": []
  },
  {
   "cell_type": "code",
   "execution_count": null,
   "metadata": {
    "collapsed": true
   },
   "outputs": [],
   "source": []
  },
  {
   "cell_type": "code",
   "execution_count": null,
   "metadata": {
    "collapsed": true
   },
   "outputs": [],
   "source": []
  },
  {
   "cell_type": "code",
   "execution_count": 219,
   "metadata": {
    "collapsed": false
   },
   "outputs": [
    {
     "data": {
      "text/html": [
       "<div>\n",
       "<table border=\"1\" class=\"dataframe\">\n",
       "  <thead>\n",
       "    <tr style=\"text-align: right;\">\n",
       "      <th></th>\n",
       "      <th>year</th>\n",
       "      <th>day</th>\n",
       "      <th>team1</th>\n",
       "      <th>team2</th>\n",
       "      <th>score1</th>\n",
       "      <th>score2</th>\n",
       "      <th>target</th>\n",
       "    </tr>\n",
       "  </thead>\n",
       "  <tbody>\n",
       "    <tr>\n",
       "      <th>0</th>\n",
       "      <td>2998</td>\n",
       "      <td>19</td>\n",
       "      <td>317</td>\n",
       "      <td>131</td>\n",
       "      <td>336</td>\n",
       "      <td>278</td>\n",
       "      <td>True</td>\n",
       "    </tr>\n",
       "    <tr>\n",
       "      <th>1</th>\n",
       "      <td>2998</td>\n",
       "      <td>28</td>\n",
       "      <td>61</td>\n",
       "      <td>29</td>\n",
       "      <td>301</td>\n",
       "      <td>259</td>\n",
       "      <td>True</td>\n",
       "    </tr>\n",
       "  </tbody>\n",
       "</table>\n",
       "</div>"
      ],
      "text/plain": [
       "   year  day  team1  team2  score1  score2 target\n",
       "0  2998   19    317    131     336     278   True\n",
       "1  2998   28     61     29     301     259   True"
      ]
     },
     "execution_count": 219,
     "metadata": {},
     "output_type": "execute_result"
    }
   ],
   "source": [
    "train.head(2)"
   ]
  },
  {
   "cell_type": "code",
   "execution_count": 240,
   "metadata": {
    "collapsed": true
   },
   "outputs": [],
   "source": [
    "X = train[['year','day']]"
   ]
  },
  {
   "cell_type": "code",
   "execution_count": 243,
   "metadata": {
    "collapsed": false
   },
   "outputs": [
    {
     "data": {
      "text/plain": [
       "(101609, 706)"
      ]
     },
     "execution_count": 243,
     "metadata": {},
     "output_type": "execute_result"
    }
   ],
   "source": [
    "train_teams.shape"
   ]
  },
  {
   "cell_type": "code",
   "execution_count": null,
   "metadata": {
    "collapsed": true
   },
   "outputs": [],
   "source": [
    "X.sh"
   ]
  },
  {
   "cell_type": "code",
   "execution_count": 279,
   "metadata": {
    "collapsed": false
   },
   "outputs": [],
   "source": [
    "X = pd.concat([train_teams, pd.DataFrame(train_teams.index)], axis=1)"
   ]
  },
  {
   "cell_type": "code",
   "execution_count": 280,
   "metadata": {
    "collapsed": false
   },
   "outputs": [
    {
     "data": {
      "text/plain": [
       "(101609, 707)"
      ]
     },
     "execution_count": 280,
     "metadata": {},
     "output_type": "execute_result"
    }
   ],
   "source": [
    "X.shape"
   ]
  },
  {
   "cell_type": "code",
   "execution_count": 281,
   "metadata": {
    "collapsed": false
   },
   "outputs": [
    {
     "data": {
      "text/html": [
       "<div>\n",
       "<table border=\"1\" class=\"dataframe\">\n",
       "  <thead>\n",
       "    <tr style=\"text-align: right;\">\n",
       "      <th></th>\n",
       "      <th>0</th>\n",
       "      <th>1</th>\n",
       "      <th>2</th>\n",
       "      <th>3</th>\n",
       "      <th>4</th>\n",
       "      <th>5</th>\n",
       "      <th>6</th>\n",
       "      <th>7</th>\n",
       "      <th>8</th>\n",
       "      <th>9</th>\n",
       "      <th>...</th>\n",
       "      <th>344</th>\n",
       "      <th>345</th>\n",
       "      <th>346</th>\n",
       "      <th>347</th>\n",
       "      <th>348</th>\n",
       "      <th>349</th>\n",
       "      <th>350</th>\n",
       "      <th>351</th>\n",
       "      <th>352</th>\n",
       "      <th>0</th>\n",
       "    </tr>\n",
       "  </thead>\n",
       "  <tbody>\n",
       "    <tr>\n",
       "      <th>0</th>\n",
       "      <td>0.0</td>\n",
       "      <td>0.0</td>\n",
       "      <td>0.0</td>\n",
       "      <td>0.0</td>\n",
       "      <td>0.0</td>\n",
       "      <td>0.0</td>\n",
       "      <td>0.0</td>\n",
       "      <td>0.0</td>\n",
       "      <td>0.0</td>\n",
       "      <td>0.0</td>\n",
       "      <td>...</td>\n",
       "      <td>0.0</td>\n",
       "      <td>0.0</td>\n",
       "      <td>0.0</td>\n",
       "      <td>0.0</td>\n",
       "      <td>0.0</td>\n",
       "      <td>0.0</td>\n",
       "      <td>0.0</td>\n",
       "      <td>0.0</td>\n",
       "      <td>0.0</td>\n",
       "      <td>0</td>\n",
       "    </tr>\n",
       "    <tr>\n",
       "      <th>1</th>\n",
       "      <td>0.0</td>\n",
       "      <td>0.0</td>\n",
       "      <td>0.0</td>\n",
       "      <td>0.0</td>\n",
       "      <td>0.0</td>\n",
       "      <td>0.0</td>\n",
       "      <td>0.0</td>\n",
       "      <td>0.0</td>\n",
       "      <td>0.0</td>\n",
       "      <td>0.0</td>\n",
       "      <td>...</td>\n",
       "      <td>0.0</td>\n",
       "      <td>0.0</td>\n",
       "      <td>0.0</td>\n",
       "      <td>0.0</td>\n",
       "      <td>0.0</td>\n",
       "      <td>0.0</td>\n",
       "      <td>0.0</td>\n",
       "      <td>0.0</td>\n",
       "      <td>0.0</td>\n",
       "      <td>1</td>\n",
       "    </tr>\n",
       "  </tbody>\n",
       "</table>\n",
       "<p>2 rows × 707 columns</p>\n",
       "</div>"
      ],
      "text/plain": [
       "   0    1    2    3    4    5    6    7    8    9   ...   344  345  346  347  \\\n",
       "0  0.0  0.0  0.0  0.0  0.0  0.0  0.0  0.0  0.0  0.0 ...   0.0  0.0  0.0  0.0   \n",
       "1  0.0  0.0  0.0  0.0  0.0  0.0  0.0  0.0  0.0  0.0 ...   0.0  0.0  0.0  0.0   \n",
       "\n",
       "   348  349  350  351  352  0    \n",
       "0  0.0  0.0  0.0  0.0  0.0    0  \n",
       "1  0.0  0.0  0.0  0.0  0.0    1  \n",
       "\n",
       "[2 rows x 707 columns]"
      ]
     },
     "execution_count": 281,
     "metadata": {},
     "output_type": "execute_result"
    }
   ],
   "source": [
    "X.head(2)"
   ]
  },
  {
   "cell_type": "code",
   "execution_count": 282,
   "metadata": {
    "collapsed": true
   },
   "outputs": [],
   "source": [
    "y = train[['target']] "
   ]
  },
  {
   "cell_type": "code",
   "execution_count": 283,
   "metadata": {
    "collapsed": true
   },
   "outputs": [],
   "source": [
    "train_X, test_X, train_y, test_y = cross_validation.train_test_split(X,y, test_size=0.4)"
   ]
  },
  {
   "cell_type": "code",
   "execution_count": 284,
   "metadata": {
    "collapsed": false
   },
   "outputs": [
    {
     "data": {
      "text/plain": [
       "(60965, 707)"
      ]
     },
     "execution_count": 284,
     "metadata": {},
     "output_type": "execute_result"
    }
   ],
   "source": [
    "train_X.shape"
   ]
  },
  {
   "cell_type": "code",
   "execution_count": 285,
   "metadata": {
    "collapsed": false
   },
   "outputs": [
    {
     "data": {
      "text/plain": [
       "(60965, 1)"
      ]
     },
     "execution_count": 285,
     "metadata": {},
     "output_type": "execute_result"
    }
   ],
   "source": [
    "train_y.shape"
   ]
  },
  {
   "cell_type": "code",
   "execution_count": 286,
   "metadata": {
    "collapsed": true
   },
   "outputs": [],
   "source": [
    "lg = linear_model.LogisticRegression(C=0.8)"
   ]
  },
  {
   "cell_type": "code",
   "execution_count": 287,
   "metadata": {
    "collapsed": false
   },
   "outputs": [
    {
     "data": {
      "text/plain": [
       "LogisticRegression(C=0.8, class_weight=None, dual=False, fit_intercept=True,\n",
       "          intercept_scaling=1, max_iter=100, multi_class='ovr', n_jobs=1,\n",
       "          penalty='l2', random_state=None, solver='liblinear', tol=0.0001,\n",
       "          verbose=0, warm_start=False)"
      ]
     },
     "execution_count": 287,
     "metadata": {},
     "output_type": "execute_result"
    }
   ],
   "source": [
    "lg.fit(train_X, train_y)"
   ]
  },
  {
   "cell_type": "code",
   "execution_count": 288,
   "metadata": {
    "collapsed": false
   },
   "outputs": [
    {
     "data": {
      "text/plain": [
       "array([[ -3.62588858e-01,  -3.83444797e-03,   1.08019517e+00,\n",
       "         -7.66469905e-01,  -5.20913426e-01,  -4.66645803e-01,\n",
       "         -1.15035060e+00,  -3.42722509e-01,   5.86183523e-02,\n",
       "          1.65337686e+00,   5.15985211e-01,  -8.14736911e-02,\n",
       "         -1.23326355e+00,   1.25627682e+00,  -1.61741269e-01,\n",
       "         -1.52665040e+00,   3.13792377e-01,  -2.10868322e-01,\n",
       "          3.52707736e-01,   1.44326801e-01,   5.78361598e-01,\n",
       "         -1.13215291e+00,  -7.13472058e-01,   1.97194737e-01,\n",
       "          4.33922134e-01,   9.68628859e-01,  -1.83274132e-02,\n",
       "          8.76016050e-02,   1.80538801e-01,  -1.95839123e-01,\n",
       "         -4.76911919e-01,  -4.43866553e-01,  -6.75773564e-02,\n",
       "         -6.23821242e-01,   1.25820927e+00,   1.08763653e+00,\n",
       "         -7.99104746e-01,  -8.99015633e-01,   7.81923124e-01,\n",
       "         -7.21834855e-01,  -1.75158872e-01,  -7.85788390e-01,\n",
       "         -1.12740695e+00,  -5.08836651e-01,  -9.47086940e-01,\n",
       "          6.79741780e-01,  -1.93582981e-01,  -1.53847912e+00,\n",
       "          1.53246767e+00,  -1.06971464e+00,   7.44468495e-01,\n",
       "         -2.00475952e-01,  -6.51881573e-01,   8.83543216e-01,\n",
       "         -7.22151517e-01,   6.10642257e-01,   1.35274103e-01,\n",
       "         -7.77699127e-01,   1.81666110e+00,  -3.15724662e-01,\n",
       "         -1.86687861e-01,   7.26874076e-01,  -5.33741033e-01,\n",
       "         -1.21918388e-01,  -6.66239717e-01,  -1.76985281e+00,\n",
       "         -9.93144793e-01,   6.45672125e-01,   6.70119852e-01,\n",
       "         -2.08327703e-02,  -9.39343473e-01,  -2.23363558e-01,\n",
       "          2.13759012e-01,  -5.88577065e-02,  -4.28609736e-01,\n",
       "          5.48675290e-01,   2.25844413e+00,  -5.39125572e-01,\n",
       "         -7.47926956e-01,  -6.80999888e-01,  -5.85669198e-01,\n",
       "         -8.42587646e-01,  -3.15145923e-01,  -8.78200820e-01,\n",
       "         -6.94256061e-01,  -3.66810519e-03,   4.34247494e-02,\n",
       "         -7.44924055e-01,  -1.55454198e-02,  -9.57484639e-01,\n",
       "         -9.90539482e-02,   1.38982556e+00,  -1.15148620e+00,\n",
       "         -6.48883595e-01,   8.22808899e-01,  -7.12020489e-01,\n",
       "          5.24990370e-01,  -8.53828132e-01,   3.23655413e-01,\n",
       "         -7.00740969e-01,  -6.62465410e-01,   3.81456194e-01,\n",
       "          1.17404656e+00,   8.61267079e-01,  -3.81782799e-01,\n",
       "          6.35651003e-01,   1.65697359e+00,  -1.58432225e+00,\n",
       "         -1.31827263e-01,  -6.71923806e-01,  -2.31855611e-01,\n",
       "          3.88856410e-01,  -6.72326460e-01,   1.34374997e-01,\n",
       "         -1.94697608e-01,  -9.66206427e-02,  -4.87697674e-01,\n",
       "         -1.29112413e+00,  -4.10842502e-01,  -6.44753746e-01,\n",
       "          2.47571536e-01,   1.11608121e+00,   5.25902351e-01,\n",
       "          1.43487848e+00,   3.16667543e-01,   2.41245205e-01,\n",
       "          1.04634640e+00,   8.71216837e-01,  -7.61059712e-01,\n",
       "         -3.37265350e-02,  -5.30193307e-01,  -2.49082573e-01,\n",
       "         -6.53856026e-01,   4.15138432e-02,   2.12807707e+00,\n",
       "          7.69838845e-01,  -8.82653597e-01,   6.26968898e-01,\n",
       "          1.89001602e+00,   1.40841016e-01,  -7.28612651e-01,\n",
       "         -5.61801639e-01,  -5.41537016e-01,  -6.78261448e-01,\n",
       "         -2.82405016e-01,   2.52892529e-01,  -6.95039235e-01,\n",
       "         -8.54527283e-01,  -1.03874019e-01,   1.57098921e+00,\n",
       "         -8.18010424e-01,  -5.43510088e-01,  -2.70802663e-01,\n",
       "          5.05016022e-01,  -3.63113762e-01,  -3.68278030e-02,\n",
       "         -3.85921083e-01,   1.12511365e+00,   3.82761996e-02,\n",
       "          1.08076286e+00,   7.54910978e-01,  -5.15080060e-01,\n",
       "         -1.58770525e+00,   1.32304361e+00,  -7.31949921e-01,\n",
       "          4.55305174e-01,   6.67645848e-01,   9.48584991e-01,\n",
       "          1.74179865e+00,   7.55994167e-01,   7.69829159e-01,\n",
       "          6.73154404e-01,   1.31040825e+00,  -5.69607705e-01,\n",
       "          4.22535258e-01,  -6.28599918e-01,   2.45872557e-01,\n",
       "         -5.92034501e-01,  -4.39738588e-01,  -8.59875569e-01,\n",
       "         -2.21955260e-02,  -7.82597329e-01,  -3.88840241e-01,\n",
       "         -1.53995852e-01,   7.85637956e-01,  -7.31855081e-01,\n",
       "          1.78577752e-01,  -5.31769868e-01,  -9.36298722e-02,\n",
       "         -6.11080660e-01,  -1.12141150e+00,  -4.36319716e-01,\n",
       "          6.82267983e-01,  -6.62834162e-01,  -4.26798620e-01,\n",
       "          6.48654124e-01,   5.65303291e-01,  -1.14989829e+00,\n",
       "          1.15353542e+00,   8.12748980e-01,   2.17737303e-01,\n",
       "          9.10972622e-02,  -7.82461117e-01,  -8.97066060e-01,\n",
       "         -5.58812670e-01,   2.06570882e+00,  -1.01466427e-01,\n",
       "         -9.23961520e-01,  -6.96255341e-01,  -3.03422781e-01,\n",
       "         -2.37231946e-01,   4.69793377e-01,   2.03829000e-01,\n",
       "         -4.87329801e-01,   9.80613755e-01,   2.49713074e-01,\n",
       "          2.59749025e-01,   1.07445335e+00,   1.08542851e+00,\n",
       "          1.40616648e+00,   6.45479754e-01,   3.66922573e-01,\n",
       "          5.46084219e-01,  -3.09434519e-01,   4.13397172e-01,\n",
       "          3.83498309e-01,   1.62900590e-01,   1.40931396e-01,\n",
       "          1.30184837e+00,  -6.32154327e-01,  -5.44125839e-01,\n",
       "         -1.45048830e+00,  -7.71714547e-01,   4.95417424e-01,\n",
       "          7.53129899e-01,   9.58511489e-01,  -4.98558464e-01,\n",
       "         -4.23446903e-01,   2.09765432e-01,   1.35742441e-02,\n",
       "          5.88915379e-01,   1.79946152e-01,  -3.02490323e-01,\n",
       "          5.35061091e-02,  -2.32491227e-01,  -1.78686853e-01,\n",
       "          5.16376195e-01,  -6.11894129e-01,  -5.39431664e-02,\n",
       "         -6.96366472e-03,  -1.80536352e-01,   3.57365620e-01,\n",
       "         -1.56971363e-01,  -8.41590350e-01,   7.87310100e-02,\n",
       "          1.68013218e-01,  -8.59975970e-01,  -5.19228866e-01,\n",
       "         -7.53123509e-01,  -8.66920217e-01,  -2.96150563e-01,\n",
       "          7.44519560e-01,  -7.29250192e-02,   3.04247348e-01,\n",
       "         -6.73181790e-02,   3.42309638e-01,   3.65305870e-01,\n",
       "         -1.04889676e-02,  -2.35106485e-01,   3.74179329e-01,\n",
       "         -9.30599274e-01,  -1.01594318e+00,  -3.13566448e-01,\n",
       "         -4.33637976e-01,  -1.13397049e+00,   6.05909620e-01,\n",
       "          7.64673129e-01,   5.18447000e-01,   5.03478744e-01,\n",
       "         -6.53313306e-01,   1.37469610e+00,  -9.38818554e-01,\n",
       "         -6.41637539e-01,   1.72338878e+00,  -4.26498640e-01,\n",
       "          1.13219870e-01,   1.20730416e+00,   9.29957562e-01,\n",
       "         -6.40043632e-01,  -1.12524966e-01,   1.19431500e+00,\n",
       "          3.27093912e-01,  -8.57700444e-01,   4.65203342e-01,\n",
       "         -1.31277746e+00,  -2.22530331e-01,  -6.91510629e-01,\n",
       "         -1.61139257e-01,  -4.53331837e-02,   8.14171189e-01,\n",
       "         -8.92827802e-01,  -6.31611546e-01,   7.40057760e-01,\n",
       "         -8.57557422e-01,  -5.06092257e-01,  -8.20991818e-01,\n",
       "          2.27954824e-02,   1.19715642e+00,   1.02539092e-01,\n",
       "         -4.29113521e-01,  -8.29243362e-01,  -6.98333448e-01,\n",
       "         -3.63529550e-01,   3.10498263e-01,   9.06524905e-01,\n",
       "          3.69835056e-01,  -3.16487163e-01,  -2.58538670e-01,\n",
       "          9.56734897e-01,   7.31867732e-01,   5.18611488e-02,\n",
       "          5.41188294e-01,   6.61237723e-01,   2.56222660e-01,\n",
       "          1.23417235e+00,   4.23061625e-01,   1.04413833e+00,\n",
       "          9.04359083e-01,   3.50617816e-01,  -1.05758254e+00,\n",
       "         -6.28461486e-01,  -9.22647654e-01,   4.49105960e-01,\n",
       "         -1.48434017e-02,  -5.02194566e-01,  -4.72786597e-02,\n",
       "          1.28924719e+00,   9.02586960e-01,   2.21768027e-01,\n",
       "          3.40337952e-01,   7.72672631e-01,   3.75548563e-01,\n",
       "         -3.22862817e-01,   5.85437381e-02,  -6.35468964e-01,\n",
       "         -3.68298114e-01,   1.39445602e+00,  -9.13603622e-01,\n",
       "          1.21236796e-01,   5.55789708e-01,   1.45098799e+00,\n",
       "         -6.78513927e-01,  -8.51161038e-01,   1.23371001e-01,\n",
       "         -4.26141345e-01,  -7.33291655e-01,   4.36919100e-01,\n",
       "          9.02413796e-01,   3.26757296e-01,   1.05322889e+00,\n",
       "          1.27067685e-01,   2.05397169e-01,  -1.56081737e+00,\n",
       "         -5.01918181e-01,  -2.03797674e-01,   1.54750459e+00,\n",
       "         -9.87394569e-01,   8.00438464e-03,   1.12715866e+00,\n",
       "         -5.33708439e-01,   1.48340994e-01,  -3.20692386e-01,\n",
       "         -3.22886476e-01,  -3.71382731e-01,   1.22890205e+00,\n",
       "          5.43289481e-01,  -9.14063611e-02,  -3.41106335e-02,\n",
       "         -7.36150352e-01,   9.57572574e-02,  -2.75293107e-02,\n",
       "         -1.11766571e-01,   4.26935014e-02,   7.88382221e-01,\n",
       "          8.19346758e-01,  -2.11187863e-01,   3.63894537e-01,\n",
       "         -8.59094671e-01,  -1.07507136e+00,   8.02345283e-01,\n",
       "          5.72685943e-01,  -9.23501474e-01,   9.49266298e-01,\n",
       "          4.63198873e-01,   5.85252830e-01,   1.33756140e+00,\n",
       "          6.54047212e-01,   6.34577467e-01,  -6.96389677e-01,\n",
       "         -1.97152227e-01,   1.76900096e+00,  -1.52538289e+00,\n",
       "          9.86414396e-01,  -8.46380760e-01,   1.23315801e-01,\n",
       "          6.76996024e-01,  -8.92111238e-01,   6.40717963e-01,\n",
       "         -4.05336174e-01,  -3.39516597e-01,   8.11126708e-01,\n",
       "         -1.69622168e+00,   5.06637257e-01,   7.27160958e-01,\n",
       "         -7.02417407e-01,   3.84384314e-01,   5.73785945e-01,\n",
       "          1.87568324e-01,   1.25434251e+00,   9.71112953e-01,\n",
       "         -5.18098251e-01,  -5.21487599e-01,   1.01795377e-01,\n",
       "          7.84402892e-01,   3.32021167e-01,  -1.14468471e-01,\n",
       "         -4.00886843e-01,   1.76179990e-01,  -4.26005517e-01,\n",
       "         -2.10027414e+00,   3.14304669e-01,   5.55279286e-01,\n",
       "          6.41972005e-01,   3.43109667e-01,   4.77530221e-01,\n",
       "          2.74101046e-01,   4.69726699e-01,   6.69258798e-01,\n",
       "         -3.56742975e-01,  -2.84050727e-01,   6.52954835e-01,\n",
       "         -3.31783086e-02,   7.51305896e-01,   5.93430295e-01,\n",
       "         -1.23275147e+00,   1.19122295e+00,   6.37072113e-01,\n",
       "         -8.60467356e-01,   5.90925837e-01,  -3.61652787e-01,\n",
       "          5.92547040e-01,  -6.68003272e-01,   3.91385863e-01,\n",
       "          4.60091499e-01,  -3.57481201e-01,  -1.17438103e+00,\n",
       "         -4.06402753e-01,   2.38245463e-01,  -7.73918758e-01,\n",
       "         -1.31768103e+00,   1.18383152e+00,   2.25606836e-01,\n",
       "          6.82749650e-01,   3.30524746e-01,  -4.05505642e-01,\n",
       "          4.90507825e-01,   7.31912196e-02,   1.86774660e-01,\n",
       "         -1.92290154e-01,   6.54190297e-01,   1.41512875e+00,\n",
       "          4.64725714e-01,   9.91269594e-01,   2.15032400e-01,\n",
       "         -1.45265864e+00,  -2.89474357e-01,  -1.21803974e+00,\n",
       "          3.42670653e-01,   9.63791835e-03,  -5.90321180e-01,\n",
       "         -8.82741189e-01,   5.08803368e-01,   3.49084745e-01,\n",
       "          5.94543450e-01,   5.51432885e-01,   8.55141389e-01,\n",
       "          2.89241322e-02,  -2.26576718e+00,  -7.83635146e-01,\n",
       "          8.48307734e-01,  -3.62591043e-01,  -2.33934347e+00,\n",
       "         -7.27614363e-02,   4.83603729e-01,   3.60851183e-01,\n",
       "          6.73792698e-01,   5.35559265e-01,  -8.67274451e-02,\n",
       "         -1.63578405e-01,   4.67977262e-01,   1.10027069e+00,\n",
       "          6.96182742e-02,  -1.43210050e+00,   5.43066780e-01,\n",
       "          5.98982120e-01,   6.48316839e-01,  -6.65823707e-01,\n",
       "          2.63147711e-01,  -8.46441197e-03,   2.53321805e-01,\n",
       "         -1.08602683e+00,  -5.83521177e-03,  -9.53499990e-01,\n",
       "         -6.91222036e-01,   6.91316171e-01,   1.57434281e+00,\n",
       "         -1.45638952e+00,   6.61600573e-01,  -7.08783595e-01,\n",
       "         -2.50946936e-01,  -1.09556022e+00,  -1.49176192e+00,\n",
       "         -7.46682310e-01,  -6.40020988e-01,  -8.37579831e-01,\n",
       "         -1.18163934e+00,   7.17333135e-01,  -5.44915826e-01,\n",
       "          5.55349855e-02,  -1.30071918e-01,   2.04408733e-01,\n",
       "          4.31017130e-01,   1.12216594e+00,   4.90355329e-01,\n",
       "          4.85489285e-01,   7.06445328e-01,  -1.47498542e-01,\n",
       "         -7.43175548e-01,   2.85716218e-01,  -5.90026434e-01,\n",
       "          8.52839538e-01,  -1.09566723e-02,   5.68236564e-01,\n",
       "          9.13656389e-01,   5.24891029e-01,  -8.60429539e-01,\n",
       "          5.21134980e-01,   1.30430039e-01,  -4.47249294e-01,\n",
       "         -5.53891035e-01,   6.43608272e-01,  -1.03596185e+00,\n",
       "         -8.27988193e-01,   9.50934580e-02,  -1.36954267e-03,\n",
       "          7.89988347e-01,   8.69435807e-01,   5.89201059e-01,\n",
       "         -1.61095402e+00,   3.13719285e-01,   9.95785625e-01,\n",
       "          5.56102353e-02,   4.54318113e-01,   6.57442836e-01,\n",
       "         -1.81517241e-01,   6.83333867e-02,   2.03556938e-01,\n",
       "         -8.40275505e-01,  -7.93216801e-02,  -4.74049358e-01,\n",
       "         -1.20629096e+00,  -1.33239355e+00,  -1.29479985e+00,\n",
       "         -4.98251489e-01,  -3.07455185e-01,  -5.33198488e-01,\n",
       "          2.94469498e-01,  -3.29846764e-01,  -5.35447316e-01,\n",
       "         -2.80411067e-01,   1.69533361e-01,  -1.05168116e+00,\n",
       "          5.67798958e-01,   3.77684523e-01,   1.84837571e+00,\n",
       "          5.24159147e-01,  -5.62909630e-01,  -6.31444410e-01,\n",
       "         -1.15518822e+00,   3.31711732e-01,   4.92137569e-01,\n",
       "         -1.15221047e-01,   4.55599964e-01,  -2.53490549e-01,\n",
       "         -2.51519820e-01,   4.37602806e-01,  -1.39176277e-01,\n",
       "          3.06488527e-01,   1.79311278e-01,  -7.20515917e-01,\n",
       "          8.33983752e-01,   5.85679389e-01,   2.74273149e-01,\n",
       "         -7.92596358e-02,  -1.74975961e-01,  -5.41760466e-02,\n",
       "          7.65418486e-01,  -1.81515317e-02,  -2.70135673e-01,\n",
       "          7.18494786e-01,   6.38666237e-01,   8.45158867e-01,\n",
       "          7.38571121e-01,   4.00251767e-01,  -6.42274584e-01,\n",
       "          3.37885910e-01,   7.16285005e-02,   1.78318062e-01,\n",
       "          1.62511463e-01,  -6.09176701e-01,   4.83737098e-01,\n",
       "         -2.77171763e-01,  -2.28233800e-01,   8.32182115e-01,\n",
       "          3.64560786e-01,   1.84514322e-01,   6.09614631e-01,\n",
       "          1.17677653e+00,  -6.63121967e-01,  -7.53614407e-01,\n",
       "         -4.99759285e-01,  -2.09044607e-01,   2.71657458e-01,\n",
       "         -1.04700164e+00,   6.39052867e-01,   4.50804127e-01,\n",
       "         -1.58140846e+00,   3.00841056e-01,  -3.82282973e-02,\n",
       "         -1.00154193e+00,  -8.60369299e-01,   5.09758462e-01,\n",
       "          4.18564469e-01,  -1.45263698e+00,  -5.22941951e-01,\n",
       "          1.80479660e-01,  -5.20379481e-01,   1.08711335e+00,\n",
       "          1.63618256e-01,   5.11664974e-01,   3.99516275e-01,\n",
       "         -3.52481495e-01,  -7.76333290e-01,   1.15043131e+00,\n",
       "          9.23333892e-01,  -1.07914608e+00,   6.18809470e-01,\n",
       "          1.56050088e-01,   1.14460644e+00,   2.62024645e-01,\n",
       "         -1.56984050e+00,  -1.17192444e-01,   6.01807810e-01,\n",
       "          9.58565750e-01,   4.05197825e-01,   7.78584929e-01,\n",
       "         -5.98754033e-03,  -9.96306500e-01,  -4.76606300e-01,\n",
       "          3.49128097e-01,   2.93253874e-01,  -1.22707848e+00,\n",
       "         -1.08410128e+00,   4.06339944e-01,  -6.84712944e-01,\n",
       "         -7.79516091e-01,  -3.63393165e-01,  -9.05205726e-01,\n",
       "         -6.96379715e-02,  -1.26277139e+00,  -7.01842880e-01,\n",
       "         -5.32395752e-01,   9.42528637e-01,   8.21935178e-01,\n",
       "          9.02075244e-01,  -7.80793423e-01,  -8.40296223e-02,\n",
       "          5.25964918e-01,   3.65404258e-01,  -1.24250280e+00,\n",
       "         -4.41813793e-01,  -3.58296248e-01,  -3.93922030e-01,\n",
       "         -8.84984272e-01,  -3.85520152e-01,  -1.21520960e-01,\n",
       "         -3.55450062e-01,   6.23206827e-01,   4.51872315e-01,\n",
       "         -1.13372026e+00,   4.89458864e-01,  -1.32539962e-01,\n",
       "         -1.62225207e-01,  -1.16180269e+00,   4.36132055e-01,\n",
       "          8.66558205e-01,  -2.01169017e-07]])"
      ]
     },
     "execution_count": 288,
     "metadata": {},
     "output_type": "execute_result"
    }
   ],
   "source": [
    "lg.coef_"
   ]
  },
  {
   "cell_type": "code",
   "execution_count": 289,
   "metadata": {
    "collapsed": false
   },
   "outputs": [
    {
     "data": {
      "text/plain": [
       "0.6144729902067928"
      ]
     },
     "execution_count": 289,
     "metadata": {},
     "output_type": "execute_result"
    }
   ],
   "source": [
    "log_loss(test_y, lg.predict_proba(test_X)[:,1])"
   ]
  },
  {
   "cell_type": "code",
   "execution_count": 291,
   "metadata": {
    "collapsed": false
   },
   "outputs": [
    {
     "data": {
      "text/html": [
       "<div>\n",
       "<table border=\"1\" class=\"dataframe\">\n",
       "  <thead>\n",
       "    <tr style=\"text-align: right;\">\n",
       "      <th></th>\n",
       "      <th>0</th>\n",
       "      <th>1</th>\n",
       "      <th>2</th>\n",
       "      <th>3</th>\n",
       "      <th>4</th>\n",
       "      <th>5</th>\n",
       "      <th>6</th>\n",
       "      <th>7</th>\n",
       "      <th>8</th>\n",
       "      <th>9</th>\n",
       "      <th>...</th>\n",
       "      <th>344</th>\n",
       "      <th>345</th>\n",
       "      <th>346</th>\n",
       "      <th>347</th>\n",
       "      <th>348</th>\n",
       "      <th>349</th>\n",
       "      <th>350</th>\n",
       "      <th>351</th>\n",
       "      <th>352</th>\n",
       "      <th>0</th>\n",
       "    </tr>\n",
       "  </thead>\n",
       "  <tbody>\n",
       "    <tr>\n",
       "      <th>74701</th>\n",
       "      <td>0.0</td>\n",
       "      <td>0.0</td>\n",
       "      <td>0.0</td>\n",
       "      <td>0.0</td>\n",
       "      <td>0.0</td>\n",
       "      <td>0.0</td>\n",
       "      <td>0.0</td>\n",
       "      <td>0.0</td>\n",
       "      <td>0.0</td>\n",
       "      <td>0.0</td>\n",
       "      <td>...</td>\n",
       "      <td>0.0</td>\n",
       "      <td>0.0</td>\n",
       "      <td>0.0</td>\n",
       "      <td>0.0</td>\n",
       "      <td>0.0</td>\n",
       "      <td>0.0</td>\n",
       "      <td>0.0</td>\n",
       "      <td>0.0</td>\n",
       "      <td>0.0</td>\n",
       "      <td>74701</td>\n",
       "    </tr>\n",
       "    <tr>\n",
       "      <th>61808</th>\n",
       "      <td>0.0</td>\n",
       "      <td>0.0</td>\n",
       "      <td>0.0</td>\n",
       "      <td>0.0</td>\n",
       "      <td>0.0</td>\n",
       "      <td>0.0</td>\n",
       "      <td>0.0</td>\n",
       "      <td>0.0</td>\n",
       "      <td>0.0</td>\n",
       "      <td>0.0</td>\n",
       "      <td>...</td>\n",
       "      <td>0.0</td>\n",
       "      <td>0.0</td>\n",
       "      <td>0.0</td>\n",
       "      <td>0.0</td>\n",
       "      <td>0.0</td>\n",
       "      <td>0.0</td>\n",
       "      <td>0.0</td>\n",
       "      <td>0.0</td>\n",
       "      <td>0.0</td>\n",
       "      <td>61808</td>\n",
       "    </tr>\n",
       "  </tbody>\n",
       "</table>\n",
       "<p>2 rows × 707 columns</p>\n",
       "</div>"
      ],
      "text/plain": [
       "       0    1    2    3    4    5    6    7    8    9    ...    344  345  346  \\\n",
       "74701  0.0  0.0  0.0  0.0  0.0  0.0  0.0  0.0  0.0  0.0  ...    0.0  0.0  0.0   \n",
       "61808  0.0  0.0  0.0  0.0  0.0  0.0  0.0  0.0  0.0  0.0  ...    0.0  0.0  0.0   \n",
       "\n",
       "       347  348  349  350  351  352    0    \n",
       "74701  0.0  0.0  0.0  0.0  0.0  0.0  74701  \n",
       "61808  0.0  0.0  0.0  0.0  0.0  0.0  61808  \n",
       "\n",
       "[2 rows x 707 columns]"
      ]
     },
     "execution_count": 291,
     "metadata": {},
     "output_type": "execute_result"
    }
   ],
   "source": [
    "train_X.head(2)"
   ]
  },
  {
   "cell_type": "markdown",
   "metadata": {},
   "source": [
    "# Последний шанс"
   ]
  },
  {
   "cell_type": "code",
   "execution_count": 348,
   "metadata": {
    "collapsed": false
   },
   "outputs": [
    {
     "data": {
      "text/html": [
       "<div>\n",
       "<table border=\"1\" class=\"dataframe\">\n",
       "  <thead>\n",
       "    <tr style=\"text-align: right;\">\n",
       "      <th></th>\n",
       "      <th>year</th>\n",
       "      <th>day</th>\n",
       "      <th>team1</th>\n",
       "      <th>team2</th>\n",
       "      <th>score1</th>\n",
       "      <th>score2</th>\n",
       "      <th>target</th>\n",
       "    </tr>\n",
       "  </thead>\n",
       "  <tbody>\n",
       "    <tr>\n",
       "      <th>0</th>\n",
       "      <td>2998</td>\n",
       "      <td>19</td>\n",
       "      <td>317</td>\n",
       "      <td>131</td>\n",
       "      <td>336</td>\n",
       "      <td>278</td>\n",
       "      <td>True</td>\n",
       "    </tr>\n",
       "    <tr>\n",
       "      <th>1</th>\n",
       "      <td>2998</td>\n",
       "      <td>28</td>\n",
       "      <td>61</td>\n",
       "      <td>29</td>\n",
       "      <td>301</td>\n",
       "      <td>259</td>\n",
       "      <td>True</td>\n",
       "    </tr>\n",
       "    <tr>\n",
       "      <th>2</th>\n",
       "      <td>2998</td>\n",
       "      <td>28</td>\n",
       "      <td>110</td>\n",
       "      <td>141</td>\n",
       "      <td>359</td>\n",
       "      <td>267</td>\n",
       "      <td>True</td>\n",
       "    </tr>\n",
       "    <tr>\n",
       "      <th>3</th>\n",
       "      <td>2998</td>\n",
       "      <td>28</td>\n",
       "      <td>352</td>\n",
       "      <td>146</td>\n",
       "      <td>309</td>\n",
       "      <td>410</td>\n",
       "      <td>False</td>\n",
       "    </tr>\n",
       "    <tr>\n",
       "      <th>4</th>\n",
       "      <td>2998</td>\n",
       "      <td>28</td>\n",
       "      <td>229</td>\n",
       "      <td>91</td>\n",
       "      <td>332</td>\n",
       "      <td>220</td>\n",
       "      <td>True</td>\n",
       "    </tr>\n",
       "  </tbody>\n",
       "</table>\n",
       "</div>"
      ],
      "text/plain": [
       "   year  day  team1  team2  score1  score2 target\n",
       "0  2998   19    317    131     336     278   True\n",
       "1  2998   28     61     29     301     259   True\n",
       "2  2998   28    110    141     359     267   True\n",
       "3  2998   28    352    146     309     410  False\n",
       "4  2998   28    229     91     332     220   True"
      ]
     },
     "execution_count": 348,
     "metadata": {},
     "output_type": "execute_result"
    }
   ],
   "source": [
    "train.head(5)"
   ]
  },
  {
   "cell_type": "code",
   "execution_count": 349,
   "metadata": {
    "collapsed": true
   },
   "outputs": [],
   "source": [
    "target = train['score1'] - train['score2']"
   ]
  },
  {
   "cell_type": "code",
   "execution_count": 350,
   "metadata": {
    "collapsed": false
   },
   "outputs": [
    {
     "data": {
      "text/plain": [
       "0     58\n",
       "1     42\n",
       "2     92\n",
       "3   -101\n",
       "4    112\n",
       "dtype: int64"
      ]
     },
     "execution_count": 350,
     "metadata": {},
     "output_type": "execute_result"
    }
   ],
   "source": [
    "target.head(5)"
   ]
  },
  {
   "cell_type": "code",
   "execution_count": 351,
   "metadata": {
    "collapsed": true
   },
   "outputs": [],
   "source": [
    "X_train = pd.concat([train[['year']], train_teams], axis=1)"
   ]
  },
  {
   "cell_type": "code",
   "execution_count": 352,
   "metadata": {
    "collapsed": false
   },
   "outputs": [
    {
     "data": {
      "text/html": [
       "<div>\n",
       "<table border=\"1\" class=\"dataframe\">\n",
       "  <thead>\n",
       "    <tr style=\"text-align: right;\">\n",
       "      <th></th>\n",
       "      <th>year</th>\n",
       "      <th>0</th>\n",
       "      <th>1</th>\n",
       "      <th>2</th>\n",
       "      <th>3</th>\n",
       "      <th>4</th>\n",
       "      <th>5</th>\n",
       "      <th>6</th>\n",
       "      <th>7</th>\n",
       "      <th>8</th>\n",
       "      <th>...</th>\n",
       "      <th>343</th>\n",
       "      <th>344</th>\n",
       "      <th>345</th>\n",
       "      <th>346</th>\n",
       "      <th>347</th>\n",
       "      <th>348</th>\n",
       "      <th>349</th>\n",
       "      <th>350</th>\n",
       "      <th>351</th>\n",
       "      <th>352</th>\n",
       "    </tr>\n",
       "  </thead>\n",
       "  <tbody>\n",
       "    <tr>\n",
       "      <th>0</th>\n",
       "      <td>2998</td>\n",
       "      <td>0.0</td>\n",
       "      <td>0.0</td>\n",
       "      <td>0.0</td>\n",
       "      <td>0.0</td>\n",
       "      <td>0.0</td>\n",
       "      <td>0.0</td>\n",
       "      <td>0.0</td>\n",
       "      <td>0.0</td>\n",
       "      <td>0.0</td>\n",
       "      <td>...</td>\n",
       "      <td>0.0</td>\n",
       "      <td>0.0</td>\n",
       "      <td>0.0</td>\n",
       "      <td>0.0</td>\n",
       "      <td>0.0</td>\n",
       "      <td>0.0</td>\n",
       "      <td>0.0</td>\n",
       "      <td>0.0</td>\n",
       "      <td>0.0</td>\n",
       "      <td>0.0</td>\n",
       "    </tr>\n",
       "    <tr>\n",
       "      <th>1</th>\n",
       "      <td>2998</td>\n",
       "      <td>0.0</td>\n",
       "      <td>0.0</td>\n",
       "      <td>0.0</td>\n",
       "      <td>0.0</td>\n",
       "      <td>0.0</td>\n",
       "      <td>0.0</td>\n",
       "      <td>0.0</td>\n",
       "      <td>0.0</td>\n",
       "      <td>0.0</td>\n",
       "      <td>...</td>\n",
       "      <td>0.0</td>\n",
       "      <td>0.0</td>\n",
       "      <td>0.0</td>\n",
       "      <td>0.0</td>\n",
       "      <td>0.0</td>\n",
       "      <td>0.0</td>\n",
       "      <td>0.0</td>\n",
       "      <td>0.0</td>\n",
       "      <td>0.0</td>\n",
       "      <td>0.0</td>\n",
       "    </tr>\n",
       "  </tbody>\n",
       "</table>\n",
       "<p>2 rows × 707 columns</p>\n",
       "</div>"
      ],
      "text/plain": [
       "   year    0    1    2    3    4    5    6    7    8 ...   343  344  345  346  \\\n",
       "0  2998  0.0  0.0  0.0  0.0  0.0  0.0  0.0  0.0  0.0 ...   0.0  0.0  0.0  0.0   \n",
       "1  2998  0.0  0.0  0.0  0.0  0.0  0.0  0.0  0.0  0.0 ...   0.0  0.0  0.0  0.0   \n",
       "\n",
       "   347  348  349  350  351  352  \n",
       "0  0.0  0.0  0.0  0.0  0.0  0.0  \n",
       "1  0.0  0.0  0.0  0.0  0.0  0.0  \n",
       "\n",
       "[2 rows x 707 columns]"
      ]
     },
     "execution_count": 352,
     "metadata": {},
     "output_type": "execute_result"
    }
   ],
   "source": [
    "X_train.head(2)"
   ]
  },
  {
   "cell_type": "code",
   "execution_count": 353,
   "metadata": {
    "collapsed": false
   },
   "outputs": [
    {
     "data": {
      "text/plain": [
       "(101609, 707)"
      ]
     },
     "execution_count": 353,
     "metadata": {},
     "output_type": "execute_result"
    }
   ],
   "source": [
    "X_train.shape"
   ]
  },
  {
   "cell_type": "code",
   "execution_count": 354,
   "metadata": {
    "collapsed": true
   },
   "outputs": [],
   "source": [
    "train_data, test_data, train_target, test_target = cross_validation.train_test_split(X_train, target, test_size=0.3)"
   ]
  },
  {
   "cell_type": "code",
   "execution_count": 355,
   "metadata": {
    "collapsed": false
   },
   "outputs": [
    {
     "data": {
      "text/html": [
       "<div>\n",
       "<table border=\"1\" class=\"dataframe\">\n",
       "  <thead>\n",
       "    <tr style=\"text-align: right;\">\n",
       "      <th></th>\n",
       "      <th>year</th>\n",
       "      <th>0</th>\n",
       "      <th>1</th>\n",
       "      <th>2</th>\n",
       "      <th>3</th>\n",
       "      <th>4</th>\n",
       "      <th>5</th>\n",
       "      <th>6</th>\n",
       "      <th>7</th>\n",
       "      <th>8</th>\n",
       "      <th>...</th>\n",
       "      <th>343</th>\n",
       "      <th>344</th>\n",
       "      <th>345</th>\n",
       "      <th>346</th>\n",
       "      <th>347</th>\n",
       "      <th>348</th>\n",
       "      <th>349</th>\n",
       "      <th>350</th>\n",
       "      <th>351</th>\n",
       "      <th>352</th>\n",
       "    </tr>\n",
       "  </thead>\n",
       "  <tbody>\n",
       "    <tr>\n",
       "      <th>37773</th>\n",
       "      <td>3007</td>\n",
       "      <td>0.0</td>\n",
       "      <td>0.0</td>\n",
       "      <td>0.0</td>\n",
       "      <td>0.0</td>\n",
       "      <td>0.0</td>\n",
       "      <td>0.0</td>\n",
       "      <td>0.0</td>\n",
       "      <td>0.0</td>\n",
       "      <td>0.0</td>\n",
       "      <td>...</td>\n",
       "      <td>0.0</td>\n",
       "      <td>0.0</td>\n",
       "      <td>0.0</td>\n",
       "      <td>0.0</td>\n",
       "      <td>0.0</td>\n",
       "      <td>0.0</td>\n",
       "      <td>0.0</td>\n",
       "      <td>0.0</td>\n",
       "      <td>0.0</td>\n",
       "      <td>0.0</td>\n",
       "    </tr>\n",
       "    <tr>\n",
       "      <th>73832</th>\n",
       "      <td>3014</td>\n",
       "      <td>0.0</td>\n",
       "      <td>0.0</td>\n",
       "      <td>0.0</td>\n",
       "      <td>0.0</td>\n",
       "      <td>0.0</td>\n",
       "      <td>0.0</td>\n",
       "      <td>0.0</td>\n",
       "      <td>0.0</td>\n",
       "      <td>0.0</td>\n",
       "      <td>...</td>\n",
       "      <td>0.0</td>\n",
       "      <td>0.0</td>\n",
       "      <td>0.0</td>\n",
       "      <td>0.0</td>\n",
       "      <td>0.0</td>\n",
       "      <td>0.0</td>\n",
       "      <td>0.0</td>\n",
       "      <td>0.0</td>\n",
       "      <td>0.0</td>\n",
       "      <td>0.0</td>\n",
       "    </tr>\n",
       "  </tbody>\n",
       "</table>\n",
       "<p>2 rows × 707 columns</p>\n",
       "</div>"
      ],
      "text/plain": [
       "       year    0    1    2    3    4    5    6    7    8 ...   343  344  345  \\\n",
       "37773  3007  0.0  0.0  0.0  0.0  0.0  0.0  0.0  0.0  0.0 ...   0.0  0.0  0.0   \n",
       "73832  3014  0.0  0.0  0.0  0.0  0.0  0.0  0.0  0.0  0.0 ...   0.0  0.0  0.0   \n",
       "\n",
       "       346  347  348  349  350  351  352  \n",
       "37773  0.0  0.0  0.0  0.0  0.0  0.0  0.0  \n",
       "73832  0.0  0.0  0.0  0.0  0.0  0.0  0.0  \n",
       "\n",
       "[2 rows x 707 columns]"
      ]
     },
     "execution_count": 355,
     "metadata": {},
     "output_type": "execute_result"
    }
   ],
   "source": [
    "train_data.head(2)"
   ]
  },
  {
   "cell_type": "code",
   "execution_count": 356,
   "metadata": {
    "collapsed": true
   },
   "outputs": [],
   "source": [
    "lin_cl = linear_model.LinearRegression()"
   ]
  },
  {
   "cell_type": "code",
   "execution_count": 357,
   "metadata": {
    "collapsed": false
   },
   "outputs": [
    {
     "data": {
      "text/plain": [
       "LinearRegression(copy_X=True, fit_intercept=True, n_jobs=1, normalize=False)"
      ]
     },
     "execution_count": 357,
     "metadata": {},
     "output_type": "execute_result"
    }
   ],
   "source": [
    "lin_cl.fit(train_data, np.array(train_target))"
   ]
  },
  {
   "cell_type": "code",
   "execution_count": 358,
   "metadata": {
    "collapsed": true
   },
   "outputs": [],
   "source": [
    "y_pred = lin_cl.predict(test_data)"
   ]
  },
  {
   "cell_type": "code",
   "execution_count": 359,
   "metadata": {
    "collapsed": false
   },
   "outputs": [
    {
     "name": "stdout",
     "output_type": "stream",
     "text": [
      "39.7233421051\n"
     ]
    }
   ],
   "source": [
    "print sklearn.metrics.mean_absolute_error(y_pred, test_target)"
   ]
  },
  {
   "cell_type": "code",
   "execution_count": 360,
   "metadata": {
    "collapsed": false
   },
   "outputs": [
    {
     "data": {
      "text/plain": [
       "[-7.8052978515625,\n",
       " -18.8409423828125,\n",
       " 4.44659423828125,\n",
       " -21.564208984375,\n",
       " 14.7408447265625,\n",
       " 41.83349609375,\n",
       " -22.947509765625,\n",
       " 0.0020751953125,\n",
       " 23.463623046875,\n",
       " 13.5787353515625,\n",
       " 37.652587890625,\n",
       " 17.95257568359375,\n",
       " -21.2742919921875,\n",
       " 14.4525146484375,\n",
       " -0.57708740234375,\n",
       " 12.8328857421875,\n",
       " -2.18585205078125,\n",
       " 21.03216552734375,\n",
       " 98.2603759765625,\n",
       " 45.5989990234375]"
      ]
     },
     "execution_count": 360,
     "metadata": {},
     "output_type": "execute_result"
    }
   ],
   "source": [
    " list(y_pred[:20])"
   ]
  },
  {
   "cell_type": "code",
   "execution_count": 368,
   "metadata": {
    "collapsed": false
   },
   "outputs": [],
   "source": [
    "an = np.array(test_target)"
   ]
  },
  {
   "cell_type": "code",
   "execution_count": 370,
   "metadata": {
    "collapsed": false
   },
   "outputs": [],
   "source": [
    "for i in range(len(y_pred)):\n",
    "    if y_pred[i]>0:\n",
    "        y_pred[i]=1\n",
    "    else:\n",
    "        y_pred[i]=0\n",
    "    if an[i]>0:\n",
    "        an[i]=1\n",
    "    else:\n",
    "        an[i]=0"
   ]
  },
  {
   "cell_type": "code",
   "execution_count": 373,
   "metadata": {
    "collapsed": false
   },
   "outputs": [
    {
     "data": {
      "text/plain": [
       "11.874503433016764"
      ]
     },
     "execution_count": 373,
     "metadata": {},
     "output_type": "execute_result"
    }
   ],
   "source": [
    "sklearn.metrics.log_loss(an, y_pred)"
   ]
  },
  {
   "cell_type": "markdown",
   "metadata": {
    "collapsed": true
   },
   "source": [
    "### Нейронная сеть"
   ]
  },
  {
   "cell_type": "code",
   "execution_count": 479,
   "metadata": {
    "collapsed": true
   },
   "outputs": [],
   "source": [
    "from pybrain.datasets import ClassificationDataSet # Структура данных pybrain\n",
    "from pybrain.tools.shortcuts import buildNetwork\n",
    "from pybrain.supervised.trainers import BackpropTrainer\n",
    "from pybrain.structure.modules import SoftmaxLayer\n",
    "from pybrain.utilities import percentError"
   ]
  },
  {
   "cell_type": "code",
   "execution_count": 480,
   "metadata": {
    "collapsed": true
   },
   "outputs": [],
   "source": [
    "# Определение основных констант\n",
    "HIDDEN_NEURONS_NUM = 100 # Количество нейронов, содержащееся в скрытом слое сети\n",
    "MAX_EPOCHS = 100 # Максимальное число итераций алгоритма оптимизации параметров сети"
   ]
  },
  {
   "cell_type": "code",
   "execution_count": 481,
   "metadata": {
    "collapsed": false
   },
   "outputs": [
    {
     "data": {
      "text/html": [
       "<div>\n",
       "<table border=\"1\" class=\"dataframe\">\n",
       "  <thead>\n",
       "    <tr style=\"text-align: right;\">\n",
       "      <th></th>\n",
       "      <th>year</th>\n",
       "      <th>mean_home_score</th>\n",
       "      <th>mean_away_score</th>\n",
       "      <th>percentage_wins_home</th>\n",
       "      <th>percentage_wins_away</th>\n",
       "      <th>0</th>\n",
       "      <th>1</th>\n",
       "      <th>2</th>\n",
       "      <th>3</th>\n",
       "      <th>4</th>\n",
       "      <th>...</th>\n",
       "      <th>343</th>\n",
       "      <th>344</th>\n",
       "      <th>345</th>\n",
       "      <th>346</th>\n",
       "      <th>347</th>\n",
       "      <th>348</th>\n",
       "      <th>349</th>\n",
       "      <th>350</th>\n",
       "      <th>351</th>\n",
       "      <th>352</th>\n",
       "    </tr>\n",
       "  </thead>\n",
       "  <tbody>\n",
       "    <tr>\n",
       "      <th>0</th>\n",
       "      <td>-1.752835</td>\n",
       "      <td>1.411135</td>\n",
       "      <td>1.134001</td>\n",
       "      <td>1.573942</td>\n",
       "      <td>1.261859</td>\n",
       "      <td>0.0</td>\n",
       "      <td>0.0</td>\n",
       "      <td>0.0</td>\n",
       "      <td>0.0</td>\n",
       "      <td>0.0</td>\n",
       "      <td>...</td>\n",
       "      <td>0.0</td>\n",
       "      <td>0.0</td>\n",
       "      <td>0.0</td>\n",
       "      <td>0.0</td>\n",
       "      <td>0.0</td>\n",
       "      <td>0.0</td>\n",
       "      <td>0.0</td>\n",
       "      <td>0.0</td>\n",
       "      <td>0.0</td>\n",
       "      <td>0.0</td>\n",
       "    </tr>\n",
       "    <tr>\n",
       "      <th>1</th>\n",
       "      <td>-1.752835</td>\n",
       "      <td>0.236316</td>\n",
       "      <td>0.468392</td>\n",
       "      <td>0.019886</td>\n",
       "      <td>0.518128</td>\n",
       "      <td>0.0</td>\n",
       "      <td>0.0</td>\n",
       "      <td>0.0</td>\n",
       "      <td>0.0</td>\n",
       "      <td>0.0</td>\n",
       "      <td>...</td>\n",
       "      <td>0.0</td>\n",
       "      <td>0.0</td>\n",
       "      <td>0.0</td>\n",
       "      <td>0.0</td>\n",
       "      <td>0.0</td>\n",
       "      <td>0.0</td>\n",
       "      <td>0.0</td>\n",
       "      <td>0.0</td>\n",
       "      <td>0.0</td>\n",
       "      <td>0.0</td>\n",
       "    </tr>\n",
       "  </tbody>\n",
       "</table>\n",
       "<p>2 rows × 711 columns</p>\n",
       "</div>"
      ],
      "text/plain": [
       "       year  mean_home_score  mean_away_score  percentage_wins_home  \\\n",
       "0 -1.752835         1.411135         1.134001              1.573942   \n",
       "1 -1.752835         0.236316         0.468392              0.019886   \n",
       "\n",
       "   percentage_wins_away    0    1    2    3    4 ...   343  344  345  346  \\\n",
       "0              1.261859  0.0  0.0  0.0  0.0  0.0 ...   0.0  0.0  0.0  0.0   \n",
       "1              0.518128  0.0  0.0  0.0  0.0  0.0 ...   0.0  0.0  0.0  0.0   \n",
       "\n",
       "   347  348  349  350  351  352  \n",
       "0  0.0  0.0  0.0  0.0  0.0  0.0  \n",
       "1  0.0  0.0  0.0  0.0  0.0  0.0  \n",
       "\n",
       "[2 rows x 711 columns]"
      ]
     },
     "execution_count": 481,
     "metadata": {},
     "output_type": "execute_result"
    }
   ],
   "source": [
    "X_train.head(2)"
   ]
  },
  {
   "cell_type": "code",
   "execution_count": 482,
   "metadata": {
    "collapsed": false
   },
   "outputs": [
    {
     "data": {
      "text/plain": [
       "(101609, 711)"
      ]
     },
     "execution_count": 482,
     "metadata": {},
     "output_type": "execute_result"
    }
   ],
   "source": [
    "X_train.shape"
   ]
  },
  {
   "cell_type": "code",
   "execution_count": 483,
   "metadata": {
    "collapsed": false
   },
   "outputs": [
    {
     "data": {
      "text/html": [
       "<div>\n",
       "<table border=\"1\" class=\"dataframe\">\n",
       "  <thead>\n",
       "    <tr style=\"text-align: right;\">\n",
       "      <th></th>\n",
       "      <th>year</th>\n",
       "      <th>mean_home_score</th>\n",
       "      <th>mean_away_score</th>\n",
       "      <th>percentage_wins_home</th>\n",
       "      <th>percentage_wins_away</th>\n",
       "      <th>0</th>\n",
       "      <th>1</th>\n",
       "      <th>2</th>\n",
       "      <th>3</th>\n",
       "      <th>4</th>\n",
       "      <th>...</th>\n",
       "      <th>343</th>\n",
       "      <th>344</th>\n",
       "      <th>345</th>\n",
       "      <th>346</th>\n",
       "      <th>347</th>\n",
       "      <th>348</th>\n",
       "      <th>349</th>\n",
       "      <th>350</th>\n",
       "      <th>351</th>\n",
       "      <th>352</th>\n",
       "    </tr>\n",
       "  </thead>\n",
       "  <tbody>\n",
       "    <tr>\n",
       "      <th>0</th>\n",
       "      <td>1.873146</td>\n",
       "      <td>-1.452486</td>\n",
       "      <td>0.616305</td>\n",
       "      <td>-0.609021</td>\n",
       "      <td>0.329087</td>\n",
       "      <td>0.0</td>\n",
       "      <td>0.0</td>\n",
       "      <td>0.0</td>\n",
       "      <td>0.0</td>\n",
       "      <td>0.0</td>\n",
       "      <td>...</td>\n",
       "      <td>0.0</td>\n",
       "      <td>0.0</td>\n",
       "      <td>0.0</td>\n",
       "      <td>0.0</td>\n",
       "      <td>0.0</td>\n",
       "      <td>0.0</td>\n",
       "      <td>0.0</td>\n",
       "      <td>0.0</td>\n",
       "      <td>0.0</td>\n",
       "      <td>0.0</td>\n",
       "    </tr>\n",
       "    <tr>\n",
       "      <th>1</th>\n",
       "      <td>1.873146</td>\n",
       "      <td>0.089464</td>\n",
       "      <td>-2.046131</td>\n",
       "      <td>0.778944</td>\n",
       "      <td>-0.935227</td>\n",
       "      <td>0.0</td>\n",
       "      <td>0.0</td>\n",
       "      <td>0.0</td>\n",
       "      <td>0.0</td>\n",
       "      <td>0.0</td>\n",
       "      <td>...</td>\n",
       "      <td>0.0</td>\n",
       "      <td>0.0</td>\n",
       "      <td>0.0</td>\n",
       "      <td>0.0</td>\n",
       "      <td>0.0</td>\n",
       "      <td>0.0</td>\n",
       "      <td>0.0</td>\n",
       "      <td>0.0</td>\n",
       "      <td>0.0</td>\n",
       "      <td>0.0</td>\n",
       "    </tr>\n",
       "  </tbody>\n",
       "</table>\n",
       "<p>2 rows × 711 columns</p>\n",
       "</div>"
      ],
      "text/plain": [
       "       year  mean_home_score  mean_away_score  percentage_wins_home  \\\n",
       "0  1.873146        -1.452486         0.616305             -0.609021   \n",
       "1  1.873146         0.089464        -2.046131              0.778944   \n",
       "\n",
       "   percentage_wins_away    0    1    2    3    4 ...   343  344  345  346  \\\n",
       "0              0.329087  0.0  0.0  0.0  0.0  0.0 ...   0.0  0.0  0.0  0.0   \n",
       "1             -0.935227  0.0  0.0  0.0  0.0  0.0 ...   0.0  0.0  0.0  0.0   \n",
       "\n",
       "   347  348  349  350  351  352  \n",
       "0  0.0  0.0  0.0  0.0  0.0  0.0  \n",
       "1  0.0  0.0  0.0  0.0  0.0  0.0  \n",
       "\n",
       "[2 rows x 711 columns]"
      ]
     },
     "execution_count": 483,
     "metadata": {},
     "output_type": "execute_result"
    }
   ],
   "source": [
    "X_test.head(2)"
   ]
  },
  {
   "cell_type": "code",
   "execution_count": 484,
   "metadata": {
    "collapsed": false
   },
   "outputs": [
    {
     "data": {
      "text/plain": [
       "(101609, 1)"
      ]
     },
     "execution_count": 484,
     "metadata": {},
     "output_type": "execute_result"
    }
   ],
   "source": [
    "y_train.shape"
   ]
  },
  {
   "cell_type": "code",
   "execution_count": 485,
   "metadata": {
    "collapsed": false
   },
   "outputs": [
    {
     "data": {
      "text/plain": [
       "(125207, 711)"
      ]
     },
     "execution_count": 485,
     "metadata": {},
     "output_type": "execute_result"
    }
   ],
   "source": [
    "X_test.shape"
   ]
  },
  {
   "cell_type": "code",
   "execution_count": 486,
   "metadata": {
    "collapsed": true
   },
   "outputs": [],
   "source": [
    "train_data, test_data, train_labels, test_labels = cross_validation.train_test_split(X_train, y_train)\n",
    "train_labels = train_labels.values\n",
    "test_labels = test_labels.values"
   ]
  },
  {
   "cell_type": "code",
   "execution_count": 487,
   "metadata": {
    "collapsed": true
   },
   "outputs": [],
   "source": [
    "ds_train = ClassificationDataSet(np.shape(X_train)[1], nb_classes=len(np.unique(y_train)))\n",
    "ds_train.setField('input', train_data)\n",
    "ds_train.setField('target', train_labels[:, np.newaxis])\n",
    "ds_test = ClassificationDataSet(np.shape(X_test)[1], nb_classes=len(np.unique(y_train)))\n",
    "ds_test.setField('input', test_data)\n",
    "ds_test.setField('target', test_labels[:, np.newaxis])"
   ]
  },
  {
   "cell_type": "code",
   "execution_count": 488,
   "metadata": {
    "collapsed": true
   },
   "outputs": [],
   "source": [
    "np.random.seed(0)  # Зафиксируем seed для получения воспроизводимого результата"
   ]
  },
  {
   "cell_type": "code",
   "execution_count": null,
   "metadata": {
    "collapsed": true
   },
   "outputs": [],
   "source": []
  },
  {
   "cell_type": "code",
   "execution_count": 489,
   "metadata": {
    "collapsed": true
   },
   "outputs": [],
   "source": [
    "net = buildNetwork(ds_train.indim, HIDDEN_NEURONS_NUM, ds_train.outdim, outclass=SoftmaxLayer)"
   ]
  },
  {
   "cell_type": "code",
   "execution_count": 490,
   "metadata": {
    "collapsed": true
   },
   "outputs": [],
   "source": [
    "init_params = np.random.random((len(net.params))) "
   ]
  },
  {
   "cell_type": "code",
   "execution_count": 491,
   "metadata": {
    "collapsed": true
   },
   "outputs": [],
   "source": [
    "net._setParameters(init_params)"
   ]
  },
  {
   "cell_type": "code",
   "execution_count": 493,
   "metadata": {
    "collapsed": true
   },
   "outputs": [],
   "source": [
    "%matplotlib inline\n",
    "\n",
    "import random\n",
    "import matplotlib.pyplot as plt\n",
    "from sklearn.preprocessing import normalize\n",
    "import numpy as np"
   ]
  },
  {
   "cell_type": "code",
   "execution_count": null,
   "metadata": {
    "collapsed": false
   },
   "outputs": [],
   "source": [
    "random.seed(0)\n",
    "# Модуль настройки параметров pybrain использует модуль random; зафиксируем seed для получения воспроизводимого результата\n",
    "trainer = BackpropTrainer(net, dataset=ds_train) # Инициализируем модуль оптимизации\n",
    "err_train, err_val = trainer.trainUntilConvergence(maxEpochs=MAX_EPOCHS)\n",
    "line_train = plt.plot(err_train, 'b', err_val, 'r') # Построение графика\n",
    "xlab = plt.xlabel('Iterations')\n",
    "ylab = plt.ylabel('Error')"
   ]
  },
  {
   "cell_type": "code",
   "execution_count": null,
   "metadata": {
    "collapsed": true
   },
   "outputs": [],
   "source": []
  }
 ],
 "metadata": {
  "anaconda-cloud": {},
  "kernelspec": {
   "display_name": "Python [conda root]",
   "language": "python",
   "name": "conda-root-py"
  },
  "language_info": {
   "codemirror_mode": {
    "name": "ipython",
    "version": 3
   },
   "file_extension": ".py",
   "mimetype": "text/x-python",
   "name": "python",
   "nbconvert_exporter": "python",
   "pygments_lexer": "ipython3",
   "version": "3.5.2"
  }
 },
 "nbformat": 4,
 "nbformat_minor": 1
}
