{
 "cells": [
  {
   "cell_type": "markdown",
   "metadata": {},
   "source": [
    "# Import libraries"
   ]
  },
  {
   "cell_type": "code",
   "execution_count": 78,
   "metadata": {
    "collapsed": false
   },
   "outputs": [],
   "source": [
    "import numpy as np # calculations with arrays\n",
    "import pandas as pd # user-friendly DataFrames for data representation\n",
    "import sklearn # machine learning algorithms\n",
    "from sklearn import ensemble, linear_model\n",
    "from sklearn.metrics import log_loss\n",
    "from sklearn import cross_validation\n",
    "from sklearn import grid_search\n",
    "from sklearn.preprocessing import StandardScaler\n",
    "from sklearn.preprocessing import OneHotEncoder\n",
    "from sklearn.feature_extraction import DictVectorizer as DV\n",
    "import xgboost as xgboost\n",
    "import matplotlib.pyplot as plt # import plot functions\n",
    "# necessary to plot in jupyter notebook:\n",
    "%matplotlib inline\n",
    "import seaborn as sns # make plots beautiful\n",
    "from sklearn.grid_search import GridSearchCV"
   ]
  },
  {
   "cell_type": "markdown",
   "metadata": {},
   "source": [
    "# Load data"
   ]
  },
  {
   "cell_type": "code",
   "execution_count": 79,
   "metadata": {
    "collapsed": true
   },
   "outputs": [],
   "source": [
    "train = pd.read_csv('train2.csv')\n",
    "test = pd.read_csv('test2.csv')\n",
    "sample_submission = pd.read_csv('sample_submission.csv')"
   ]
  },
  {
   "cell_type": "markdown",
   "metadata": {},
   "source": [
    "# Data"
   ]
  },
  {
   "cell_type": "code",
   "execution_count": 80,
   "metadata": {
    "collapsed": false
   },
   "outputs": [
    {
     "data": {
      "text/html": [
       "<div>\n",
       "<table border=\"1\" class=\"dataframe\">\n",
       "  <thead>\n",
       "    <tr style=\"text-align: right;\">\n",
       "      <th></th>\n",
       "      <th>year</th>\n",
       "      <th>day</th>\n",
       "      <th>team1</th>\n",
       "      <th>team2</th>\n",
       "      <th>score1</th>\n",
       "      <th>score2</th>\n",
       "      <th>target</th>\n",
       "    </tr>\n",
       "  </thead>\n",
       "  <tbody>\n",
       "    <tr>\n",
       "      <th>0</th>\n",
       "      <td>2998</td>\n",
       "      <td>19</td>\n",
       "      <td>317</td>\n",
       "      <td>131</td>\n",
       "      <td>336</td>\n",
       "      <td>278</td>\n",
       "      <td>True</td>\n",
       "    </tr>\n",
       "    <tr>\n",
       "      <th>1</th>\n",
       "      <td>2998</td>\n",
       "      <td>28</td>\n",
       "      <td>61</td>\n",
       "      <td>29</td>\n",
       "      <td>301</td>\n",
       "      <td>259</td>\n",
       "      <td>True</td>\n",
       "    </tr>\n",
       "    <tr>\n",
       "      <th>2</th>\n",
       "      <td>2998</td>\n",
       "      <td>28</td>\n",
       "      <td>110</td>\n",
       "      <td>141</td>\n",
       "      <td>359</td>\n",
       "      <td>267</td>\n",
       "      <td>True</td>\n",
       "    </tr>\n",
       "  </tbody>\n",
       "</table>\n",
       "</div>"
      ],
      "text/plain": [
       "   year  day  team1  team2  score1  score2 target\n",
       "0  2998   19    317    131     336     278   True\n",
       "1  2998   28     61     29     301     259   True\n",
       "2  2998   28    110    141     359     267   True"
      ]
     },
     "execution_count": 80,
     "metadata": {},
     "output_type": "execute_result"
    }
   ],
   "source": [
    "train.head(3)"
   ]
  },
  {
   "cell_type": "code",
   "execution_count": 81,
   "metadata": {
    "collapsed": false
   },
   "outputs": [
    {
     "data": {
      "text/plain": [
       "(101609, 7)"
      ]
     },
     "execution_count": 81,
     "metadata": {},
     "output_type": "execute_result"
    }
   ],
   "source": [
    "train.shape"
   ]
  },
  {
   "cell_type": "code",
   "execution_count": 82,
   "metadata": {
    "collapsed": false
   },
   "outputs": [
    {
     "data": {
      "text/html": [
       "<div>\n",
       "<table border=\"1\" class=\"dataframe\">\n",
       "  <thead>\n",
       "    <tr style=\"text-align: right;\">\n",
       "      <th></th>\n",
       "      <th>Id</th>\n",
       "      <th>year</th>\n",
       "      <th>team1</th>\n",
       "      <th>team2</th>\n",
       "    </tr>\n",
       "  </thead>\n",
       "  <tbody>\n",
       "    <tr>\n",
       "      <th>0</th>\n",
       "      <td>0</td>\n",
       "      <td>3021</td>\n",
       "      <td>363</td>\n",
       "      <td>161</td>\n",
       "    </tr>\n",
       "    <tr>\n",
       "      <th>1</th>\n",
       "      <td>1</td>\n",
       "      <td>3021</td>\n",
       "      <td>286</td>\n",
       "      <td>2</td>\n",
       "    </tr>\n",
       "    <tr>\n",
       "      <th>2</th>\n",
       "      <td>2</td>\n",
       "      <td>3020</td>\n",
       "      <td>232</td>\n",
       "      <td>52</td>\n",
       "    </tr>\n",
       "  </tbody>\n",
       "</table>\n",
       "</div>"
      ],
      "text/plain": [
       "   Id  year  team1  team2\n",
       "0   0  3021    363    161\n",
       "1   1  3021    286      2\n",
       "2   2  3020    232     52"
      ]
     },
     "execution_count": 82,
     "metadata": {},
     "output_type": "execute_result"
    }
   ],
   "source": [
    "test.head(3)"
   ]
  },
  {
   "cell_type": "code",
   "execution_count": 83,
   "metadata": {
    "collapsed": false
   },
   "outputs": [
    {
     "data": {
      "text/html": [
       "<div>\n",
       "<table border=\"1\" class=\"dataframe\">\n",
       "  <thead>\n",
       "    <tr style=\"text-align: right;\">\n",
       "      <th></th>\n",
       "      <th>Id</th>\n",
       "      <th>target</th>\n",
       "    </tr>\n",
       "  </thead>\n",
       "  <tbody>\n",
       "    <tr>\n",
       "      <th>0</th>\n",
       "      <td>0</td>\n",
       "      <td>0.5</td>\n",
       "    </tr>\n",
       "    <tr>\n",
       "      <th>1</th>\n",
       "      <td>1</td>\n",
       "      <td>0.5</td>\n",
       "    </tr>\n",
       "    <tr>\n",
       "      <th>2</th>\n",
       "      <td>2</td>\n",
       "      <td>0.5</td>\n",
       "    </tr>\n",
       "  </tbody>\n",
       "</table>\n",
       "</div>"
      ],
      "text/plain": [
       "   Id  target\n",
       "0   0     0.5\n",
       "1   1     0.5\n",
       "2   2     0.5"
      ]
     },
     "execution_count": 83,
     "metadata": {},
     "output_type": "execute_result"
    }
   ],
   "source": [
    "sample_submission.head(3)"
   ]
  },
  {
   "cell_type": "code",
   "execution_count": 84,
   "metadata": {
    "collapsed": false
   },
   "outputs": [
    {
     "ename": "SyntaxError",
     "evalue": "Missing parentheses in call to 'print' (<ipython-input-84-4fd11fc4112d>, line 1)",
     "output_type": "error",
     "traceback": [
      "\u001b[0;36m  File \u001b[0;32m\"<ipython-input-84-4fd11fc4112d>\"\u001b[0;36m, line \u001b[0;32m1\u001b[0m\n\u001b[0;31m    print 'train.shape = ', train.shape\u001b[0m\n\u001b[0m                         ^\u001b[0m\n\u001b[0;31mSyntaxError\u001b[0m\u001b[0;31m:\u001b[0m Missing parentheses in call to 'print'\n"
     ]
    }
   ],
   "source": [
    "print 'train.shape = ', train.shape\n",
    "print 'test.shape = ', test.shape\n",
    "print 'sample_submission.shape = ', sample_submission.shape"
   ]
  },
  {
   "cell_type": "markdown",
   "metadata": {},
   "source": [
    "# Work with categorical features"
   ]
  },
  {
   "cell_type": "markdown",
   "metadata": {},
   "source": [
    "# Make dataset for cross-vallidation using One-Hot-Encoding"
   ]
  },
  {
   "cell_type": "code",
   "execution_count": 85,
   "metadata": {
    "collapsed": false
   },
   "outputs": [],
   "source": [
    "enc = OneHotEncoder(sparse=False)"
   ]
  },
  {
   "cell_type": "code",
   "execution_count": 86,
   "metadata": {
    "collapsed": false
   },
   "outputs": [],
   "source": [
    "train_team1 = pd.DataFrame(enc.fit_transform(train[['team1']]))"
   ]
  },
  {
   "cell_type": "code",
   "execution_count": 87,
   "metadata": {
    "collapsed": false
   },
   "outputs": [
    {
     "ename": "SyntaxError",
     "evalue": "Missing parentheses in call to 'print' (<ipython-input-87-420bd4dd2b48>, line 1)",
     "output_type": "error",
     "traceback": [
      "\u001b[0;36m  File \u001b[0;32m\"<ipython-input-87-420bd4dd2b48>\"\u001b[0;36m, line \u001b[0;32m1\u001b[0m\n\u001b[0;31m    print 'train_team1.shape = ', train_team1.shape\u001b[0m\n\u001b[0m                               ^\u001b[0m\n\u001b[0;31mSyntaxError\u001b[0m\u001b[0;31m:\u001b[0m Missing parentheses in call to 'print'\n"
     ]
    }
   ],
   "source": [
    "print 'train_team1.shape = ', train_team1.shape"
   ]
  },
  {
   "cell_type": "code",
   "execution_count": 88,
   "metadata": {
    "collapsed": true
   },
   "outputs": [],
   "source": [
    "train_team2 = pd.DataFrame(enc.transform(train[['team2']]))"
   ]
  },
  {
   "cell_type": "code",
   "execution_count": 12,
   "metadata": {
    "collapsed": false
   },
   "outputs": [
    {
     "ename": "SyntaxError",
     "evalue": "Missing parentheses in call to 'print' (<ipython-input-12-220f88f414c6>, line 1)",
     "output_type": "error",
     "traceback": [
      "\u001b[0;36m  File \u001b[0;32m\"<ipython-input-12-220f88f414c6>\"\u001b[0;36m, line \u001b[0;32m1\u001b[0m\n\u001b[0;31m    print 'train_team2.shape = ', train_team2.shape\u001b[0m\n\u001b[0m                               ^\u001b[0m\n\u001b[0;31mSyntaxError\u001b[0m\u001b[0;31m:\u001b[0m Missing parentheses in call to 'print'\n"
     ]
    }
   ],
   "source": [
    "print 'train_team2.shape = ', train_team2.shape"
   ]
  },
  {
   "cell_type": "code",
   "execution_count": 89,
   "metadata": {
    "collapsed": false
   },
   "outputs": [],
   "source": [
    "train_teams = pd.concat([train_team1, train_team2], axis=1)"
   ]
  },
  {
   "cell_type": "code",
   "execution_count": 14,
   "metadata": {
    "collapsed": false
   },
   "outputs": [
    {
     "ename": "SyntaxError",
     "evalue": "Missing parentheses in call to 'print' (<ipython-input-14-86ee706d0bfd>, line 1)",
     "output_type": "error",
     "traceback": [
      "\u001b[0;36m  File \u001b[0;32m\"<ipython-input-14-86ee706d0bfd>\"\u001b[0;36m, line \u001b[0;32m1\u001b[0m\n\u001b[0;31m    print 'train_team1 + train_team2 = ', train_teams.shape\u001b[0m\n\u001b[0m                                       ^\u001b[0m\n\u001b[0;31mSyntaxError\u001b[0m\u001b[0;31m:\u001b[0m Missing parentheses in call to 'print'\n"
     ]
    }
   ],
   "source": [
    "print 'train_team1 + train_team2 = ', train_teams.shape"
   ]
  },
  {
   "cell_type": "code",
   "execution_count": 15,
   "metadata": {
    "collapsed": false
   },
   "outputs": [],
   "source": [
    "test_team1 = pd.DataFrame(enc.transform(test[['team1']]))"
   ]
  },
  {
   "cell_type": "code",
   "execution_count": 16,
   "metadata": {
    "collapsed": false
   },
   "outputs": [
    {
     "ename": "SyntaxError",
     "evalue": "Missing parentheses in call to 'print' (<ipython-input-16-63a9959574ec>, line 1)",
     "output_type": "error",
     "traceback": [
      "\u001b[0;36m  File \u001b[0;32m\"<ipython-input-16-63a9959574ec>\"\u001b[0;36m, line \u001b[0;32m1\u001b[0m\n\u001b[0;31m    print 'test_team1 = ', test_team1.shape\u001b[0m\n\u001b[0m                        ^\u001b[0m\n\u001b[0;31mSyntaxError\u001b[0m\u001b[0;31m:\u001b[0m Missing parentheses in call to 'print'\n"
     ]
    }
   ],
   "source": [
    "print 'test_team1 = ', test_team1.shape"
   ]
  },
  {
   "cell_type": "code",
   "execution_count": 17,
   "metadata": {
    "collapsed": true
   },
   "outputs": [],
   "source": [
    "test_team2 = pd.DataFrame(enc.transform(test[['team2']]))"
   ]
  },
  {
   "cell_type": "code",
   "execution_count": 18,
   "metadata": {
    "collapsed": false
   },
   "outputs": [
    {
     "ename": "SyntaxError",
     "evalue": "Missing parentheses in call to 'print' (<ipython-input-18-0f3922acb5e1>, line 1)",
     "output_type": "error",
     "traceback": [
      "\u001b[0;36m  File \u001b[0;32m\"<ipython-input-18-0f3922acb5e1>\"\u001b[0;36m, line \u001b[0;32m1\u001b[0m\n\u001b[0;31m    print 'test_team2 = ', test_team2.shape\u001b[0m\n\u001b[0m                        ^\u001b[0m\n\u001b[0;31mSyntaxError\u001b[0m\u001b[0;31m:\u001b[0m Missing parentheses in call to 'print'\n"
     ]
    }
   ],
   "source": [
    "print 'test_team2 = ', test_team2.shape"
   ]
  },
  {
   "cell_type": "code",
   "execution_count": 19,
   "metadata": {
    "collapsed": false
   },
   "outputs": [],
   "source": [
    "test_teams = pd.concat([test_team1, test_team2], axis=1)"
   ]
  },
  {
   "cell_type": "code",
   "execution_count": 20,
   "metadata": {
    "collapsed": false
   },
   "outputs": [
    {
     "ename": "SyntaxError",
     "evalue": "Missing parentheses in call to 'print' (<ipython-input-20-23466d088f6b>, line 1)",
     "output_type": "error",
     "traceback": [
      "\u001b[0;36m  File \u001b[0;32m\"<ipython-input-20-23466d088f6b>\"\u001b[0;36m, line \u001b[0;32m1\u001b[0m\n\u001b[0;31m    print 'test_teams.shape = ', test_teams.shape\u001b[0m\n\u001b[0m                              ^\u001b[0m\n\u001b[0;31mSyntaxError\u001b[0m\u001b[0;31m:\u001b[0m Missing parentheses in call to 'print'\n"
     ]
    }
   ],
   "source": [
    "print 'test_teams.shape = ', test_teams.shape"
   ]
  },
  {
   "cell_type": "markdown",
   "metadata": {},
   "source": [
    "# Feature engenering"
   ]
  },
  {
   "cell_type": "markdown",
   "metadata": {},
   "source": [
    "### Добавили среднее число очков: для команды team1 – среднее количество очков, набранных дома; для команды team2 – среднее количество очков, набранных в гостях"
   ]
  },
  {
   "cell_type": "code",
   "execution_count": 21,
   "metadata": {
    "collapsed": true
   },
   "outputs": [],
   "source": [
    "df_train = train\n",
    "df_test = test"
   ]
  },
  {
   "cell_type": "code",
   "execution_count": 22,
   "metadata": {
    "collapsed": false
   },
   "outputs": [],
   "source": [
    "means_score = {}\n",
    "for index_team in list(df_train.team1.unique()):\n",
    "    df_for_team1 = df_train[df_train['team1'] == index_team]\n",
    "    df_for_team2 = df_train[df_train['team2'] == index_team]\n",
    "    means_score[index_team] = [int(df_for_team1.score1.mean()), int(df_for_team2.score2.mean())]\n",
    "#print(means_score)\n",
    "#for c in means_score:\n",
    "#    print(means_score[c])"
   ]
  },
  {
   "cell_type": "code",
   "execution_count": 23,
   "metadata": {
    "collapsed": false
   },
   "outputs": [],
   "source": [
    "teams_not_train = []\n",
    "for index_team in list(df_test.team1.unique()):\n",
    "    if index_team not in list(df_train.team1.unique()):\n",
    "        teams_not_train.append(index_team)\n",
    "for index_team in list(df_test.team2.unique()):\n",
    "    if index_team not in list(df_train.team1.unique()):\n",
    "        teams_not_train.append(index_team)"
   ]
  },
  {
   "cell_type": "code",
   "execution_count": 24,
   "metadata": {
    "collapsed": true
   },
   "outputs": [],
   "source": [
    "for index_team in teams_not_train:\n",
    "    means_score[index_team] = [df_train.score1.mean(), df_train.score2.mean()]"
   ]
  },
  {
   "cell_type": "code",
   "execution_count": 25,
   "metadata": {
    "collapsed": true
   },
   "outputs": [],
   "source": [
    "features_to_concat_train = []\n",
    "for year, day, team1, team2, _, __, ___ in df_train.values:\n",
    "    features_to_concat_train.append([means_score[team1][0], means_score[team2][1]])\n",
    "features_to_concat_test = []\n",
    "for Id, year, team1, team2 in df_test.values:\n",
    "    features_to_concat_test.append([means_score[team1][0], means_score[team2][1]])"
   ]
  },
  {
   "cell_type": "code",
   "execution_count": 26,
   "metadata": {
    "collapsed": true
   },
   "outputs": [],
   "source": [
    "df_feature_to_concat_train = pd.DataFrame(data=features_to_concat_train, columns=['mean_home_score', 'mean_away_score'])"
   ]
  },
  {
   "cell_type": "code",
   "execution_count": 27,
   "metadata": {
    "collapsed": true
   },
   "outputs": [],
   "source": [
    "df_feature_to_concat_test = pd.DataFrame(data=features_to_concat_test, columns=['mean_home_score', 'mean_away_score'])"
   ]
  },
  {
   "cell_type": "markdown",
   "metadata": {},
   "source": [
    "### Добавляем процент побед: для team1 – процент побед дома; для team2 – процент побед в гостях"
   ]
  },
  {
   "cell_type": "code",
   "execution_count": 28,
   "metadata": {
    "collapsed": true
   },
   "outputs": [],
   "source": [
    "percentage_wins = {}\n",
    "for index_team in list(df_train.team1.unique()):\n",
    "    df_for_team_home = df_train[df_train['team1'] == index_team]\n",
    "    df_for_team_away = df_train[df_train['team2'] == index_team]\n",
    "    percentage_wins[index_team] = [df_for_team_home.target.mean(), 1 - df_for_team_away.target.mean()]"
   ]
  },
  {
   "cell_type": "code",
   "execution_count": 29,
   "metadata": {
    "collapsed": true
   },
   "outputs": [],
   "source": [
    "for index_team in teams_not_train:\n",
    "    percentage_wins[index_team] = [df_train.target.mean(), 1 - df_train.target.mean()]"
   ]
  },
  {
   "cell_type": "code",
   "execution_count": 30,
   "metadata": {
    "collapsed": true
   },
   "outputs": [],
   "source": [
    "percentage_of_wins_train = []\n",
    "for year, day, team1, team2, _, __, ___ in df_train.values:\n",
    "    percentage_of_wins_train.append([percentage_wins[team1][0], percentage_wins[team2][1]])\n",
    "percentage_of_wins_test = []\n",
    "for Id, year, team1, team2 in df_test.values:\n",
    "    percentage_of_wins_test.append([percentage_wins[team1][0], percentage_wins[team2][1]])"
   ]
  },
  {
   "cell_type": "code",
   "execution_count": 31,
   "metadata": {
    "collapsed": true
   },
   "outputs": [],
   "source": [
    "df_percentage_of_wins_train = pd.DataFrame(data=percentage_of_wins_train, columns=['percentage_wins_home', 'percentage_wins_away'])"
   ]
  },
  {
   "cell_type": "code",
   "execution_count": 32,
   "metadata": {
    "collapsed": true
   },
   "outputs": [],
   "source": [
    "df_percentage_of_wins_test = pd.DataFrame(data=percentage_of_wins_test, columns=['percentage_wins_home', 'percentage_wins_away'])"
   ]
  },
  {
   "cell_type": "code",
   "execution_count": null,
   "metadata": {
    "collapsed": true
   },
   "outputs": [],
   "source": []
  },
  {
   "cell_type": "markdown",
   "metadata": {
    "collapsed": true
   },
   "source": [
    "   # Make X_train, X_test, y_train, y_test"
   ]
  },
  {
   "cell_type": "markdown",
   "metadata": {},
   "source": [
    "### Делаем X_train"
   ]
  },
  {
   "cell_type": "code",
   "execution_count": 33,
   "metadata": {
    "collapsed": false
   },
   "outputs": [],
   "source": [
    "X_train_all_feat = pd.concat([train, df_feature_to_concat_train, df_percentage_of_wins_train], axis=1)"
   ]
  },
  {
   "cell_type": "code",
   "execution_count": 34,
   "metadata": {
    "collapsed": false
   },
   "outputs": [
    {
     "ename": "SyntaxError",
     "evalue": "Missing parentheses in call to 'print' (<ipython-input-34-adf97a8cc3c5>, line 1)",
     "output_type": "error",
     "traceback": [
      "\u001b[0;36m  File \u001b[0;32m\"<ipython-input-34-adf97a8cc3c5>\"\u001b[0;36m, line \u001b[0;32m1\u001b[0m\n\u001b[0;31m    print 'X_train_all_feat.shape = ', X_train_all_feat.shape\u001b[0m\n\u001b[0m                                    ^\u001b[0m\n\u001b[0;31mSyntaxError\u001b[0m\u001b[0;31m:\u001b[0m Missing parentheses in call to 'print'\n"
     ]
    }
   ],
   "source": [
    "print 'X_train_all_feat.shape = ', X_train_all_feat.shape"
   ]
  },
  {
   "cell_type": "code",
   "execution_count": 35,
   "metadata": {
    "collapsed": false
   },
   "outputs": [
    {
     "data": {
      "text/html": [
       "<div>\n",
       "<table border=\"1\" class=\"dataframe\">\n",
       "  <thead>\n",
       "    <tr style=\"text-align: right;\">\n",
       "      <th></th>\n",
       "      <th>year</th>\n",
       "      <th>day</th>\n",
       "      <th>team1</th>\n",
       "      <th>team2</th>\n",
       "      <th>score1</th>\n",
       "      <th>score2</th>\n",
       "      <th>target</th>\n",
       "      <th>mean_home_score</th>\n",
       "      <th>mean_away_score</th>\n",
       "      <th>percentage_wins_home</th>\n",
       "      <th>percentage_wins_away</th>\n",
       "    </tr>\n",
       "  </thead>\n",
       "  <tbody>\n",
       "    <tr>\n",
       "      <th>0</th>\n",
       "      <td>2998</td>\n",
       "      <td>19</td>\n",
       "      <td>317</td>\n",
       "      <td>131</td>\n",
       "      <td>336</td>\n",
       "      <td>278</td>\n",
       "      <td>True</td>\n",
       "      <td>289</td>\n",
       "      <td>285</td>\n",
       "      <td>0.688073</td>\n",
       "      <td>0.640118</td>\n",
       "    </tr>\n",
       "    <tr>\n",
       "      <th>1</th>\n",
       "      <td>2998</td>\n",
       "      <td>28</td>\n",
       "      <td>61</td>\n",
       "      <td>29</td>\n",
       "      <td>301</td>\n",
       "      <td>259</td>\n",
       "      <td>True</td>\n",
       "      <td>273</td>\n",
       "      <td>276</td>\n",
       "      <td>0.503333</td>\n",
       "      <td>0.556962</td>\n",
       "    </tr>\n",
       "  </tbody>\n",
       "</table>\n",
       "</div>"
      ],
      "text/plain": [
       "   year  day  team1  team2  score1  score2 target  mean_home_score  \\\n",
       "0  2998   19    317    131     336     278   True              289   \n",
       "1  2998   28     61     29     301     259   True              273   \n",
       "\n",
       "   mean_away_score  percentage_wins_home  percentage_wins_away  \n",
       "0              285              0.688073              0.640118  \n",
       "1              276              0.503333              0.556962  "
      ]
     },
     "execution_count": 35,
     "metadata": {},
     "output_type": "execute_result"
    }
   ],
   "source": [
    "X_train_all_feat.head(2)"
   ]
  },
  {
   "cell_type": "code",
   "execution_count": 36,
   "metadata": {
    "collapsed": true
   },
   "outputs": [],
   "source": [
    "y_train =  X_train_all_feat[['target']]"
   ]
  },
  {
   "cell_type": "code",
   "execution_count": 37,
   "metadata": {
    "collapsed": true
   },
   "outputs": [],
   "source": [
    "X_train_not_scaled = X_train_all_feat.drop(['year', 'mean_home_score', 'mean_away_score', 'day', 'team1', 'team2','score1', 'score2', 'target'], axis=1)"
   ]
  },
  {
   "cell_type": "code",
   "execution_count": 38,
   "metadata": {
    "collapsed": false
   },
   "outputs": [
    {
     "data": {
      "text/html": [
       "<div>\n",
       "<table border=\"1\" class=\"dataframe\">\n",
       "  <thead>\n",
       "    <tr style=\"text-align: right;\">\n",
       "      <th></th>\n",
       "      <th>percentage_wins_home</th>\n",
       "      <th>percentage_wins_away</th>\n",
       "    </tr>\n",
       "  </thead>\n",
       "  <tbody>\n",
       "    <tr>\n",
       "      <th>0</th>\n",
       "      <td>0.688073</td>\n",
       "      <td>0.640118</td>\n",
       "    </tr>\n",
       "    <tr>\n",
       "      <th>1</th>\n",
       "      <td>0.503333</td>\n",
       "      <td>0.556962</td>\n",
       "    </tr>\n",
       "  </tbody>\n",
       "</table>\n",
       "</div>"
      ],
      "text/plain": [
       "   percentage_wins_home  percentage_wins_away\n",
       "0              0.688073              0.640118\n",
       "1              0.503333              0.556962"
      ]
     },
     "execution_count": 38,
     "metadata": {},
     "output_type": "execute_result"
    }
   ],
   "source": [
    "X_train_not_scaled.head(2)"
   ]
  },
  {
   "cell_type": "code",
   "execution_count": 39,
   "metadata": {
    "collapsed": false
   },
   "outputs": [
    {
     "ename": "SyntaxError",
     "evalue": "Missing parentheses in call to 'print' (<ipython-input-39-316710af31d9>, line 1)",
     "output_type": "error",
     "traceback": [
      "\u001b[0;36m  File \u001b[0;32m\"<ipython-input-39-316710af31d9>\"\u001b[0;36m, line \u001b[0;32m1\u001b[0m\n\u001b[0;31m    print 'X_train_not_scaled.shape = ', X_train_not_scaled.shape\u001b[0m\n\u001b[0m                                      ^\u001b[0m\n\u001b[0;31mSyntaxError\u001b[0m\u001b[0;31m:\u001b[0m Missing parentheses in call to 'print'\n"
     ]
    }
   ],
   "source": [
    "print 'X_train_not_scaled.shape = ', X_train_not_scaled.shape"
   ]
  },
  {
   "cell_type": "code",
   "execution_count": 40,
   "metadata": {
    "collapsed": false
   },
   "outputs": [
    {
     "ename": "SyntaxError",
     "evalue": "Missing parentheses in call to 'print' (<ipython-input-40-fdab9f5dd08e>, line 1)",
     "output_type": "error",
     "traceback": [
      "\u001b[0;36m  File \u001b[0;32m\"<ipython-input-40-fdab9f5dd08e>\"\u001b[0;36m, line \u001b[0;32m1\u001b[0m\n\u001b[0;31m    print 'y_train.shape = ', y_train.shape\u001b[0m\n\u001b[0m                           ^\u001b[0m\n\u001b[0;31mSyntaxError\u001b[0m\u001b[0;31m:\u001b[0m Missing parentheses in call to 'print'\n"
     ]
    }
   ],
   "source": [
    "print 'y_train.shape = ', y_train.shape"
   ]
  },
  {
   "cell_type": "code",
   "execution_count": 41,
   "metadata": {
    "collapsed": true
   },
   "outputs": [],
   "source": [
    "X_test_all_feat = pd.concat([test, df_feature_to_concat_test, df_percentage_of_wins_test], axis=1)"
   ]
  },
  {
   "cell_type": "code",
   "execution_count": 42,
   "metadata": {
    "collapsed": false
   },
   "outputs": [
    {
     "data": {
      "text/plain": [
       "(125207, 8)"
      ]
     },
     "execution_count": 42,
     "metadata": {},
     "output_type": "execute_result"
    }
   ],
   "source": [
    "X_test_all_feat.shape"
   ]
  },
  {
   "cell_type": "code",
   "execution_count": 43,
   "metadata": {
    "collapsed": false
   },
   "outputs": [
    {
     "data": {
      "text/html": [
       "<div>\n",
       "<table border=\"1\" class=\"dataframe\">\n",
       "  <thead>\n",
       "    <tr style=\"text-align: right;\">\n",
       "      <th></th>\n",
       "      <th>Id</th>\n",
       "      <th>year</th>\n",
       "      <th>team1</th>\n",
       "      <th>team2</th>\n",
       "      <th>mean_home_score</th>\n",
       "      <th>mean_away_score</th>\n",
       "      <th>percentage_wins_home</th>\n",
       "      <th>percentage_wins_away</th>\n",
       "    </tr>\n",
       "  </thead>\n",
       "  <tbody>\n",
       "    <tr>\n",
       "      <th>0</th>\n",
       "      <td>0</td>\n",
       "      <td>3021</td>\n",
       "      <td>363</td>\n",
       "      <td>161</td>\n",
       "      <td>250.0</td>\n",
       "      <td>278.0</td>\n",
       "      <td>0.428571</td>\n",
       "      <td>0.535826</td>\n",
       "    </tr>\n",
       "    <tr>\n",
       "      <th>1</th>\n",
       "      <td>1</td>\n",
       "      <td>3021</td>\n",
       "      <td>286</td>\n",
       "      <td>2</td>\n",
       "      <td>271.0</td>\n",
       "      <td>242.0</td>\n",
       "      <td>0.593567</td>\n",
       "      <td>0.394464</td>\n",
       "    </tr>\n",
       "  </tbody>\n",
       "</table>\n",
       "</div>"
      ],
      "text/plain": [
       "   Id  year  team1  team2  mean_home_score  mean_away_score  \\\n",
       "0   0  3021    363    161            250.0            278.0   \n",
       "1   1  3021    286      2            271.0            242.0   \n",
       "\n",
       "   percentage_wins_home  percentage_wins_away  \n",
       "0              0.428571              0.535826  \n",
       "1              0.593567              0.394464  "
      ]
     },
     "execution_count": 43,
     "metadata": {},
     "output_type": "execute_result"
    }
   ],
   "source": [
    "X_test_all_feat.head(2)"
   ]
  },
  {
   "cell_type": "code",
   "execution_count": 44,
   "metadata": {
    "collapsed": false
   },
   "outputs": [],
   "source": [
    "X_test_not_scaled = X_test_all_feat.drop(['Id', 'team1', 'team2', 'year', 'mean_home_score', 'mean_away_score'], axis=1)"
   ]
  },
  {
   "cell_type": "code",
   "execution_count": 45,
   "metadata": {
    "collapsed": false
   },
   "outputs": [
    {
     "data": {
      "text/html": [
       "<div>\n",
       "<table border=\"1\" class=\"dataframe\">\n",
       "  <thead>\n",
       "    <tr style=\"text-align: right;\">\n",
       "      <th></th>\n",
       "      <th>percentage_wins_home</th>\n",
       "      <th>percentage_wins_away</th>\n",
       "    </tr>\n",
       "  </thead>\n",
       "  <tbody>\n",
       "    <tr>\n",
       "      <th>0</th>\n",
       "      <td>0.428571</td>\n",
       "      <td>0.535826</td>\n",
       "    </tr>\n",
       "    <tr>\n",
       "      <th>1</th>\n",
       "      <td>0.593567</td>\n",
       "      <td>0.394464</td>\n",
       "    </tr>\n",
       "  </tbody>\n",
       "</table>\n",
       "</div>"
      ],
      "text/plain": [
       "   percentage_wins_home  percentage_wins_away\n",
       "0              0.428571              0.535826\n",
       "1              0.593567              0.394464"
      ]
     },
     "execution_count": 45,
     "metadata": {},
     "output_type": "execute_result"
    }
   ],
   "source": [
    "X_test_not_scaled.head(2)"
   ]
  },
  {
   "cell_type": "markdown",
   "metadata": {},
   "source": [
    "## X_train_not_scaled – преобразованная train.csv, но не нормированный year\n",
    "## y_train – target from train.csv\n",
    "## X_test_not_scaled – test.csv, но не нормированный year"
   ]
  },
  {
   "cell_type": "markdown",
   "metadata": {},
   "source": [
    "# Нормировка "
   ]
  },
  {
   "cell_type": "code",
   "execution_count": null,
   "metadata": {
    "collapsed": true
   },
   "outputs": [],
   "source": []
  },
  {
   "cell_type": "code",
   "execution_count": 46,
   "metadata": {
    "collapsed": false
   },
   "outputs": [],
   "source": [
    "scaler = StandardScaler()\n",
    "train_scaled = pd.DataFrame(scaler.fit_transform(X_train_not_scaled), columns=list(X_train_not_scaled.columns))\n",
    "test_scaled = pd.DataFrame(scaler.transform(X_test_not_scaled), columns=list(X_test_not_scaled.columns))\n"
   ]
  },
  {
   "cell_type": "code",
   "execution_count": 47,
   "metadata": {
    "collapsed": false
   },
   "outputs": [
    {
     "data": {
      "text/html": [
       "<div>\n",
       "<table border=\"1\" class=\"dataframe\">\n",
       "  <thead>\n",
       "    <tr style=\"text-align: right;\">\n",
       "      <th></th>\n",
       "      <th>percentage_wins_home</th>\n",
       "      <th>percentage_wins_away</th>\n",
       "    </tr>\n",
       "  </thead>\n",
       "  <tbody>\n",
       "    <tr>\n",
       "      <th>0</th>\n",
       "      <td>1.573942</td>\n",
       "      <td>1.261859</td>\n",
       "    </tr>\n",
       "    <tr>\n",
       "      <th>1</th>\n",
       "      <td>0.019886</td>\n",
       "      <td>0.518128</td>\n",
       "    </tr>\n",
       "  </tbody>\n",
       "</table>\n",
       "</div>"
      ],
      "text/plain": [
       "   percentage_wins_home  percentage_wins_away\n",
       "0              1.573942              1.261859\n",
       "1              0.019886              0.518128"
      ]
     },
     "execution_count": 47,
     "metadata": {},
     "output_type": "execute_result"
    }
   ],
   "source": [
    "train_scaled.head(2)"
   ]
  },
  {
   "cell_type": "code",
   "execution_count": 48,
   "metadata": {
    "collapsed": false
   },
   "outputs": [
    {
     "data": {
      "text/html": [
       "<div>\n",
       "<table border=\"1\" class=\"dataframe\">\n",
       "  <thead>\n",
       "    <tr style=\"text-align: right;\">\n",
       "      <th></th>\n",
       "      <th>percentage_wins_home</th>\n",
       "      <th>percentage_wins_away</th>\n",
       "    </tr>\n",
       "  </thead>\n",
       "  <tbody>\n",
       "    <tr>\n",
       "      <th>0</th>\n",
       "      <td>-0.609021</td>\n",
       "      <td>0.329087</td>\n",
       "    </tr>\n",
       "    <tr>\n",
       "      <th>1</th>\n",
       "      <td>0.778944</td>\n",
       "      <td>-0.935227</td>\n",
       "    </tr>\n",
       "  </tbody>\n",
       "</table>\n",
       "</div>"
      ],
      "text/plain": [
       "   percentage_wins_home  percentage_wins_away\n",
       "0             -0.609021              0.329087\n",
       "1              0.778944             -0.935227"
      ]
     },
     "execution_count": 48,
     "metadata": {},
     "output_type": "execute_result"
    }
   ],
   "source": [
    "test_scaled.head(2)"
   ]
  },
  {
   "cell_type": "code",
   "execution_count": 49,
   "metadata": {
    "collapsed": true
   },
   "outputs": [],
   "source": [
    "X_train = pd.concat([train_scaled, train_teams], axis=1)"
   ]
  },
  {
   "cell_type": "code",
   "execution_count": 50,
   "metadata": {
    "collapsed": false
   },
   "outputs": [
    {
     "ename": "SyntaxError",
     "evalue": "Missing parentheses in call to 'print' (<ipython-input-50-5c471cee1023>, line 1)",
     "output_type": "error",
     "traceback": [
      "\u001b[0;36m  File \u001b[0;32m\"<ipython-input-50-5c471cee1023>\"\u001b[0;36m, line \u001b[0;32m1\u001b[0m\n\u001b[0;31m    print 'X_train.shape = ', X_train.shape\u001b[0m\n\u001b[0m                           ^\u001b[0m\n\u001b[0;31mSyntaxError\u001b[0m\u001b[0;31m:\u001b[0m Missing parentheses in call to 'print'\n"
     ]
    }
   ],
   "source": [
    "print 'X_train.shape = ', X_train.shape"
   ]
  },
  {
   "cell_type": "code",
   "execution_count": null,
   "metadata": {
    "collapsed": false
   },
   "outputs": [],
   "source": [
    "X_train.head(3)"
   ]
  },
  {
   "cell_type": "code",
   "execution_count": 51,
   "metadata": {
    "collapsed": true
   },
   "outputs": [],
   "source": [
    "X_test = pd.concat([test_scaled, test_teams], axis=1)"
   ]
  },
  {
   "cell_type": "code",
   "execution_count": 52,
   "metadata": {
    "collapsed": false
   },
   "outputs": [
    {
     "ename": "SyntaxError",
     "evalue": "Missing parentheses in call to 'print' (<ipython-input-52-d0c02c7842cc>, line 1)",
     "output_type": "error",
     "traceback": [
      "\u001b[0;36m  File \u001b[0;32m\"<ipython-input-52-d0c02c7842cc>\"\u001b[0;36m, line \u001b[0;32m1\u001b[0m\n\u001b[0;31m    print 'X_test.shape = ', X_test.shape\u001b[0m\n\u001b[0m                          ^\u001b[0m\n\u001b[0;31mSyntaxError\u001b[0m\u001b[0;31m:\u001b[0m Missing parentheses in call to 'print'\n"
     ]
    }
   ],
   "source": [
    "print 'X_test.shape = ', X_test.shape"
   ]
  },
  {
   "cell_type": "code",
   "execution_count": 53,
   "metadata": {
    "collapsed": false
   },
   "outputs": [
    {
     "data": {
      "text/html": [
       "<div>\n",
       "<table border=\"1\" class=\"dataframe\">\n",
       "  <thead>\n",
       "    <tr style=\"text-align: right;\">\n",
       "      <th></th>\n",
       "      <th>percentage_wins_home</th>\n",
       "      <th>percentage_wins_away</th>\n",
       "      <th>0</th>\n",
       "      <th>1</th>\n",
       "      <th>2</th>\n",
       "      <th>3</th>\n",
       "      <th>4</th>\n",
       "      <th>5</th>\n",
       "      <th>6</th>\n",
       "      <th>7</th>\n",
       "      <th>...</th>\n",
       "      <th>343</th>\n",
       "      <th>344</th>\n",
       "      <th>345</th>\n",
       "      <th>346</th>\n",
       "      <th>347</th>\n",
       "      <th>348</th>\n",
       "      <th>349</th>\n",
       "      <th>350</th>\n",
       "      <th>351</th>\n",
       "      <th>352</th>\n",
       "    </tr>\n",
       "  </thead>\n",
       "  <tbody>\n",
       "    <tr>\n",
       "      <th>0</th>\n",
       "      <td>-0.609021</td>\n",
       "      <td>0.329087</td>\n",
       "      <td>0.0</td>\n",
       "      <td>0.0</td>\n",
       "      <td>0.0</td>\n",
       "      <td>0.0</td>\n",
       "      <td>0.0</td>\n",
       "      <td>0.0</td>\n",
       "      <td>0.0</td>\n",
       "      <td>0.0</td>\n",
       "      <td>...</td>\n",
       "      <td>0.0</td>\n",
       "      <td>0.0</td>\n",
       "      <td>0.0</td>\n",
       "      <td>0.0</td>\n",
       "      <td>0.0</td>\n",
       "      <td>0.0</td>\n",
       "      <td>0.0</td>\n",
       "      <td>0.0</td>\n",
       "      <td>0.0</td>\n",
       "      <td>0.0</td>\n",
       "    </tr>\n",
       "    <tr>\n",
       "      <th>1</th>\n",
       "      <td>0.778944</td>\n",
       "      <td>-0.935227</td>\n",
       "      <td>0.0</td>\n",
       "      <td>0.0</td>\n",
       "      <td>0.0</td>\n",
       "      <td>0.0</td>\n",
       "      <td>0.0</td>\n",
       "      <td>0.0</td>\n",
       "      <td>0.0</td>\n",
       "      <td>0.0</td>\n",
       "      <td>...</td>\n",
       "      <td>0.0</td>\n",
       "      <td>0.0</td>\n",
       "      <td>0.0</td>\n",
       "      <td>0.0</td>\n",
       "      <td>0.0</td>\n",
       "      <td>0.0</td>\n",
       "      <td>0.0</td>\n",
       "      <td>0.0</td>\n",
       "      <td>0.0</td>\n",
       "      <td>0.0</td>\n",
       "    </tr>\n",
       "    <tr>\n",
       "      <th>2</th>\n",
       "      <td>0.415097</td>\n",
       "      <td>-2.705856</td>\n",
       "      <td>0.0</td>\n",
       "      <td>0.0</td>\n",
       "      <td>0.0</td>\n",
       "      <td>0.0</td>\n",
       "      <td>0.0</td>\n",
       "      <td>0.0</td>\n",
       "      <td>0.0</td>\n",
       "      <td>0.0</td>\n",
       "      <td>...</td>\n",
       "      <td>0.0</td>\n",
       "      <td>0.0</td>\n",
       "      <td>0.0</td>\n",
       "      <td>0.0</td>\n",
       "      <td>0.0</td>\n",
       "      <td>0.0</td>\n",
       "      <td>0.0</td>\n",
       "      <td>0.0</td>\n",
       "      <td>0.0</td>\n",
       "      <td>0.0</td>\n",
       "    </tr>\n",
       "  </tbody>\n",
       "</table>\n",
       "<p>3 rows × 708 columns</p>\n",
       "</div>"
      ],
      "text/plain": [
       "   percentage_wins_home  percentage_wins_away    0    1    2    3    4    5  \\\n",
       "0             -0.609021              0.329087  0.0  0.0  0.0  0.0  0.0  0.0   \n",
       "1              0.778944             -0.935227  0.0  0.0  0.0  0.0  0.0  0.0   \n",
       "2              0.415097             -2.705856  0.0  0.0  0.0  0.0  0.0  0.0   \n",
       "\n",
       "     6    7 ...   343  344  345  346  347  348  349  350  351  352  \n",
       "0  0.0  0.0 ...   0.0  0.0  0.0  0.0  0.0  0.0  0.0  0.0  0.0  0.0  \n",
       "1  0.0  0.0 ...   0.0  0.0  0.0  0.0  0.0  0.0  0.0  0.0  0.0  0.0  \n",
       "2  0.0  0.0 ...   0.0  0.0  0.0  0.0  0.0  0.0  0.0  0.0  0.0  0.0  \n",
       "\n",
       "[3 rows x 708 columns]"
      ]
     },
     "execution_count": 53,
     "metadata": {},
     "output_type": "execute_result"
    }
   ],
   "source": [
    "X_test.head(3)"
   ]
  },
  {
   "cell_type": "markdown",
   "metadata": {},
   "source": [
    "# cross_validation"
   ]
  },
  {
   "cell_type": "code",
   "execution_count": 54,
   "metadata": {
    "collapsed": false
   },
   "outputs": [],
   "source": [
    "train_data, test_data, train_labels, test_labels = cross_validation.train_test_split(X_train, y_train,\n",
    "                                                                                     test_size=0.2, stratify = y_train)"
   ]
  },
  {
   "cell_type": "raw",
   "metadata": {},
   "source": [
    "проверка стратификации"
   ]
  },
  {
   "cell_type": "code",
   "execution_count": 57,
   "metadata": {
    "collapsed": false
   },
   "outputs": [
    {
     "ename": "SyntaxError",
     "evalue": "invalid syntax (<ipython-input-57-d26796186182>, line 1)",
     "output_type": "error",
     "traceback": [
      "\u001b[0;36m  File \u001b[0;32m\"<ipython-input-57-d26796186182>\"\u001b[0;36m, line \u001b[0;32m1\u001b[0m\n\u001b[0;31m    print np.sum(test_labels['target'] == True) / np.sum(test_labels['target'] == False)\u001b[0m\n\u001b[0m           ^\u001b[0m\n\u001b[0;31mSyntaxError\u001b[0m\u001b[0;31m:\u001b[0m invalid syntax\n"
     ]
    }
   ],
   "source": [
    "print np.sum(test_labels['target'] == True) / np.sum(test_labels['target'] == False)"
   ]
  },
  {
   "cell_type": "code",
   "execution_count": 58,
   "metadata": {
    "collapsed": false
   },
   "outputs": [
    {
     "ename": "SyntaxError",
     "evalue": "invalid syntax (<ipython-input-58-01f60a776e31>, line 1)",
     "output_type": "error",
     "traceback": [
      "\u001b[0;36m  File \u001b[0;32m\"<ipython-input-58-01f60a776e31>\"\u001b[0;36m, line \u001b[0;32m1\u001b[0m\n\u001b[0;31m    print np.sum(train_labels['target'] == True) / np.sum(train_labels['target'] == False)\u001b[0m\n\u001b[0m           ^\u001b[0m\n\u001b[0;31mSyntaxError\u001b[0m\u001b[0;31m:\u001b[0m invalid syntax\n"
     ]
    }
   ],
   "source": [
    "print np.sum(train_labels['target'] == True) / np.sum(train_labels['target'] == False)"
   ]
  },
  {
   "cell_type": "code",
   "execution_count": 59,
   "metadata": {
    "collapsed": false
   },
   "outputs": [
    {
     "ename": "SyntaxError",
     "evalue": "Missing parentheses in call to 'print' (<ipython-input-59-955fe5902030>, line 1)",
     "output_type": "error",
     "traceback": [
      "\u001b[0;36m  File \u001b[0;32m\"<ipython-input-59-955fe5902030>\"\u001b[0;36m, line \u001b[0;32m1\u001b[0m\n\u001b[0;31m    print 'train_data.shape = ', train_data.shape\u001b[0m\n\u001b[0m                              ^\u001b[0m\n\u001b[0;31mSyntaxError\u001b[0m\u001b[0;31m:\u001b[0m Missing parentheses in call to 'print'\n"
     ]
    }
   ],
   "source": [
    "print 'train_data.shape = ', train_data.shape\n",
    "print 'test_data.shape = ', test_data.shape\n",
    "print 'train_labels.shape = ', train_labels.shape\n",
    "print 'test_labels.shape = ', test_labels.shape"
   ]
  },
  {
   "cell_type": "code",
   "execution_count": null,
   "metadata": {
    "collapsed": true
   },
   "outputs": [],
   "source": []
  },
  {
   "cell_type": "markdown",
   "metadata": {},
   "source": [
    "# XGB"
   ]
  },
  {
   "cell_type": "markdown",
   "metadata": {},
   "source": [
    "## Первое приближение"
   ]
  },
  {
   "cell_type": "code",
   "execution_count": 237,
   "metadata": {
    "collapsed": true
   },
   "outputs": [],
   "source": [
    "train_data = X_train_hot_encod"
   ]
  },
  {
   "cell_type": "code",
   "execution_count": 238,
   "metadata": {
    "collapsed": true
   },
   "outputs": [],
   "source": [
    "train_labels = y_train"
   ]
  },
  {
   "cell_type": "code",
   "execution_count": 191,
   "metadata": {
    "collapsed": true
   },
   "outputs": [],
   "source": [
    "params = {  'max_depth': np.linspace(2, 12, 3, dtype=int), \n",
    "            'max_delta_step': np.linspace(0.03, 0.5, 3),\n",
    "            'n_estimators': np.linspace(80,160, 3, dtype=int)}"
   ]
  },
  {
   "cell_type": "code",
   "execution_count": 192,
   "metadata": {
    "collapsed": false
   },
   "outputs": [],
   "source": [
    "xgb_classifier = xgboost.XGBClassifier()"
   ]
  },
  {
   "cell_type": "code",
   "execution_count": 195,
   "metadata": {
    "collapsed": false
   },
   "outputs": [
    {
     "data": {
      "text/plain": [
       "(101609,)"
      ]
     },
     "execution_count": 195,
     "metadata": {},
     "output_type": "execute_result"
    }
   ],
   "source": [
    "y_t = np.array(train_labels).reshape(train_data.shape[0])\n",
    "y_t.shape"
   ]
  },
  {
   "cell_type": "markdown",
   "metadata": {},
   "source": [
    "# Linear_Classifier"
   ]
  },
  {
   "cell_type": "code",
   "execution_count": 251,
   "metadata": {
    "collapsed": true
   },
   "outputs": [],
   "source": [
    "lin_cl = linear_model.LogisticRegression(C=0.9, max_iter=130, tol=0.00005)"
   ]
  },
  {
   "cell_type": "code",
   "execution_count": 252,
   "metadata": {
    "collapsed": false
   },
   "outputs": [
    {
     "data": {
      "text/plain": [
       "array([[ 1.57394169,  1.26185927,  0.        , ...,  0.        ,\n",
       "         0.        ,  0.        ],\n",
       "       [ 0.01988568,  0.51812785,  0.        , ...,  0.        ,\n",
       "         0.        ,  0.        ],\n",
       "       [ 0.21716998, -0.39299809,  0.        , ...,  0.        ,\n",
       "         0.        ,  0.        ],\n",
       "       ..., \n",
       "       [ 1.80204883,  0.39996197,  0.        , ...,  0.        ,\n",
       "         0.        ,  0.        ],\n",
       "       [ 1.15801178,  1.3317194 ,  0.        , ...,  0.        ,\n",
       "         0.        ,  0.        ],\n",
       "       [ 1.13204259,  0.5177795 ,  0.        , ...,  0.        ,\n",
       "         0.        ,  0.        ]])"
      ]
     },
     "execution_count": 252,
     "metadata": {},
     "output_type": "execute_result"
    }
   ],
   "source": [
    "X_train.values"
   ]
  },
  {
   "cell_type": "code",
   "execution_count": 253,
   "metadata": {
    "collapsed": false
   },
   "outputs": [
    {
     "data": {
      "text/plain": [
       "array([ True,  True,  True, ..., False,  True, False], dtype=bool)"
      ]
     },
     "execution_count": 253,
     "metadata": {},
     "output_type": "execute_result"
    }
   ],
   "source": [
    "y_train.values.T[0]"
   ]
  },
  {
   "cell_type": "code",
   "execution_count": 254,
   "metadata": {
    "collapsed": false
   },
   "outputs": [
    {
     "data": {
      "text/plain": [
       "LogisticRegression(C=0.9, class_weight=None, dual=False, fit_intercept=True,\n",
       "          intercept_scaling=1, max_iter=130, multi_class='ovr', n_jobs=1,\n",
       "          penalty='l2', random_state=None, solver='liblinear', tol=5e-05,\n",
       "          verbose=0, warm_start=False)"
      ]
     },
     "execution_count": 254,
     "metadata": {},
     "output_type": "execute_result"
    }
   ],
   "source": [
    "lin_cl.fit(X_train.values, y_train.values.T[0])"
   ]
  },
  {
   "cell_type": "code",
   "execution_count": 100,
   "metadata": {
    "collapsed": false
   },
   "outputs": [
    {
     "data": {
      "text/plain": [
       "array([[  9.72915782e-01,  -9.54977420e-01,   7.96869136e-01,\n",
       "         -7.86489228e-02,   3.66670561e-01,  -1.07892943e+00,\n",
       "         -1.16318854e+00,  -3.65171675e-01,  -6.90008902e-01,\n",
       "         -3.73642975e-01,  -3.03503957e-01,   2.17600337e-01,\n",
       "          7.51766716e-01,  -3.30096795e-01,  -4.31851656e-01,\n",
       "          4.49955796e-01,  -3.21480475e-01,   1.20327091e-01,\n",
       "          7.52335429e-01,  -4.24211723e-01,  -1.38261440e-01,\n",
       "          8.64427400e-01,  -1.19872639e+00,  -9.03058713e-01,\n",
       "         -2.85211266e-01,  -1.38878254e+00,  -1.24990384e-01,\n",
       "          6.55792857e-01,  -7.79832010e-01,  -5.23592542e-02,\n",
       "          3.41407197e-01,   2.56225650e-01,  -3.53951788e-01,\n",
       "         -1.32952168e-01,  -7.93839571e-01,   1.73674808e-01,\n",
       "         -5.68258967e-01,   4.13160692e-02,   5.84697103e-01,\n",
       "          3.07544727e-01,   5.65284874e-01,  -2.43245894e-01,\n",
       "          4.11157053e-02,   1.22290315e-01,   1.79450933e-01,\n",
       "         -7.14292322e-01,  -1.53840390e-01,   3.03761625e-01,\n",
       "         -2.78084807e-01,   4.46381594e-01,   1.26818154e-01,\n",
       "          4.07318639e-01,   7.93251899e-01,   3.92056176e-01,\n",
       "         -4.34380265e-01,  -1.15703060e+00,  -4.35303737e-01,\n",
       "          8.39528091e-01,   3.76367234e-01,  -7.80384126e-02,\n",
       "          1.57364572e-01,  -9.70729803e-01,  -7.08236801e-01,\n",
       "         -2.61208705e-01,  -8.04458498e-02,   2.69771425e-01,\n",
       "          1.41012246e-01,   5.96877331e-01,  -7.96100314e-02,\n",
       "         -7.45372490e-01,   4.00632261e-01,  -4.20434410e-01,\n",
       "         -7.37528562e-01,  -1.10951970e-01,   1.17182543e+00,\n",
       "          2.42674503e-01,   8.15124011e-01,  -8.04741568e-01,\n",
       "          2.70207482e-01,   6.40225395e-01,  -1.07810826e-01,\n",
       "         -2.22582397e-01,   4.53082418e-01,   2.40116060e-01,\n",
       "          4.56539937e-01,   4.82500641e-01,   2.57063936e-01,\n",
       "         -3.76152200e-01,   4.07737066e-01,  -4.09727732e-01,\n",
       "         -2.71970492e-01,   1.96282996e-01,  -2.25840473e-01,\n",
       "          1.77734590e-01,  -7.35210098e-01,   1.09533920e-02,\n",
       "          9.82250838e-01,   7.09810903e-01,  -4.36274922e-02,\n",
       "          3.95043980e-02,   1.39194546e-01,  -1.98981366e-01,\n",
       "         -2.09990690e-01,  -2.88193743e-01,   5.54806040e-01,\n",
       "          9.54025263e-01,  -2.74694274e-01,   1.16489345e+00,\n",
       "         -6.45697813e-01,  -5.46446136e-01,  -1.20018944e+00,\n",
       "         -2.32410893e-01,  -4.37985758e-01,   2.06941333e-01,\n",
       "         -4.44306354e-01,  -6.18389822e-01,  -7.41882615e-01,\n",
       "          4.72529608e-01,  -1.75047935e-02,  -4.66690961e-01,\n",
       "          3.46123310e-01,   1.49966457e-01,   4.01778644e-02,\n",
       "          6.80685452e-01,   9.94246282e-02,   9.24762140e-01,\n",
       "          5.10936131e-01,  -4.78899061e-01,   7.60150920e-01,\n",
       "          6.23130490e-01,   1.55138298e-01,  -4.79510108e-01,\n",
       "         -1.12362943e+00,  -5.03732060e-01,  -3.35592452e-01,\n",
       "         -1.34944369e-01,   2.21131280e-01,   7.38694428e-01,\n",
       "          2.26084832e-02,  -4.71412120e-01,   1.45995640e-01,\n",
       "          3.75970344e-01,  -1.19020675e-01,  -3.58901274e-01,\n",
       "         -4.55301247e-01,  -5.26720059e-01,  -6.12203073e-01,\n",
       "          8.90489869e-02,  -5.84160784e-01,   2.98277961e-01,\n",
       "         -9.98616356e-03,   4.76763717e-01,   8.99645549e-01,\n",
       "          4.67400376e-02,   3.64550842e-01,   7.47738796e-01,\n",
       "         -5.21947579e-01,  -3.93972912e-01,  -2.21069867e-01,\n",
       "          1.86963661e-01,   7.04891538e-02,   5.49489295e-01,\n",
       "          1.42731177e-01,  -4.45861151e-01,  -3.74837729e-01,\n",
       "          9.59411409e-02,  -1.26714862e-01,   8.70903957e-01,\n",
       "         -9.88662602e-02,   9.60399726e-01,   6.15773671e-01,\n",
       "          8.73083305e-01,   5.17561363e-01,   4.35458622e-01,\n",
       "          5.45133380e-01,  -6.76197309e-03,   2.08290671e-01,\n",
       "         -4.91495179e-01,  -6.85124035e-01,  -1.59942033e-01,\n",
       "         -2.31792207e-01,  -7.78176413e-01,  -6.67235925e-02,\n",
       "         -1.01244129e+00,  -6.74401833e-01,  -3.95352909e-01,\n",
       "         -1.17114254e+00,   2.94902756e-01,  -5.29875407e-01,\n",
       "          2.92173661e-01,   4.47312140e-02,  -5.75983711e-01,\n",
       "         -8.57534055e-01,  -1.77975827e-02,   8.31654928e-01,\n",
       "          4.86353273e-01,   3.62280675e-01,   7.02133271e-01,\n",
       "         -1.23522325e-01,   3.05281820e-01,  -1.16058698e-01,\n",
       "         -1.61884171e-01,  -3.13655576e-01,  -4.04202657e-01,\n",
       "          1.02029429e-01,  -1.78929478e-01,  -1.04144984e+00,\n",
       "          5.17870117e-01,  -4.28130180e-01,  -6.77259838e-03,\n",
       "          1.45045826e-01,  -2.24160667e-01,  -4.20181189e-01,\n",
       "          4.35541458e-01,   1.24613688e+00,  -4.69633799e-01,\n",
       "          6.55957971e-01,  -2.93676781e-01,  -1.87485952e-01,\n",
       "          6.21644147e-01,   5.91777329e-01,   3.21723602e-01,\n",
       "         -4.80603111e-01,  -4.43636953e-01,   7.68402951e-01,\n",
       "          1.34045276e+00,  -3.91414670e-01,  -6.28880413e-01,\n",
       "          1.28952316e+00,   2.52550358e-01,   3.10884890e-01,\n",
       "          5.55511168e-01,  -4.21059481e-01,  -5.03346615e-01,\n",
       "          3.86683673e-01,  -8.26102307e-01,   8.37587497e-01,\n",
       "          6.47724544e-01,  -8.64103086e-01,  -5.59956498e-01,\n",
       "          2.83016070e-01,   5.22045486e-01,  -8.48307919e-02,\n",
       "         -6.89414871e-01,  -7.75642070e-01,   8.73681510e-01,\n",
       "         -1.14493276e+00,  -4.42920390e-01,   6.02928920e-02,\n",
       "         -4.02623167e-01,  -5.97290829e-01,  -6.57665624e-01,\n",
       "          3.92004573e-01,   4.89377926e-01,   4.56069829e-01,\n",
       "          8.77714866e-01,  -4.74489563e-02,   1.05934108e-01,\n",
       "         -2.62518344e-01,  -2.80505954e-01,  -3.52712973e-01,\n",
       "          3.24950005e-02,  -4.82392292e-02,   8.32496495e-01,\n",
       "         -8.75791179e-01,  -5.32126100e-01,   4.69510150e-01,\n",
       "         -3.89823228e-01,   9.60732007e-01,  -7.64244447e-01,\n",
       "          1.10222487e+00,   3.88113822e-01,  -1.18415464e+00,\n",
       "          1.25820216e-01,   5.96926549e-01,  -5.62026339e-01,\n",
       "         -2.92074849e-01,   9.46418945e-01,   1.77784527e-01,\n",
       "          4.35052200e-01,  -1.92729061e-01,   2.38379898e-01,\n",
       "          3.11203277e-01,  -1.96431167e-01,  -3.81624057e-01,\n",
       "          2.34607408e-01,  -2.75379522e-01,   5.13646518e-01,\n",
       "          1.13714049e-02,   6.87565579e-01,   7.18858507e-03,\n",
       "         -3.12617817e-01,   4.60190982e-01,   8.10497885e-01,\n",
       "         -2.51492719e-01,   6.32072166e-01,   4.73172312e-01,\n",
       "          7.68953506e-02,   1.69398100e-01,  -6.57317629e-01,\n",
       "          5.83057168e-01,  -3.98134390e-02,   2.39598338e-01,\n",
       "         -1.15075565e+00,   3.82795696e-01,   5.27809226e-01,\n",
       "          3.81367473e-01,   4.37500022e-01,  -5.27582308e-01,\n",
       "          2.93076867e-01,  -1.75822614e-01,  -4.62290410e-02,\n",
       "         -2.89595377e-01,  -3.54945754e-01,  -2.08104181e-01,\n",
       "         -2.45464594e-01,  -5.06381550e-02,   7.91151857e-01,\n",
       "         -3.95848157e-01,  -4.72641044e-01,   2.38351976e-01,\n",
       "         -6.89157040e-01,  -1.07273018e+00,  -1.76337355e-01,\n",
       "         -4.52960269e-01,  -5.43530823e-01,   4.40353493e-01,\n",
       "         -9.90720004e-01,   6.02311852e-01,   8.92759046e-01,\n",
       "          7.46744165e-01,  -5.55356375e-02,   8.62577064e-04,\n",
       "          1.30332038e-02,  -6.49556089e-01,  -2.62968976e-01,\n",
       "         -3.83135585e-01,  -8.73972370e-01,   6.16617141e-01,\n",
       "          8.01428034e-01,   1.07296894e+00,  -6.59686965e-01,\n",
       "          6.05059901e-01,  -2.68092581e-01,   3.18785270e-01,\n",
       "          2.37676536e-01,   2.08408379e-01,  -7.30378512e-01,\n",
       "          5.77599820e-01,   2.93570811e-01,   7.15761559e-03,\n",
       "          3.55802639e-01,  -2.43157731e-01,  -3.91133083e-01,\n",
       "          5.53557055e-01,  -8.28205923e-01,   2.44443967e-01,\n",
       "         -5.84455734e-01,   1.26156525e+00,   1.17762736e+00,\n",
       "          4.96036689e-01,   7.15408428e-01,   2.52952049e-01,\n",
       "          2.80565744e-01,  -1.74091046e-01,  -9.89826630e-01,\n",
       "          3.73110517e-01,   2.74687219e-01,  -6.38140161e-01,\n",
       "          1.42632922e-01,   1.17478602e-01,  -8.07657713e-01,\n",
       "          4.91350873e-01,   4.78330180e-02,  -4.69202460e-01,\n",
       "          1.02844196e+00,   6.06638532e-01,   4.15571916e-01,\n",
       "          1.15256094e+00,   3.52675030e-01,  -1.00897212e+00,\n",
       "          5.12386911e-01,  -1.97784261e-01,  -3.40492983e-01,\n",
       "          1.52493178e-02,   9.06940285e-02,  -2.11947215e-01,\n",
       "          1.08660671e+00,  -5.68153330e-02,   3.80009388e-01,\n",
       "          8.78437415e-02,  -8.80846975e-01,  -1.09840516e-01,\n",
       "         -5.87802328e-01,   1.69526316e-01,   2.12798871e-02,\n",
       "         -1.97185745e-01,  -4.13593628e-01,   7.19910224e-01,\n",
       "          3.18058588e-01,  -2.57259199e-01,   7.16710463e-01,\n",
       "         -6.45690484e-01,  -1.34075287e-01,  -8.17674462e-02,\n",
       "         -8.67465878e-01,  -5.96559865e-02,   4.27252903e-01,\n",
       "          1.26134788e+00,   2.81715358e-01,  -1.02775499e+00,\n",
       "         -5.22187607e-01,   1.40371700e-01,  -2.82599459e-01,\n",
       "          9.33621408e-01,  -4.39460113e-02,   1.08598262e-01,\n",
       "         -2.28386265e-01,  -2.22904322e-01,  -2.23747835e-02,\n",
       "         -4.47445599e-01,  -1.96445457e-01,   6.66792444e-01,\n",
       "         -2.58600689e-01,   2.17188206e-01,   8.48990723e-01,\n",
       "          4.73157069e-02,  -1.07128682e+00,   2.21148320e-01,\n",
       "         -6.31245645e-01,   5.72200634e-01,  -2.36158825e-01,\n",
       "         -9.82722575e-01,   1.65535577e-01,   3.46268027e-01,\n",
       "         -3.23828334e-01,  -3.79422323e-02,  -5.74070590e-01,\n",
       "         -3.18470581e-01,   1.24693662e-01,   7.79586402e-01,\n",
       "         -3.51603032e-01,   5.38021300e-01,   1.95452026e-01,\n",
       "         -1.33244218e-01,   4.40859730e-01,  -4.09828079e-01,\n",
       "          5.81454980e-01,  -2.92026349e-01,  -9.25506470e-01,\n",
       "         -7.96531448e-01,  -2.25661592e-01,   1.14643968e-01,\n",
       "         -1.82705123e-01,   9.54070873e-02,   2.61207848e-01,\n",
       "          3.64884457e-01,  -6.11228488e-01,  -8.93898322e-01,\n",
       "          3.13358807e-01,  -9.97404622e-01,   7.44805944e-01,\n",
       "          6.21694980e-01,   1.17059752e+00,   1.21131202e-01,\n",
       "          5.35320133e-01,   3.22025503e-02,   4.95278468e-01,\n",
       "          7.80918620e-02,   7.12670818e-01,  -3.73441048e-01,\n",
       "         -1.66905227e-02,   3.17205341e-01,  -2.28470565e-01,\n",
       "         -2.80006444e-01,  -2.26494282e-01,  -5.19669264e-01,\n",
       "         -1.03615153e-01,  -7.00730086e-01,  -6.86754481e-01,\n",
       "          5.02607271e-01,  -9.15269951e-01,  -5.89964765e-01,\n",
       "         -2.47195679e-01,   1.28404065e-01,   1.04310092e+00,\n",
       "          2.52521242e-01,   3.80312126e-01,   3.13306295e-03,\n",
       "         -9.57188165e-03,  -6.62556463e-01,  -2.15897202e-01,\n",
       "          3.25867763e-01,  -2.82257347e-01,  -8.46671329e-01,\n",
       "          4.38884696e-01,   3.49425011e-01,   4.68706585e-01,\n",
       "          5.95002897e-01,   9.69267751e-01,   6.26786076e-02,\n",
       "          7.08179021e-01,  -1.05083965e-01,   1.35940009e-01,\n",
       "         -2.88428660e-01,  -7.73514168e-01,   6.15003440e-02,\n",
       "         -6.70663314e-01,  -7.50769192e-01,   3.24060249e-01,\n",
       "          6.57706397e-01,   2.33376788e-01,  -1.36382603e-01,\n",
       "         -1.92323621e-02,  -7.16635390e-01,  -1.72510793e-01,\n",
       "          3.60630356e-01,   2.92851693e-01,   2.79909675e-01,\n",
       "          3.52095883e-01,  -9.24336393e-01,   2.73608880e-02,\n",
       "         -9.10034405e-01,  -4.51586163e-01,  -9.26375617e-01,\n",
       "         -7.35955038e-01,  -3.83915723e-01,  -5.70910400e-01,\n",
       "          3.83658699e-02,   1.51553915e-01,   8.01997333e-01,\n",
       "          9.57573915e-01,   4.57225372e-01,   2.37464318e-01,\n",
       "          6.81545806e-01,  -5.17939101e-02,   1.38173440e+00,\n",
       "          4.54773616e-01,   3.88394545e-01,   1.23925526e+00,\n",
       "          2.09209654e-01,   8.60305433e-01,  -5.77387844e-01,\n",
       "          4.23089769e-01,   4.56972684e-01,   5.06105331e-01,\n",
       "          3.96659542e-01,  -9.71356435e-01,   8.42791430e-02,\n",
       "          2.97265819e-01,  -9.80307905e-01,   3.36918638e-02,\n",
       "          1.14600535e-01,   1.95770637e-01,   2.53888968e-01,\n",
       "          1.34481951e-01,   5.95965042e-01,   1.08843553e-01,\n",
       "         -1.25936453e-01,   8.45361999e-01,  -4.54599287e-01,\n",
       "          4.66186218e-01,   1.17040800e-01,   8.52037840e-02,\n",
       "         -1.00524929e-02,   1.34910215e-01,  -3.41977427e-01,\n",
       "         -1.54465878e+00,   5.20750702e-01,  -8.91041506e-01,\n",
       "          2.49003596e-01,   3.68333434e-01,  -5.92920289e-01,\n",
       "         -3.26670058e-01,  -3.30439032e-01,   2.92114051e-01,\n",
       "          5.23921877e-01,  -9.07258246e-01,  -1.37144810e+00,\n",
       "          3.80220609e-01,   6.86561715e-01,  -1.11236188e+00,\n",
       "         -4.59140976e-01,  -7.00021571e-01,  -5.52145144e-01,\n",
       "          1.61903759e-01,   3.04844311e-01,   2.85773462e-02,\n",
       "          9.43787474e-01,  -9.07774805e-01,  -5.99508359e-01,\n",
       "          1.13188089e+00,   4.92967574e-01,  -6.59080808e-01,\n",
       "         -5.54211160e-01,  -1.92518706e-01,   8.75277775e-01,\n",
       "          6.27378525e-01,  -1.37907162e+00,   1.21072584e+00,\n",
       "         -1.10162959e-01,   1.18985814e-01,   3.58139516e-01,\n",
       "          3.09588310e-01,   4.39844351e-01,  -1.61718951e-01,\n",
       "         -5.27403825e-01,  -3.41524675e-02,  -9.75626049e-01,\n",
       "          1.31399504e-01,   2.18123741e-02,   9.28653083e-02,\n",
       "         -1.25095449e-01,   3.47123501e-01,   1.92590391e-01,\n",
       "          5.93491931e-02,  -1.06170868e+00,   7.48933090e-01,\n",
       "          5.18347857e-01,  -4.00615964e-01,   2.49203996e-01,\n",
       "         -1.02479120e+00,   1.73458014e-01,  -6.50648015e-01,\n",
       "         -3.43964353e-01,   1.22143195e+00,   1.23338004e-01,\n",
       "         -5.37964955e-01,   7.65956605e-01,   2.33390584e-01,\n",
       "         -9.53249973e-01,  -2.57859562e-01,  -4.98818117e-01,\n",
       "         -5.70692398e-02,   1.56079149e-02,  -4.55734239e-01,\n",
       "          4.04075997e-01,   4.11444601e-01,  -3.75184598e-01,\n",
       "          2.70658022e-01,  -4.94866788e-01,  -3.92159734e-01,\n",
       "         -7.70147287e-01,   3.84003293e-01,   3.79035213e-01,\n",
       "         -9.02430710e-02,  -6.62890895e-01,   4.89762087e-01,\n",
       "         -5.54622995e-01,  -1.77745940e-01,  -1.42521766e-01,\n",
       "         -2.55510584e-01,   1.73395159e-01,  -2.69446886e-01,\n",
       "          2.07591689e-01,  -2.95457372e-01,   7.53526276e-01,\n",
       "          2.52036149e-01,  -3.10618340e-01,  -9.30941060e-02,\n",
       "         -5.71464537e-01,   4.64562679e-01,  -2.99514797e-01,\n",
       "          3.47278010e-01,   1.66167247e-01,   1.28641419e-01,\n",
       "          4.42693551e-01,   1.90133341e-01,  -3.99942619e-02,\n",
       "          1.45894342e-01,  -9.41160814e-01,   4.86031851e-01,\n",
       "          6.00593576e-01,  -3.59282382e-02,   6.69594147e-01,\n",
       "          5.34716193e-01,  -3.96175413e-02,   5.04682655e-01,\n",
       "          6.30344670e-01,  -8.45554695e-01,   9.84891308e-01,\n",
       "         -8.09425392e-01,  -8.99725172e-01,  -7.04720826e-01,\n",
       "          2.50778771e-02,  -1.01604299e-01,  -1.03982276e-01,\n",
       "          7.57730305e-01,   1.33402654e-01,   1.34970133e-01,\n",
       "          9.34383820e-01,  -6.57665354e-01,  -8.05619152e-01,\n",
       "         -9.46590145e-01,   7.39684800e-01,  -7.86141085e-01,\n",
       "          2.37198249e-01,   2.06060914e-01,  -3.35290882e-01,\n",
       "         -5.16591746e-01,   6.75673536e-01,  -6.63381495e-01,\n",
       "          1.03034322e-01,   1.94106974e-01,  -4.52562543e-01,\n",
       "          1.35758706e-01,   1.98027387e-01,  -4.53610469e-01]])"
      ]
     },
     "execution_count": 100,
     "metadata": {},
     "output_type": "execute_result"
    }
   ],
   "source": [
    "lin_cl.coef_"
   ]
  },
  {
   "cell_type": "code",
   "execution_count": 238,
   "metadata": {
    "collapsed": false
   },
   "outputs": [
    {
     "data": {
      "text/plain": [
       "0.5982373982063619"
      ]
     },
     "execution_count": 238,
     "metadata": {},
     "output_type": "execute_result"
    }
   ],
   "source": [
    "log_loss(test_labels, lin_cl.predict_proba(test_data)[:,1])"
   ]
  },
  {
   "cell_type": "code",
   "execution_count": 104,
   "metadata": {
    "collapsed": true
   },
   "outputs": [],
   "source": [
    "params = { 'tol': [0.00001, 0.00005, 0.0001, 0.0005],\n",
    "            'C': [0.3, 0.5, 0.7, 0.9, 1.0, 1.1, 1.3, 1.5],\n",
    "            'max_iter': [50, 100, 150, 200, 75]\n",
    "}"
   ]
  },
  {
   "cell_type": "code",
   "execution_count": 113,
   "metadata": {
    "collapsed": true
   },
   "outputs": [],
   "source": [
    "opt = GridSearchCV(estimator=lin_cl, param_grid=params, scoring='log_loss', cv=5)"
   ]
  },
  {
   "cell_type": "code",
   "execution_count": 114,
   "metadata": {
    "collapsed": false
   },
   "outputs": [
    {
     "data": {
      "text/plain": [
       "GridSearchCV(cv=5, error_score='raise',\n",
       "       estimator=LogisticRegression(C=1.0, class_weight=None, dual=False, fit_intercept=True,\n",
       "          intercept_scaling=1, max_iter=100, multi_class='ovr', n_jobs=1,\n",
       "          penalty='l2', random_state=None, solver='liblinear', tol=0.0001,\n",
       "          verbose=0, warm_start=False),\n",
       "       fit_params={}, iid=True, n_jobs=1,\n",
       "       param_grid={'C': [0.3, 0.5, 0.7, 0.9, 1.0, 1.1, 1.3, 1.5], 'tol': [1e-05, 5e-05, 0.0001, 0.0005], 'max_iter': [50, 100, 150, 200, 75]},\n",
       "       pre_dispatch='2*n_jobs', refit=True, scoring='log_loss', verbose=0)"
      ]
     },
     "execution_count": 114,
     "metadata": {},
     "output_type": "execute_result"
    }
   ],
   "source": [
    "opt.fit(X_train.values, y_train.values.T[0])"
   ]
  },
  {
   "cell_type": "code",
   "execution_count": 115,
   "metadata": {
    "collapsed": false
   },
   "outputs": [
    {
     "data": {
      "text/plain": [
       "-0.62227389549332413"
      ]
     },
     "execution_count": 115,
     "metadata": {},
     "output_type": "execute_result"
    }
   ],
   "source": [
    "opt.best_score_"
   ]
  },
  {
   "cell_type": "code",
   "execution_count": 116,
   "metadata": {
    "collapsed": false
   },
   "outputs": [
    {
     "data": {
      "text/plain": [
       "{'C': 0.3, 'max_iter': 50, 'tol': 0.0005}"
      ]
     },
     "execution_count": 116,
     "metadata": {},
     "output_type": "execute_result"
    }
   ],
   "source": [
    "opt.best_params_"
   ]
  },
  {
   "cell_type": "code",
   "execution_count": 117,
   "metadata": {
    "collapsed": true
   },
   "outputs": [],
   "source": [
    "y_pred = opt.predict_proba(X_test)[:,1]"
   ]
  },
  {
   "cell_type": "code",
   "execution_count": 145,
   "metadata": {
    "collapsed": false
   },
   "outputs": [
    {
     "data": {
      "text/plain": [
       "20322"
      ]
     },
     "execution_count": 145,
     "metadata": {},
     "output_type": "execute_result"
    }
   ],
   "source": [
    "len(y_pred)"
   ]
  },
  {
   "cell_type": "code",
   "execution_count": 175,
   "metadata": {
    "collapsed": true
   },
   "outputs": [],
   "source": [
    "lin_cl = linear_model.LogisticRegression(C=0.8, tol=0.0005)"
   ]
  },
  {
   "cell_type": "code",
   "execution_count": 176,
   "metadata": {
    "collapsed": false
   },
   "outputs": [
    {
     "name": "stderr",
     "output_type": "stream",
     "text": [
      "//anaconda/lib/python3.5/site-packages/sklearn/utils/validation.py:515: DataConversionWarning: A column-vector y was passed when a 1d array was expected. Please change the shape of y to (n_samples, ), for example using ravel().\n",
      "  y = column_or_1d(y, warn=True)\n"
     ]
    },
    {
     "data": {
      "text/plain": [
       "LogisticRegression(C=0.8, class_weight=None, dual=False, fit_intercept=True,\n",
       "          intercept_scaling=1, max_iter=100, multi_class='ovr', n_jobs=1,\n",
       "          penalty='l2', random_state=None, solver='liblinear', tol=0.0005,\n",
       "          verbose=0, warm_start=False)"
      ]
     },
     "execution_count": 176,
     "metadata": {},
     "output_type": "execute_result"
    }
   ],
   "source": [
    "lin_cl.fit(train_data, train_labels)"
   ]
  },
  {
   "cell_type": "code",
   "execution_count": 255,
   "metadata": {
    "collapsed": true
   },
   "outputs": [],
   "source": [
    "y_pred = lin_cl.predict_proba(X_test)[:,1]"
   ]
  },
  {
   "cell_type": "code",
   "execution_count": 248,
   "metadata": {
    "collapsed": false
   },
   "outputs": [
    {
     "ename": "ValueError",
     "evalue": "Found arrays with inconsistent numbers of samples: [ 30483 125207]",
     "output_type": "error",
     "traceback": [
      "\u001b[0;31m---------------------------------------------------------------------------\u001b[0m",
      "\u001b[0;31mValueError\u001b[0m                                Traceback (most recent call last)",
      "\u001b[0;32m<ipython-input-248-390ca49a649c>\u001b[0m in \u001b[0;36m<module>\u001b[0;34m()\u001b[0m\n\u001b[0;32m----> 1\u001b[0;31m \u001b[0mlog_loss\u001b[0m\u001b[0;34m(\u001b[0m\u001b[0mtest_labels\u001b[0m\u001b[0;34m,\u001b[0m \u001b[0my_pred\u001b[0m\u001b[0;34m)\u001b[0m\u001b[0;34m\u001b[0m\u001b[0m\n\u001b[0m",
      "\u001b[0;32m//anaconda/lib/python3.5/site-packages/sklearn/metrics/classification.py\u001b[0m in \u001b[0;36mlog_loss\u001b[0;34m(y_true, y_pred, eps, normalize, sample_weight)\u001b[0m\n\u001b[1;32m   1558\u001b[0m \u001b[0;34m\u001b[0m\u001b[0m\n\u001b[1;32m   1559\u001b[0m     \u001b[0;31m# Check if dimensions are consistent.\u001b[0m\u001b[0;34m\u001b[0m\u001b[0;34m\u001b[0m\u001b[0m\n\u001b[0;32m-> 1560\u001b[0;31m     \u001b[0mcheck_consistent_length\u001b[0m\u001b[0;34m(\u001b[0m\u001b[0mT\u001b[0m\u001b[0;34m,\u001b[0m \u001b[0mY\u001b[0m\u001b[0;34m)\u001b[0m\u001b[0;34m\u001b[0m\u001b[0m\n\u001b[0m\u001b[1;32m   1561\u001b[0m     \u001b[0mT\u001b[0m \u001b[0;34m=\u001b[0m \u001b[0mcheck_array\u001b[0m\u001b[0;34m(\u001b[0m\u001b[0mT\u001b[0m\u001b[0;34m)\u001b[0m\u001b[0;34m\u001b[0m\u001b[0m\n\u001b[1;32m   1562\u001b[0m     \u001b[0mY\u001b[0m \u001b[0;34m=\u001b[0m \u001b[0mcheck_array\u001b[0m\u001b[0;34m(\u001b[0m\u001b[0mY\u001b[0m\u001b[0;34m)\u001b[0m\u001b[0;34m\u001b[0m\u001b[0m\n",
      "\u001b[0;32m//anaconda/lib/python3.5/site-packages/sklearn/utils/validation.py\u001b[0m in \u001b[0;36mcheck_consistent_length\u001b[0;34m(*arrays)\u001b[0m\n\u001b[1;32m    174\u001b[0m     \u001b[0;32mif\u001b[0m \u001b[0mlen\u001b[0m\u001b[0;34m(\u001b[0m\u001b[0muniques\u001b[0m\u001b[0;34m)\u001b[0m \u001b[0;34m>\u001b[0m \u001b[0;36m1\u001b[0m\u001b[0;34m:\u001b[0m\u001b[0;34m\u001b[0m\u001b[0m\n\u001b[1;32m    175\u001b[0m         raise ValueError(\"Found arrays with inconsistent numbers of samples: \"\n\u001b[0;32m--> 176\u001b[0;31m                          \"%s\" % str(uniques))\n\u001b[0m\u001b[1;32m    177\u001b[0m \u001b[0;34m\u001b[0m\u001b[0m\n\u001b[1;32m    178\u001b[0m \u001b[0;34m\u001b[0m\u001b[0m\n",
      "\u001b[0;31mValueError\u001b[0m: Found arrays with inconsistent numbers of samples: [ 30483 125207]"
     ]
    }
   ],
   "source": [
    "c"
   ]
  },
  {
   "cell_type": "code",
   "execution_count": 169,
   "metadata": {
    "collapsed": false
   },
   "outputs": [
    {
     "name": "stdout",
     "output_type": "stream",
     "text": [
      "96\n"
     ]
    }
   ],
   "source": [
    "k = 0\n",
    "for i in range(len(y_pred)):\n",
    "    if y_pred[i] > 0.975:\n",
    "        k+=1\n",
    "        y_pred[i] = 1\n",
    "    if y_pred[i] < 0.025:\n",
    "        k+=1\n",
    "        y_pred[i]  = 0\n",
    "print(k)"
   ]
  },
  {
   "cell_type": "code",
   "execution_count": 249,
   "metadata": {
    "collapsed": false
   },
   "outputs": [
    {
     "ename": "ValueError",
     "evalue": "Found arrays with inconsistent numbers of samples: [ 30483 125207]",
     "output_type": "error",
     "traceback": [
      "\u001b[0;31m---------------------------------------------------------------------------\u001b[0m",
      "\u001b[0;31mValueError\u001b[0m                                Traceback (most recent call last)",
      "\u001b[0;32m<ipython-input-249-390ca49a649c>\u001b[0m in \u001b[0;36m<module>\u001b[0;34m()\u001b[0m\n\u001b[0;32m----> 1\u001b[0;31m \u001b[0mlog_loss\u001b[0m\u001b[0;34m(\u001b[0m\u001b[0mtest_labels\u001b[0m\u001b[0;34m,\u001b[0m \u001b[0my_pred\u001b[0m\u001b[0;34m)\u001b[0m\u001b[0;34m\u001b[0m\u001b[0m\n\u001b[0m",
      "\u001b[0;32m//anaconda/lib/python3.5/site-packages/sklearn/metrics/classification.py\u001b[0m in \u001b[0;36mlog_loss\u001b[0;34m(y_true, y_pred, eps, normalize, sample_weight)\u001b[0m\n\u001b[1;32m   1558\u001b[0m \u001b[0;34m\u001b[0m\u001b[0m\n\u001b[1;32m   1559\u001b[0m     \u001b[0;31m# Check if dimensions are consistent.\u001b[0m\u001b[0;34m\u001b[0m\u001b[0;34m\u001b[0m\u001b[0m\n\u001b[0;32m-> 1560\u001b[0;31m     \u001b[0mcheck_consistent_length\u001b[0m\u001b[0;34m(\u001b[0m\u001b[0mT\u001b[0m\u001b[0;34m,\u001b[0m \u001b[0mY\u001b[0m\u001b[0;34m)\u001b[0m\u001b[0;34m\u001b[0m\u001b[0m\n\u001b[0m\u001b[1;32m   1561\u001b[0m     \u001b[0mT\u001b[0m \u001b[0;34m=\u001b[0m \u001b[0mcheck_array\u001b[0m\u001b[0;34m(\u001b[0m\u001b[0mT\u001b[0m\u001b[0;34m)\u001b[0m\u001b[0;34m\u001b[0m\u001b[0m\n\u001b[1;32m   1562\u001b[0m     \u001b[0mY\u001b[0m \u001b[0;34m=\u001b[0m \u001b[0mcheck_array\u001b[0m\u001b[0;34m(\u001b[0m\u001b[0mY\u001b[0m\u001b[0;34m)\u001b[0m\u001b[0;34m\u001b[0m\u001b[0m\n",
      "\u001b[0;32m//anaconda/lib/python3.5/site-packages/sklearn/utils/validation.py\u001b[0m in \u001b[0;36mcheck_consistent_length\u001b[0;34m(*arrays)\u001b[0m\n\u001b[1;32m    174\u001b[0m     \u001b[0;32mif\u001b[0m \u001b[0mlen\u001b[0m\u001b[0;34m(\u001b[0m\u001b[0muniques\u001b[0m\u001b[0;34m)\u001b[0m \u001b[0;34m>\u001b[0m \u001b[0;36m1\u001b[0m\u001b[0;34m:\u001b[0m\u001b[0;34m\u001b[0m\u001b[0m\n\u001b[1;32m    175\u001b[0m         raise ValueError(\"Found arrays with inconsistent numbers of samples: \"\n\u001b[0;32m--> 176\u001b[0;31m                          \"%s\" % str(uniques))\n\u001b[0m\u001b[1;32m    177\u001b[0m \u001b[0;34m\u001b[0m\u001b[0m\n\u001b[1;32m    178\u001b[0m \u001b[0;34m\u001b[0m\u001b[0m\n",
      "\u001b[0;31mValueError\u001b[0m: Found arrays with inconsistent numbers of samples: [ 30483 125207]"
     ]
    }
   ],
   "source": [
    "log_loss(test_labels, y_pred)"
   ]
  },
  {
   "cell_type": "markdown",
   "metadata": {},
   "source": [
    "## XGBOOST"
   ]
  },
  {
   "cell_type": "code",
   "execution_count": 61,
   "metadata": {
    "collapsed": true
   },
   "outputs": [],
   "source": [
    "train_data, test_data, train_labels, test_labels = cross_validation.train_test_split(X_train, y_train,\n",
    "                                                                                     test_size=0.2\n",
    "                                                                                    )"
   ]
  },
  {
   "cell_type": "code",
   "execution_count": 180,
   "metadata": {
    "collapsed": true
   },
   "outputs": [],
   "source": [
    "import xgboost"
   ]
  },
  {
   "cell_type": "code",
   "execution_count": 223,
   "metadata": {
    "collapsed": true
   },
   "outputs": [],
   "source": [
    "param = {}\n",
    "#param['max_depth'] = 6\n",
    "param['alpha'] = 10\n",
    "param['booster'] = 'gblinear'\n",
    "param['objective'] = 'binary:logistic'\n",
    "param['eval_metric'] = 'logloss'\n",
    "param['eta'] = 0.001\n",
    "\n",
    "numround = 1000"
   ]
  },
  {
   "cell_type": "code",
   "execution_count": 224,
   "metadata": {
    "collapsed": false
   },
   "outputs": [],
   "source": [
    "train_data.columns = [i for i in range(train_data.shape[1])]\n",
    "test_data.columns = [i for i in range(test_data.shape[1])]"
   ]
  },
  {
   "cell_type": "code",
   "execution_count": 225,
   "metadata": {
    "collapsed": false
   },
   "outputs": [
    {
     "name": "stderr",
     "output_type": "stream",
     "text": [
      "[0]\ttrain-logloss:0.692749\teval-logloss:0.693028\n",
      "[10]\ttrain-logloss:0.691166\teval-logloss:0.691320\n",
      "[20]\ttrain-logloss:0.689417\teval-logloss:0.689707\n",
      "[30]\ttrain-logloss:0.687718\teval-logloss:0.688146\n",
      "[40]\ttrain-logloss:0.686061\teval-logloss:0.686628\n",
      "[50]\ttrain-logloss:0.684466\teval-logloss:0.685151\n",
      "[60]\ttrain-logloss:0.682898\teval-logloss:0.683717\n",
      "[70]\ttrain-logloss:0.681385\teval-logloss:0.682329\n",
      "[80]\ttrain-logloss:0.679901\teval-logloss:0.680970\n",
      "[90]\ttrain-logloss:0.678462\teval-logloss:0.679654\n",
      "[100]\ttrain-logloss:0.677077\teval-logloss:0.678376\n",
      "[110]\ttrain-logloss:0.675702\teval-logloss:0.677134\n",
      "[120]\ttrain-logloss:0.674385\teval-logloss:0.675918\n",
      "[130]\ttrain-logloss:0.673089\teval-logloss:0.674750\n",
      "[140]\ttrain-logloss:0.671829\teval-logloss:0.673606\n",
      "[150]\ttrain-logloss:0.670611\teval-logloss:0.672488\n",
      "[160]\ttrain-logloss:0.669422\teval-logloss:0.671405\n",
      "[170]\ttrain-logloss:0.668257\teval-logloss:0.670350\n",
      "[180]\ttrain-logloss:0.667129\teval-logloss:0.669327\n",
      "[190]\ttrain-logloss:0.666034\teval-logloss:0.668324\n",
      "[200]\ttrain-logloss:0.664963\teval-logloss:0.667352\n",
      "[210]\ttrain-logloss:0.663910\teval-logloss:0.666408\n",
      "[220]\ttrain-logloss:0.662889\teval-logloss:0.665482\n",
      "[230]\ttrain-logloss:0.661896\teval-logloss:0.664585\n",
      "[240]\ttrain-logloss:0.660930\teval-logloss:0.663713\n",
      "[250]\ttrain-logloss:0.659982\teval-logloss:0.662854\n",
      "[260]\ttrain-logloss:0.659062\teval-logloss:0.662030\n",
      "[270]\ttrain-logloss:0.658156\teval-logloss:0.661218\n",
      "[280]\ttrain-logloss:0.657289\teval-logloss:0.660431\n",
      "[290]\ttrain-logloss:0.656433\teval-logloss:0.659666\n",
      "[300]\ttrain-logloss:0.655591\teval-logloss:0.658916\n",
      "[310]\ttrain-logloss:0.654776\teval-logloss:0.658183\n",
      "[320]\ttrain-logloss:0.653987\teval-logloss:0.657472\n",
      "[330]\ttrain-logloss:0.653208\teval-logloss:0.656776\n",
      "[340]\ttrain-logloss:0.652447\teval-logloss:0.656100\n",
      "[350]\ttrain-logloss:0.651707\teval-logloss:0.655438\n",
      "[360]\ttrain-logloss:0.650989\teval-logloss:0.654796\n",
      "[370]\ttrain-logloss:0.650276\teval-logloss:0.654164\n",
      "[380]\ttrain-logloss:0.649592\teval-logloss:0.653551\n",
      "[390]\ttrain-logloss:0.648915\teval-logloss:0.652952\n",
      "[400]\ttrain-logloss:0.648248\teval-logloss:0.652365\n",
      "[410]\ttrain-logloss:0.647615\teval-logloss:0.651795\n",
      "[420]\ttrain-logloss:0.646983\teval-logloss:0.651238\n",
      "[430]\ttrain-logloss:0.646369\teval-logloss:0.650691\n",
      "[440]\ttrain-logloss:0.645760\teval-logloss:0.650160\n",
      "[450]\ttrain-logloss:0.645179\teval-logloss:0.649642\n",
      "[460]\ttrain-logloss:0.644598\teval-logloss:0.649133\n",
      "[470]\ttrain-logloss:0.644040\teval-logloss:0.648641\n",
      "[480]\ttrain-logloss:0.643493\teval-logloss:0.648156\n",
      "[490]\ttrain-logloss:0.642949\teval-logloss:0.647682\n",
      "[500]\ttrain-logloss:0.642424\teval-logloss:0.647217\n",
      "[510]\ttrain-logloss:0.641914\teval-logloss:0.646769\n",
      "[520]\ttrain-logloss:0.641404\teval-logloss:0.646326\n",
      "[530]\ttrain-logloss:0.640917\teval-logloss:0.645894\n",
      "[540]\ttrain-logloss:0.640432\teval-logloss:0.645473\n",
      "[550]\ttrain-logloss:0.639963\teval-logloss:0.645056\n",
      "[560]\ttrain-logloss:0.639505\teval-logloss:0.644660\n",
      "[570]\ttrain-logloss:0.639042\teval-logloss:0.644259\n",
      "[580]\ttrain-logloss:0.638607\teval-logloss:0.643874\n",
      "[590]\ttrain-logloss:0.638166\teval-logloss:0.643491\n",
      "[600]\ttrain-logloss:0.637741\teval-logloss:0.643124\n",
      "[610]\ttrain-logloss:0.637325\teval-logloss:0.642761\n",
      "[620]\ttrain-logloss:0.636913\teval-logloss:0.642403\n",
      "[630]\ttrain-logloss:0.636521\teval-logloss:0.642060\n",
      "[640]\ttrain-logloss:0.636127\teval-logloss:0.641722\n",
      "[650]\ttrain-logloss:0.635744\teval-logloss:0.641390\n",
      "[660]\ttrain-logloss:0.635359\teval-logloss:0.641060\n",
      "[670]\ttrain-logloss:0.634996\teval-logloss:0.640743\n",
      "[680]\ttrain-logloss:0.634631\teval-logloss:0.640433\n",
      "[690]\ttrain-logloss:0.634285\teval-logloss:0.640123\n",
      "[700]\ttrain-logloss:0.633927\teval-logloss:0.639828\n",
      "[710]\ttrain-logloss:0.633591\teval-logloss:0.639531\n",
      "[720]\ttrain-logloss:0.633258\teval-logloss:0.639245\n",
      "[730]\ttrain-logloss:0.632927\teval-logloss:0.638963\n",
      "[740]\ttrain-logloss:0.632604\teval-logloss:0.638687\n",
      "[750]\ttrain-logloss:0.632288\teval-logloss:0.638416\n",
      "[760]\ttrain-logloss:0.631974\teval-logloss:0.638153\n",
      "[770]\ttrain-logloss:0.631676\teval-logloss:0.637893\n",
      "[780]\ttrain-logloss:0.631370\teval-logloss:0.637635\n",
      "[790]\ttrain-logloss:0.631083\teval-logloss:0.637383\n",
      "[800]\ttrain-logloss:0.630791\teval-logloss:0.637134\n",
      "[810]\ttrain-logloss:0.630520\teval-logloss:0.636898\n",
      "[820]\ttrain-logloss:0.630230\teval-logloss:0.636662\n",
      "[830]\ttrain-logloss:0.629956\teval-logloss:0.636430\n",
      "[840]\ttrain-logloss:0.629698\teval-logloss:0.636200\n",
      "[850]\ttrain-logloss:0.629434\teval-logloss:0.635977\n",
      "[860]\ttrain-logloss:0.629178\teval-logloss:0.635754\n",
      "[870]\ttrain-logloss:0.628919\teval-logloss:0.635541\n",
      "[880]\ttrain-logloss:0.628667\teval-logloss:0.635330\n",
      "[890]\ttrain-logloss:0.628418\teval-logloss:0.635120\n",
      "[900]\ttrain-logloss:0.628183\teval-logloss:0.634919\n",
      "[910]\ttrain-logloss:0.627950\teval-logloss:0.634719\n",
      "[920]\ttrain-logloss:0.627716\teval-logloss:0.634520\n",
      "[930]\ttrain-logloss:0.627480\teval-logloss:0.634325\n",
      "[940]\ttrain-logloss:0.627256\teval-logloss:0.634136\n",
      "[950]\ttrain-logloss:0.627035\teval-logloss:0.633948\n",
      "[960]\ttrain-logloss:0.626817\teval-logloss:0.633765\n",
      "[970]\ttrain-logloss:0.626604\teval-logloss:0.633585\n",
      "[980]\ttrain-logloss:0.626397\teval-logloss:0.633407\n",
      "[990]\ttrain-logloss:0.626181\teval-logloss:0.633234\n",
      "[999]\ttrain-logloss:0.625998\teval-logloss:0.633081\n"
     ]
    }
   ],
   "source": [
    "Xdatatrain = xgboost.DMatrix(data = train_data, label = train_labels)\n",
    "Xdatatest = xgboost.DMatrix(data = test_data, label = test_labels)\n",
    "\n",
    "plst = list(param.items())\n",
    "watchlist = [(Xdatatrain, 'train'), (Xdatatest, 'eval')]            \n",
    "\n",
    "bst = xgboost.train(plst, Xdatatrain, numround, evals = watchlist, verbose_eval = 10)\n",
    "# ypredxgb_tr = bst.predict(Xdatatrain)"
   ]
  },
  {
   "cell_type": "code",
   "execution_count": null,
   "metadata": {
    "collapsed": true
   },
   "outputs": [],
   "source": []
  },
  {
   "cell_type": "code",
   "execution_count": null,
   "metadata": {
    "collapsed": true
   },
   "outputs": [],
   "source": []
  },
  {
   "cell_type": "code",
   "execution_count": null,
   "metadata": {
    "collapsed": true
   },
   "outputs": [],
   "source": []
  },
  {
   "cell_type": "code",
   "execution_count": 261,
   "metadata": {
    "collapsed": false
   },
   "outputs": [
    {
     "data": {
      "text/plain": [
       "125207"
      ]
     },
     "execution_count": 261,
     "metadata": {},
     "output_type": "execute_result"
    }
   ],
   "source": []
  },
  {
   "cell_type": "code",
   "execution_count": 265,
   "metadata": {
    "collapsed": false
   },
   "outputs": [
    {
     "name": "stdout",
     "output_type": "stream",
     "text": [
      "3142\n"
     ]
    }
   ],
   "source": [
    "k = 0\n",
    "for i in range(len(y_pred)):\n",
    "    if y_pred[i] > 0.97:\n",
    "        y_pred[i] = 1\n",
    "        k += 1\n",
    "    if y_pred[i] < 0.03:\n",
    "        y_pred[i] = 1\n",
    "        k+= 1\n",
    "print(k)"
   ]
  },
  {
   "cell_type": "code",
   "execution_count": 62,
   "metadata": {
    "collapsed": true
   },
   "outputs": [],
   "source": [
    "from sklearn.svm import SVC"
   ]
  },
  {
   "cell_type": "code",
   "execution_count": 63,
   "metadata": {
    "collapsed": true
   },
   "outputs": [],
   "source": [
    "clf_svm = SVC(C=0.8)"
   ]
  },
  {
   "cell_type": "code",
   "execution_count": 64,
   "metadata": {
    "collapsed": false
   },
   "outputs": [
    {
     "data": {
      "text/plain": [
       "(        percentage_wins_home  percentage_wins_away    0    1    2    3    4  \\\n",
       " 1233               -0.078023             -0.264007  0.0  0.0  0.0  0.0  0.0   \n",
       " 55959               0.111260             -0.862480  0.0  0.0  0.0  0.0  0.0   \n",
       " 39558               2.217145              0.112668  0.0  0.0  0.0  0.0  0.0   \n",
       " 95153              -2.751238             -1.247483  0.0  0.0  0.0  0.0  0.0   \n",
       " 50277              -2.303576             -0.332934  0.0  0.0  0.0  0.0  0.0   \n",
       " 101026             -2.016454             -0.759233  0.0  0.0  0.0  0.0  0.0   \n",
       " 100125             -0.775477              1.058346  0.0  0.0  0.0  0.0  0.0   \n",
       " 95110              -0.008155             -0.992503  0.0  0.0  0.0  0.0  0.0   \n",
       " 56177              -0.008155             -0.688783  0.0  0.0  0.0  0.0  0.0   \n",
       " 47826              -0.103438             -0.005709  0.0  0.0  0.0  0.0  0.0   \n",
       " 39959               0.562384              1.369685  0.0  0.0  0.0  0.0  0.0   \n",
       " 91722               0.019517             -0.323701  0.0  0.0  0.0  0.0  0.0   \n",
       " 45722               1.010705              1.482073  0.0  0.0  0.0  0.0  0.0   \n",
       " 81190              -0.036195              0.050464  0.0  0.0  0.0  0.0  0.0   \n",
       " 587                -1.205714              0.574734  0.0  0.0  0.0  0.0  0.0   \n",
       " 42685              -0.252544             -0.714509  0.0  0.0  0.0  0.0  0.0   \n",
       " 71233              -2.155931             -0.761327  0.0  0.0  0.0  0.0  0.0   \n",
       " 101583              0.565399              0.643654  0.0  0.0  0.0  0.0  0.0   \n",
       " 1320                0.858168             -1.926446  0.0  0.0  0.0  0.0  0.0   \n",
       " 33048              -0.060404              2.053749  0.0  0.0  0.0  0.0  0.0   \n",
       " 33228               1.526132             -0.499129  0.0  0.0  0.0  0.0  0.0   \n",
       " 9718               -1.075748             -0.714509  0.0  0.0  0.0  0.0  0.0   \n",
       " 13921               1.158012             -0.307803  0.0  0.0  0.0  0.0  0.0   \n",
       " 25631               1.330752             -1.310381  0.0  0.0  0.0  0.0  0.0   \n",
       " 62182              -0.598029             -0.896519  0.0  0.0  0.0  0.0  0.0   \n",
       " 41827               0.584831             -0.548532  0.0  0.0  0.0  0.0  0.0   \n",
       " 2877               -0.182370              0.682150  0.0  0.0  0.0  0.0  0.0   \n",
       " 94401               0.523937              3.149054  0.0  0.0  0.0  0.0  0.0   \n",
       " 45847               0.905003             -1.071790  0.0  0.0  0.0  0.0  0.0   \n",
       " 33458               0.929196             -0.954032  0.0  0.0  0.0  0.0  0.0   \n",
       " ...                      ...                   ...  ...  ...  ...  ...  ...   \n",
       " 86703               0.918180             -0.857318  0.0  0.0  0.0  0.0  0.0   \n",
       " 11128              -0.484569             -0.679315  0.0  0.0  0.0  0.0  0.0   \n",
       " 34575              -0.376427             -1.662937  0.0  0.0  0.0  0.0  0.0   \n",
       " 46511              -0.240213             -0.048662  0.0  0.0  0.0  0.0  0.0   \n",
       " 69152               0.552653             -1.926446  0.0  0.0  0.0  0.0  0.0   \n",
       " 29339               0.066509             -1.699866  0.0  0.0  0.0  0.0  0.0   \n",
       " 41028               0.006708             -0.501963  0.0  0.0  0.0  0.0  0.0   \n",
       " 80638              -0.601952             -0.992503  0.0  0.0  0.0  0.0  0.0   \n",
       " 44371               0.379858             -0.249586  0.0  0.0  0.0  0.0  0.0   \n",
       " 49556              -0.464234              2.132496  0.0  0.0  0.0  0.0  0.0   \n",
       " 64660              -0.158371             -0.446366  0.0  0.0  0.0  0.0  0.0   \n",
       " 60060              -0.815379             -0.346243  0.0  0.0  0.0  1.0  0.0   \n",
       " 16456               1.802049             -0.072147  0.0  0.0  0.0  0.0  0.0   \n",
       " 42337              -0.464234             -2.411609  0.0  0.0  0.0  0.0  0.0   \n",
       " 91070               0.217170             -1.378187  0.0  0.0  0.0  0.0  0.0   \n",
       " 23711               1.132043              0.853210  0.0  0.0  0.0  0.0  0.0   \n",
       " 41010               1.292689              0.239478  0.0  0.0  0.0  0.0  0.0   \n",
       " 23300               0.778944             -1.481965  0.0  0.0  0.0  0.0  0.0   \n",
       " 31584               1.877321             -0.502405  0.0  0.0  0.0  0.0  0.0   \n",
       " 47732               0.234970              0.130263  0.0  0.0  0.0  0.0  0.0   \n",
       " 34177               0.217170             -0.662116  0.0  0.0  0.0  0.0  0.0   \n",
       " 17181              -0.403355             -0.323701  0.0  0.0  0.0  0.0  0.0   \n",
       " 3585               -0.779509             -0.109012  0.0  0.0  0.0  0.0  0.0   \n",
       " 87807              -2.067674              0.132508  0.0  0.0  0.0  0.0  0.0   \n",
       " 53092              -1.802924             -0.992503  0.0  0.0  0.0  0.0  0.0   \n",
       " 35145              -0.305929             -0.249586  0.0  0.0  0.0  0.0  0.0   \n",
       " 89287              -0.125807             -1.638874  0.0  0.0  0.0  0.0  0.0   \n",
       " 61521               1.569118              0.302875  0.0  0.0  0.0  0.0  0.0   \n",
       " 10134               0.692855             -0.295541  0.0  0.0  0.0  0.0  0.0   \n",
       " 71357               1.402337              1.331719  0.0  0.0  0.0  0.0  0.0   \n",
       " \n",
       "           5    6    7 ...   343  344  345  346  347  348  349  350  351  352  \n",
       " 1233    0.0  0.0  0.0 ...   0.0  0.0  0.0  0.0  0.0  0.0  0.0  0.0  0.0  0.0  \n",
       " 55959   0.0  0.0  0.0 ...   0.0  0.0  0.0  0.0  0.0  0.0  0.0  0.0  0.0  0.0  \n",
       " 39558   0.0  0.0  0.0 ...   0.0  0.0  0.0  0.0  0.0  0.0  0.0  0.0  0.0  0.0  \n",
       " 95153   0.0  0.0  0.0 ...   0.0  0.0  0.0  0.0  0.0  0.0  0.0  0.0  0.0  0.0  \n",
       " 50277   0.0  0.0  0.0 ...   0.0  0.0  0.0  0.0  0.0  0.0  0.0  0.0  0.0  0.0  \n",
       " 101026  0.0  0.0  0.0 ...   0.0  0.0  0.0  0.0  0.0  0.0  0.0  0.0  0.0  0.0  \n",
       " 100125  0.0  0.0  0.0 ...   0.0  0.0  0.0  0.0  0.0  0.0  0.0  0.0  0.0  0.0  \n",
       " 95110   0.0  0.0  0.0 ...   0.0  0.0  0.0  0.0  0.0  0.0  0.0  0.0  0.0  0.0  \n",
       " 56177   0.0  0.0  0.0 ...   0.0  0.0  0.0  0.0  0.0  0.0  0.0  0.0  0.0  0.0  \n",
       " 47826   0.0  0.0  0.0 ...   0.0  0.0  0.0  0.0  0.0  0.0  1.0  0.0  0.0  0.0  \n",
       " 39959   0.0  0.0  0.0 ...   0.0  0.0  0.0  0.0  0.0  0.0  0.0  0.0  0.0  0.0  \n",
       " 91722   0.0  0.0  0.0 ...   0.0  0.0  0.0  0.0  0.0  0.0  0.0  0.0  0.0  0.0  \n",
       " 45722   0.0  0.0  0.0 ...   0.0  0.0  0.0  0.0  0.0  0.0  0.0  0.0  0.0  0.0  \n",
       " 81190   0.0  0.0  0.0 ...   0.0  0.0  0.0  0.0  0.0  0.0  0.0  0.0  0.0  0.0  \n",
       " 587     0.0  0.0  0.0 ...   0.0  0.0  0.0  0.0  0.0  0.0  0.0  0.0  0.0  0.0  \n",
       " 42685   0.0  0.0  0.0 ...   0.0  0.0  0.0  0.0  0.0  0.0  0.0  0.0  0.0  0.0  \n",
       " 71233   0.0  0.0  0.0 ...   0.0  0.0  0.0  0.0  0.0  0.0  0.0  0.0  0.0  0.0  \n",
       " 101583  0.0  0.0  0.0 ...   0.0  0.0  0.0  0.0  0.0  0.0  0.0  0.0  0.0  0.0  \n",
       " 1320    0.0  0.0  0.0 ...   0.0  0.0  0.0  0.0  0.0  0.0  0.0  0.0  0.0  0.0  \n",
       " 33048   0.0  0.0  0.0 ...   0.0  0.0  0.0  0.0  0.0  0.0  0.0  0.0  0.0  0.0  \n",
       " 33228   0.0  0.0  0.0 ...   0.0  0.0  0.0  0.0  0.0  0.0  0.0  0.0  0.0  0.0  \n",
       " 9718    0.0  0.0  0.0 ...   0.0  0.0  0.0  0.0  0.0  0.0  0.0  0.0  0.0  0.0  \n",
       " 13921   0.0  0.0  0.0 ...   0.0  0.0  0.0  0.0  0.0  0.0  0.0  0.0  0.0  0.0  \n",
       " 25631   0.0  0.0  0.0 ...   0.0  0.0  0.0  0.0  0.0  0.0  0.0  0.0  0.0  0.0  \n",
       " 62182   0.0  0.0  0.0 ...   0.0  0.0  0.0  0.0  0.0  0.0  0.0  0.0  0.0  0.0  \n",
       " 41827   0.0  0.0  0.0 ...   0.0  0.0  0.0  0.0  0.0  0.0  0.0  0.0  0.0  0.0  \n",
       " 2877    0.0  0.0  0.0 ...   0.0  0.0  0.0  0.0  0.0  0.0  0.0  0.0  0.0  0.0  \n",
       " 94401   0.0  0.0  0.0 ...   0.0  0.0  0.0  0.0  0.0  0.0  0.0  0.0  0.0  0.0  \n",
       " 45847   0.0  0.0  0.0 ...   0.0  0.0  0.0  0.0  0.0  0.0  0.0  0.0  0.0  0.0  \n",
       " 33458   0.0  0.0  0.0 ...   0.0  0.0  0.0  0.0  0.0  0.0  0.0  0.0  0.0  0.0  \n",
       " ...     ...  ...  ... ...   ...  ...  ...  ...  ...  ...  ...  ...  ...  ...  \n",
       " 86703   0.0  0.0  0.0 ...   0.0  0.0  0.0  0.0  0.0  0.0  0.0  0.0  0.0  0.0  \n",
       " 11128   0.0  0.0  0.0 ...   0.0  0.0  0.0  0.0  0.0  0.0  0.0  0.0  0.0  0.0  \n",
       " 34575   0.0  0.0  0.0 ...   0.0  0.0  0.0  0.0  0.0  0.0  0.0  0.0  0.0  0.0  \n",
       " 46511   0.0  0.0  0.0 ...   0.0  0.0  0.0  0.0  0.0  0.0  0.0  0.0  0.0  0.0  \n",
       " 69152   0.0  0.0  0.0 ...   0.0  0.0  0.0  0.0  0.0  0.0  0.0  0.0  0.0  0.0  \n",
       " 29339   0.0  0.0  0.0 ...   0.0  0.0  0.0  0.0  0.0  0.0  0.0  0.0  0.0  0.0  \n",
       " 41028   0.0  0.0  0.0 ...   0.0  0.0  0.0  0.0  0.0  0.0  0.0  0.0  0.0  0.0  \n",
       " 80638   0.0  0.0  0.0 ...   0.0  0.0  0.0  0.0  0.0  0.0  0.0  0.0  0.0  0.0  \n",
       " 44371   0.0  0.0  0.0 ...   0.0  0.0  0.0  0.0  0.0  0.0  0.0  0.0  0.0  0.0  \n",
       " 49556   0.0  0.0  0.0 ...   0.0  0.0  0.0  0.0  0.0  0.0  0.0  0.0  0.0  0.0  \n",
       " 64660   0.0  0.0  0.0 ...   0.0  0.0  0.0  0.0  0.0  0.0  0.0  0.0  0.0  0.0  \n",
       " 60060   0.0  0.0  0.0 ...   0.0  0.0  0.0  0.0  0.0  0.0  0.0  0.0  0.0  0.0  \n",
       " 16456   0.0  0.0  0.0 ...   0.0  0.0  0.0  0.0  0.0  0.0  0.0  0.0  0.0  0.0  \n",
       " 42337   0.0  0.0  0.0 ...   0.0  0.0  0.0  0.0  0.0  0.0  0.0  0.0  0.0  0.0  \n",
       " 91070   0.0  0.0  0.0 ...   0.0  0.0  0.0  0.0  0.0  0.0  0.0  0.0  0.0  0.0  \n",
       " 23711   0.0  0.0  0.0 ...   0.0  0.0  0.0  0.0  0.0  0.0  0.0  0.0  0.0  0.0  \n",
       " 41010   0.0  0.0  0.0 ...   0.0  0.0  0.0  0.0  0.0  0.0  0.0  0.0  0.0  0.0  \n",
       " 23300   0.0  0.0  0.0 ...   0.0  0.0  0.0  0.0  0.0  0.0  0.0  0.0  0.0  0.0  \n",
       " 31584   0.0  0.0  0.0 ...   0.0  0.0  0.0  0.0  0.0  0.0  0.0  0.0  0.0  0.0  \n",
       " 47732   0.0  0.0  0.0 ...   0.0  0.0  0.0  0.0  0.0  0.0  0.0  0.0  0.0  0.0  \n",
       " 34177   0.0  0.0  0.0 ...   0.0  0.0  0.0  0.0  1.0  0.0  0.0  0.0  0.0  0.0  \n",
       " 17181   0.0  0.0  0.0 ...   0.0  0.0  0.0  0.0  0.0  0.0  0.0  0.0  0.0  0.0  \n",
       " 3585    0.0  0.0  0.0 ...   0.0  0.0  0.0  0.0  0.0  0.0  0.0  0.0  0.0  0.0  \n",
       " 87807   0.0  0.0  0.0 ...   0.0  0.0  0.0  0.0  0.0  0.0  0.0  0.0  0.0  0.0  \n",
       " 53092   0.0  0.0  0.0 ...   0.0  0.0  0.0  0.0  0.0  0.0  0.0  0.0  0.0  0.0  \n",
       " 35145   0.0  0.0  0.0 ...   0.0  0.0  0.0  0.0  0.0  0.0  0.0  0.0  0.0  0.0  \n",
       " 89287   0.0  0.0  0.0 ...   0.0  0.0  0.0  0.0  0.0  0.0  0.0  0.0  0.0  0.0  \n",
       " 61521   0.0  0.0  0.0 ...   0.0  0.0  0.0  0.0  0.0  0.0  0.0  0.0  0.0  0.0  \n",
       " 10134   0.0  0.0  0.0 ...   0.0  0.0  0.0  0.0  0.0  0.0  0.0  0.0  0.0  0.0  \n",
       " 71357   0.0  0.0  0.0 ...   0.0  0.0  0.0  1.0  0.0  0.0  0.0  0.0  0.0  0.0  \n",
       " \n",
       " [81287 rows x 708 columns],\n",
       "         percentage_wins_home  percentage_wins_away    0    1    2    3    4  \\\n",
       " 14983               2.297647              0.631691  0.0  0.0  0.0  0.0  0.0   \n",
       " 76574              -1.888034             -0.273610  0.0  0.0  0.0  0.0  0.0   \n",
       " 82982               1.109620              1.581359  0.0  0.0  0.0  0.0  0.0   \n",
       " 11462               0.502089             -1.291469  0.0  0.0  0.0  0.0  0.0   \n",
       " 49948              -1.129771              1.773896  0.0  0.0  0.0  0.0  0.0   \n",
       " 100673              0.066509             -0.210541  0.0  0.0  0.0  0.0  0.0   \n",
       " 45942              -1.009598              0.853210  0.0  0.0  0.0  0.0  0.0   \n",
       " 5400                0.133334             -0.601781  0.0  0.0  0.0  0.0  0.0   \n",
       " 20997               0.712884              0.139428  0.0  0.0  0.0  0.0  0.0   \n",
       " 22309               0.337024              0.165579  0.0  0.0  0.0  0.0  0.0   \n",
       " 22486              -0.035117              0.361344  0.0  0.0  0.0  0.0  0.0   \n",
       " 91031               2.018863              0.328092  0.0  0.0  0.0  0.0  0.0   \n",
       " 23501              -0.216376             -1.200347  0.0  0.0  0.0  0.0  0.0   \n",
       " 86984               0.523937             -0.849575  0.0  0.0  0.0  0.0  0.0   \n",
       " 85422              -0.729194             -0.718595  0.0  0.0  0.0  0.0  0.0   \n",
       " 26804               1.238086              0.132508  0.0  0.0  0.0  0.0  0.0   \n",
       " 97551               1.205359              1.367224  0.0  0.0  0.0  0.0  0.0   \n",
       " 87646              -0.916872              1.490860  0.0  0.0  0.0  0.0  0.0   \n",
       " 17344               1.176311             -0.785407  0.0  0.0  1.0  0.0  0.0   \n",
       " 64682               2.623859             -0.164867  0.0  0.0  0.0  0.0  0.0   \n",
       " 70413               1.584673             -0.006804  0.0  0.0  0.0  0.0  0.0   \n",
       " 96099               0.960514              1.339773  0.0  0.0  0.0  0.0  0.0   \n",
       " 41599              -0.158371             -0.446366  0.0  0.0  0.0  0.0  0.0   \n",
       " 41753               0.261959              0.880192  0.0  0.0  0.0  0.0  0.0   \n",
       " 21797              -1.294084             -0.501963  0.0  0.0  0.0  0.0  0.0   \n",
       " 9613               -0.662431             -1.521193  0.0  0.0  0.0  0.0  0.0   \n",
       " 96414              -2.067674              0.240977  0.0  0.0  0.0  0.0  0.0   \n",
       " 34127               0.614965             -0.194598  0.0  0.0  0.0  0.0  0.0   \n",
       " 29929              -0.008155             -0.718595  0.0  0.0  0.0  0.0  0.0   \n",
       " 5739               -1.111873             -0.193287  0.0  0.0  0.0  0.0  0.0   \n",
       " ...                      ...                   ...  ...  ...  ...  ...  ...   \n",
       " 65996              -1.410175             -1.226988  0.0  0.0  0.0  0.0  0.0   \n",
       " 43754               1.158012              0.369092  0.0  0.0  0.0  0.0  0.0   \n",
       " 78345              -1.587174              0.102674  0.0  0.0  0.0  0.0  0.0   \n",
       " 56992               0.227829             -0.299232  0.0  0.0  0.0  0.0  0.0   \n",
       " 77896              -0.976561             -0.066111  0.0  0.0  0.0  0.0  0.0   \n",
       " 94088              -1.960969             -0.519958  0.0  0.0  0.0  0.0  0.0   \n",
       " 29065              -0.553126             -0.857318  0.0  0.0  0.0  0.0  0.0   \n",
       " 13627              -0.161102             -0.517436  0.0  0.0  0.0  0.0  0.0   \n",
       " 49931              -0.616749             -1.060699  0.0  0.0  0.0  0.0  0.0   \n",
       " 23160              -0.828532             -1.068238  0.0  0.0  0.0  0.0  0.0   \n",
       " 100830              0.217170              0.622461  0.0  0.0  0.0  0.0  0.0   \n",
       " 22617               0.933501              0.399962  0.0  0.0  0.0  0.0  0.0   \n",
       " 58201              -2.303576              0.763667  0.0  0.0  0.0  0.0  0.0   \n",
       " 72848               1.254890              1.883986  0.0  0.0  0.0  0.0  0.0   \n",
       " 81445              -0.119574             -0.173571  0.0  0.0  0.0  0.0  0.0   \n",
       " 35130               0.571123              2.670831  0.0  0.0  0.0  0.0  0.0   \n",
       " 6601               -1.018702              0.502414  0.0  0.0  0.0  0.0  0.0   \n",
       " 31597               0.420007              3.149054  0.0  0.0  0.0  0.0  0.0   \n",
       " 43771              -0.129096             -0.548532  0.0  0.0  0.0  0.0  0.0   \n",
       " 71114               1.005494             -0.652127  0.0  0.0  0.0  0.0  0.0   \n",
       " 10734               0.679629              1.800254  0.0  0.0  0.0  0.0  0.0   \n",
       " 92532              -1.877515              1.331719  0.0  0.0  0.0  0.0  0.0   \n",
       " 11553               1.605799              0.295331  0.0  0.0  0.0  0.0  0.0   \n",
       " 69811              -0.706967             -0.239769  0.0  0.0  0.0  0.0  0.0   \n",
       " 63527               0.960514              1.948292  0.0  0.0  0.0  0.0  0.0   \n",
       " 30966              -0.692273              1.331719  0.0  0.0  0.0  0.0  0.0   \n",
       " 58536              -0.877407             -0.323701  0.0  0.0  0.0  0.0  0.0   \n",
       " 66814               1.254890             -0.322050  0.0  0.0  0.0  0.0  0.0   \n",
       " 63403               0.712884             -0.411509  0.0  0.0  0.0  0.0  0.0   \n",
       " 83899              -0.800601             -1.891890  0.0  0.0  0.0  0.0  0.0   \n",
       " \n",
       "           5    6    7 ...   343  344  345  346  347  348  349  350  351  352  \n",
       " 14983   0.0  0.0  0.0 ...   0.0  0.0  0.0  0.0  0.0  0.0  0.0  0.0  0.0  0.0  \n",
       " 76574   0.0  0.0  0.0 ...   0.0  0.0  0.0  0.0  0.0  0.0  0.0  0.0  0.0  0.0  \n",
       " 82982   0.0  0.0  0.0 ...   0.0  0.0  0.0  0.0  0.0  0.0  0.0  0.0  0.0  0.0  \n",
       " 11462   0.0  0.0  0.0 ...   0.0  0.0  0.0  0.0  0.0  0.0  0.0  0.0  0.0  0.0  \n",
       " 49948   0.0  0.0  0.0 ...   0.0  0.0  0.0  0.0  0.0  0.0  0.0  0.0  0.0  0.0  \n",
       " 100673  0.0  0.0  0.0 ...   0.0  0.0  0.0  0.0  0.0  0.0  0.0  0.0  0.0  0.0  \n",
       " 45942   0.0  0.0  0.0 ...   0.0  0.0  0.0  0.0  0.0  0.0  0.0  0.0  0.0  0.0  \n",
       " 5400    0.0  0.0  0.0 ...   0.0  0.0  0.0  0.0  0.0  0.0  0.0  0.0  0.0  0.0  \n",
       " 20997   0.0  0.0  0.0 ...   0.0  0.0  0.0  0.0  0.0  0.0  0.0  0.0  0.0  0.0  \n",
       " 22309   0.0  0.0  0.0 ...   0.0  0.0  0.0  0.0  0.0  0.0  0.0  0.0  0.0  0.0  \n",
       " 22486   0.0  0.0  0.0 ...   0.0  0.0  0.0  0.0  0.0  0.0  0.0  0.0  0.0  0.0  \n",
       " 91031   0.0  0.0  0.0 ...   0.0  0.0  0.0  0.0  0.0  0.0  0.0  0.0  0.0  0.0  \n",
       " 23501   0.0  0.0  0.0 ...   0.0  0.0  0.0  0.0  0.0  0.0  0.0  0.0  0.0  0.0  \n",
       " 86984   0.0  0.0  0.0 ...   0.0  0.0  0.0  0.0  0.0  0.0  0.0  0.0  0.0  0.0  \n",
       " 85422   0.0  0.0  0.0 ...   0.0  0.0  0.0  0.0  0.0  0.0  0.0  0.0  0.0  0.0  \n",
       " 26804   0.0  0.0  0.0 ...   0.0  0.0  0.0  0.0  0.0  0.0  0.0  0.0  0.0  0.0  \n",
       " 97551   0.0  0.0  0.0 ...   0.0  0.0  0.0  0.0  0.0  0.0  0.0  0.0  0.0  0.0  \n",
       " 87646   0.0  0.0  0.0 ...   0.0  0.0  0.0  0.0  0.0  0.0  0.0  0.0  0.0  0.0  \n",
       " 17344   0.0  0.0  0.0 ...   0.0  0.0  0.0  0.0  0.0  0.0  0.0  0.0  0.0  0.0  \n",
       " 64682   0.0  0.0  0.0 ...   0.0  0.0  0.0  0.0  0.0  0.0  0.0  0.0  0.0  0.0  \n",
       " 70413   0.0  0.0  0.0 ...   0.0  0.0  0.0  0.0  0.0  0.0  0.0  0.0  0.0  0.0  \n",
       " 96099   0.0  0.0  0.0 ...   0.0  0.0  0.0  0.0  0.0  0.0  0.0  0.0  0.0  0.0  \n",
       " 41599   0.0  0.0  0.0 ...   0.0  0.0  0.0  0.0  0.0  0.0  0.0  0.0  0.0  0.0  \n",
       " 41753   0.0  0.0  0.0 ...   0.0  0.0  0.0  0.0  0.0  0.0  0.0  0.0  0.0  0.0  \n",
       " 21797   0.0  0.0  0.0 ...   0.0  0.0  0.0  0.0  0.0  0.0  0.0  0.0  0.0  0.0  \n",
       " 9613    0.0  0.0  0.0 ...   0.0  0.0  0.0  0.0  0.0  0.0  0.0  0.0  0.0  0.0  \n",
       " 96414   0.0  0.0  0.0 ...   0.0  0.0  0.0  0.0  0.0  0.0  0.0  0.0  0.0  0.0  \n",
       " 34127   0.0  0.0  0.0 ...   0.0  0.0  0.0  0.0  0.0  0.0  0.0  0.0  0.0  0.0  \n",
       " 29929   0.0  0.0  0.0 ...   0.0  0.0  0.0  0.0  0.0  0.0  0.0  0.0  0.0  0.0  \n",
       " 5739    0.0  0.0  0.0 ...   0.0  0.0  0.0  0.0  0.0  0.0  0.0  0.0  0.0  0.0  \n",
       " ...     ...  ...  ... ...   ...  ...  ...  ...  ...  ...  ...  ...  ...  ...  \n",
       " 65996   0.0  0.0  0.0 ...   0.0  0.0  0.0  0.0  0.0  0.0  0.0  0.0  0.0  0.0  \n",
       " 43754   0.0  0.0  0.0 ...   0.0  0.0  0.0  0.0  0.0  0.0  0.0  0.0  0.0  0.0  \n",
       " 78345   0.0  0.0  0.0 ...   0.0  0.0  0.0  0.0  0.0  0.0  0.0  0.0  0.0  0.0  \n",
       " 56992   0.0  0.0  0.0 ...   0.0  0.0  0.0  0.0  0.0  0.0  0.0  0.0  0.0  0.0  \n",
       " 77896   0.0  0.0  0.0 ...   0.0  0.0  0.0  0.0  0.0  0.0  0.0  0.0  0.0  0.0  \n",
       " 94088   0.0  0.0  0.0 ...   0.0  0.0  0.0  0.0  0.0  0.0  0.0  0.0  0.0  0.0  \n",
       " 29065   0.0  0.0  0.0 ...   0.0  0.0  0.0  0.0  0.0  0.0  0.0  0.0  0.0  0.0  \n",
       " 13627   0.0  0.0  0.0 ...   0.0  0.0  0.0  0.0  0.0  0.0  0.0  0.0  0.0  0.0  \n",
       " 49931   0.0  0.0  0.0 ...   0.0  0.0  0.0  0.0  0.0  0.0  0.0  0.0  0.0  0.0  \n",
       " 23160   0.0  0.0  0.0 ...   0.0  0.0  0.0  0.0  0.0  0.0  0.0  0.0  0.0  0.0  \n",
       " 100830  0.0  0.0  0.0 ...   0.0  0.0  0.0  0.0  0.0  0.0  0.0  0.0  0.0  0.0  \n",
       " 22617   0.0  0.0  0.0 ...   0.0  0.0  0.0  0.0  0.0  0.0  0.0  0.0  0.0  0.0  \n",
       " 58201   0.0  0.0  0.0 ...   0.0  0.0  0.0  0.0  0.0  0.0  0.0  0.0  0.0  0.0  \n",
       " 72848   0.0  0.0  0.0 ...   0.0  0.0  0.0  0.0  0.0  0.0  0.0  0.0  0.0  0.0  \n",
       " 81445   0.0  0.0  0.0 ...   0.0  0.0  0.0  0.0  0.0  0.0  0.0  0.0  0.0  0.0  \n",
       " 35130   0.0  0.0  0.0 ...   0.0  0.0  0.0  0.0  0.0  0.0  0.0  0.0  0.0  0.0  \n",
       " 6601    0.0  0.0  0.0 ...   0.0  0.0  0.0  0.0  0.0  0.0  0.0  0.0  0.0  0.0  \n",
       " 31597   0.0  0.0  0.0 ...   0.0  0.0  0.0  0.0  0.0  0.0  0.0  0.0  0.0  0.0  \n",
       " 43771   0.0  0.0  0.0 ...   0.0  0.0  0.0  0.0  0.0  0.0  0.0  0.0  0.0  0.0  \n",
       " 71114   0.0  0.0  0.0 ...   0.0  0.0  0.0  0.0  0.0  0.0  0.0  0.0  0.0  0.0  \n",
       " 10734   0.0  0.0  0.0 ...   0.0  0.0  0.0  0.0  0.0  0.0  0.0  0.0  0.0  0.0  \n",
       " 92532   0.0  0.0  0.0 ...   0.0  0.0  0.0  1.0  0.0  0.0  0.0  0.0  0.0  0.0  \n",
       " 11553   0.0  0.0  0.0 ...   0.0  0.0  0.0  0.0  0.0  0.0  0.0  0.0  0.0  0.0  \n",
       " 69811   0.0  0.0  0.0 ...   0.0  0.0  0.0  0.0  0.0  0.0  0.0  0.0  0.0  0.0  \n",
       " 63527   0.0  0.0  0.0 ...   0.0  0.0  0.0  0.0  0.0  0.0  0.0  0.0  0.0  0.0  \n",
       " 30966   0.0  0.0  0.0 ...   0.0  0.0  0.0  1.0  0.0  0.0  0.0  0.0  0.0  0.0  \n",
       " 58536   0.0  0.0  0.0 ...   0.0  0.0  0.0  0.0  0.0  0.0  0.0  0.0  0.0  0.0  \n",
       " 66814   0.0  0.0  0.0 ...   0.0  0.0  0.0  0.0  0.0  0.0  0.0  0.0  0.0  0.0  \n",
       " 63403   0.0  0.0  0.0 ...   0.0  0.0  0.0  0.0  0.0  0.0  0.0  0.0  0.0  0.0  \n",
       " 83899   0.0  0.0  0.0 ...   0.0  0.0  0.0  0.0  0.0  0.0  0.0  0.0  0.0  0.0  \n",
       " \n",
       " [20322 rows x 708 columns],\n",
       "        target\n",
       " 1233    False\n",
       " 55959    True\n",
       " 39558   False\n",
       " 95153   False\n",
       " 50277   False\n",
       " 101026  False\n",
       " 100125  False\n",
       " 95110    True\n",
       " 56177   False\n",
       " 47826   False\n",
       " 39959    True\n",
       " 91722    True\n",
       " 45722    True\n",
       " 81190   False\n",
       " 587      True\n",
       " 42685    True\n",
       " 71233    True\n",
       " 101583  False\n",
       " 1320     True\n",
       " 33048   False\n",
       " 33228    True\n",
       " 9718    False\n",
       " 13921   False\n",
       " 25631    True\n",
       " 62182   False\n",
       " 41827    True\n",
       " 2877    False\n",
       " 94401    True\n",
       " 45847    True\n",
       " 33458    True\n",
       " ...       ...\n",
       " 86703    True\n",
       " 11128    True\n",
       " 34575    True\n",
       " 46511    True\n",
       " 69152    True\n",
       " 29339    True\n",
       " 41028   False\n",
       " 80638   False\n",
       " 44371    True\n",
       " 49556   False\n",
       " 64660    True\n",
       " 60060   False\n",
       " 16456   False\n",
       " 42337    True\n",
       " 91070    True\n",
       " 23711   False\n",
       " 41010   False\n",
       " 23300    True\n",
       " 31584    True\n",
       " 47732    True\n",
       " 34177    True\n",
       " 17181    True\n",
       " 3585     True\n",
       " 87807   False\n",
       " 53092   False\n",
       " 35145   False\n",
       " 89287   False\n",
       " 61521   False\n",
       " 10134    True\n",
       " 71357    True\n",
       " \n",
       " [81287 rows x 1 columns],\n",
       "        target\n",
       " 14983    True\n",
       " 76574   False\n",
       " 82982    True\n",
       " 11462   False\n",
       " 49948   False\n",
       " 100673  False\n",
       " 45942   False\n",
       " 5400     True\n",
       " 20997   False\n",
       " 22309   False\n",
       " 22486   False\n",
       " 91031   False\n",
       " 23501   False\n",
       " 86984    True\n",
       " 85422    True\n",
       " 26804    True\n",
       " 97551    True\n",
       " 87646   False\n",
       " 17344   False\n",
       " 64682    True\n",
       " 70413    True\n",
       " 96099    True\n",
       " 41599    True\n",
       " 41753   False\n",
       " 21797   False\n",
       " 9613     True\n",
       " 96414   False\n",
       " 34127    True\n",
       " 29929    True\n",
       " 5739    False\n",
       " ...       ...\n",
       " 65996   False\n",
       " 43754    True\n",
       " 78345    True\n",
       " 56992    True\n",
       " 77896    True\n",
       " 94088   False\n",
       " 29065   False\n",
       " 13627    True\n",
       " 49931    True\n",
       " 23160    True\n",
       " 100830  False\n",
       " 22617   False\n",
       " 58201   False\n",
       " 72848    True\n",
       " 81445   False\n",
       " 35130   False\n",
       " 6601    False\n",
       " 31597   False\n",
       " 43771   False\n",
       " 71114   False\n",
       " 10734    True\n",
       " 92532   False\n",
       " 11553    True\n",
       " 69811    True\n",
       " 63527   False\n",
       " 30966   False\n",
       " 58536   False\n",
       " 66814    True\n",
       " 63403    True\n",
       " 83899   False\n",
       " \n",
       " [20322 rows x 1 columns])"
      ]
     },
     "execution_count": 64,
     "metadata": {},
     "output_type": "execute_result"
    }
   ],
   "source": [
    "train_data, test_data, train_labels, test_labels"
   ]
  },
  {
   "cell_type": "code",
   "execution_count": 67,
   "metadata": {
    "collapsed": false
   },
   "outputs": [
    {
     "data": {
      "text/plain": [
       "array([False,  True, False, ..., False,  True,  True], dtype=bool)"
      ]
     },
     "execution_count": 67,
     "metadata": {},
     "output_type": "execute_result"
    }
   ],
   "source": []
  },
  {
   "cell_type": "code",
   "execution_count": 72,
   "metadata": {
    "collapsed": true
   },
   "outputs": [],
   "source": [
    "clf_knn = KNeighborsClassifier(n_neighbors=35)"
   ]
  },
  {
   "cell_type": "code",
   "execution_count": 73,
   "metadata": {
    "collapsed": false
   },
   "outputs": [
    {
     "data": {
      "text/plain": [
       "KNeighborsClassifier(algorithm='auto', leaf_size=30, metric='minkowski',\n",
       "           metric_params=None, n_jobs=1, n_neighbors=35, p=2,\n",
       "           weights='uniform')"
      ]
     },
     "execution_count": 73,
     "metadata": {},
     "output_type": "execute_result"
    }
   ],
   "source": [
    "clf_knn.fit(train_data.values, train_labels.values.T[0])"
   ]
  },
  {
   "cell_type": "code",
   "execution_count": 74,
   "metadata": {
    "collapsed": true
   },
   "outputs": [],
   "source": [
    "y_pred = clf_knn.predict_proba(test_data.values)[:, 1]"
   ]
  },
  {
   "cell_type": "code",
   "execution_count": 75,
   "metadata": {
    "collapsed": false
   },
   "outputs": [
    {
     "data": {
      "text/plain": [
       "0.62503410211763488"
      ]
     },
     "execution_count": 75,
     "metadata": {},
     "output_type": "execute_result"
    }
   ],
   "source": [
    "log_loss(test_labels, y_pred)"
   ]
  },
  {
   "cell_type": "code",
   "execution_count": 76,
   "metadata": {
    "collapsed": true
   },
   "outputs": [],
   "source": [
    "y_pred = clf_knn.predict_proba(X_test)[:,1]"
   ]
  },
  {
   "cell_type": "markdown",
   "metadata": {},
   "source": [
    "# Вывод ответа"
   ]
  },
  {
   "cell_type": "code",
   "execution_count": 77,
   "metadata": {
    "collapsed": false
   },
   "outputs": [],
   "source": [
    "ss = sample_submission.copy()\n",
    "ss.target = y_pred\n",
    "ss.to_csv('ans.csv', index=False)"
   ]
  },
  {
   "cell_type": "code",
   "execution_count": null,
   "metadata": {
    "collapsed": true
   },
   "outputs": [],
   "source": []
  }
 ],
 "metadata": {
  "anaconda-cloud": {},
  "kernelspec": {
   "display_name": "Python [conda root]",
   "language": "python",
   "name": "conda-root-py"
  },
  "language_info": {
   "codemirror_mode": {
    "name": "ipython",
    "version": 3
   },
   "file_extension": ".py",
   "mimetype": "text/x-python",
   "name": "python",
   "nbconvert_exporter": "python",
   "pygments_lexer": "ipython3",
   "version": "3.5.2"
  }
 },
 "nbformat": 4,
 "nbformat_minor": 1
}
