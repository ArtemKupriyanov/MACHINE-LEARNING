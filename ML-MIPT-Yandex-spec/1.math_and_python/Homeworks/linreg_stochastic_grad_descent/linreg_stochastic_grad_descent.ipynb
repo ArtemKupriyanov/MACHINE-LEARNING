{
 "cells": [
  {
   "cell_type": "markdown",
   "metadata": {},
   "source": [
    "# Линейная регрессия и стохастический градиентный спуск"
   ]
  },
  {
   "cell_type": "markdown",
   "metadata": {},
   "source": [
    "Задание основано на материалах лекций по линейной регрессии и градиентному спуску. Вы будете прогнозировать выручку компании в зависимости от уровня ее инвестиций в рекламу по TV, в газетах и по радио."
   ]
  },
  {
   "cell_type": "markdown",
   "metadata": {},
   "source": [
    "## Вы научитесь:\n",
    "- решать задачу восстановления линейной регрессии\n",
    "- реализовывать стохастический градиентный спуск для ее настройки\n",
    "- решать задачу линейной регрессии аналитически"
   ]
  },
  {
   "cell_type": "markdown",
   "metadata": {},
   "source": [
    "## Введение\n",
    "Линейная регрессия - один из наиболее хорошо изученных методов машинного обучения, позволяющий прогнозировать значения количественного признака в виде линейной комбинации прочих признаков с параметрами - весами модели. Оптимальные (в смысле минимальности некоторого функционала ошибки) параметры линейной регрессии можно найти аналитически с помощью нормального уравнения или численно с помощью методов оптимизации.  "
   ]
  },
  {
   "cell_type": "markdown",
   "metadata": {},
   "source": [
    "Линейная регрессия использует простой функционал качества - среднеквадратичную ошибку. Мы будем работать с выборкой, содержащей 3 признака. Для настройки параметров (весов) модели решается следующая задача:\n",
    "$$\\frac{1}{\\ell}\\sum_{i=1}^\\ell{{(y_i - (w_0 + w_1x_{i1} + w_2x_{i2} +  w_3x_{i3}))}^2} \\rightarrow \\min_{w_0, w_1, w_2, w_3},$$\n",
    "где $x_{i1}, x_{i2}, x_{i3}$ - значения признаков $i$-го объекта, $y_i$ - значение целевого признака $i$-го объекта, $\\ell$ - число объектов в обучающей выборке."
   ]
  },
  {
   "cell_type": "markdown",
   "metadata": {},
   "source": [
    "## Градиентный спуск\n",
    "Параметры $w_0, w_1, w_2, w_3$, по которым минимизируется среднеквадратичная ошибка, можно находить численно с помощью градиентного спуска.\n",
    "Градиентный шаг для весов будет выглядеть следующим образом:\n",
    "$$w_0 \\leftarrow w_0 + \\frac{2\\eta}{\\ell} \\sum_{i=1}^\\ell{{(y_i - (w_0 + w_1x_{i1} + w_2x_{i2} +  w_3x_{i3}))}}$$\n",
    "$$w_j \\leftarrow w_j + \\frac{2\\eta}{\\ell} \\sum_{i=1}^\\ell{{x_{ij}(y_i - (w_0 + w_1x_{i1} + w_2x_{i2} +  w_3x_{i3}))}},\\ j \\in \\{1,2,3\\}$$\n",
    "Здесь $\\eta$ - параметр, шаг градиентного спуска."
   ]
  },
  {
   "cell_type": "markdown",
   "metadata": {},
   "source": [
    "## Стохастический градиентный спуск\n",
    "У градиентного спуска, описанного выше, есть один недостаток. На больших выборках вычисление градиента по всем имеющимся данным на каждом шаге может быть вычислительно сложно. \n",
    "В стохастическом варианте градиентного спуска поправки для весов вычисляются только с учетом одного случайно взятого объекта обучающей выборки:\n",
    "$$w_0 \\leftarrow w_0 + \\frac{2\\eta}{\\ell} {(y_k - (w_0 + w_1x_{k1} + w_2x_{k2} +  w_3x_{k3}))}$$\n",
    "$$w_j \\leftarrow w_j + \\frac{2\\eta}{\\ell} {x_{kj}(y_k - (w_0 + w_1x_{k1} + w_2x_{k2} +  w_3x_{k3}))},\\ j \\in \\{1,2,3\\},$$\n",
    "где $k$ - случайный индекс, $k \\in \\{1, \\ldots, \\ell\\}$."
   ]
  },
  {
   "cell_type": "markdown",
   "metadata": {},
   "source": [
    "## Нормальное уравнение \n",
    "Нахождение вектора оптимальных весов $w$ может быть сделано и аналитически.\n",
    "Мы хотим найти такой вектор весов $w$, чтобы вектор $y$, соответствующий целевому признаку, получался умножением матрицы $X$ (состоящей из всех признаков объектов обучающей выборки, кроме целевого) на вектор весов $w$. То есть, чтобы выполнялось матричное уравнение:\n",
    "$$y = Xw$$\n",
    "Домножением слева на $X^T$ получаем:\n",
    "$$X^Ty = X^TXw$$\n",
    "Это хорошо, поскольку теперь матрица $X^TX$ - квадратная, и можно найти решение (вектор $w$) в виде:\n",
    "$$w = {(X^TX)}^{-1}X^Ty$$\n",
    "Матрица ${(X^TX)}^{-1}X^T$ - [*псевдообратная*](https://ru.wikipedia.org/wiki/Псевдообратная_матрица) для матрицы $X$. В NumPy такую матрицу можно вычислить с помощью функции [numpy.linalg.pinv](http://docs.scipy.org/doc/numpy-1.10.0/reference/generated/numpy.linalg.pinv.html).\n",
    "\n",
    "Однако, нахождение псевдообратной матрицы - операция вычислительно сложная и нестабильная в случае малого определителя матрицы $X$ (проблема мультиколлинеарности). \n",
    "На практике лучше находить вектор весов $w$ решением матричного уравнения \n",
    "$$X^TXw = X^Ty$$Это может быть сделано с помощью функции [numpy.linalg.solve](http://docs.scipy.org/doc/numpy-1.10.1/reference/generated/numpy.linalg.solve.html).\n",
    "\n",
    "Но все же на практике для больших матриц $X$ быстрее работает градиентный спуск, особенно его стохастическая версия."
   ]
  },
  {
   "cell_type": "markdown",
   "metadata": {},
   "source": [
    "## Инструкции по выполнению"
   ]
  },
  {
   "cell_type": "markdown",
   "metadata": {},
   "source": [
    "В начале напишем простую функцию для записи ответов в текстовый файл. Ответами будут числа, полученные в ходе решения этого задания, округленные до 3 знаков после запятой. Полученные файлы после выполнения задания надо отправить в форму на странице задания на Coursera.org."
   ]
  },
  {
   "cell_type": "code",
   "execution_count": 64,
   "metadata": {
    "collapsed": true
   },
   "outputs": [],
   "source": [
    "def write_answer_to_file(answer, filename):\n",
    "    with open(filename, 'w') as f_out:\n",
    "        f_out.write(str(round(answer, 3)))"
   ]
  },
  {
   "cell_type": "markdown",
   "metadata": {},
   "source": [
    "**1. Загрузите данные из файла *advertising.csv* в объект pandas DataFrame. [Источник данных](http://www-bcf.usc.edu/~gareth/ISL/data.html).**"
   ]
  },
  {
   "cell_type": "code",
   "execution_count": 65,
   "metadata": {
    "collapsed": false
   },
   "outputs": [],
   "source": [
    "import pandas as pd\n",
    "import seaborn as sns\n",
    "import numpy as np\n",
    "\n",
    "%matplotlib inline\n",
    "adver_data = pd.read_csv('advertising.csv')"
   ]
  },
  {
   "cell_type": "markdown",
   "metadata": {
    "collapsed": true
   },
   "source": [
    "**Посмотрите на первые 5 записей и на статистику признаков в этом наборе данных.**"
   ]
  },
  {
   "cell_type": "code",
   "execution_count": 66,
   "metadata": {
    "collapsed": false
   },
   "outputs": [
    {
     "data": {
      "text/html": [
       "<div>\n",
       "<table border=\"1\" class=\"dataframe\">\n",
       "  <thead>\n",
       "    <tr style=\"text-align: right;\">\n",
       "      <th></th>\n",
       "      <th>TV</th>\n",
       "      <th>Radio</th>\n",
       "      <th>Newspaper</th>\n",
       "      <th>Sales</th>\n",
       "    </tr>\n",
       "  </thead>\n",
       "  <tbody>\n",
       "    <tr>\n",
       "      <th>1</th>\n",
       "      <td>230.1</td>\n",
       "      <td>37.8</td>\n",
       "      <td>69.2</td>\n",
       "      <td>22.1</td>\n",
       "    </tr>\n",
       "    <tr>\n",
       "      <th>2</th>\n",
       "      <td>44.5</td>\n",
       "      <td>39.3</td>\n",
       "      <td>45.1</td>\n",
       "      <td>10.4</td>\n",
       "    </tr>\n",
       "    <tr>\n",
       "      <th>3</th>\n",
       "      <td>17.2</td>\n",
       "      <td>45.9</td>\n",
       "      <td>69.3</td>\n",
       "      <td>9.3</td>\n",
       "    </tr>\n",
       "    <tr>\n",
       "      <th>4</th>\n",
       "      <td>151.5</td>\n",
       "      <td>41.3</td>\n",
       "      <td>58.5</td>\n",
       "      <td>18.5</td>\n",
       "    </tr>\n",
       "    <tr>\n",
       "      <th>5</th>\n",
       "      <td>180.8</td>\n",
       "      <td>10.8</td>\n",
       "      <td>58.4</td>\n",
       "      <td>12.9</td>\n",
       "    </tr>\n",
       "  </tbody>\n",
       "</table>\n",
       "</div>"
      ],
      "text/plain": [
       "      TV  Radio  Newspaper  Sales\n",
       "1  230.1   37.8       69.2   22.1\n",
       "2   44.5   39.3       45.1   10.4\n",
       "3   17.2   45.9       69.3    9.3\n",
       "4  151.5   41.3       58.5   18.5\n",
       "5  180.8   10.8       58.4   12.9"
      ]
     },
     "execution_count": 66,
     "metadata": {},
     "output_type": "execute_result"
    }
   ],
   "source": [
    "data = adver_data\n",
    "data.head(5)"
   ]
  },
  {
   "cell_type": "code",
   "execution_count": 67,
   "metadata": {
    "collapsed": false
   },
   "outputs": [
    {
     "data": {
      "text/plain": [
       "<seaborn.axisgrid.PairGrid at 0x7f58301f3a58>"
      ]
     },
     "execution_count": 67,
     "metadata": {},
     "output_type": "execute_result"
    },
    {
     "data": {
      "image/png": "[encoded data removed]",
      "text/plain": [
       "<matplotlib.figure.Figure at 0x7f58301f3278>"
      ]
     },
     "metadata": {},
     "output_type": "display_data"
    }
   ],
   "source": [
    "sns.pairplot(data)"
   ]
  },
  {
   "cell_type": "code",
   "execution_count": 68,
   "metadata": {
    "collapsed": false
   },
   "outputs": [
    {
     "data": {
      "text/plain": [
       "<matplotlib.axes._subplots.AxesSubplot at 0x7f582c8bfc18>"
      ]
     },
     "execution_count": 68,
     "metadata": {},
     "output_type": "execute_result"
    },
    {
     "data": {
      "image/png": "[encoded data removed]",
      "text/plain": [
       "<matplotlib.figure.Figure at 0x7f582cade320>"
      ]
     },
     "metadata": {},
     "output_type": "display_data"
    }
   ],
   "source": [
    "sns.boxplot(data=data, orient=\"h\", palette=\"Set1\", width = 0.8)"
   ]
  },
  {
   "cell_type": "markdown",
   "metadata": {},
   "source": [
    "**Создайте массивы NumPy *X* из столбцов TV, Radio и Newspaper и *y* - из столбца Sales. Используйте атрибут *values* объекта pandas DataFrame.**"
   ]
  },
  {
   "cell_type": "code",
   "execution_count": 123,
   "metadata": {
    "collapsed": false
   },
   "outputs": [],
   "source": [
    "X = data[['TV', 'Radio', 'Newspaper']].values\n",
    "y = data[['Sales']].values"
   ]
  },
  {
   "cell_type": "code",
   "execution_count": 124,
   "metadata": {
    "collapsed": false
   },
   "outputs": [
    {
     "data": {
      "text/plain": [
       "array([ 22.1,  10.4,   9.3,  18.5,  12.9,   7.2,  11.8,  13.2,   4.8,\n",
       "        10.6,   8.6,  17.4,   9.2,   9.7,  19. ,  22.4,  12.5,  24.4,\n",
       "        11.3,  14.6,  18. ,  12.5,   5.6,  15.5,   9.7,  12. ,  15. ,\n",
       "        15.9,  18.9,  10.5,  21.4,  11.9,   9.6,  17.4,   9.5,  12.8,\n",
       "        25.4,  14.7,  10.1,  21.5,  16.6,  17.1,  20.7,  12.9,   8.5,\n",
       "        14.9,  10.6,  23.2,  14.8,   9.7,  11.4,  10.7,  22.6,  21.2,\n",
       "        20.2,  23.7,   5.5,  13.2,  23.8,  18.4,   8.1,  24.2,  15.7,\n",
       "        14. ,  18. ,   9.3,   9.5,  13.4,  18.9,  22.3,  18.3,  12.4,\n",
       "         8.8,  11. ,  17. ,   8.7,   6.9,  14.2,   5.3,  11. ,  11.8,\n",
       "        12.3,  11.3,  13.6,  21.7,  15.2,  12. ,  16. ,  12.9,  16.7,\n",
       "        11.2,   7.3,  19.4,  22.2,  11.5,  16.9,  11.7,  15.5,  25.4,\n",
       "        17.2,  11.7,  23.8,  14.8,  14.7,  20.7,  19.2,   7.2,   8.7,\n",
       "         5.3,  19.8,  13.4,  21.8,  14.1,  15.9,  14.6,  12.6,  12.2,\n",
       "         9.4,  15.9,   6.6,  15.5,   7. ,  11.6,  15.2,  19.7,  10.6,\n",
       "         6.6,   8.8,  24.7,   9.7,   1.6,  12.7,   5.7,  19.6,  10.8,\n",
       "        11.6,   9.5,  20.8,   9.6,  20.7,  10.9,  19.2,  20.1,  10.4,\n",
       "        11.4,  10.3,  13.2,  25.4,  10.9,  10.1,  16.1,  11.6,  16.6,\n",
       "        19. ,  15.6,   3.2,  15.3,  10.1,   7.3,  12.9,  14.4,  13.3,\n",
       "        14.9,  18. ,  11.9,  11.9,   8. ,  12.2,  17.1,  15. ,   8.4,\n",
       "        14.5,   7.6,  11.7,  11.5,  27. ,  20.2,  11.7,  11.8,  12.6,\n",
       "        10.5,  12.2,   8.7,  26.2,  17.6,  22.6,  10.3,  17.3,  15.9,\n",
       "         6.7,  10.8,   9.9,   5.9,  19.6,  17.3,   7.6,   9.7,  12.8,\n",
       "        25.5,  13.4])"
      ]
     },
     "execution_count": 124,
     "metadata": {},
     "output_type": "execute_result"
    }
   ],
   "source": [
    "y = data['Sales'].values\n",
    "y"
   ]
  },
  {
   "cell_type": "markdown",
   "metadata": {},
   "source": [
    "**Отмасштабируйте столбцы матрицы *X*, вычтя из каждого значения среднее по соответствующему столбцу и поделив результат на стандартное отклонение.**"
   ]
  },
  {
   "cell_type": "code",
   "execution_count": 125,
   "metadata": {
    "collapsed": false
   },
   "outputs": [
    {
     "name": "stdout",
     "output_type": "stream",
     "text": [
      "[ 147.0425   23.264    30.554 ] [ 85.85423631  14.84680918  21.77862084]\n"
     ]
    }
   ],
   "source": [
    "means = np.array([data['TV'].mean(), data['Radio'].mean(), data['Newspaper'].mean()])\n",
    "stds = np.array([data['TV'].std(), data['Radio'].std(), data['Newspaper'].std()])\n",
    "print(means, stds)\n",
    "#print( (X[0][0] - means[0]) / stds[0] )"
   ]
  },
  {
   "cell_type": "code",
   "execution_count": 126,
   "metadata": {
    "collapsed": false
   },
   "outputs": [],
   "source": [
    "for i in range(X.shape[0]):\n",
    "    for j in range(X.shape[1]):\n",
    "        X[i][j] = (X[i][j] - means[j]) / stds[j];"
   ]
  },
  {
   "cell_type": "markdown",
   "metadata": {},
   "source": [
    "**Добавьте к матрице *X* столбец из единиц, используя методы *hstack*, *ones* и *reshape* библиотеки NumPy. Вектор из единиц нужен для того, чтобы не обрабатывать отдельно коэффициент $w_0$ линейной регрессии.**"
   ]
  },
  {
   "cell_type": "code",
   "execution_count": 127,
   "metadata": {
    "collapsed": false
   },
   "outputs": [],
   "source": [
    "a = np.ones((X.shape[0], 1), dtype=float)\n",
    "X1 = np.hstack((a, X))\n",
    "X = np.hstack((a, X))"
   ]
  },
  {
   "cell_type": "code",
   "execution_count": 128,
   "metadata": {
    "collapsed": false
   },
   "outputs": [
    {
     "data": {
      "text/plain": [
       "array([[  1.00000000e+00,   9.67424597e-01,   9.79065591e-01,\n",
       "          1.77449253e+00],\n",
       "       [  1.00000000e+00,  -1.19437904e+00,   1.08009740e+00,\n",
       "          6.67902716e-01],\n",
       "       [  1.00000000e+00,  -1.51235985e+00,   1.52463736e+00,\n",
       "          1.77908419e+00],\n",
       "       [  1.00000000e+00,   5.19193949e-02,   1.21480648e+00,\n",
       "          1.28318502e+00],\n",
       "       [  1.00000000e+00,   3.93195507e-01,  -8.39506984e-01,\n",
       "          1.27859336e+00],\n",
       "       [  1.00000000e+00,  -1.61136487e+00,   1.72670098e+00,\n",
       "          2.04080875e+00],\n",
       "       [  1.00000000e+00,  -1.04295960e+00,   6.42292892e-01,\n",
       "         -3.23895625e-01],\n",
       "       [  1.00000000e+00,  -3.12652015e-01,  -2.46787034e-01,\n",
       "         -8.70303044e-01],\n",
       "       [  1.00000000e+00,  -1.61252963e+00,  -1.42549148e+00,\n",
       "         -1.35701890e+00],\n",
       "       [  1.00000000e+00,   6.14500836e-01,  -1.39181421e+00,\n",
       "         -4.29503781e-01],\n",
       "       [  1.00000000e+00,  -9.42789820e-01,  -1.17627968e+00,\n",
       "         -2.91754012e-01],\n",
       "       [  1.00000000e+00,   7.88050805e-01,   4.95729413e-02,\n",
       "         -1.21926913e+00],\n",
       "       [  1.00000000e+00,  -1.43548537e+00,   7.97208333e-01,\n",
       "          1.62296778e+00],\n",
       "       [  1.00000000e+00,  -5.77053645e-01,  -1.05504151e+00,\n",
       "         -1.07233604e+00],\n",
       "       [  1.00000000e+00,   6.64585726e-01,   6.49028346e-01,\n",
       "          7.09227646e-01],\n",
       "       [  1.00000000e+00,   5.63251181e-01,   1.64587554e+00,\n",
       "          1.02605212e+00],\n",
       "       [  1.00000000e+00,  -9.22988817e-01,   8.98240143e-01,\n",
       "          3.83155575e+00],\n",
       "       [  1.00000000e+00,   1.56494899e+00,   1.10030376e+00,\n",
       "          1.15921023e+00],\n",
       "       [  1.00000000e+00,  -9.06682108e-01,  -1.86167948e-01,\n",
       "         -5.62661892e-01],\n",
       "       [  1.00000000e+00,   2.99926959e-03,   4.28374873e-02,\n",
       "         -5.25928620e-01],\n",
       "       [  1.00000000e+00,   8.31147105e-01,   2.98784739e-01,\n",
       "          1.04901041e+00],\n",
       "       [  1.00000000e+00,   1.05245243e+00,  -1.22342786e+00,\n",
       "         -3.23895625e-01],\n",
       "       [  1.00000000e+00,  -1.55895045e+00,  -4.95998831e-01,\n",
       "          8.74527370e-01],\n",
       "       [  1.00000000e+00,   9.46458829e-01,  -4.28644291e-01,\n",
       "         -1.99920832e-01],\n",
       "       [  1.00000000e+00,  -9.87050886e-01,  -7.18268813e-01,\n",
       "         -5.62661892e-01],\n",
       "       [  1.00000000e+00,   1.34946748e+00,  -1.33119513e+00,\n",
       "         -5.07561984e-01],\n",
       "       [  1.00000000e+00,  -4.82503855e-02,   4.06552002e-01,\n",
       "         -8.24386454e-01],\n",
       "       [  1.00000000e+00,   1.08390109e+00,  -4.42115199e-01,\n",
       "         -3.51445579e-01],\n",
       "       [  1.00000000e+00,   1.18523563e+00,   2.58372015e-01,\n",
       "         -3.51445579e-01],\n",
       "       [  1.00000000e+00,  -8.90375400e-01,  -4.89263377e-01,\n",
       "          4.70461379e-01],\n",
       "       [  1.00000000e+00,   1.69889695e+00,   3.39197463e-01,\n",
       "          5.80661195e-01],\n",
       "       [  1.00000000e+00,  -3.97679852e-01,  -3.94967022e-01,\n",
       "          3.69444882e-01],\n",
       "       [  1.00000000e+00,  -5.80547940e-01,  -1.46590420e+00,\n",
       "         -2.54377908e-02],\n",
       "       [  1.00000000e+00,   1.38091613e+00,  -2.19845218e-01,\n",
       "         -1.38916051e+00],\n",
       "       [  1.00000000e+00,  -5.98019413e-01,  -1.47263966e+00,\n",
       "         -1.06315272e+00],\n",
       "       [  1.00000000e+00,   1.67327212e+00,  -1.29078240e+00,\n",
       "         -1.01264447e+00],\n",
       "       [  1.00000000e+00,   1.39605808e+00,   1.38319283e+00,\n",
       "         -1.17335254e+00],\n",
       "       [  1.00000000e+00,  -8.42620040e-01,   1.76037825e+00,\n",
       "          6.95452669e-01],\n",
       "       [  1.00000000e+00,  -1.21068574e+00,   2.31430199e-01,\n",
       "          2.08736817e-01],\n",
       "       [  1.00000000e+00,   9.42964535e-01,   9.72330137e-01,\n",
       "          6.63953889e-02],\n",
       "       [  1.00000000e+00,   6.45949488e-01,  -6.49297764e-02,\n",
       "          4.80287530e-02],\n",
       "       [  1.00000000e+00,   3.48934442e-01,   6.82705616e-01,\n",
       "          3.74036541e-01],\n",
       "       [  1.00000000e+00,   1.70705030e+00,   2.98784739e-01,\n",
       "         -1.32028562e+00],\n",
       "       [  1.00000000e+00,   6.97199143e-01,  -1.00115788e+00,\n",
       "         -1.90737514e-01],\n",
       "       [  1.00000000e+00,  -1.42034342e+00,   1.64075659e-01,\n",
       "          5.85252854e-01],\n",
       "       [  1.00000000e+00,   3.26803909e-01,  -5.14588684e-02,\n",
       "          4.34370940e-02],\n",
       "       [  1.00000000e+00,  -6.67905306e-01,  -9.00126070e-01,\n",
       "          2.36286771e-01],\n",
       "       [  1.00000000e+00,   1.08157156e+00,   1.22827739e+00,\n",
       "         -5.53478574e-01],\n",
       "       [  1.00000000e+00,   9.33646416e-01,  -5.02734285e-01,\n",
       "          8.88302347e-01],\n",
       "       [  1.00000000e+00,  -9.33471701e-01,  -7.78887899e-01,\n",
       "          2.86795020e-01],\n",
       "       [  1.00000000e+00,   6.14500836e-01,  -1.35813694e+00,\n",
       "          1.85778522e-01],\n",
       "       [  1.00000000e+00,  -5.43275463e-01,  -9.20332432e-01,\n",
       "         -1.23763576e+00],\n",
       "       [  1.00000000e+00,   8.07851808e-01,   1.24174830e+00,\n",
       "          4.15361472e-01],\n",
       "       [  1.00000000e+00,   4.14161275e-01,   1.54484373e+00,\n",
       "          1.29236834e+00],\n",
       "       [  1.00000000e+00,   1.34713795e+00,   3.72874732e-01,\n",
       "         -6.72861707e-01],\n",
       "       [  1.00000000e+00,   6.04017952e-01,   1.76037825e+00,\n",
       "          1.35205990e+00],\n",
       "       [  1.00000000e+00,  -1.62767157e+00,   3.25726555e-01,\n",
       "          4.98011333e-01],\n",
       "       [  1.00000000e+00,  -1.26289633e-01,  -2.73728850e-01,\n",
       "         -6.40720094e-01],\n",
       "       [  1.00000000e+00,   7.42624974e-01,   1.77384916e+00,\n",
       "          3.28119951e-01],\n",
       "       [  1.00000000e+00,   7.41460209e-01,   4.20022910e-01,\n",
       "         -9.75911200e-01],\n",
       "       [  1.00000000e+00,  -1.08955020e+00,  -1.43222693e+00,\n",
       "         -4.20320463e-01],\n",
       "       [  1.00000000e+00,   1.33083124e+00,   1.30910284e+00,\n",
       "          1.10870198e+00],\n",
       "       [  1.00000000e+00,   1.07458297e+00,  -5.22940647e-01,\n",
       "         -1.49412583e-01],\n",
       "       [  1.00000000e+00,  -5.16485871e-01,   4.26758364e-01,\n",
       "         -1.01723613e+00],\n",
       "       [  1.00000000e+00,  -1.85692642e-01,   1.31583829e+00,\n",
       "         -7.59460396e-02],\n",
       "       [  1.00000000e+00,  -9.09011638e-01,  -9.40538794e-01,\n",
       "         -1.36161055e+00],\n",
       "       [  1.00000000e+00,  -1.34579847e+00,   8.99856652e-02,\n",
       "         -1.30191899e+00],\n",
       "       [  1.00000000e+00,  -9.01819215e-02,  -5.90295187e-01,\n",
       "         -9.34586269e-01],\n",
       "       [  1.00000000e+00,   1.05245243e+00,   2.85313831e-01,\n",
       "         -8.97852997e-01],\n",
       "       [  1.00000000e+00,   8.12510867e-01,   1.38992828e+00,\n",
       "         -1.54004242e-01],\n",
       "       [  1.00000000e+00,   6.06347482e-01,   4.94112904e-01,\n",
       "          3.74036541e-01],\n",
       "       [  1.00000000e+00,  -4.33787564e-01,  -6.03766095e-01,\n",
       "          5.26204119e-02],\n",
       "       [  1.00000000e+00,  -1.40054242e+00,   6.55763800e-01,\n",
       "         -5.16745302e-01],\n",
       "       [  1.00000000e+00,  -2.05493645e-01,  -1.18301514e+00,\n",
       "          3.42537760e-02],\n",
       "       [  1.00000000e+00,   7.72908861e-01,   8.99856652e-02,\n",
       "         -8.01428159e-01],\n",
       "       [  1.00000000e+00,  -1.51585415e+00,   1.37645738e+00,\n",
       "          2.70200764e+00],\n",
       "       [  1.00000000e+00,  -1.39238907e+00,  -1.45916875e+00,\n",
       "         -4.52462076e-01],\n",
       "       [  1.00000000e+00,  -3.09157721e-01,   3.52668371e-01,\n",
       "         -7.50919910e-01],\n",
       "       [  1.00000000e+00,  -1.64980211e+00,   4.46964726e-01,\n",
       "         -9.71319541e-01],\n",
       "       [  1.00000000e+00,  -3.61572141e-01,  -1.04830606e+00,\n",
       "         -3.42262261e-01],\n",
       "       [  1.00000000e+00,  -8.22819036e-01,   2.31430199e-01,\n",
       "         -3.78995532e-01],\n",
       "       [  1.00000000e+00,   1.08040679e+00,  -1.29078240e+00,\n",
       "          2.91386679e-01],\n",
       "       [  1.00000000e+00,  -8.35631450e-01,  -1.99638856e-01,\n",
       "          8.93536838e-02],\n",
       "       [  1.00000000e+00,  -9.16000228e-01,   1.43034101e+00,\n",
       "          2.31695112e-01],\n",
       "       [  1.00000000e+00,   7.74073626e-01,   1.32930920e+00,\n",
       "          1.49045251e-01],\n",
       "       [  1.00000000e+00,   5.37626353e-01,  -3.27612482e-01,\n",
       "          1.61378447e+00],\n",
       "       [  1.00000000e+00,  -8.23983801e-01,   2.85313831e-01,\n",
       "         -6.68270048e-01],\n",
       "       [  1.00000000e+00,  -4.23304680e-01,   1.16765830e+00,\n",
       "          1.49899299e+00],\n",
       "       [  1.00000000e+00,  -6.84212015e-01,   1.50604751e-01,\n",
       "          1.96734221e+00],\n",
       "       [  1.00000000e+00,  -4.33787564e-01,   1.65261099e+00,\n",
       "          9.57177231e-01],\n",
       "       [  1.00000000e+00,  -1.48420166e-01,  -1.23689877e+00,\n",
       "         -9.75911200e-01],\n",
       "       [  1.00000000e+00,  -1.37957665e+00,  -1.46590420e+00,\n",
       "          1.12311979e-01],\n",
       "       [  1.00000000e+00,   8.22993751e-01,   6.89441070e-01,\n",
       "          1.30614331e+00],\n",
       "       [  1.00000000e+00,   1.20969569e+00,   8.91504689e-01,\n",
       "          1.91683396e+00],\n",
       "       [  1.00000000e+00,  -4.61741921e-01,  -6.23972457e-01,\n",
       "         -9.02444656e-01],\n",
       "       [  1.00000000e+00,   1.89361652e-01,   5.61467444e-01,\n",
       "          1.02605212e+00],\n",
       "       [  1.00000000e+00,   5.88876009e-01,  -1.33119513e+00,\n",
       "         -1.13202761e+00],\n",
       "       [  1.00000000e+00,   4.40950868e-01,  -1.52490678e-01,\n",
       "         -3.92770509e-01],\n",
       "       [  1.00000000e+00,   1.66162447e+00,   1.28216102e+00,\n",
       "          9.47993914e-01],\n",
       "       [  1.00000000e+00,  -1.37937282e-01,   1.24174830e+00,\n",
       "          7.04635987e-01],\n",
       "       [  1.00000000e+00,   8.77737701e-01,  -1.27731149e+00,\n",
       "          8.83710688e-01],\n",
       "       [  1.00000000e+00,   1.73966372e+00,   8.78033781e-01,\n",
       "          3.23004843e+00],\n",
       "       [  1.00000000e+00,   1.55097181e+00,  -8.86655162e-01,\n",
       "         -4.20320463e-01],\n",
       "       [  1.00000000e+00,   4.75893814e-01,  -4.08437930e-01,\n",
       "         -5.81028528e-01],\n",
       "       [  1.00000000e+00,   1.06177055e+00,   7.43324702e-01,\n",
       "         -1.15957756e+00],\n",
       "       [  1.00000000e+00,  -1.06488630e-01,   1.55831463e+00,\n",
       "          1.30614331e+00],\n",
       "       [  1.00000000e+00,  -1.42150819e+00,  -8.26036076e-01,\n",
       "         -3.92127677e-02],\n",
       "       [  1.00000000e+00,  -6.59751952e-01,  -1.54672965e+00,\n",
       "         -3.37670602e-01],\n",
       "       [  1.00000000e+00,  -1.56011521e+00,  -1.53999420e+00,\n",
       "         -2.27470786e-01],\n",
       "       [  1.00000000e+00,   1.26211011e+00,   2.44901107e-01,\n",
       "         -1.15039424e+00],\n",
       "       [  1.00000000e+00,   9.17339707e-01,  -1.01462879e+00,\n",
       "          1.19135184e+00],\n",
       "       [  1.00000000e+00,   1.10253732e+00,   9.92536499e-01,\n",
       "         -3.37670602e-01],\n",
       "       [  1.00000000e+00,   3.33792498e-01,  -5.29676101e-01,\n",
       "         -1.29273567e+00],\n",
       "       [  1.00000000e+00,   7.28647795e-01,  -1.79432494e-01,\n",
       "         -9.11627974e-01],\n",
       "       [  1.00000000e+00,  -8.01853268e-01,   1.58525645e+00,\n",
       "          1.81186863e-01],\n",
       "       [  1.00000000e+00,  -8.37960980e-01,   7.90472879e-01,\n",
       "          1.01686880e+00],\n",
       "       [  1.00000000e+00,  -9.13466864e-02,  -6.03766095e-01,\n",
       "         -2.27470786e-01],\n",
       "       [  1.00000000e+00,  -8.22819036e-01,  -1.51305238e+00,\n",
       "         -7.23369956e-01],\n",
       "       [  1.00000000e+00,  -2.48589946e-01,   9.18446505e-01,\n",
       "          2.23365843e+00],\n",
       "       [  1.00000000e+00,  -1.48673502e+00,  -4.89263377e-01,\n",
       "         -3.78995532e-01],\n",
       "       [  1.00000000e+00,  -6.68866237e-02,   2.38165653e-01,\n",
       "          7.18410964e-01],\n",
       "       [  1.00000000e+00,  -1.49372361e+00,  -1.05342500e-01,\n",
       "          9.11260642e-01],\n",
       "       [  1.00000000e+00,   8.96373939e-01,  -1.40528512e+00,\n",
       "         -6.86636684e-01],\n",
       "       [  1.00000000e+00,  -2.78873833e-01,   7.63531064e-01,\n",
       "         -8.33569772e-01],\n",
       "       [  1.00000000e+00,   9.60436008e-01,   6.08615622e-01,\n",
       "          2.00407548e+00],\n",
       "       [  1.00000000e+00,  -6.97024428e-01,  -7.72152445e-01,\n",
       "         -2.13695809e-01],\n",
       "       [  1.00000000e+00,  -1.62184775e+00,   1.05315558e+00,\n",
       "          9.20443960e-01],\n",
       "       [  1.00000000e+00,  -7.78557971e-01,  -1.56693601e+00,\n",
       "         -9.80502859e-01],\n",
       "       [  1.00000000e+00,   8.53277638e-01,   1.73343644e+00,\n",
       "         -1.25600240e+00],\n",
       "       [  1.00000000e+00,  -1.01849954e+00,  -7.58681537e-01,\n",
       "          5.76069536e-01],\n",
       "       [  1.00000000e+00,  -1.70454606e+00,   1.10030376e+00,\n",
       "         -1.00346115e+00],\n",
       "       [  1.00000000e+00,   1.37625707e+00,  -1.37160785e+00,\n",
       "          5.71477877e-01],\n",
       "       [  1.00000000e+00,  -1.61485916e+00,   2.65107469e-01,\n",
       "         -1.30651065e+00],\n",
       "       [  1.00000000e+00,   8.47453814e-01,   6.89441070e-01,\n",
       "          6.67902716e-01],\n",
       "       [  1.00000000e+00,  -1.28290117e+00,   1.03294922e+00,\n",
       "          1.60919281e+00],\n",
       "       [  1.00000000e+00,  -1.15011797e+00,   1.59872736e+00,\n",
       "         -1.01264447e+00],\n",
       "       [  1.00000000e+00,  -1.41451960e+00,   1.05989104e+00,\n",
       "         -9.75911200e-01],\n",
       "       [  1.00000000e+00,   1.47526209e+00,   3.79610186e-01,\n",
       "          1.33828493e+00],\n",
       "       [  1.00000000e+00,  -1.21185051e+00,   1.77546567e-01,\n",
       "         -4.61645394e-01],\n",
       "       [  1.00000000e+00,   4.40950868e-01,   1.38992828e+00,\n",
       "         -1.32487728e+00],\n",
       "       [  1.00000000e+00,  -8.57761983e-01,  -4.21908837e-01,\n",
       "         -8.10611477e-01],\n",
       "       [  1.00000000e+00,   5.43450178e-01,   8.17414695e-01,\n",
       "          2.06835871e+00],\n",
       "       [  1.00000000e+00,   8.55607168e-01,   6.69234708e-01,\n",
       "          3.37303269e-01],\n",
       "       [  1.00000000e+00,  -4.94355338e-01,  -1.18301514e+00,\n",
       "          1.76595204e-01],\n",
       "       [  1.00000000e+00,  -5.92195589e-01,  -5.70088825e-01,\n",
       "          3.83219859e-01],\n",
       "       [  1.00000000e+00,  -7.85342726e-02,  -1.43896239e+00,\n",
       "         -9.89686177e-01],\n",
       "       [  1.00000000e+00,   1.08390109e+00,  -1.07524787e+00,\n",
       "         -1.00346115e+00],\n",
       "       [  1.00000000e+00,   1.12000880e+00,   1.73343644e+00,\n",
       "          6.31169444e-01],\n",
       "       [  1.00000000e+00,  -1.27008875e+00,   1.14745194e+00,\n",
       "         -8.56528067e-01],\n",
       "       [  1.00000000e+00,  -1.19204951e+00,   1.70811113e-01,\n",
       "         -4.57053735e-01],\n",
       "       [  1.00000000e+00,   1.55679563e+00,  -6.30707911e-01,\n",
       "          2.95978338e-01],\n",
       "       [  1.00000000e+00,  -3.03333896e-01,  -1.00115788e+00,\n",
       "          8.33202439e-01],\n",
       "       [  1.00000000e+00,   5.88876009e-01,   2.42476343e-03,\n",
       "         -7.50919910e-01],\n",
       "       [  1.00000000e+00,   2.82542843e-01,   1.10703922e+00,\n",
       "          3.28119951e-01],\n",
       "       [  1.00000000e+00,   4.74729049e-01,  -1.45755224e-01,\n",
       "         -9.66727882e-01],\n",
       "       [  1.00000000e+00,  -1.66494405e+00,  -7.85623353e-01,\n",
       "         -1.14121092e+00],\n",
       "       [  1.00000000e+00,  -6.18985181e-01,   1.36298647e+00,\n",
       "          9.15852301e-01],\n",
       "       [  1.00000000e+00,   3.21183918e-02,  -1.47937511e+00,\n",
       "         -2.87162353e-01],\n",
       "       [  1.00000000e+00,  -1.57642192e+00,   9.18446505e-01,\n",
       "          6.72494375e-01],\n",
       "       [  1.00000000e+00,  -1.78704053e-01,  -3.27612482e-01,\n",
       "          1.85778522e-01],\n",
       "       [  1.00000000e+00,   2.96520022e-01,  -3.47818844e-01,\n",
       "          6.70382211e-03],\n",
       "       [  1.00000000e+00,  -7.14495902e-01,   8.44356511e-01,\n",
       "          8.60752393e-01],\n",
       "       [  1.00000000e+00,   4.81717639e-01,  -3.47818844e-01,\n",
       "         -2.27470786e-01],\n",
       "       [  1.00000000e+00,   1.91691182e-01,   9.11711051e-01,\n",
       "         -1.06315272e+00],\n",
       "       [  1.00000000e+00,  -3.47594962e-01,  -5.76824279e-01,\n",
       "         -1.15498590e+00],\n",
       "       [  1.00000000e+00,   1.01867425e+00,  -1.33793058e+00,\n",
       "          2.49079133e+00],\n",
       "       [  1.00000000e+00,  -1.50420650e+00,   9.65594683e-01,\n",
       "         -4.11137145e-01],\n",
       "       [  1.00000000e+00,   6.96034378e-01,  -1.21669241e+00,\n",
       "         -5.12153643e-01],\n",
       "       [  1.00000000e+00,   7.96204159e-01,   2.26311254e-02,\n",
       "          1.24186009e+00],\n",
       "       [  1.00000000e+00,   1.59872717e+00,  -8.52977892e-01,\n",
       "         -1.10906931e+00],\n",
       "       [  1.00000000e+00,  -1.13031697e+00,  -7.85623353e-01,\n",
       "         -5.58070233e-01],\n",
       "       [  1.00000000e+00,   2.03338830e-01,  -1.59226132e-01,\n",
       "          7.73510872e-01],\n",
       "       [  1.00000000e+00,  -1.48440549e+00,  -2.13109764e-01,\n",
       "         -6.22353458e-01],\n",
       "       [  1.00000000e+00,   2.48764661e-01,  -1.08871878e+00,\n",
       "         -8.15203136e-01],\n",
       "       [  1.00000000e+00,   8.77737701e-01,  -1.33793058e+00,\n",
       "         -8.01428159e-01],\n",
       "       [  1.00000000e+00,   1.51253457e+00,   1.72670098e+00,\n",
       "          5.16377969e-01],\n",
       "       [  1.00000000e+00,   1.18057657e+00,   4.67171088e-01,\n",
       "         -4.70828712e-01],\n",
       "       [  1.00000000e+00,   2.69730429e-01,  -1.04157060e+00,\n",
       "          2.13328476e-01],\n",
       "       [  1.00000000e+00,   1.51020504e+00,  -1.41202057e+00,\n",
       "         -3.14712307e-01],\n",
       "       [  1.00000000e+00,   2.16151244e-01,  -8.93390616e-01,\n",
       "         -5.94803505e-01],\n",
       "       [  1.00000000e+00,   1.11322404e-01,  -1.39181421e+00,\n",
       "         -1.02182779e+00],\n",
       "       [  1.00000000e+00,   8.32311870e-01,  -1.20322150e+00,\n",
       "         -1.44820924e-01],\n",
       "       [  1.00000000e+00,  -1.05810154e+00,  -1.18301514e+00,\n",
       "         -3.92127677e-02],\n",
       "       [  1.00000000e+00,   1.63716441e+00,   1.32930920e+00,\n",
       "          1.89387566e+00],\n",
       "       [  1.00000000e+00,   1.24347388e+00,  -1.32284316e-01,\n",
       "         -2.54377908e-02],\n",
       "       [  1.00000000e+00,   6.75068610e-01,   1.47075373e+00,\n",
       "         -5.02970325e-01],\n",
       "       [  1.00000000e+00,  -8.78523917e-02,  -1.42549148e+00,\n",
       "         -1.81554196e-01],\n",
       "       [  1.00000000e+00,   5.13166291e-01,   3.66139279e-01,\n",
       "         -5.67253551e-01],\n",
       "       [  1.00000000e+00,   1.61852817e+00,  -6.30707911e-01,\n",
       "         -1.23304410e+00],\n",
       "       [  1.00000000e+00,  -1.49488838e+00,  -7.51946083e-01,\n",
       "         -3.28487284e-01],\n",
       "       [  1.00000000e+00,  -1.25261728e+00,   1.20133557e+00,\n",
       "         -1.13661926e+00],\n",
       "       [  1.00000000e+00,  -8.33301920e-01,  -8.39506984e-01,\n",
       "         -1.12743595e+00],\n",
       "       [  1.00000000e+00,  -1.51235985e+00,  -1.29078240e+00,\n",
       "          4.80287530e-02],\n",
       "       [  1.00000000e+00,   2.30128423e-01,   1.26195466e+00,\n",
       "         -1.23763576e+00],\n",
       "       [  1.00000000e+00,   3.09536269e-02,   8.30885603e-01,\n",
       "         -1.12743595e+00],\n",
       "       [  1.00000000e+00,  -1.26775922e+00,  -1.31772422e+00,\n",
       "         -7.69286546e-01],\n",
       "       [  1.00000000e+00,  -6.15490886e-01,  -1.23689877e+00,\n",
       "         -1.03101111e+00],\n",
       "       [  1.00000000e+00,   3.48934442e-01,  -9.40538794e-01,\n",
       "         -1.10906931e+00],\n",
       "       [  1.00000000e+00,   1.59057381e+00,   1.26195466e+00,\n",
       "          1.63674276e+00],\n",
       "       [  1.00000000e+00,   9.90719895e-01,  -9.87686972e-01,\n",
       "         -1.00346115e+00]])"
      ]
     },
     "execution_count": 128,
     "metadata": {},
     "output_type": "execute_result"
    }
   ],
   "source": [
    "X1"
   ]
  },
  {
   "cell_type": "markdown",
   "metadata": {},
   "source": [
    "**2. Реализуйте функцию *mserror* - среднеквадратичную ошибку прогноза. Она принимает два аргумента - объекты Series *y* (значения целевого признака) и *y\\_pred* (предсказанные значения).**"
   ]
  },
  {
   "cell_type": "code",
   "execution_count": 129,
   "metadata": {
    "collapsed": true
   },
   "outputs": [],
   "source": [
    "import math as m\n",
    "def mserror(y, y_pred):\n",
    "    answer = 0.0\n",
    "    #print(\"вход...\")\n",
    "    #print(\"y shape=\",y.shape, \"y_pred shape=\",y_pred.shape)\n",
    "    for i in range(y.shape[0]):\n",
    "        sqare1 = 0\n",
    "        #print(sqare1, \"должно быть 0...\")\n",
    "        for j in range(y.shape[1]):\n",
    "            #print(\"i=\",i,\"j=\",j)\n",
    "            sqare1 += y[i][j]\n",
    "            #print(\"sqare1=\",sqare1, \"y_pred[\",i,\"][0]=\",y_pred[i][0])\n",
    "        answer += ((sqare1 - y_pred[i][0]) ** 2) / y.shape[0]\n",
    "        #print(answer)\n",
    "    return answer"
   ]
  },
  {
   "cell_type": "markdown",
   "metadata": {},
   "source": [
    "**Какова среднеквадратичная ошибка прогноза значений Sales, если всегда предсказывать медианное значение Sales по исходной выборке? Запишите ответ в файл '1.txt'.**"
   ]
  },
  {
   "cell_type": "code",
   "execution_count": 133,
   "metadata": {
    "collapsed": false
   },
   "outputs": [
    {
     "ename": "TypeError",
     "evalue": "'numpy.float64' object does not support item assignment",
     "output_type": "error",
     "traceback": [
      "\u001b[1;31m---------------------------------------------------------------------------\u001b[0m",
      "\u001b[1;31mTypeError\u001b[0m                                 Traceback (most recent call last)",
      "\u001b[1;32m<ipython-input-133-24d2bec5fbad>\u001b[0m in \u001b[0;36m<module>\u001b[1;34m()\u001b[0m\n\u001b[0;32m      2\u001b[0m \u001b[0mmed_y\u001b[0m \u001b[1;33m=\u001b[0m \u001b[0mnp\u001b[0m\u001b[1;33m.\u001b[0m\u001b[0mmedian\u001b[0m\u001b[1;33m(\u001b[0m\u001b[0my\u001b[0m\u001b[1;33m)\u001b[0m\u001b[1;33m\u001b[0m\u001b[0m\n\u001b[0;32m      3\u001b[0m \u001b[1;32mfor\u001b[0m \u001b[0mi\u001b[0m \u001b[1;32min\u001b[0m \u001b[0mrange\u001b[0m\u001b[1;33m(\u001b[0m\u001b[1;36m200\u001b[0m\u001b[1;33m)\u001b[0m\u001b[1;33m:\u001b[0m\u001b[1;33m\u001b[0m\u001b[0m\n\u001b[1;32m----> 4\u001b[1;33m     \u001b[0msales_med\u001b[0m\u001b[1;33m[\u001b[0m\u001b[1;36m0\u001b[0m\u001b[1;33m]\u001b[0m\u001b[1;33m[\u001b[0m\u001b[0mi\u001b[0m\u001b[1;33m]\u001b[0m \u001b[1;33m=\u001b[0m \u001b[0mmed_y\u001b[0m\u001b[1;33m\u001b[0m\u001b[0m\n\u001b[0m\u001b[0;32m      5\u001b[0m \u001b[1;31m#print(sales_med)\u001b[0m\u001b[1;33m\u001b[0m\u001b[1;33m\u001b[0m\u001b[0m\n\u001b[0;32m      6\u001b[0m \u001b[0manswer1\u001b[0m \u001b[1;33m=\u001b[0m \u001b[0mmserror\u001b[0m\u001b[1;33m(\u001b[0m\u001b[0my\u001b[0m\u001b[1;33m,\u001b[0m \u001b[0msales_med\u001b[0m\u001b[1;33m)\u001b[0m\u001b[1;33m\u001b[0m\u001b[0m\n",
      "\u001b[1;31mTypeError\u001b[0m: 'numpy.float64' object does not support item assignment"
     ]
    }
   ],
   "source": [
    "sales_med = np.empty_like(y, dtype=float)\n",
    "med_y = np.median(y)\n",
    "for i in range(y.shape[1]):\n",
    "    sales_med[i][0] = med_y\n",
    "#print(sales_med)\n",
    "answer1 = mserror(y, sales_med)\n",
    "print(answer1)\n",
    "write_answer_to_file(answer1, '1.txt')"
   ]
  },
  {
   "cell_type": "markdown",
   "metadata": {},
   "source": [
    "**3. Реализуйте функцию *normal_equation*, которая по заданным матрицам (массивам NumPy) *X* и *y* вычисляет вектор весов $w$ согласно нормальному уравнению линейной регрессии.**"
   ]
  },
  {
   "cell_type": "code",
   "execution_count": 92,
   "metadata": {
    "collapsed": true
   },
   "outputs": [],
   "source": [
    "def normal_equation(X, y):\n",
    "    X_T = np.transpose(X)\n",
    "    prod = np.dot(X_T, X)\n",
    "    prod_inv = np.linalg.inv(prod)\n",
    "    prod2 = np.dot(prod_inv, X_T)\n",
    "    w = np.dot(prod2, y)\n",
    "    return w"
   ]
  },
  {
   "cell_type": "code",
   "execution_count": 93,
   "metadata": {
    "collapsed": false
   },
   "outputs": [
    {
     "name": "stdout",
     "output_type": "stream",
     "text": [
      "[[ 14.0225    ]\n",
      " [  3.92908869]\n",
      " [  2.79906919]\n",
      " [ -0.02259517]]\n"
     ]
    }
   ],
   "source": [
    "norm_eq_weights = normal_equation(X, y)\n",
    "print(norm_eq_weights)"
   ]
  },
  {
   "cell_type": "markdown",
   "metadata": {},
   "source": [
    "**Какие продажи предсказываются линейной моделью с весами, найденными с помощью нормального уравнения, в случае средних инвестиций в рекламу по ТВ, радио и в газетах? (то есть при нулевых значениях масштабированных признаков TV, Radio и Newspaper). Запишите ответ в файл '2.txt'.**"
   ]
  },
  {
   "cell_type": "code",
   "execution_count": 94,
   "metadata": {
    "collapsed": false
   },
   "outputs": [
    {
     "name": "stdout",
     "output_type": "stream",
     "text": [
      "[ 14.0225]\n"
     ]
    }
   ],
   "source": [
    "means = np.array ([1.0, data['TV'].mean(), data['Radio'].mean(), data['Newspaper'].mean()])\n",
    "answer2 = norm_eq_weights[0]\n",
    "print(answer2)\n",
    "write_answer_to_file(answer2[0], '2.txt')"
   ]
  },
  {
   "cell_type": "markdown",
   "metadata": {},
   "source": [
    "**4. Напишите функцию *linear_prediction*, которая принимает на вход матрицу *X* и вектор весов линейной модели *w*, а возвращает вектор прогнозов в виде линейной комбинации столбцов матрицы *X* с весами *w*.**"
   ]
  },
  {
   "cell_type": "code",
   "execution_count": 95,
   "metadata": {
    "collapsed": false
   },
   "outputs": [],
   "source": [
    "def linear_prediction(X, w):\n",
    "    return np.dot(X, w)"
   ]
  },
  {
   "cell_type": "markdown",
   "metadata": {},
   "source": [
    "**Какова среднеквадратичная ошибка прогноза значений Sales в виде линейной модели с весами, найденными с помощью нормального уравнения? Запишите ответ в файл '3.txt'.**"
   ]
  },
  {
   "cell_type": "code",
   "execution_count": 96,
   "metadata": {
    "collapsed": false
   },
   "outputs": [
    {
     "name": "stdout",
     "output_type": "stream",
     "text": [
      "2.78412631451\n"
     ]
    }
   ],
   "source": [
    "y_predict = linear_prediction(X, norm_eq_weights)\n",
    "answer3 = mserror(y_predict, y)\n",
    "print(answer3)\n",
    "write_answer_to_file(answer3, '3.txt')"
   ]
  },
  {
   "cell_type": "markdown",
   "metadata": {},
   "source": [
    "**5. Напишите функцию *stochastic_gradient_step*, реализующую шаг стохастического градиентного спуска для линейной регрессии. Функция должна принимать матрицу *X*, вектора *y* и *w*, число *train_ind* - индекс объекта обучающей выборки (строки матрицы *X*), по которому считается изменение весов, а также число *$\\eta$* (eta) - шаг градиентного спуска (по умолчанию *eta*=0.01). Результатом будет вектор обновленных весов.**"
   ]
  },
  {
   "cell_type": "code",
   "execution_count": 97,
   "metadata": {
    "collapsed": false
   },
   "outputs": [],
   "source": [
    "def stochastic_gradient_step(X, y, w, train_ind, eta=0.01):\n",
    "    w_new = w + 2 * eta * X[train_ind] * (y[train_ind] - X[train_ind].dot(w)) / len(X)\n",
    "    return w_new"
   ]
  },
  {
   "cell_type": "markdown",
   "metadata": {},
   "source": [
    "**6. Напишите функцию *stochastic_gradient_descent*, реализующую стохастический градиентный спуск для линейной регрессии. Функция принимает на вход следующие аргументы:**\n",
    "- X - матрица, соответствующая обучающей выборке\n",
    "- y - вектор значений целевого признака\n",
    "- w_init - вектор начальных весов модели\n",
    "- eta - шаг градиентного спуска (по умолчанию 0.01)\n",
    "- max_iter - максимальное число итераций градиентного спуска (по умолчанию 10000)\n",
    "- max_weight_dist - минимальное евклидово расстояние между векторами весов на соседних итерациях градиентного спуска,\n",
    "при котором алгоритм прекращает работу (по умолчанию 1e-8)\n",
    "- seed - число, используемое для воспроизводимости сгенерированных псевдослучайных чисел (по умолчанию 42)\n",
    "- verbose - флаг печати информации (например, для отладки, по умолчанию False)\n",
    "\n",
    "**На каждой итерации в вектор (список) должно записываться текущее значение среднеквадратичной ошибки. Функция должна возвращать вектор весов $w$, а также вектор (список) ошибок.**"
   ]
  },
  {
   "cell_type": "code",
   "execution_count": null,
   "metadata": {
    "collapsed": false
   },
   "outputs": [],
   "source": []
  },
  {
   "cell_type": "code",
   "execution_count": 98,
   "metadata": {
    "collapsed": false
   },
   "outputs": [],
   "source": [
    "def stochastic_gradient_descent(X, y, w_init, eta=1e-2, max_iter=1e5,\n",
    "                                min_weight_dist=1e-8, seed=42, verbose=False):\n",
    "    # Инициализируем расстояние между векторами весов на соседних\n",
    "    # итерациях большим числом. \n",
    "    weight_dist = np.inf\n",
    "    # Инициализируем вектор весов\n",
    "    w = w_init\n",
    "    # Сюда будем записывать ошибки на каждой итерации\n",
    "    errors = []\n",
    "    # Счетчик итераций\n",
    "    iter_num = 0\n",
    "    # Будем порождать псевдослучайные числа \n",
    "    # (номер объекта, который будет менять веса), а для воспроизводимости\n",
    "    # этой последовательности псевдослучайных чисел используем seed.\n",
    "    np.random.seed(seed)\n",
    "        \n",
    "    # Основной цикл\n",
    "    while weight_dist > min_weight_dist and iter_num < max_iter:\n",
    "        # порождаем псевдослучайный \n",
    "        # индекс объекта обучающей выборки\n",
    "        random_ind = np.random.randint(X.shape[0])\n",
    "        lin_pred = linear_prediction(X, w).reshape(len(y), 1)\n",
    "        errors.append(mserror(y, lin_pred))\n",
    "        w_new = stochastic_gradient_step(X, y, w, train_ind=random_ind)\n",
    "        weight_dist = np.linalg.norm(w - w_new)\n",
    "        w = w_new\n",
    "        iter_num += 1\n",
    "        \n",
    "        if (verbose):\n",
    "            with open('log.txt', 'a') as logfile:\n",
    "                logfile.write(\"Step %d: old_w = %s, w = %s, error = %s\\n\" % (iter_num, old_w, w, errors[iter_num - 1]))\n",
    "        # Ваш код здесь\n",
    "\n",
    "    return w, errors"
   ]
  },
  {
   "cell_type": "markdown",
   "metadata": {},
   "source": [
    " **Запустите $10^5$ итераций стохастического градиентного спуска. Укажите вектор начальных весов *w_init*, состоящий из нулей. Оставьте параметры  *eta* и *seed* равными их значениям по умолчанию (*eta*=0.01, *seed*=42 - это важно для проверки ответов).**"
   ]
  },
  {
   "cell_type": "code",
   "execution_count": 115,
   "metadata": {
    "collapsed": false
   },
   "outputs": [
    {
     "name": "stdout",
     "output_type": "stream",
     "text": [
      "CPU times: user 2min 47s, sys: 112 ms, total: 2min 47s\n",
      "Wall time: 2min 47s\n"
     ]
    }
   ],
   "source": [
    "%%time\n",
    "stoch_grad_desc_weights, stoch_errors_by_iter = stochastic_gradient_descent(X1, y, w_init=[0., 0., 0., 0.], max_iter=1e5)"
   ]
  },
  {
   "cell_type": "code",
   "execution_count": 117,
   "metadata": {
    "collapsed": false
   },
   "outputs": [
    {
     "name": "stdout",
     "output_type": "stream",
     "text": [
      "(200, 4) (200, 1)\n"
     ]
    }
   ],
   "source": [
    "print(X1.shape, y.shape)"
   ]
  },
  {
   "cell_type": "code",
   "execution_count": 116,
   "metadata": {
    "collapsed": false
   },
   "outputs": [
    {
     "name": "stdout",
     "output_type": "stream",
     "text": [
      "Populating the interactive namespace from numpy and matplotlib\n"
     ]
    },
    {
     "data": {
      "text/plain": [
       "<matplotlib.text.Text at 0x7f582c4e0a58>"
      ]
     },
     "execution_count": 116,
     "metadata": {},
     "output_type": "execute_result"
    },
    {
     "data": {
      "image/png": "[encoded data removed]",
      "text/plain": [
       "<matplotlib.figure.Figure at 0x7f582c799b70>"
      ]
     },
     "metadata": {},
     "output_type": "display_data"
    }
   ],
   "source": [
    "%pylab inline\n",
    "plot(range(len(stoch_errors_by_iter)), stoch_errors_by_iter)\n",
    "xlabel('Iteration number')\n",
    "ylabel('MSE')"
   ]
  },
  {
   "cell_type": "markdown",
   "metadata": {},
   "source": [
    "**Посмотрим на вектор весов, к которому сошелся метод.**"
   ]
  },
  {
   "cell_type": "code",
   "execution_count": null,
   "metadata": {
    "collapsed": false
   },
   "outputs": [],
   "source": [
    "stoch_grad_desc_weights.reshape(norm_eq_weights.shape[0], norm_eq_weights.shape[1])"
   ]
  },
  {
   "cell_type": "markdown",
   "metadata": {},
   "source": [
    "**Посмотрим на среднеквадратичную ошибку на последней итерации.**"
   ]
  },
  {
   "cell_type": "code",
   "execution_count": 61,
   "metadata": {
    "collapsed": false
   },
   "outputs": [],
   "source": [
    "X = data[['TV', 'Radio', 'Newspaper']].values\n",
    "y = data[['Sales']].values\n",
    "means = np.array([data['TV'].mean(), data['Radio'].mean(), data['Newspaper'].mean()])\n",
    "stds = np.array([data['TV'].std(), data['Radio'].std(), data['Newspaper'].std()])\n",
    "for i in range(X.shape[0]):\n",
    "    for j in range(X.shape[1]):\n",
    "        X[i][j] = (X[i][j] - means[j]) / stds[j];"
   ]
  },
  {
   "cell_type": "markdown",
   "metadata": {},
   "source": [
    "**Какова среднеквадратичная ошибка прогноза значений Sales в виде линейной модели с весами, найденными с помощью градиентного спуска? Запишите ответ в файл '4.txt'.**"
   ]
  },
  {
   "cell_type": "code",
   "execution_count": 3,
   "metadata": {
    "collapsed": false
   },
   "outputs": [
    {
     "ename": "NameError",
     "evalue": "name 'mserror' is not defined",
     "output_type": "error",
     "traceback": [
      "\u001b[1;31m---------------------------------------------------------------------------\u001b[0m",
      "\u001b[1;31mNameError\u001b[0m                                 Traceback (most recent call last)",
      "\u001b[1;32m<ipython-input-3-b4fc6f727080>\u001b[0m in \u001b[0;36m<module>\u001b[1;34m()\u001b[0m\n\u001b[1;32m----> 1\u001b[1;33m \u001b[0manswer4\u001b[0m \u001b[1;33m=\u001b[0m \u001b[0mmserror\u001b[0m\u001b[1;33m(\u001b[0m\u001b[0mlinear_prediction\u001b[0m\u001b[1;33m(\u001b[0m\u001b[0mX\u001b[0m\u001b[1;33m,\u001b[0m \u001b[0mstoch_grad_desc_weights\u001b[0m\u001b[1;33m)\u001b[0m\u001b[1;33m.\u001b[0m\u001b[0mreshape\u001b[0m\u001b[1;33m(\u001b[0m \u001b[1;36m1\u001b[0m\u001b[1;33m,\u001b[0m \u001b[0mlen\u001b[0m\u001b[1;33m(\u001b[0m\u001b[0my\u001b[0m\u001b[1;33m)\u001b[0m\u001b[1;33m)\u001b[0m\u001b[1;33m,\u001b[0m \u001b[0my\u001b[0m\u001b[1;33m)\u001b[0m\u001b[1;33m\u001b[0m\u001b[0m\n\u001b[0m\u001b[0;32m      2\u001b[0m \u001b[0mprint\u001b[0m\u001b[1;33m(\u001b[0m\u001b[0manswer4\u001b[0m\u001b[1;33m)\u001b[0m\u001b[1;33m\u001b[0m\u001b[0m\n\u001b[0;32m      3\u001b[0m \u001b[0mwrite_answer_to_file\u001b[0m\u001b[1;33m(\u001b[0m\u001b[0manswer4\u001b[0m\u001b[1;33m,\u001b[0m \u001b[1;34m'4.txt'\u001b[0m\u001b[1;33m)\u001b[0m\u001b[1;33m\u001b[0m\u001b[0m\n",
      "\u001b[1;31mNameError\u001b[0m: name 'mserror' is not defined"
     ]
    }
   ],
   "source": [
    "answer4 = mserror(linear_prediction(X, y, stoch_grad_desc_weights).reshape(len(y), 1))\n",
    "print(answer4)\n",
    "write_answer_to_file(answer4, '4.txt')"
   ]
  },
  {
   "cell_type": "markdown",
   "metadata": {},
   "source": [
    "**Ответами к заданию будут текстовые файлы, полученные в ходе этого решения. Обратите внимание, что отправленные файлы не должны содержать пустую строку в конце. Данный нюанс является ограничением платформы Coursera. Мы работаем над исправлением этого ограничения.**"
   ]
  }
 ],
 "metadata": {
  "kernelspec": {
   "display_name": "Python 3",
   "language": "python",
   "name": "python3"
  },
  "language_info": {
   "codemirror_mode": {
    "name": "ipython",
    "version": 3
   },
   "file_extension": ".py",
   "mimetype": "text/x-python",
   "name": "python",
   "nbconvert_exporter": "python",
   "pygments_lexer": "ipython3",
   "version": "3.5.1"
  }
 },
 "nbformat": 4,
 "nbformat_minor": 0
}
