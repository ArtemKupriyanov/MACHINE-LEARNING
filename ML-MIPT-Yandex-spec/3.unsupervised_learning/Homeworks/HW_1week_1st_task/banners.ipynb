{
 "cells": [
  {
   "cell_type": "code",
   "execution_count": 1,
   "metadata": {
    "collapsed": true
   },
   "outputs": [],
   "source": [
    "import pandas as pd\n",
    "import numpy as np\n",
    "import xgboost as xgb\n",
    "import matplotlib\n",
    "import seaborn as sns\n",
    "import csv\n",
    "import re\n",
    "from matplotlib import pyplot as plt\n",
    "from sklearn import ensemble, cross_validation, learning_curve, metrics , tree, naive_bayes\n",
    "from sklearn.tree import DecisionTreeRegressor\n",
    "from sklearn.datasets import load_digits, load_breast_cancer\n",
    "from sklearn.cross_validation import cross_val_score\n",
    "from sklearn.neighbors import KNeighborsClassifier\n",
    "from sklearn.ensemble import RandomForestClassifier\n",
    "from sklearn.cluster import KMeans, DBSCAN, MiniBatchKMeans, AgglomerativeClustering, FeatureAgglomeration\n",
    "matplotlib.style.use('ggplot')\n",
    "%matplotlib inline"
   ]
  },
  {
   "cell_type": "markdown",
   "metadata": {
    "collapsed": true
   },
   "source": [
    "Представим, что международное круизное агентство Carnival Cruise Line решило себя разрекламировать с помощью баннеров и обратилось для этого к вам. Чтобы протестировать, велика ли от таких баннеров польза, их будет размещено всего 20 штук по всему миру. Вам надо выбрать 20 таких локаций для размещения, чтобы польза была большой и агентство продолжило с вами сотрудничать.\n",
    "\n",
    "Агентство крупное, и у него есть несколько офисов по всему миру. Вблизи этих офисов оно и хочет разместить баннеры — легче договариваться и проверять результат. Также эти места должны быть популярны среди туристов.\n",
    "\n",
    "Для поиска оптимальных мест воспользуемся базой данных крупнейшей социальной сети, основанной на локациях — Foursquare.\n",
    "\n",
    "Часть открытых данных есть, например, на сайте archive.org:\n",
    "\n",
    "https://archive.org/details/201309_foursquare_dataset_umn\n",
    "\n",
    "Скачаем любым удобным образом архив fsp.zip с этой страницы.\n",
    "\n",
    "Нас будет интересовать файл checkins.dat. Открыв его, увидим следующую структуру:\n"
   ]
  },
  {
   "cell_type": "code",
   "execution_count": 27,
   "metadata": {
    "collapsed": false
   },
   "outputs": [
    {
     "name": "stdout",
     "output_type": "stream",
     "text": [
      "396635\n"
     ]
    }
   ],
   "source": [
    "with open('./checkins.dat') as dat_file:\n",
    "    name_columns = dat_file.readline().split('|')\n",
    "    name_columns = [name_columns[i].strip() for i in range(len(name_columns))]\n",
    "    response_table = []\n",
    "    response_table.append(name_columns)\n",
    "    cnt_columns = len(name_columns)\n",
    "    i = 0\n",
    "    for line in dat_file:\n",
    "        response_line = line.split('|')\n",
    "        if len(response_line) == cnt_columns:\n",
    "            response_line = [response_line[i].strip() for i in range(len(response_line))]\n",
    "            flag = True\n",
    "            for elem in response_line:\n",
    "                if len(elem) == 0:\n",
    "                    flag = False\n",
    "            if flag:\n",
    "                response_table.append(response_line)\n",
    "    print(len(response_table))"
   ]
  },
  {
   "cell_type": "markdown",
   "metadata": {},
   "source": [
    "Для удобной работы с этим документом преобразуем его к формату csv, удалив строки, не содержащие координат — они неинформативны для нас:\n",
    "\n",
    "С помощью pandas построим DataFrame и убедимся, что все 396634 строки с координатами считаны успешно."
   ]
  },
  {
   "cell_type": "code",
   "execution_count": 59,
   "metadata": {
    "collapsed": false
   },
   "outputs": [
    {
     "name": "stdout",
     "output_type": "stream",
     "text": [
      "(396634, 6)\n",
      "       id  user_id venue_id    latitude     longitude           created_at\n",
      "0  984222    15824     5222  38.8951118   -77.0363658  2012-04-21 17:43:47\n",
      "1  984234    44652     5222   33.800745     -84.41052  2012-04-21 17:43:43\n",
      "2  984291   105054     5222  45.5234515  -122.6762071  2012-04-21 17:39:22\n",
      "3  984318  2146539     5222   40.764462   -111.904565  2012-04-21 17:35:46\n",
      "4  984232    93870   380645  33.4483771  -112.0740373  2012-04-21 17:38:18\n"
     ]
    }
   ],
   "source": [
    "df = pd.DataFrame(response_table[:][1:], columns=response_table[:][0])\n",
    "print(df.shape, df.head(), sep='\\n')"
   ]
  },
  {
   "cell_type": "code",
   "execution_count": 61,
   "metadata": {
    "collapsed": false
   },
   "outputs": [],
   "source": [
    "latitude = df['latitude'].values\n",
    "longitude = df['longitude'].values"
   ]
  },
  {
   "cell_type": "code",
   "execution_count": 63,
   "metadata": {
    "collapsed": false
   },
   "outputs": [
    {
     "data": {
      "text/plain": [
       "<matplotlib.text.Text at 0x13dea5fd0>"
      ]
     },
     "execution_count": 63,
     "metadata": {},
     "output_type": "execute_result"
    },
    {
     "data": {
      "image/png": "[encoded data removed]",
      "text/plain": [
       "<matplotlib.figure.Figure at 0x13ca60fd0>"
      ]
     },
     "metadata": {},
     "output_type": "display_data"
    }
   ],
   "source": [
    "plt.figure(figsize=(8,8))\n",
    "plt.plot(latitude, longitude, 'o')\n",
    "plt.xlabel('latitude')\n",
    "plt.ylabel('longitude')"
   ]
  },
  {
   "cell_type": "markdown",
   "metadata": {},
   "source": [
    "Теперь необходимо кластеризовать данные координаты, чтобы выявить центры скоплений туристов. Поскольку баннеры имеют сравнительно небольшую площадь действия, нам нужен алгоритм, позволяющий ограничить размер кластера и не зависящий от количества кластеров.\n",
    "\n",
    "Эта задача — хороший повод познакомиться с алгоритмом MeanShift, который мы обошли стороной в основной части лекций. Его описание при желании можно посмотреть в sklearn user guide, а чуть позже появится дополнительное видео с обзором этого и некоторых других алгоритмов кластеризации. Используйте MeanShift, указав bandwidth=0.1, что в переводе из градусов в метры колеблется примерно от 5 до 10 км в средних широтах.\n",
    "\n",
    "Примечание: на 396634 строках кластеризация будет работать долго. Быть очень терпеливым не возбраняется — результат от этого только улучшится. Но для того, чтобы сдать задание, понадобится сабсет из первых 100 тысяч строк. Это компромисс между качеством и затраченным временем. Обучение алгоритма на всём датасете занимает около часа, а на 100 тыс. строк — примерно 2 минуты, однако этого достаточно для получения корректных результатов.\n",
    "\n",
    "Некоторые из получившихся кластеров содержат слишком мало точек — такие кластеры не интересны рекламодателям. Поэтому надо определить, какие из кластеров содержат, скажем, больше 15 элементов. Центры этих кластеров и являются оптимальными для размещения.\n",
    "\n",
    "При желании увидеть получившиеся результаты на карте можно передать центры получившихся кластеров в один из инструментов визуализации. Например, сайт mapcustomizer.com имеет функцию Bulk Entry, куда можно вставить центры полученных кластеров в формате:\n",
    "\n",
    "\n",
    "Как мы помним, 20 баннеров надо разместить близ офисов компании. Найдем на Google Maps по запросу Carnival Cruise Line адреса офисов:\n",
    "\n",
    "\n",
    "Осталось определить 20 ближайших к ним центров кластеров. Т.е. посчитать дистанцию до ближайшего офиса для каждой точки и выбрать 20 с наименьшим значением.\n",
    "\n",
    "Примечание: при подсчете расстояний и в кластеризации можно пренебречь тем, что Земля круглая, так как в точках, расположенных близко друг к другу погрешность мала, а в остальных точках значение достаточно велико.\n",
    "\n",
    "Для сдачи задания выберите из получившихся 20 центров тот, который наименее удален от ближайшего к нему офиса. Ответ в этом задании — широта и долгота этого центра, записанные через пробел.\n",
    "\n",
    "\n"
   ]
  },
  {
   "cell_type": "code",
   "execution_count": 76,
   "metadata": {
    "collapsed": false
   },
   "outputs": [
    {
     "name": "stdout",
     "output_type": "stream",
     "text": [
      "         latitude   longitude\n",
      "205249  39.953729  -74.197919\n",
      "3392    33.414768 -111.909310\n",
      "135790  33.370320 -112.583777\n",
      "331767  32.715329 -117.157255\n",
      "5646    42.088360  -87.980626\n",
      "174552  29.894264  -81.313208\n",
      "93941   43.038902  -87.906474\n",
      "258197  35.227087  -80.843127\n",
      "73689   40.037391  -83.000585\n",
      "87968   40.650000  -73.950000\n",
      "367010   3.092563  101.599292\n",
      "338208  40.740389  -73.983385\n",
      "251081  40.911488  -73.782355\n",
      "295699  39.708542  -74.267652\n",
      "178442  40.650000  -73.950000\n",
      "255135  40.715972  -74.001437\n",
      "143083  32.981212 -117.078863\n",
      "239180  37.322998 -122.032182\n",
      "394692  41.878114  -87.629798\n",
      "33538   34.391664 -118.542586\n",
      "24326   40.714353  -74.005973\n",
      "58330   45.523452 -122.676207\n",
      "158440  41.162873  -73.861525\n",
      "73244   41.850028  -88.312574\n",
      "103764  33.493374 -112.357936\n",
      "301149  41.878114  -87.629798\n",
      "373864  41.878114  -87.629798\n",
      "134086  40.177889  -74.583489\n",
      "102253  42.331764  -71.121163\n",
      "111146  33.448377 -112.074037\n",
      "...           ...         ...\n",
      "183197  38.879970  -77.106770\n",
      "361937  44.954167  -93.113889\n",
      "224801  33.949498 -118.439232\n",
      "346787  32.221743 -110.926479\n",
      "293351  40.700103  -73.905692\n",
      "2008    37.885758 -122.118020\n",
      "147498  34.075376  -84.294090\n",
      "151298  42.358431  -71.059773\n",
      "186682  40.760779 -111.891047\n",
      "5800    40.794286  -73.971870\n",
      "216499  40.715972  -74.001437\n",
      "100535  39.739154 -104.984703\n",
      "302041  33.448377 -112.074037\n",
      "307600  32.981212 -117.078863\n",
      "273899  40.852876  -73.115110\n",
      "376770  32.802955  -96.769923\n",
      "219043  40.732961  -73.988456\n",
      "247632  36.861297  -76.279889\n",
      "8029    33.422269 -111.822640\n",
      "380350  33.058106 -112.047642\n",
      "183544  42.270872  -83.726329\n",
      "387600  39.952335  -75.163789\n",
      "161510  34.746481  -92.289595\n",
      "225025  37.662431 -121.874679\n",
      "214027  37.339386 -121.894955\n",
      "13200   33.414768 -111.909310\n",
      "142573  35.772096  -78.638615\n",
      "122849  41.079273  -85.139351\n",
      "393565  34.282872  -84.745214\n",
      "208644  43.105008  -88.342040\n",
      "\n",
      "[100000 rows x 2 columns]\n"
     ]
    }
   ],
   "source": [
    "subset = df[['latitude', 'longitude']]\n",
    "subset = subset.applymap(float).sample(100000)\n",
    "print(subset)"
   ]
  },
  {
   "cell_type": "code",
   "execution_count": 79,
   "metadata": {
    "collapsed": true
   },
   "outputs": [],
   "source": [
    "import warnings\n",
    "warnings.filterwarnings(\"ignore\")"
   ]
  },
  {
   "cell_type": "code",
   "execution_count": 80,
   "metadata": {
    "collapsed": false
   },
   "outputs": [
    {
     "name": "stdout",
     "output_type": "stream",
     "text": [
      "CPU times: user 16.4 s, sys: 492 ms, total: 16.9 s\n",
      "Wall time: 29.7 s\n"
     ]
    }
   ],
   "source": [
    "%%time\n",
    "from sklearn.cluster import MeanShift\n",
    "clst = MeanShift(bandwidth=0.1, n_jobs=-1)\n",
    "clst.fit(subset)"
   ]
  },
  {
   "cell_type": "code",
   "execution_count": 93,
   "metadata": {
    "collapsed": false
   },
   "outputs": [
    {
     "name": "stdout",
     "output_type": "stream",
     "text": [
      "[[ 40.71705775 -73.98920542]\n",
      " [ 41.87818404 -87.62984016]\n",
      " [ 38.88658002 -77.04775113]\n",
      " ..., \n",
      " [ 39.70333098 -74.97833808]\n",
      " [ 39.7285768  -75.28506637]\n",
      " [ 44.7132969  -93.4227274 ]]\n"
     ]
    }
   ],
   "source": [
    "cnt_dict = {}\n",
    "number_of_clusters = clst.predict(subset)\n",
    "for number_cluster in number_of_clusters:\n",
    "    if number_cluster in cnt_dict:\n",
    "        cnt_dict[number_cluster] += 1\n",
    "    else:\n",
    "        cnt_dict[number_cluster] = 0\n",
    "response_clusters = []\n",
    "for number_cluster in cnt_dict:\n",
    "    if cnt_dict[number_cluster] > 15:\n",
    "        response_clusters.append(number_cluster)\n",
    "\n",
    "cluster_centres = clst.cluster_centers_[response_clusters]\n",
    "print(cluster_centres)"
   ]
  },
  {
   "cell_type": "code",
   "execution_count": 109,
   "metadata": {
    "collapsed": true
   },
   "outputs": [],
   "source": [
    "office_coordinates = [\n",
    "    [33.751277, -118.188740],\n",
    "    [25.867736, -80.324116],\n",
    "    [51.503016, -0.075479],\n",
    "    [52.378894, 4.885084],\n",
    "    [39.366487, 117.036146],\n",
    "    [-33.868457, 151.205134],\n",
    "]\n",
    "\n",
    "def min_distance (lati, long):\n",
    "    dist = [((lati - cord_office[0])** 2 + (long - cord_office[1])**2)**(1./2) for cord_office in office_coordinates]\n",
    "    return min(dist)"
   ]
  },
  {
   "cell_type": "code",
   "execution_count": 119,
   "metadata": {
    "collapsed": false
   },
   "outputs": [
    {
     "name": "stdout",
     "output_type": "stream",
     "text": [
      "[-33.865953186792417, 151.20629925094354]\n"
     ]
    }
   ],
   "source": [
    "dist_and_clusters = []\n",
    "for cluster in cluster_centres:\n",
    "    min_distance(cluster[0], cluster[1])\n",
    "    dist_and_clusters.append([min_distance(cluster[0], cluster[1]), cluster[0], cluster[1]])\n",
    "print(sorted(dist_and_clusters)[0][1:])"
   ]
  },
  {
   "cell_type": "code",
   "execution_count": 4,
   "metadata": {
    "collapsed": true
   },
   "outputs": [],
   "source": [
    "#write answer to csv\n",
    "#получаем csv файл, \n",
    "# где \n",
    "#1)i-ый элемент 1-ого столбца - номер ответа на i-ом объекте, начиная с 1\n",
    "#2)i-ый элемент 2-ого столбца - ответ на i-ом объекте\n",
    "def write_answer_to_csv(y_pred, file_name='my_submission.csv'):\n",
    "    with open(file_name, 'w', newline='') as csvfile:\n",
    "        writer = csv.writer(csvfile, delimiter=',',\n",
    "                                quotechar='|', quoting=csv.QUOTE_MINIMAL)\n",
    "        writer.writerow(['ImageId', 'Label'])\n",
    "        for i in range(y_pred.shape[0]):\n",
    "            writer.writerow([i+1, y_pred[i]])"
   ]
  },
  {
   "cell_type": "code",
   "execution_count": null,
   "metadata": {
    "collapsed": true
   },
   "outputs": [],
   "source": []
  }
 ],
 "metadata": {
  "anaconda-cloud": {},
  "kernelspec": {
   "display_name": "Python [conda root]",
   "language": "python",
   "name": "conda-root-py"
  },
  "language_info": {
   "codemirror_mode": {
    "name": "ipython",
    "version": 3
   },
   "file_extension": ".py",
   "mimetype": "text/x-python",
   "name": "python",
   "nbconvert_exporter": "python",
   "pygments_lexer": "ipython3",
   "version": "3.5.2"
  }
 },
 "nbformat": 4,
 "nbformat_minor": 0
}
