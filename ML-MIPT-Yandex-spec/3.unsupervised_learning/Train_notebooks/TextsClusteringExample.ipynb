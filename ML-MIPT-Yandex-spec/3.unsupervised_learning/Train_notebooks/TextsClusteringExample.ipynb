{
 "cells": [
  {
   "cell_type": "markdown",
   "metadata": {},
   "source": [
    "# Пример: кластеризация текстов"
   ]
  },
  {
   "cell_type": "markdown",
   "metadata": {},
   "source": [
    "## Выборка"
   ]
  },
  {
   "cell_type": "code",
   "execution_count": 12,
   "metadata": {
    "collapsed": false
   },
   "outputs": [
    {
     "name": "stdout",
     "output_type": "stream",
     "text": [
      "['alt.atheism', 'comp.graphics', 'comp.os.ms-windows.misc', 'comp.sys.ibm.pc.hardware', 'comp.sys.mac.hardware', 'comp.windows.x', 'misc.forsale', 'rec.autos', 'rec.motorcycles', 'rec.sport.baseball', 'rec.sport.hockey', 'sci.crypt', 'sci.electronics', 'sci.med', 'sci.space', 'soc.religion.christian', 'talk.politics.guns', 'talk.politics.mideast', 'talk.politics.misc', 'talk.religion.misc']\n"
     ]
    }
   ],
   "source": [
    "from sklearn.datasets import load_digits, fetch_20newsgroups\n",
    "\n",
    "train_all = fetch_20newsgroups(subset='train')\n",
    "print (train_all.target_names)"
   ]
  },
  {
   "cell_type": "code",
   "execution_count": 13,
   "metadata": {
    "collapsed": true
   },
   "outputs": [],
   "source": [
    "simple_dataset = fetch_20newsgroups(\n",
    "    subset='train', \n",
    "    categories=['comp.sys.mac.hardware', 'soc.religion.christian', 'rec.sport.hockey'])"
   ]
  },
  {
   "cell_type": "code",
   "execution_count": 15,
   "metadata": {
    "collapsed": false
   },
   "outputs": [
    {
     "name": "stdout",
     "output_type": "stream",
     "text": [
      "From: erik@cheshire.oxy.edu (Erik Adams)\n",
      "Subject: HELP!!  My Macintosh \"luggable\" has lines on its screen!\n",
      "Organization: Occidental College, Los Angeles, CA 90041 USA.\n",
      "Distribution: comp\n",
      "Lines: 20\n",
      "\n",
      "Okay, I don't use it very much, but I would like for it to keep working\n",
      "correctly, at least as long as Apple continues to make System software\n",
      "that will run on it, if slowly :-)\n",
      "\n",
      "Here is the problem:  When the screen is tilted too far back, vertical\n",
      "lines appear on the screen.  They are every 10 pixels or so, and seem\n",
      "to be affected somewhat by opening windows and pulling down menus.\n",
      "It looks to a semi-technical person like there is a loose connection\n",
      "between the screen and the rest of the computer.\n",
      "\n",
      "I am open to suggestions that do not involve buying a new computer,\n",
      "or taking this one to the shop.  I would also like to not have\n",
      "to buy one of Larry Pina's books.  I like Larry, but I'm not sure\n",
      "I feel strongly enough about the computer to buy a service manual\n",
      "for it.\n",
      "\n",
      "On a related note:  what does the monitor connector connect to?\n",
      "\n",
      "Erik\n",
      "\n",
      "\n"
     ]
    }
   ],
   "source": [
    "print (simple_dataset.data[0])"
   ]
  },
  {
   "cell_type": "code",
   "execution_count": 18,
   "metadata": {
    "collapsed": false
   },
   "outputs": [
    {
     "data": {
      "text/plain": [
       "array([0, 0, 1, ..., 0, 1, 2])"
      ]
     },
     "execution_count": 18,
     "metadata": {},
     "output_type": "execute_result"
    }
   ],
   "source": [
    "simple_dataset.target"
   ]
  },
  {
   "cell_type": "code",
   "execution_count": 19,
   "metadata": {
    "collapsed": false
   },
   "outputs": [
    {
     "name": "stdout",
     "output_type": "stream",
     "text": [
      "From: dlecoint@garnet.acns.fsu.edu (Darius_Lecointe)\n",
      "Subject: Re: Sabbath Admissions 5of5\n",
      "Organization: Florida State University\n",
      "Lines: 21\n",
      "\n",
      "I find it interesting that cls never answered any of the questions posed. \n",
      "Then he goes on the make statements which make me shudder.  He has\n",
      "established a two-tiered God.  One set of rules for the Jews (his people)\n",
      "and another set for the saved Gentiles (his people).  Why would God\n",
      "discriminate?  Does the Jew who accepts Jesus now have to live under the\n",
      "Gentile rules.\n",
      "\n",
      "God has one set of rules for all his people.  Paul was never against the\n",
      "law.  In fact he says repeatedly that faith establishes rather that annuls\n",
      "the law.  Paul's point is germane to both Jews and Greeks.  The Law can\n",
      "never be used as an instrument of salvation.  And please do not combine\n",
      "the ceremonial and moral laws in one.\n",
      "\n",
      "In Matt 5:14-19 Christ plainly says what He came to do and you say He was\n",
      "only saying that for the Jews's benefit.  Your Christ must be a\n",
      "politician, speaking from both sides of His mouth.  As Paul said, \"I have\n",
      "not so learned Christ.\"  Forget all the theology, just do what Jesus says.\n",
      " Your excuses will not hold up in a court of law on earth, far less in\n",
      "God's judgement hall.\n",
      "\n",
      "Darius\n",
      "\n"
     ]
    }
   ],
   "source": [
    "print (simple_dataset.data[-1])"
   ]
  },
  {
   "cell_type": "code",
   "execution_count": 20,
   "metadata": {
    "collapsed": false
   },
   "outputs": [
    {
     "name": "stdout",
     "output_type": "stream",
     "text": [
      "From: scialdone@nssdca.gsfc.nasa.gov (John Scialdone)\n",
      "Subject: CUT Vukota and Pilon!!!\n",
      "News-Software: VAX/VMS VNEWS 1.41    \n",
      "Organization: NASA - Goddard Space Flight Center\n",
      "Lines: 32\n",
      "\n",
      "I have been to all 3 Isles/Caps tilts at the Crap Centre this year, all Isles\n",
      "wins and there is no justification for Vukota and Pilon to play for the Isles.\n",
      "Vukota is absolutely the worst puck handler in the world!! He couldn't hit a\n",
      "bull in the ass with a banjo!! Al must remember a few years back when Mick \n",
      "scored 3 goals in one period against the Caps in a 5-3 Isles win. I was there\n",
      "and was astonished as was the rest of the crowd. Wake-up Al!!! Years later he's\n",
      "gotten worse. He's a cheap shot artist and always ends up getting\n",
      "stupid/senseless penalties. I think he would make a good police officier!!!\n",
      "\n",
      "As for Pilon, he can't carry the puck out to center ice by himself. He either\n",
      "makes a bad pass resulting in a turnover, or he attempts to bring the puck \n",
      "towards the neutral zone and skates right into an opposing skater. He can't\n",
      "stay on his skates with most forwards or centers. He either falls down or \n",
      "committs a penalty. Call up somebody from Capital District AL!!!!!\n",
      "\n",
      "As far as the playoffs, the Isles are as difficult to figure out as the Caps.\n",
      "Two good teams with talent but so inconsistent. They should meet in the first\n",
      "round. The Isles seem to play up to the level of their competition so they\n",
      "should play well against Jersey tonite. It'll probably be another tight 1-goal\n",
      "game as the last 20 games hve been for the Isles. I wish when the get a lead\n",
      "they could continue to pour it on instead of settling back into a defensive\n",
      "shell and letting the opposition get back in the game. Al MUST understand he\n",
      "can't do with this team what he did with the 80-83 Isles. maybe Al should got\n",
      "to. Where is Bobby Nystrom?? Clark Gilles?? John Tonelli?? These are the kind\n",
      "of young minds we need behing the bench!!    FIRE AL!!!!\n",
      "\n",
      "John Scialdone\n",
      "SCIALDONE@NSSDCA.GSFC.NASA.GOV\n",
      "\n",
      "**********When your ship comes in, first man takes the Sail********************\n",
      "\n",
      "\n",
      "\n"
     ]
    }
   ],
   "source": [
    "print (simple_dataset.data[-2])"
   ]
  },
  {
   "cell_type": "code",
   "execution_count": 22,
   "metadata": {
    "collapsed": false
   },
   "outputs": [
    {
     "name": "stdout",
     "output_type": "stream",
     "text": [
      "1777\n"
     ]
    }
   ],
   "source": [
    "print (len(simple_dataset.data))"
   ]
  },
  {
   "cell_type": "markdown",
   "metadata": {},
   "source": [
    "## Признаки"
   ]
  },
  {
   "cell_type": "code",
   "execution_count": 41,
   "metadata": {
    "collapsed": false
   },
   "outputs": [],
   "source": [
    "from sklearn.feature_extraction.text import CountVectorizer, TfidfVectorizer\n",
    "\n",
    "vectorizer = TfidfVectorizer(max_df=500, min_df=10)\n",
    "matrix = vectorizer.fit_transform(simple_dataset.data)"
   ]
  },
  {
   "cell_type": "code",
   "execution_count": 42,
   "metadata": {
    "collapsed": false
   },
   "outputs": [
    {
     "name": "stdout",
     "output_type": "stream",
     "text": [
      "(1777, 3767)\n"
     ]
    }
   ],
   "source": [
    "print (matrix.shape)"
   ]
  },
  {
   "cell_type": "markdown",
   "metadata": {},
   "source": [
    "## Аггломеративная кластеризация (neighbour joining)"
   ]
  },
  {
   "cell_type": "code",
   "execution_count": 43,
   "metadata": {
    "collapsed": false
   },
   "outputs": [],
   "source": [
    "from sklearn.cluster.hierarchical import AgglomerativeClustering\n",
    "\n",
    "model = AgglomerativeClustering(n_clusters=3, affinity='cosine', linkage='complete')\n",
    "preds = model.fit_predict(matrix.toarray())"
   ]
  },
  {
   "cell_type": "code",
   "execution_count": 44,
   "metadata": {
    "collapsed": false,
    "scrolled": false
   },
   "outputs": [
    {
     "name": "stdout",
     "output_type": "stream",
     "text": [
      "[0, 0, 0, 0, 0, 0, 0, 0, 0, 0, 0, 0, 0, 0, 0, 0, 0, 0, 0, 0, 0, 0, 0, 0, 0, 0, 0, 0, 0, 0, 0, 0, 0, 0, 0, 0, 0, 0, 0, 0, 2, 0, 0, 0, 0, 0, 0, 0, 0, 0, 0, 0, 0, 0, 0, 0, 0, 0, 0, 0, 0, 0, 0, 0, 0, 0, 0, 0, 0, 0, 0, 0, 0, 0, 0, 0, 0, 0, 0, 0, 0, 0, 1, 2, 0, 0, 0, 0, 0, 0, 0, 0, 0, 0, 0, 0, 0, 0, 0, 0, 0, 0, 0, 0, 0, 0, 0, 0, 2, 0, 0, 0, 0, 0, 0, 1, 0, 0, 0, 0, 0, 0, 0, 0, 0, 0, 0, 0, 0, 0, 0, 0, 0, 0, 0, 2, 0, 0, 0, 0, 0, 0, 0, 0, 0, 0, 0, 0, 0, 0, 0, 0, 0, 0, 0, 0, 0, 2, 0, 0, 0, 0, 0, 0, 0, 0, 0, 0, 0, 0, 0, 0, 0, 0, 0, 0, 0, 0, 0, 0, 0, 0, 0, 0, 0, 0, 0, 0, 0, 0, 0, 0, 0, 0, 0, 0, 0, 0, 0, 0, 0, 0, 0, 0, 0, 0, 0, 0, 0, 0, 0, 0, 2, 0, 0, 0, 0, 0, 2, 0, 0, 0, 0, 0, 0, 0, 0, 0, 2, 0, 0, 0, 0, 0, 0, 0, 0, 0, 0, 0, 0, 0, 0, 0, 0, 0, 0, 0, 0, 0, 0, 0, 2, 0, 0, 0, 0, 0, 0, 0, 0, 0, 0, 0, 0, 0, 0, 0, 0, 0, 0, 0, 0, 0, 0, 0, 0, 0, 0, 0, 0, 0, 0, 0, 0, 0, 0, 0, 0, 0, 0, 0, 0, 0, 0, 0, 0, 0, 0, 0, 0, 0, 0, 0, 0, 0, 0, 0, 0, 0, 0, 0, 0, 0, 0, 0, 0, 0, 0, 0, 0, 0, 0, 0, 0, 0, 0, 0, 0, 0, 0, 0, 0, 0, 0, 0, 0, 0, 0, 0, 0, 0, 0, 0, 0, 0, 0, 0, 0, 0, 0, 0, 0, 1, 0, 0, 0, 0, 0, 0, 1, 0, 0, 0, 0, 0, 0, 2, 0, 0, 0, 0, 0, 0, 0, 0, 0, 0, 0, 0, 0, 0, 0, 0, 0, 0, 0, 0, 0, 0, 0, 0, 0, 0, 0, 0, 0, 0, 0, 0, 0, 0, 0, 0, 0, 0, 0, 0, 0, 0, 0, 0, 0, 0, 0, 0, 0, 0, 0, 0, 0, 0, 0, 0, 0, 0, 0, 0, 0, 2, 0, 0, 0, 0, 0, 0, 0, 0, 0, 0, 0, 0, 0, 0, 0, 0, 0, 0, 0, 0, 0, 0, 2, 0, 0, 0, 0, 0, 0, 0, 0, 0, 0, 0, 0, 0, 0, 0, 0, 0, 0, 0, 0, 0, 0, 0, 0, 0, 0, 0, 0, 0, 0, 0, 0, 0, 0, 0, 2, 0, 0, 0, 0, 0, 0, 0, 0, 0, 0, 0, 0, 0, 0, 0, 0, 0, 0, 0, 0, 0, 0, 1, 0, 0, 0, 0, 0, 0, 0, 0, 0, 0, 0, 0, 0, 0, 0, 0, 0, 0, 0, 0, 0, 0, 0, 0, 0, 0, 0, 0, 0, 0, 0, 0, 0, 0, 0, 0, 0, 0, 0, 0, 0, 0, 0, 0, 0, 0, 0, 0, 0, 0, 0, 0, 0, 0, 0, 0, 0, 0, 0, 0, 0, 0, 0, 0, 0, 0, 0, 0, 0, 0, 0, 0, 0, 0, 0, 0, 0, 0, 0, 0, 0, 0, 2, 0, 0, 2, 0, 0, 0, 0, 0, 0, 0, 0, 0, 0, 0, 0, 0, 0, 0, 0, 0, 0, 0, 0, 0, 0, 0, 0, 0, 0, 0, 0, 0, 0, 0, 0, 0, 0, 0, 2, 0, 0, 0, 0, 0, 0, 0, 0, 0, 0, 0, 0, 0, 0, 0, 0, 0, 0, 0, 0, 0, 0, 0, 2, 0, 0, 0, 0, 0, 0, 0, 0, 0, 0, 0, 0, 0, 0, 0, 0, 0, 0, 0, 0, 0, 0, 0, 0, 0, 0, 1, 0, 0, 0, 0, 0, 0, 0, 0, 2, 0, 0, 0, 0, 0, 0, 0, 0, 0, 1, 0, 0, 0, 0, 0, 0, 0, 0, 0, 0, 0, 0, 0, 0, 0, 0, 0, 0, 0, 0, 0, 0, 0, 0, 0, 0, 0, 0, 0, 0, 0, 0, 0, 0, 0, 0, 0, 0, 0, 0, 0, 0, 0, 0, 0, 0, 0, 0, 0, 0, 1, 0, 0, 0, 0, 0, 0, 2, 0, 0, 0, 0, 0, 0, 0, 0, 0, 0, 0, 0, 0, 0, 0, 0, 0, 0, 0, 0, 0, 0, 0, 0, 0, 0, 0, 2, 0, 0, 0, 0, 0, 0, 0, 0, 0, 0, 0, 0, 0, 0, 0, 0, 0, 0, 0, 0, 0, 0, 0, 0, 0, 0, 0, 0, 0, 0, 0, 0, 0, 0, 1, 0, 0, 0, 2, 0, 0, 0, 0, 0, 0, 0, 0, 0, 0, 0, 0, 0, 0, 0, 0, 0, 0, 0, 0, 0, 0, 0, 0, 0, 0, 0, 0, 0, 0, 0, 0, 0, 0, 0, 0, 0, 0, 0, 0, 0, 0, 0, 0, 0, 0, 0, 0, 0, 0, 0, 0, 0, 0, 0, 0, 0, 0, 0, 0, 0, 2, 0, 0, 0, 0, 0, 0, 0, 0, 0, 0, 0, 0, 0, 0, 0, 0, 0, 0, 0, 0, 0, 0, 0, 2, 0, 0, 0, 0, 0, 0, 0, 0, 0, 0, 0, 0, 0, 0, 0, 0, 0, 0, 0, 0, 0, 0, 0, 0, 0, 0, 0, 0, 2, 0, 0, 0, 0, 0, 1, 0, 0, 0, 0, 0, 0, 0, 0, 0, 0, 0, 0, 0, 0, 0, 0, 0, 2, 0, 0, 0, 0, 0, 0, 0, 0, 0, 0, 0, 0, 1, 0, 0, 0, 0, 0, 0, 0, 0, 0, 0, 0, 0, 0, 0, 0, 0, 0, 0, 0, 0, 0, 0, 0, 0, 0, 0, 0, 0, 0, 0, 0, 0, 0, 0, 0, 0, 0, 0, 0, 0, 0, 0, 0, 0, 0, 0, 0, 0, 0, 0, 0, 0, 0, 0, 0, 0, 0, 0, 0, 0, 0, 0, 0, 0, 0, 0, 0, 0, 0, 0, 0, 0, 0, 0, 0, 0, 0, 0, 0, 0, 0, 0, 0, 0, 0, 0, 0, 0, 0, 0, 0, 0, 2, 0, 0, 0, 0, 0, 0, 0, 0, 0, 0, 0, 0, 2, 0, 0, 0, 0, 0, 0, 0, 0, 0, 0, 0, 0, 0, 0, 0, 0, 0, 0, 0, 0, 0, 0, 0, 0, 0, 0, 0, 0, 0, 0, 0, 0, 0, 0, 0, 0, 0, 0, 0, 0, 2, 0, 0, 0, 0, 0, 0, 0, 0, 0, 0, 0, 0, 0, 0, 0, 0, 0, 0, 0, 0, 0, 0, 0, 0, 0, 0, 0, 0, 0, 0, 0, 0, 0, 0, 0, 0, 0, 0, 0, 0, 0, 0, 0, 0, 0, 0, 0, 0, 0, 0, 0, 0, 0, 0, 0, 0, 0, 0, 0, 0, 0, 0, 0, 0, 0, 0, 0, 0, 0, 0, 0, 0, 0, 0, 0, 0, 0, 0, 0, 0, 0, 0, 0, 0, 0, 0, 0, 0, 0, 0, 0, 0, 0, 0, 0, 0, 0, 0, 0, 0, 0, 0, 0, 0, 0, 0, 0, 0, 0, 0, 0, 0, 0, 0, 0, 0, 0, 0, 0, 0, 0, 0, 0, 0, 0, 0, 0, 0, 0, 0, 0, 2, 0, 0, 0, 0, 0, 0, 0, 0, 0, 0, 0, 0, 0, 0, 0, 0, 0, 0, 0, 0, 1, 0, 0, 0, 0, 0, 0, 0, 0, 2, 0, 0, 0, 0, 0, 0, 0, 0, 0, 0, 0, 0, 0, 0, 0, 0, 1, 0, 2, 0, 0, 0, 0, 0, 0, 0, 0, 0, 0, 0, 0, 0, 0, 0, 0, 0, 2, 0, 0, 0, 0, 0, 0, 0, 0, 0, 0, 0, 0, 0, 0, 0, 0, 0, 0, 0, 0, 0, 1, 0, 0, 0, 0, 0, 0, 0, 0, 0, 0, 0, 0, 0, 0, 0, 0, 0, 0, 0, 0, 0, 0, 0, 0, 0, 0, 0, 2, 0, 0, 0, 0, 0, 0, 0, 0, 0, 0, 0, 0, 0, 0, 0, 0, 0, 0, 0, 0, 0, 0, 0, 0, 0, 0, 0, 0, 0, 0, 0, 0, 0, 0, 0, 0, 0, 0, 0, 1, 0, 0, 0, 0, 0, 0, 0, 0, 0, 0, 0, 0, 0, 0, 0, 0, 0, 0, 0, 0, 0, 0, 0, 0, 0, 0, 0, 0, 0, 0, 0, 0, 0, 0, 0, 0, 0, 0, 0, 0, 0, 0, 0, 0, 0, 0, 0, 0, 0, 0, 0, 0, 0, 0, 0, 0, 0, 0, 0, 0, 0, 0, 0, 0, 0, 0, 0, 0, 0, 0, 0, 0, 0, 0, 0, 0, 0, 0, 0, 0, 0, 2, 0, 0, 1, 0, 0, 0, 0, 0, 0, 0, 0, 0, 0, 0, 2, 0, 0, 0, 1, 0, 0, 0, 0, 0, 0, 0, 0, 0, 0, 0, 0, 0, 0, 0, 0, 0, 0, 0, 0, 0, 0, 0, 0, 0, 0, 0, 0, 0, 0, 0, 0, 0, 1, 0, 0, 0, 0, 0, 0, 0, 0, 0, 0, 0, 0, 0, 0, 0, 0, 0, 0, 0, 0, 0, 0, 0, 0, 0, 0, 0, 0, 0, 0, 0, 0, 0, 0, 2, 0, 0, 0, 0, 0, 0, 0, 0, 0, 0, 0, 2, 0, 0, 0, 0, 0, 0, 0, 0, 0, 0, 0, 0, 0, 0, 0, 0, 1, 0, 0, 0, 0, 0, 0, 0, 0, 0, 0, 0, 0, 0, 0, 0, 0, 0, 0, 0, 0, 0, 0, 0, 0, 0, 0, 0, 0, 0, 0, 0, 0, 0, 0, 0, 0, 0, 0, 0, 0, 0, 0, 0, 0, 0, 0, 0, 0, 0, 0, 0, 0, 0, 0, 0, 0, 0, 0, 0, 0, 0, 0, 0, 0, 0, 0, 0, 0, 0, 1, 0, 0, 0, 0, 0, 0, 0, 0, 0, 0, 0, 0, 0, 0, 0, 2, 0, 0, 0, 0, 0, 0, 0, 0, 0, 0, 0, 0, 0, 0, 0, 0, 0, 0, 0, 0, 0, 0, 0, 0, 0, 0, 0, 0, 0, 0, 0, 0, 0, 0, 0, 0, 0, 0, 0, 0, 0, 0, 0, 0, 0, 0, 0, 0, 0, 0, 0, 0, 0, 0, 0, 0, 0, 0, 0, 0, 0, 0, 0, 0, 0, 0, 0, 0, 0, 0, 0, 0, 0, 2, 1]\n"
     ]
    }
   ],
   "source": [
    "print (list(preds))"
   ]
  },
  {
   "cell_type": "code",
   "execution_count": 46,
   "metadata": {
    "collapsed": false,
    "scrolled": true
   },
   "outputs": [
    {
     "name": "stdout",
     "output_type": "stream",
     "text": [
      "  (0, 877)\t0.111806579628\n",
      "  (0, 880)\t0.11851815596\n",
      "  (0, 2243)\t0.0925317447412\n",
      "  (0, 1136)\t0.0500506718781\n",
      "  (0, 2358)\t0.0840797530073\n",
      "  (0, 2820)\t0.108042909343\n",
      "  (0, 2108)\t0.1235763517\n",
      "  (0, 3035)\t0.101544778998\n",
      "  (0, 1229)\t0.0736045063897\n",
      "  (0, 3262)\t0.130212979504\n",
      "  (0, 1366)\t0.0836339497399\n",
      "  (0, 3305)\t0.0678317940862\n",
      "  (0, 551)\t0.0978140030819\n",
      "  (0, 1961)\t0.228859994985\n",
      "  (0, 619)\t0.170473343334\n",
      "  (0, 294)\t0.0517710627222\n",
      "  (0, 3322)\t0.0953890204835\n",
      "  (0, 2325)\t0.054192064708\n",
      "  (0, 620)\t0.111806579628\n",
      "  (0, 1831)\t0.125052646182\n",
      "  (0, 3285)\t0.112645815931\n",
      "  (0, 2422)\t0.0942723610696\n",
      "  (0, 301)\t0.0556325669605\n",
      "  (0, 855)\t0.201625540883\n",
      "  (0, 2868)\t0.0859620897079\n",
      "  :\t:\n",
      "  (0, 900)\t0.1235763517\n",
      "  (0, 354)\t0.0694743738355\n",
      "  (0, 2048)\t0.0748844895603\n",
      "  (0, 1991)\t0.0711302768586\n",
      "  (0, 926)\t0.117420593185\n",
      "  (0, 3722)\t0.0950102887763\n",
      "  (0, 1905)\t0.0817353647899\n",
      "  (0, 2273)\t0.0579600218377\n",
      "  (0, 3600)\t0.0573701527992\n",
      "  (0, 3555)\t0.0622908798771\n",
      "  (0, 2413)\t0.102588780336\n",
      "  (0, 69)\t0.0685826705273\n",
      "  (0, 838)\t0.101544778998\n",
      "  (0, 1121)\t0.0644281622922\n",
      "  (0, 3553)\t0.0734668995949\n",
      "  (0, 625)\t0.0520717390913\n",
      "  (0, 319)\t0.100549353806\n",
      "  (0, 2056)\t0.0961672074361\n",
      "  (0, 810)\t0.0809427637022\n",
      "  (0, 2991)\t0.389561083053\n",
      "  (0, 1846)\t0.0674142631248\n",
      "  (0, 2082)\t0.0965671776392\n",
      "  (0, 1659)\t0.0722667093676\n",
      "  (0, 239)\t0.0950102887763\n",
      "  (0, 1246)\t0.390638938513\n"
     ]
    }
   ],
   "source": [
    "print (matrix[0])"
   ]
  },
  {
   "cell_type": "code",
   "execution_count": 47,
   "metadata": {
    "collapsed": false
   },
   "outputs": [
    {
     "data": {
      "text/plain": [
       "['00',\n",
       " '000',\n",
       " '01',\n",
       " '02',\n",
       " '03',\n",
       " '030',\n",
       " '0358',\n",
       " '04',\n",
       " '040',\n",
       " '05',\n",
       " '06',\n",
       " '07',\n",
       " '08',\n",
       " '09',\n",
       " '10',\n",
       " '100',\n",
       " '1000',\n",
       " '101',\n",
       " '102',\n",
       " '104',\n",
       " '105',\n",
       " '106',\n",
       " '109',\n",
       " '11',\n",
       " '110',\n",
       " '112',\n",
       " '113',\n",
       " '119',\n",
       " '12',\n",
       " '120',\n",
       " '126',\n",
       " '127',\n",
       " '128',\n",
       " '129',\n",
       " '13',\n",
       " '132',\n",
       " '133',\n",
       " '14',\n",
       " '140',\n",
       " '15',\n",
       " '150',\n",
       " '152',\n",
       " '16',\n",
       " '160',\n",
       " '17',\n",
       " '170',\n",
       " '175',\n",
       " '18',\n",
       " '180',\n",
       " '19',\n",
       " '1987',\n",
       " '1988',\n",
       " '1989',\n",
       " '199',\n",
       " '1990',\n",
       " '1991',\n",
       " '1992',\n",
       " '1993',\n",
       " '1993apr14',\n",
       " '1993apr15',\n",
       " '1993apr16',\n",
       " '1993apr18',\n",
       " '1993apr19',\n",
       " '1993apr20',\n",
       " '1993apr5',\n",
       " '1993apr6',\n",
       " '1d17',\n",
       " '1d20',\n",
       " '1st',\n",
       " '20',\n",
       " '200',\n",
       " '2000',\n",
       " '203',\n",
       " '21',\n",
       " '210',\n",
       " '22',\n",
       " '23',\n",
       " '230',\n",
       " '24',\n",
       " '240',\n",
       " '241',\n",
       " '25',\n",
       " '253',\n",
       " '256',\n",
       " '25mhz',\n",
       " '26',\n",
       " '27',\n",
       " '28',\n",
       " '286',\n",
       " '29',\n",
       " '2nd',\n",
       " '30',\n",
       " '300',\n",
       " '30602',\n",
       " '31',\n",
       " '32',\n",
       " '33',\n",
       " '34',\n",
       " '35',\n",
       " '36',\n",
       " '37',\n",
       " '38',\n",
       " '386',\n",
       " '39',\n",
       " '3rd',\n",
       " '40',\n",
       " '400',\n",
       " '403',\n",
       " '408',\n",
       " '41',\n",
       " '42',\n",
       " '43',\n",
       " '44',\n",
       " '45',\n",
       " '46',\n",
       " '47',\n",
       " '48',\n",
       " '486',\n",
       " '49',\n",
       " '4mb',\n",
       " '4th',\n",
       " '50',\n",
       " '500',\n",
       " '51',\n",
       " '512',\n",
       " '512k',\n",
       " '52',\n",
       " '53',\n",
       " '54',\n",
       " '542',\n",
       " '55',\n",
       " '56',\n",
       " '57',\n",
       " '58',\n",
       " '59',\n",
       " '5of5',\n",
       " '5th',\n",
       " '60',\n",
       " '600',\n",
       " '61',\n",
       " '610',\n",
       " '62',\n",
       " '63',\n",
       " '64',\n",
       " '65',\n",
       " '650',\n",
       " '66',\n",
       " '67',\n",
       " '68',\n",
       " '68030',\n",
       " '68040',\n",
       " '680x0',\n",
       " '69',\n",
       " '6th',\n",
       " '70',\n",
       " '700',\n",
       " '706',\n",
       " '71',\n",
       " '72',\n",
       " '73',\n",
       " '74',\n",
       " '7415',\n",
       " '75',\n",
       " '76',\n",
       " '77',\n",
       " '78',\n",
       " '79',\n",
       " '7th',\n",
       " '80',\n",
       " '800',\n",
       " '80ns',\n",
       " '81',\n",
       " '82',\n",
       " '83',\n",
       " '84',\n",
       " '85',\n",
       " '86',\n",
       " '87',\n",
       " '88',\n",
       " '89',\n",
       " '90',\n",
       " '900',\n",
       " '91',\n",
       " '92',\n",
       " '93',\n",
       " '94',\n",
       " '95',\n",
       " '950',\n",
       " '96',\n",
       " '97',\n",
       " '9760',\n",
       " '98',\n",
       " '99',\n",
       " '__',\n",
       " '___',\n",
       " '____',\n",
       " 'aa888',\n",
       " 'aaron',\n",
       " 'ab',\n",
       " 'abc',\n",
       " 'ability',\n",
       " 'able',\n",
       " 'abo',\n",
       " 'above',\n",
       " 'abraham',\n",
       " 'absence',\n",
       " 'absolute',\n",
       " 'absolutely',\n",
       " 'absolutes',\n",
       " 'ac',\n",
       " 'academic',\n",
       " 'acc',\n",
       " 'accelerator',\n",
       " 'accept',\n",
       " 'acceptable',\n",
       " 'accepted',\n",
       " 'accepting',\n",
       " 'access',\n",
       " 'according',\n",
       " 'account',\n",
       " 'accounts',\n",
       " 'accurate',\n",
       " 'achieve',\n",
       " 'achkar',\n",
       " 'acknowledge',\n",
       " 'acns',\n",
       " 'acquired',\n",
       " 'across',\n",
       " 'acs',\n",
       " 'acsu',\n",
       " 'act',\n",
       " 'action',\n",
       " 'actions',\n",
       " 'active',\n",
       " 'acts',\n",
       " 'actual',\n",
       " 'actually',\n",
       " 'ad',\n",
       " 'adam',\n",
       " 'adams',\n",
       " 'adapter',\n",
       " 'adb',\n",
       " 'add',\n",
       " 'added',\n",
       " 'adding',\n",
       " 'addition',\n",
       " 'additional',\n",
       " 'address',\n",
       " 'addresses',\n",
       " 'adirondack',\n",
       " 'admissions',\n",
       " 'admit',\n",
       " 'adopt',\n",
       " 'advance',\n",
       " 'advanced',\n",
       " 'advantage',\n",
       " 'advice',\n",
       " 'affected',\n",
       " 'afford',\n",
       " 'afraid',\n",
       " 'africa',\n",
       " 'after',\n",
       " 'afternoon',\n",
       " 'again',\n",
       " 'against',\n",
       " 'age',\n",
       " 'agnostic',\n",
       " 'ago',\n",
       " 'agree',\n",
       " 'agreed',\n",
       " 'agreement',\n",
       " 'ah',\n",
       " 'ahead',\n",
       " 'ahl',\n",
       " 'ai',\n",
       " 'aids',\n",
       " 'air',\n",
       " 'aisun3',\n",
       " 'al',\n",
       " 'alan',\n",
       " 'alberta',\n",
       " 'alchemy',\n",
       " 'alexander',\n",
       " 'alive',\n",
       " 'allen',\n",
       " 'allow',\n",
       " 'allowed',\n",
       " 'allows',\n",
       " 'almost',\n",
       " 'alone',\n",
       " 'along',\n",
       " 'alot',\n",
       " 'alpha',\n",
       " 'already',\n",
       " 'also',\n",
       " 'alt',\n",
       " 'alternative',\n",
       " 'although',\n",
       " 'altogether',\n",
       " 'alvin',\n",
       " 'always',\n",
       " 'am',\n",
       " 'am2x',\n",
       " 'amateur',\n",
       " 'amazing',\n",
       " 'ambiguous',\n",
       " 'america',\n",
       " 'american',\n",
       " 'americans',\n",
       " 'among',\n",
       " 'amount',\n",
       " 'amour',\n",
       " 'analysis',\n",
       " 'ancient',\n",
       " 'anderson',\n",
       " 'andersson',\n",
       " 'andrew',\n",
       " 'andreychuk',\n",
       " 'andy',\n",
       " 'angeles',\n",
       " 'angels',\n",
       " 'anger',\n",
       " 'angry',\n",
       " 'animals',\n",
       " 'ann',\n",
       " 'anna',\n",
       " 'announce',\n",
       " 'announced',\n",
       " 'announcer',\n",
       " 'announcers',\n",
       " 'annoying',\n",
       " 'another',\n",
       " 'answer',\n",
       " 'answered',\n",
       " 'answering',\n",
       " 'answers',\n",
       " 'antonio',\n",
       " 'anybody',\n",
       " 'anymore',\n",
       " 'anyone',\n",
       " 'anything',\n",
       " 'anytime',\n",
       " 'anyway',\n",
       " 'anyways',\n",
       " 'anywhere',\n",
       " 'apart',\n",
       " 'apologize',\n",
       " 'apostle',\n",
       " 'apostles',\n",
       " 'apparent',\n",
       " 'apparently',\n",
       " 'appear',\n",
       " 'appeared',\n",
       " 'appears',\n",
       " 'apple',\n",
       " 'applelink',\n",
       " 'appletalk',\n",
       " 'application',\n",
       " 'applications',\n",
       " 'applied',\n",
       " 'applies',\n",
       " 'apply',\n",
       " 'appointed',\n",
       " 'appreciate',\n",
       " 'appreciated',\n",
       " 'approach',\n",
       " 'appropriate',\n",
       " 'approved',\n",
       " 'apr',\n",
       " 'april',\n",
       " 'aps',\n",
       " 'aquinas',\n",
       " 'arbor',\n",
       " 'area',\n",
       " 'areas',\n",
       " 'aren',\n",
       " 'arena',\n",
       " 'argue',\n",
       " 'arguing',\n",
       " 'argument',\n",
       " 'arguments',\n",
       " 'army',\n",
       " 'around',\n",
       " 'arrogance',\n",
       " 'arrogant',\n",
       " 'art',\n",
       " 'articles',\n",
       " 'artificial',\n",
       " 'arts',\n",
       " 'ashley',\n",
       " 'aside',\n",
       " 'ask',\n",
       " 'asked',\n",
       " 'asking',\n",
       " 'asks',\n",
       " 'aspect',\n",
       " 'aspects',\n",
       " 'ass',\n",
       " 'assertion',\n",
       " 'assist',\n",
       " 'assistant',\n",
       " 'assists',\n",
       " 'associate',\n",
       " 'associated',\n",
       " 'association',\n",
       " 'assume',\n",
       " 'assumed',\n",
       " 'assuming',\n",
       " 'assumption',\n",
       " 'astray',\n",
       " 'atheism',\n",
       " 'atheist',\n",
       " 'atheists',\n",
       " 'athena',\n",
       " 'athens',\n",
       " 'athos',\n",
       " 'atlanta',\n",
       " 'att',\n",
       " 'attack',\n",
       " 'attempt',\n",
       " 'attempted',\n",
       " 'attempting',\n",
       " 'attempts',\n",
       " 'attendance',\n",
       " 'attention',\n",
       " 'atterlep',\n",
       " 'attitude',\n",
       " 'au',\n",
       " 'audience',\n",
       " 'austin',\n",
       " 'australia',\n",
       " 'author',\n",
       " 'authorities',\n",
       " 'authority',\n",
       " 'authors',\n",
       " 'auto',\n",
       " 'available',\n",
       " 'ave',\n",
       " 'avenue',\n",
       " 'average',\n",
       " 'avoid',\n",
       " 'awarded',\n",
       " 'awards',\n",
       " 'aware',\n",
       " 'away',\n",
       " 'awesome',\n",
       " 'awful',\n",
       " 'axelsson',\n",
       " 'back',\n",
       " 'background',\n",
       " 'backup',\n",
       " 'bad',\n",
       " 'baker',\n",
       " 'ball',\n",
       " 'ballentine',\n",
       " 'baltimore',\n",
       " 'band',\n",
       " 'baptism',\n",
       " 'barrasso',\n",
       " 'base',\n",
       " 'baseball',\n",
       " 'based',\n",
       " 'basic',\n",
       " 'basically',\n",
       " 'basis',\n",
       " 'basketball',\n",
       " 'battery',\n",
       " 'battle',\n",
       " 'bay',\n",
       " 'bbs',\n",
       " 'bc',\n",
       " 'bear',\n",
       " 'bears',\n",
       " 'beat',\n",
       " 'beautiful',\n",
       " 'became',\n",
       " 'because',\n",
       " 'become',\n",
       " 'becomes',\n",
       " 'becoming',\n",
       " 'been',\n",
       " 'before',\n",
       " 'beg',\n",
       " 'began',\n",
       " 'begin',\n",
       " 'beginning',\n",
       " 'begins',\n",
       " 'behalf',\n",
       " 'behavior',\n",
       " 'behaviour',\n",
       " 'behind',\n",
       " 'being',\n",
       " 'beings',\n",
       " 'belfour',\n",
       " 'belief',\n",
       " 'beliefs',\n",
       " 'believe',\n",
       " 'believed',\n",
       " 'believers',\n",
       " 'believes',\n",
       " 'believing',\n",
       " 'bell',\n",
       " 'bellows',\n",
       " 'belong',\n",
       " 'below',\n",
       " 'bench',\n",
       " 'benefit',\n",
       " 'beranek',\n",
       " 'berkeley',\n",
       " 'bernoulli',\n",
       " 'beside',\n",
       " 'besides',\n",
       " 'best',\n",
       " 'bet',\n",
       " 'better',\n",
       " 'between',\n",
       " 'beyond',\n",
       " 'bgsu',\n",
       " 'bgu',\n",
       " 'biased',\n",
       " 'bible',\n",
       " 'biblical',\n",
       " 'big',\n",
       " 'bigger',\n",
       " 'biggest',\n",
       " 'bill',\n",
       " 'birth',\n",
       " 'bishop',\n",
       " 'bit',\n",
       " 'bitnet',\n",
       " 'bits',\n",
       " 'black',\n",
       " 'blackhawks',\n",
       " 'blame',\n",
       " 'bless',\n",
       " 'blessed',\n",
       " 'blind',\n",
       " 'blindly',\n",
       " 'block',\n",
       " 'blood',\n",
       " 'blow',\n",
       " 'blue',\n",
       " 'blues',\n",
       " 'bnr',\n",
       " 'board',\n",
       " 'boarding',\n",
       " 'boards',\n",
       " 'bob',\n",
       " 'bobby',\n",
       " 'body',\n",
       " 'book',\n",
       " 'books',\n",
       " 'bookstore',\n",
       " 'boot',\n",
       " 'born',\n",
       " 'bos',\n",
       " 'boss',\n",
       " 'boston',\n",
       " 'both',\n",
       " 'bother',\n",
       " 'bothers',\n",
       " 'bottom',\n",
       " 'bought',\n",
       " 'boulder',\n",
       " 'bound',\n",
       " 'boundary',\n",
       " 'bourque',\n",
       " 'bowling',\n",
       " 'box',\n",
       " 'boxes',\n",
       " 'boy',\n",
       " 'brad',\n",
       " 'bradley',\n",
       " 'brain',\n",
       " 'branch',\n",
       " 'brand',\n",
       " 'braves',\n",
       " 'break',\n",
       " 'breaker',\n",
       " 'breaking',\n",
       " 'brent',\n",
       " 'breton',\n",
       " 'bri',\n",
       " 'brian',\n",
       " 'brief',\n",
       " 'brind',\n",
       " 'bring',\n",
       " 'brings',\n",
       " 'british',\n",
       " 'broadcast',\n",
       " 'broke',\n",
       " 'broken',\n",
       " 'brother',\n",
       " 'brothers',\n",
       " 'brought',\n",
       " 'brown',\n",
       " 'bruce',\n",
       " 'bruins',\n",
       " 'brunswick',\n",
       " 'bryan',\n",
       " 'btw',\n",
       " 'bu',\n",
       " 'buddhism',\n",
       " 'buddhist',\n",
       " 'buf',\n",
       " 'buffalo',\n",
       " 'bug',\n",
       " 'build',\n",
       " 'building',\n",
       " 'built',\n",
       " 'bunch',\n",
       " 'bure',\n",
       " 'burnaby',\n",
       " 'burned',\n",
       " 'burns',\n",
       " 'bus',\n",
       " 'business',\n",
       " 'butt',\n",
       " 'button',\n",
       " 'buy',\n",
       " 'buying',\n",
       " 'byler',\n",
       " 'bytes',\n",
       " 'c610',\n",
       " 'c650',\n",
       " 'ca',\n",
       " 'cable',\n",
       " 'cables',\n",
       " 'cache',\n",
       " 'cadkey',\n",
       " 'cage',\n",
       " 'cal',\n",
       " 'calder',\n",
       " 'calgary',\n",
       " 'california',\n",
       " 'call',\n",
       " 'called',\n",
       " 'calling',\n",
       " 'calls',\n",
       " 'calvin',\n",
       " 'cam',\n",
       " 'came',\n",
       " 'camp',\n",
       " 'campbell',\n",
       " 'campus',\n",
       " 'canada',\n",
       " 'canadian',\n",
       " 'canadians',\n",
       " 'canadiens',\n",
       " 'cannot',\n",
       " 'canon',\n",
       " 'canucks',\n",
       " 'capability',\n",
       " 'capable',\n",
       " 'capacity',\n",
       " 'cape',\n",
       " 'capital',\n",
       " 'capitals',\n",
       " 'caps',\n",
       " 'captain',\n",
       " 'captains',\n",
       " 'car',\n",
       " 'caralv',\n",
       " 'card',\n",
       " 'cardinal',\n",
       " 'cards',\n",
       " 'care',\n",
       " 'career',\n",
       " 'careful',\n",
       " 'carefully',\n",
       " 'cares',\n",
       " 'carleton',\n",
       " 'carnegie',\n",
       " 'carol',\n",
       " 'carolina',\n",
       " 'carpenter',\n",
       " 'carried',\n",
       " 'carry',\n",
       " 'carrying',\n",
       " 'carson',\n",
       " 'cartridge',\n",
       " 'case',\n",
       " 'cases',\n",
       " 'cassels',\n",
       " 'cast',\n",
       " 'category',\n",
       " 'catholic',\n",
       " 'catholics',\n",
       " 'caught',\n",
       " 'cause',\n",
       " 'caused',\n",
       " 'causes',\n",
       " 'cb',\n",
       " 'cbc',\n",
       " 'cbnewsh',\n",
       " 'cbnewsk',\n",
       " 'cc',\n",
       " 'ccu',\n",
       " 'cd',\n",
       " 'cd300',\n",
       " 'cec1',\n",
       " 'celebrate',\n",
       " 'cent',\n",
       " 'center',\n",
       " 'central',\n",
       " 'centre',\n",
       " 'centris',\n",
       " 'centuries',\n",
       " 'century',\n",
       " 'ceremonial',\n",
       " 'ceremony',\n",
       " 'certain',\n",
       " 'certainly',\n",
       " 'certainty',\n",
       " 'cf',\n",
       " 'cgsvax',\n",
       " 'chain',\n",
       " 'champions',\n",
       " 'championship',\n",
       " 'championships',\n",
       " 'champs',\n",
       " 'chance',\n",
       " 'chances',\n",
       " 'change',\n",
       " 'changed',\n",
       " 'changes',\n",
       " 'changing',\n",
       " 'channel',\n",
       " 'chapter',\n",
       " 'character',\n",
       " 'charge',\n",
       " 'charles',\n",
       " 'charlie',\n",
       " 'cheap',\n",
       " 'cheaper',\n",
       " 'check',\n",
       " 'checked',\n",
       " 'checking',\n",
       " 'cheers',\n",
       " 'chelios',\n",
       " 'chem',\n",
       " 'chemistry',\n",
       " 'cherry',\n",
       " 'chhabra',\n",
       " 'chi',\n",
       " 'chicago',\n",
       " 'chief',\n",
       " 'child',\n",
       " 'children',\n",
       " 'chip',\n",
       " 'chips',\n",
       " 'choice',\n",
       " 'choices',\n",
       " 'choose',\n",
       " 'choosing',\n",
       " 'chose',\n",
       " 'chosen',\n",
       " 'chris',\n",
       " 'christ',\n",
       " 'christian',\n",
       " 'christianity',\n",
       " 'christians',\n",
       " 'christopher',\n",
       " 'chuck',\n",
       " 'church',\n",
       " 'churches',\n",
       " 'ciccarelli',\n",
       " 'circle',\n",
       " 'circumstances',\n",
       " 'cis',\n",
       " 'cited',\n",
       " 'cities',\n",
       " 'city',\n",
       " 'civil',\n",
       " 'claim',\n",
       " 'claimed',\n",
       " 'claiming',\n",
       " 'claims',\n",
       " 'claremont',\n",
       " 'clark',\n",
       " 'clarke',\n",
       " 'clarkson',\n",
       " 'class',\n",
       " 'classic',\n",
       " 'classy',\n",
       " 'claude',\n",
       " 'clean',\n",
       " 'clear',\n",
       " 'clearly',\n",
       " 'clement',\n",
       " 'cleveland',\n",
       " 'clh',\n",
       " 'clinton',\n",
       " 'clock',\n",
       " 'close',\n",
       " 'closed',\n",
       " 'closely',\n",
       " 'closer',\n",
       " 'closest',\n",
       " 'club',\n",
       " 'cmu',\n",
       " 'co',\n",
       " 'coach',\n",
       " 'coaches',\n",
       " 'coaching',\n",
       " 'code',\n",
       " 'coffey',\n",
       " 'cohen',\n",
       " 'col',\n",
       " 'collection',\n",
       " 'college',\n",
       " 'collingridge',\n",
       " 'color',\n",
       " 'colorado',\n",
       " 'colors',\n",
       " 'colostate',\n",
       " 'colour',\n",
       " 'columbia',\n",
       " 'com',\n",
       " 'combination',\n",
       " 'combined',\n",
       " 'come',\n",
       " 'comes',\n",
       " 'comics',\n",
       " 'coming',\n",
       " 'command',\n",
       " 'commandments',\n",
       " 'commands',\n",
       " 'comment',\n",
       " 'commentary',\n",
       " 'comments',\n",
       " 'commitment',\n",
       " 'committed',\n",
       " 'common',\n",
       " 'communication',\n",
       " 'communications',\n",
       " 'communion',\n",
       " 'community',\n",
       " 'comp',\n",
       " 'companies',\n",
       " 'company',\n",
       " 'comparable',\n",
       " 'comparative',\n",
       " 'compare',\n",
       " 'compared',\n",
       " 'comparing',\n",
       " 'comparison',\n",
       " 'compatible',\n",
       " 'complain',\n",
       " 'complete',\n",
       " 'completed',\n",
       " 'completely',\n",
       " 'complex',\n",
       " 'complicated',\n",
       " 'compuserve',\n",
       " 'computer',\n",
       " 'computers',\n",
       " 'computing',\n",
       " 'con',\n",
       " 'concept',\n",
       " 'conception',\n",
       " 'concern',\n",
       " 'concerned',\n",
       " 'concerning',\n",
       " 'conclude',\n",
       " 'conclusion',\n",
       " 'conclusions',\n",
       " 'condemned',\n",
       " 'conditions',\n",
       " 'conditt',\n",
       " 'conference',\n",
       " 'configuration',\n",
       " 'conflict',\n",
       " 'confused',\n",
       " 'confusing',\n",
       " 'confusion',\n",
       " 'congregation',\n",
       " 'connect',\n",
       " 'connected',\n",
       " 'connection',\n",
       " 'connector',\n",
       " 'consecutive',\n",
       " 'consensus',\n",
       " 'conservative',\n",
       " 'consider',\n",
       " 'considered',\n",
       " 'considering',\n",
       " 'consistent',\n",
       " 'consistently',\n",
       " 'constant',\n",
       " 'constantly',\n",
       " 'consultant',\n",
       " 'contact',\n",
       " 'contained',\n",
       " 'contains',\n",
       " 'content',\n",
       " 'context',\n",
       " 'continent',\n",
       " 'continue',\n",
       " 'continued',\n",
       " 'continues',\n",
       " 'contract',\n",
       " 'contradict',\n",
       " 'contradiction',\n",
       " 'contradictory',\n",
       " 'contrary',\n",
       " 'contribution',\n",
       " 'control',\n",
       " 'conversion',\n",
       " 'convert',\n",
       " 'converted',\n",
       " 'convictions',\n",
       " 'convince',\n",
       " 'cook',\n",
       " 'cool',\n",
       " 'coos',\n",
       " 'copies',\n",
       " 'coprocessor',\n",
       " 'copy',\n",
       " 'cor',\n",
       " 'cordially',\n",
       " 'corinthians',\n",
       " 'corner',\n",
       " 'corp',\n",
       " 'corporation',\n",
       " 'correct',\n",
       " 'correctly',\n",
       " 'cost',\n",
       " 'costs',\n",
       " 'cote',\n",
       " 'could',\n",
       " 'couldn',\n",
       " 'council',\n",
       " 'count',\n",
       " 'counted',\n",
       " 'countries',\n",
       " 'country',\n",
       " 'couple',\n",
       " 'course',\n",
       " 'court',\n",
       " 'courtnall',\n",
       " 'cover',\n",
       " 'coverage',\n",
       " 'covered',\n",
       " 'covington',\n",
       " 'cpu',\n",
       " 'craft',\n",
       " 'craig',\n",
       " 'crap',\n",
       " 'crashes',\n",
       " 'craven',\n",
       " 'crazy',\n",
       " 'create',\n",
       " 'created',\n",
       " 'creation',\n",
       " 'creator',\n",
       " 'credit',\n",
       " 'critical',\n",
       " 'criticism',\n",
       " 'cross',\n",
       " 'crowd',\n",
       " 'cs',\n",
       " 'csd',\n",
       " 'cso',\n",
       " 'cu',\n",
       " 'cullen',\n",
       " 'cult',\n",
       " 'cultural',\n",
       " 'culture',\n",
       " 'cunixb',\n",
       " 'cunixc',\n",
       " 'cup',\n",
       " 'cups',\n",
       " 'curious',\n",
       " 'current',\n",
       " 'currently',\n",
       " 'curtis',\n",
       " 'cut',\n",
       " 'cwis',\n",
       " 'cwru',\n",
       " 'czech',\n",
       " 'd88',\n",
       " 'dahlen',\n",
       " 'daily',\n",
       " 'dal',\n",
       " 'dale',\n",
       " 'dalhousie',\n",
       " 'dallas',\n",
       " 'damn',\n",
       " 'damphousse',\n",
       " 'dan',\n",
       " 'danger',\n",
       " 'dangerous',\n",
       " 'daniel',\n",
       " 'dare',\n",
       " 'darius',\n",
       " 'darius_lecointe',\n",
       " 'darren',\n",
       " 'dartmouth',\n",
       " 'daryl',\n",
       " ...]"
      ]
     },
     "execution_count": 47,
     "metadata": {},
     "output_type": "execute_result"
    }
   ],
   "source": [
    "vectorizer.get_feature_names()"
   ]
  },
  {
   "cell_type": "code",
   "execution_count": 48,
   "metadata": {
    "collapsed": false
   },
   "outputs": [
    {
     "data": {
      "text/plain": [
       "'connect'"
      ]
     },
     "execution_count": 48,
     "metadata": {},
     "output_type": "execute_result"
    }
   ],
   "source": [
    "vectorizer.get_feature_names()[877]"
   ]
  },
  {
   "cell_type": "code",
   "execution_count": 49,
   "metadata": {
    "collapsed": false
   },
   "outputs": [
    {
     "data": {
      "text/plain": [
       "'From: erik@cheshire.oxy.edu (Erik Adams)\\nSubject: HELP!!  My Macintosh \"luggable\" has lines on its screen!\\nOrganization: Occidental College, Los Angeles, CA 90041 USA.\\nDistribution: comp\\nLines: 20\\n\\nOkay, I don\\'t use it very much, but I would like for it to keep working\\ncorrectly, at least as long as Apple continues to make System software\\nthat will run on it, if slowly :-)\\n\\nHere is the problem:  When the screen is tilted too far back, vertical\\nlines appear on the screen.  They are every 10 pixels or so, and seem\\nto be affected somewhat by opening windows and pulling down menus.\\nIt looks to a semi-technical person like there is a loose connection\\nbetween the screen and the rest of the computer.\\n\\nI am open to suggestions that do not involve buying a new computer,\\nor taking this one to the shop.  I would also like to not have\\nto buy one of Larry Pina\\'s books.  I like Larry, but I\\'m not sure\\nI feel strongly enough about the computer to buy a service manual\\nfor it.\\n\\nOn a related note:  what does the monitor connector connect to?\\n\\nErik\\n\\n'"
      ]
     },
     "execution_count": 49,
     "metadata": {},
     "output_type": "execute_result"
    }
   ],
   "source": [
    "simple_dataset.data[0]"
   ]
  },
  {
   "cell_type": "markdown",
   "metadata": {},
   "source": [
    "## KMeans"
   ]
  },
  {
   "cell_type": "code",
   "execution_count": 51,
   "metadata": {
    "collapsed": false
   },
   "outputs": [
    {
     "name": "stdout",
     "output_type": "stream",
     "text": [
      "[0 0 2 ..., 0 2 1]\n"
     ]
    }
   ],
   "source": [
    "from sklearn.cluster import KMeans\n",
    "\n",
    "model = KMeans(n_clusters=3, random_state=1)\n",
    "preds = model.fit_predict(matrix.toarray())\n",
    "print (preds)"
   ]
  },
  {
   "cell_type": "code",
   "execution_count": 53,
   "metadata": {
    "collapsed": false
   },
   "outputs": [
    {
     "name": "stdout",
     "output_type": "stream",
     "text": [
      "[0 0 1 ..., 0 1 2]\n"
     ]
    }
   ],
   "source": [
    "print (simple_dataset.target)"
   ]
  },
  {
   "cell_type": "code",
   "execution_count": 55,
   "metadata": {
    "collapsed": false
   },
   "outputs": [
    {
     "name": "stdout",
     "output_type": "stream",
     "text": [
      "0.04839617332583005\n"
     ]
    }
   ],
   "source": [
    "mapping = {2 : 1, 1: 2, 0: 0}\n",
    "mapped_preds = [mapping[pred] for pred in preds]\n",
    "print (float(sum(mapped_preds != simple_dataset.target)) / len(simple_dataset.target))"
   ]
  },
  {
   "cell_type": "code",
   "execution_count": 56,
   "metadata": {
    "collapsed": false
   },
   "outputs": [
    {
     "name": "stdout",
     "output_type": "stream",
     "text": [
      "0.985360318588\n"
     ]
    }
   ],
   "source": [
    "from sklearn.linear_model import LogisticRegression\n",
    "from sklearn.cross_validation import cross_val_score\n",
    "clf = LogisticRegression()\n",
    "print (cross_val_score(clf, matrix, simple_dataset.target).mean())\n"
   ]
  },
  {
   "cell_type": "markdown",
   "metadata": {},
   "source": [
    "## Более сложная выборка"
   ]
  },
  {
   "cell_type": "code",
   "execution_count": 57,
   "metadata": {
    "collapsed": true
   },
   "outputs": [],
   "source": [
    "dataset = fetch_20newsgroups(\n",
    "    subset='train', \n",
    "    categories=['comp.sys.mac.hardware', 'comp.os.ms-windows.misc', 'comp.graphics'])"
   ]
  },
  {
   "cell_type": "code",
   "execution_count": 58,
   "metadata": {
    "collapsed": false
   },
   "outputs": [
    {
     "name": "stdout",
     "output_type": "stream",
     "text": [
      "[0 1 2 ..., 0 2 0]\n",
      "[2 1 1 ..., 2 0 2]\n"
     ]
    }
   ],
   "source": [
    "matrix = vectorizer.fit_transform(dataset.data)\n",
    "model = KMeans(n_clusters=3, random_state=42)\n",
    "preds = model.fit_predict(matrix.toarray())\n",
    "print (preds)\n",
    "print (dataset.target)"
   ]
  },
  {
   "cell_type": "code",
   "execution_count": 59,
   "metadata": {
    "collapsed": false
   },
   "outputs": [
    {
     "name": "stdout",
     "output_type": "stream",
     "text": [
      "0.2612664004563605\n"
     ]
    }
   ],
   "source": [
    "mapping = {2 : 0, 1: 1, 0: 2}\n",
    "mapped_preds = [mapping[pred] for pred in preds]\n",
    "print (float(sum(mapped_preds != dataset.target)) / len(dataset.target))"
   ]
  },
  {
   "cell_type": "code",
   "execution_count": 60,
   "metadata": {
    "collapsed": false
   },
   "outputs": [
    {
     "name": "stdout",
     "output_type": "stream",
     "text": [
      "0.917279226713\n"
     ]
    }
   ],
   "source": [
    "clf = LogisticRegression()\n",
    "print (cross_val_score(clf, matrix, dataset.target).mean())"
   ]
  },
  {
   "cell_type": "markdown",
   "metadata": {},
   "source": [
    "## SVD + KMeans"
   ]
  },
  {
   "cell_type": "code",
   "execution_count": 62,
   "metadata": {
    "collapsed": false
   },
   "outputs": [
    {
     "name": "stdout",
     "output_type": "stream",
     "text": [
      "[0 2 1 ..., 0 1 0]\n",
      "[2 1 1 ..., 2 0 2]\n"
     ]
    }
   ],
   "source": [
    "from sklearn.decomposition import TruncatedSVD\n",
    "\n",
    "model = KMeans(n_clusters=3, random_state=42)\n",
    "svd = TruncatedSVD(n_components=1000, random_state=123)\n",
    "features = svd.fit_transform(matrix)\n",
    "preds = model.fit_predict(features)\n",
    "print (preds)\n",
    "print (dataset.target)"
   ]
  },
  {
   "cell_type": "code",
   "execution_count": 64,
   "metadata": {
    "collapsed": false
   },
   "outputs": [
    {
     "name": "stdout",
     "output_type": "stream",
     "text": [
      "0.2065031374786081\n"
     ]
    }
   ],
   "source": [
    "mapping = {0 : 2, 1: 0, 2: 1}\n",
    "mapped_preds = [mapping[pred] for pred in preds]\n",
    "print (float(sum(mapped_preds != dataset.target)) / len(dataset.target))"
   ]
  },
  {
   "cell_type": "code",
   "execution_count": 65,
   "metadata": {
    "collapsed": false
   },
   "outputs": [
    {
     "name": "stdout",
     "output_type": "stream",
     "text": [
      "[2 0 1 ..., 2 1 2]\n",
      "[2 1 1 ..., 2 0 2]\n"
     ]
    }
   ],
   "source": [
    "model = KMeans(n_clusters=3, random_state=42)\n",
    "svd = TruncatedSVD(n_components=200, random_state=123)\n",
    "features = svd.fit_transform(matrix)\n",
    "preds = model.fit_predict(features)\n",
    "print (preds)\n",
    "print (dataset.target)"
   ]
  },
  {
   "cell_type": "code",
   "execution_count": 67,
   "metadata": {
    "collapsed": false
   },
   "outputs": [
    {
     "name": "stdout",
     "output_type": "stream",
     "text": [
      "0.9007415858528237\n",
      "0.6742726754135767\n",
      "0.7056474614945807\n",
      "0.8938961779806047\n",
      "0.2053622361665716\n",
      "0.6200798630918426\n"
     ]
    }
   ],
   "source": [
    "import itertools\n",
    "def validate_with_mappings(preds, target, dataset):\n",
    "    permutations = itertools.permutations([0, 1, 2])\n",
    "    for a, b, c in permutations:\n",
    "        mapping = {2 : a, 1: b, 0: c}\n",
    "        mapped_preds = [mapping[pred] for pred in preds]\n",
    "        print (float(sum(mapped_preds != target)) / len(target))\n",
    "        \n",
    "validate_with_mappings(preds, dataset.target, dataset)"
   ]
  },
  {
   "cell_type": "code",
   "execution_count": 68,
   "metadata": {
    "collapsed": false
   },
   "outputs": [
    {
     "name": "stdout",
     "output_type": "stream",
     "text": [
      "[2 1 0 ..., 2 0 2]\n",
      "[2 1 1 ..., 2 0 2]\n",
      "0.713063320022818\n",
      "0.845407872219053\n",
      "0.8893325727324587\n",
      "0.7005134055904164\n",
      "0.5864232743867656\n",
      "0.2652595550484883\n"
     ]
    }
   ],
   "source": [
    "model = KMeans(n_clusters=3, random_state=42)\n",
    "svd = TruncatedSVD(n_components=200, random_state=321)\n",
    "features = svd.fit_transform(matrix)\n",
    "preds = model.fit_predict(features)\n",
    "print (preds)\n",
    "print (dataset.target)\n",
    "validate_with_mappings(preds, dataset.target, dataset)"
   ]
  },
  {
   "cell_type": "markdown",
   "metadata": {},
   "source": [
    "## Итоги"
   ]
  },
  {
   "cell_type": "markdown",
   "metadata": {},
   "source": [
    "1. Получили интерпретируемый результат на обеих выборках\n",
    "1. Реальность, однако, намного более жестока\n",
    "1. Попробовали использовать AgglomerativeClustering и KMeans"
   ]
  }
 ],
 "metadata": {
  "kernelspec": {
   "display_name": "Python [Root]",
   "language": "python",
   "name": "Python [Root]"
  },
  "language_info": {
   "codemirror_mode": {
    "name": "ipython",
    "version": 3
   },
   "file_extension": ".py",
   "mimetype": "text/x-python",
   "name": "python",
   "nbconvert_exporter": "python",
   "pygments_lexer": "ipython3",
   "version": "3.5.1"
  }
 },
 "nbformat": 4,
 "nbformat_minor": 0
}
