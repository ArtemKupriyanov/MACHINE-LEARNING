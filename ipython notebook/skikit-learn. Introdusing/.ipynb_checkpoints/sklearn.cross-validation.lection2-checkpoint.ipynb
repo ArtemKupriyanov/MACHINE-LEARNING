{
 "cells": [
  {
   "cell_type": "code",
   "execution_count": 54,
   "metadata": {
    "collapsed": true
   },
   "outputs": [],
   "source": [
    "from sklearn import cross_validation, datasets"
   ]
  },
  {
   "cell_type": "code",
   "execution_count": 55,
   "metadata": {
    "collapsed": false
   },
   "outputs": [],
   "source": [
    "import numpy as np"
   ]
  },
  {
   "cell_type": "markdown",
   "metadata": {},
   "source": [
    "### Разовое разбиение данных на обучение и тест с помощью train_test_split"
   ]
  },
  {
   "cell_type": "code",
   "execution_count": 56,
   "metadata": {
    "collapsed": true
   },
   "outputs": [],
   "source": [
    "iris = datasets.load_iris()"
   ]
  },
  {
   "cell_type": "code",
   "execution_count": 57,
   "metadata": {
    "collapsed": false
   },
   "outputs": [],
   "source": [
    "train_data, test_data, train_labels, test_labels = cross_validation.train_test_split(iris.data,\n",
    "                                                                                    iris.target,\n",
    "                                                                                    test_size=0.3)\n",
    "#train_data, test_data -части нашей выборки для обучения и для теста\n",
    "#train_labels, test_labels - метки объектов из обучающей и тестовой выборки"
   ]
  },
  {
   "cell_type": "code",
   "execution_count": 58,
   "metadata": {
    "collapsed": false
   },
   "outputs": [
    {
     "data": {
      "text/plain": [
       "0.3"
      ]
     },
     "execution_count": 58,
     "metadata": {},
     "output_type": "execute_result"
    }
   ],
   "source": [
    "#тестовая выборка - 0.3\n",
    "float(len(test_labels) / len(iris.data))"
   ]
  },
  {
   "cell_type": "code",
   "execution_count": 59,
   "metadata": {
    "collapsed": false
   },
   "outputs": [
    {
     "name": "stdout",
     "output_type": "stream",
     "text": [
      "(105, 4) shape train_data\n",
      "(45, 4) shape test_data\n"
     ]
    }
   ],
   "source": [
    "print(train_data.shape, \"shape train_data\")\n",
    "print(test_data.shape, \"shape test_data\")"
   ]
  },
  {
   "cell_type": "markdown",
   "metadata": {},
   "source": [
    "## Стратегия кросс-валидации"
   ]
  },
  {
   "cell_type": "markdown",
   "metadata": {},
   "source": [
    "### kFold"
   ]
  },
  {
   "cell_type": "code",
   "execution_count": 60,
   "metadata": {
    "collapsed": false
   },
   "outputs": [
    {
     "name": "stdout",
     "output_type": "stream",
     "text": [
      "[2 3 4 5 6 7 8 9] [0 1]\n",
      "[0 1 4 5 6 7 8 9] [2 3]\n",
      "[0 1 2 3 6 7 8 9] [4 5]\n",
      "[0 1 2 3 4 5 8 9] [6 7]\n",
      "[0 1 2 3 4 5 6 7] [8 9]\n"
     ]
    }
   ],
   "source": [
    "for train_indices, test_indices in cross_validation.KFold(10, n_folds=5):\n",
    "    print (train_indices, test_indices)"
   ]
  },
  {
   "cell_type": "code",
   "execution_count": 61,
   "metadata": {
    "collapsed": false
   },
   "outputs": [
    {
     "name": "stdout",
     "output_type": "stream",
     "text": [
      "[0 1 3 6 8] [2 4 5 7 9]\n",
      "[2 4 5 7 9] [0 1 3 6 8]\n"
     ]
    }
   ],
   "source": [
    "for train_indices, test_indices in cross_validation.KFold(10, n_folds=2, shuffle=True, random_state=5):\n",
    "    print(train_indices, test_indices)"
   ]
  },
  {
   "cell_type": "markdown",
   "metadata": {},
   "source": [
    "### StratifiedKFold"
   ]
  },
  {
   "cell_type": "code",
   "execution_count": 62,
   "metadata": {
    "collapsed": false
   },
   "outputs": [
    {
     "name": "stdout",
     "output_type": "stream",
     "text": [
      "[0 0 0 0 0 1 1 1 1 1]\n",
      "[0 3 7 8] [1 2 4 5 6 9]\n",
      "[1 2 4 5 6 9] [0 3 7 8]\n"
     ]
    }
   ],
   "source": [
    "target = np.array([0]*5 + [1]*5)\n",
    "print(target)\n",
    "for train_indices, test_indices in cross_validation.StratifiedKFold(target, n_folds=2, shuffle=True,\n",
    "                                                                    random_state=2):\n",
    "    print(train_indices, test_indices)"
   ]
  },
  {
   "cell_type": "code",
   "execution_count": 63,
   "metadata": {
    "collapsed": false
   },
   "outputs": [
    {
     "name": "stdout",
     "output_type": "stream",
     "text": [
      "[0 1 0 1 0 1 0 1 0 1]\n",
      "[6 7 8 9] [0 1 2 3 4 5]\n",
      "[0 1 2 3 4 5] [6 7 8 9]\n"
     ]
    }
   ],
   "source": [
    "target = np.array([0, 1]*5)\n",
    "print(target)\n",
    "for train_indices, test_indices in cross_validation.StratifiedKFold(target, n_folds=2, shuffle=True,\n",
    "                                                                    random_state=0):\n",
    "    print(train_indices, test_indices)"
   ]
  },
  {
   "cell_type": "markdown",
   "metadata": {},
   "source": [
    "## ShuffleSplit"
   ]
  },
  {
   "cell_type": "code",
   "execution_count": 64,
   "metadata": {
    "collapsed": false
   },
   "outputs": [
    {
     "name": "stdout",
     "output_type": "stream",
     "text": [
      "[7 5 9 8 0 1 6 2] [4 3]\n",
      "[2 1 6 7 5 4 9 3] [8 0]\n",
      "[7 0 1 9 6 3 4 2] [5 8]\n",
      "[0 9 6 2 8 4 7 5] [3 1]\n",
      "[9 4 6 8 0 1 5 3] [2 7]\n",
      "[6 0 9 1 4 7 2 8] [5 3]\n",
      "[1 9 0 3 7 6 8 2] [5 4]\n",
      "[6 0 1 3 9 4 2 5] [7 8]\n",
      "[0 6 5 4 7 2 8 9] [3 1]\n",
      "[2 5 3 9 1 7 8 4] [0 6]\n"
     ]
    }
   ],
   "source": [
    "for train_indices, test_indices in cross_validation.ShuffleSplit(10, n_iter=10, test_size=0.2):\n",
    "    print (train_indices, test_indices)"
   ]
  },
  {
   "cell_type": "code",
   "execution_count": 66,
   "metadata": {
    "collapsed": false
   },
   "outputs": [
    {
     "name": "stdout",
     "output_type": "stream",
     "text": [
      "[3 6 5 7 1 4 2 9] [0 8]\n",
      "[5 1 7 8 4 0 3 9] [2 6]\n",
      "[3 7 8 1 6 5 4 0] [9 2]\n",
      "[5 7 2 1 4 0 8 9] [3 6]\n",
      "[7 8 1 3 0 9 6 4] [5 2]\n",
      "[1 3 0 9 7 2 5 6] [4 8]\n",
      "[0 9 2 5 8 1 4 7] [3 6]\n",
      "[2 8 4 0 5 1 9 7] [3 6]\n",
      "[8 6 0 9 1 2 7 4] [3 5]\n",
      "[6 2 5 1 0 4 7 9] [8 3]\n"
     ]
    }
   ],
   "source": [
    "target = np.array([0] * 5 + [1] * 5)\n",
    "for train_indices, test_indices in cross_validation.StratifiedShuffleSplit(target, n_iter=10, test_size=0.2):\n",
    "    print(train_indices, test_indices)"
   ]
  },
  {
   "cell_type": "markdown",
   "metadata": {
    "collapsed": true
   },
   "source": [
    "## Leave-One-Out"
   ]
  },
  {
   "cell_type": "code",
   "execution_count": 67,
   "metadata": {
    "collapsed": false
   },
   "outputs": [
    {
     "name": "stdout",
     "output_type": "stream",
     "text": [
      "[1 2 3 4 5 6 7 8 9] [0]\n",
      "[0 2 3 4 5 6 7 8 9] [1]\n",
      "[0 1 3 4 5 6 7 8 9] [2]\n",
      "[0 1 2 4 5 6 7 8 9] [3]\n",
      "[0 1 2 3 5 6 7 8 9] [4]\n",
      "[0 1 2 3 4 6 7 8 9] [5]\n",
      "[0 1 2 3 4 5 7 8 9] [6]\n",
      "[0 1 2 3 4 5 6 8 9] [7]\n",
      "[0 1 2 3 4 5 6 7 9] [8]\n",
      "[0 1 2 3 4 5 6 7 8] [9]\n"
     ]
    }
   ],
   "source": [
    "for train_indices, test_index in cross_validation.LeaveOneOut(10):\n",
    "    print(train_indices, test_index)"
   ]
  },
  {
   "cell_type": "code",
   "execution_count": null,
   "metadata": {
    "collapsed": true
   },
   "outputs": [],
   "source": []
  }
 ],
 "metadata": {
  "kernelspec": {
   "display_name": "Python 3",
   "language": "python",
   "name": "python3"
  },
  "language_info": {
   "codemirror_mode": {
    "name": "ipython",
    "version": 3
   },
   "file_extension": ".py",
   "mimetype": "text/x-python",
   "name": "python",
   "nbconvert_exporter": "python",
   "pygments_lexer": "ipython3",
   "version": "3.5.1"
  }
 },
 "nbformat": 4,
 "nbformat_minor": 0
}
